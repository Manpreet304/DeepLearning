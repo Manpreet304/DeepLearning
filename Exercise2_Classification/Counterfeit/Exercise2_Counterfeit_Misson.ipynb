{
 "cells": [
  {
   "cell_type": "markdown",
   "id": "22eeb225",
   "metadata": {},
   "source": [
    "### Information\n",
    "\n",
    "The results presented here should be interpreted with caution, as the dataset used is synthetic, leading to near-perfect model performance. Chat GPT was used in some parts of the notebook, but this was explicitly mentioned in the relevant sections. In addition, the documentation was further optimised with the help of AI."
   ]
  },
  {
   "cell_type": "markdown",
   "id": "1facc373",
   "metadata": {},
   "source": [
    "### Importing Libraries\n",
    "This part imports all essential libraries for data analysis, visualization, preprocessing, and model training. Pandas and NumPy are used for data manipulation, Matplotlib and Seaborn for visualization, Scikit-learn for data preprocessing and evaluation, and TensorFlow with Keras for building and training neural networks."
   ]
  },
  {
   "cell_type": "code",
   "execution_count": null,
   "id": "6587ef34",
   "metadata": {},
   "outputs": [],
   "source": [
    "import pandas as pd\n",
    "import numpy as np\n",
    "import matplotlib.pyplot as plt\n",
    "import seaborn as sns\n",
    "\n",
    "from sklearn.model_selection import train_test_split\n",
    "from sklearn import metrics\n",
    "from sklearn.linear_model import LogisticRegression\n",
    "from sklearn.preprocessing import StandardScaler\n",
    "from sklearn.preprocessing import OneHotEncoder, LabelEncoder\n",
    "from sklearn.feature_selection import SelectKBest, chi2\n",
    "from sklearn.metrics import classification_report\n",
    "from sklearn.metrics import confusion_matrix\n",
    "from sklearn.metrics import accuracy_score\n",
    "from sklearn.metrics import roc_auc_score\n",
    "\n",
    "import tkinter as tk\n",
    "from tkinter import messagebox\n",
    "\n",
    "import keras\n",
    "from keras import layers\n",
    "from keras.models import load_model\n",
    "from keras.callbacks import ModelCheckpoint, EarlyStopping, ReduceLROnPlateau\n",
    "from keras.utils import to_categorical\n",
    "import country_converter as coco\n"
   ]
  },
  {
   "cell_type": "markdown",
   "id": "f940b314",
   "metadata": {},
   "source": [
    "### Loading the Dataset\n",
    "The dataset is loaded from a CSV file named counterfeit_transaction.csv using pandas. "
   ]
  },
  {
   "cell_type": "code",
   "execution_count": 114,
   "id": "78429bad",
   "metadata": {},
   "outputs": [],
   "source": [
    "df = pd.read_csv(\"counterfeit_transactions.csv\")"
   ]
  },
  {
   "cell_type": "code",
   "execution_count": 115,
   "id": "d11fe9b4",
   "metadata": {},
   "outputs": [
    {
     "data": {
      "text/html": [
       "<div>\n",
       "<style scoped>\n",
       "    .dataframe tbody tr th:only-of-type {\n",
       "        vertical-align: middle;\n",
       "    }\n",
       "\n",
       "    .dataframe tbody tr th {\n",
       "        vertical-align: top;\n",
       "    }\n",
       "\n",
       "    .dataframe thead th {\n",
       "        text-align: right;\n",
       "    }\n",
       "</style>\n",
       "<table border=\"1\" class=\"dataframe\">\n",
       "  <thead>\n",
       "    <tr style=\"text-align: right;\">\n",
       "      <th></th>\n",
       "      <th>transaction_id</th>\n",
       "      <th>customer_id</th>\n",
       "      <th>transaction_date</th>\n",
       "      <th>customer_age</th>\n",
       "      <th>customer_location</th>\n",
       "      <th>quantity</th>\n",
       "      <th>unit_price</th>\n",
       "      <th>total_amount</th>\n",
       "      <th>payment_method</th>\n",
       "      <th>shipping_speed</th>\n",
       "      <th>customer_history_orders</th>\n",
       "      <th>discount_applied</th>\n",
       "      <th>discount_percentage</th>\n",
       "      <th>shipping_cost</th>\n",
       "      <th>delivery_time_days</th>\n",
       "      <th>refund_requested</th>\n",
       "      <th>velocity_flag</th>\n",
       "      <th>geolocation_mismatch</th>\n",
       "      <th>device_fingerprint_new</th>\n",
       "      <th>involves_counterfeit</th>\n",
       "    </tr>\n",
       "  </thead>\n",
       "  <tbody>\n",
       "    <tr>\n",
       "      <th>0</th>\n",
       "      <td>TXN_957334</td>\n",
       "      <td>CUST_11907</td>\n",
       "      <td>2024-10-12 03:52:13</td>\n",
       "      <td>22</td>\n",
       "      <td>JP</td>\n",
       "      <td>1</td>\n",
       "      <td>199.66</td>\n",
       "      <td>199.66</td>\n",
       "      <td>Debit Card</td>\n",
       "      <td>Express</td>\n",
       "      <td>17</td>\n",
       "      <td>False</td>\n",
       "      <td>0.0</td>\n",
       "      <td>5.39</td>\n",
       "      <td>26</td>\n",
       "      <td>False</td>\n",
       "      <td>False</td>\n",
       "      <td>False</td>\n",
       "      <td>False</td>\n",
       "      <td>False</td>\n",
       "    </tr>\n",
       "    <tr>\n",
       "      <th>1</th>\n",
       "      <td>TXN_246397</td>\n",
       "      <td>CUST_27641</td>\n",
       "      <td>2024-08-18 00:36:57</td>\n",
       "      <td>62</td>\n",
       "      <td>DE</td>\n",
       "      <td>4</td>\n",
       "      <td>116.01</td>\n",
       "      <td>464.03</td>\n",
       "      <td>PayPal</td>\n",
       "      <td>Express</td>\n",
       "      <td>36</td>\n",
       "      <td>False</td>\n",
       "      <td>0.0</td>\n",
       "      <td>8.18</td>\n",
       "      <td>25</td>\n",
       "      <td>False</td>\n",
       "      <td>False</td>\n",
       "      <td>False</td>\n",
       "      <td>False</td>\n",
       "      <td>False</td>\n",
       "    </tr>\n",
       "    <tr>\n",
       "      <th>2</th>\n",
       "      <td>TXN_403072</td>\n",
       "      <td>CUST_78628</td>\n",
       "      <td>2024-08-19 22:21:30</td>\n",
       "      <td>75</td>\n",
       "      <td>DE</td>\n",
       "      <td>1</td>\n",
       "      <td>42.04</td>\n",
       "      <td>42.04</td>\n",
       "      <td>Credit Card</td>\n",
       "      <td>Priority</td>\n",
       "      <td>21</td>\n",
       "      <td>False</td>\n",
       "      <td>0.0</td>\n",
       "      <td>8.61</td>\n",
       "      <td>27</td>\n",
       "      <td>False</td>\n",
       "      <td>False</td>\n",
       "      <td>False</td>\n",
       "      <td>False</td>\n",
       "      <td>False</td>\n",
       "    </tr>\n",
       "    <tr>\n",
       "      <th>3</th>\n",
       "      <td>TXN_848560</td>\n",
       "      <td>CUST_98579</td>\n",
       "      <td>2025-04-16 18:49:39</td>\n",
       "      <td>56</td>\n",
       "      <td>BR</td>\n",
       "      <td>3</td>\n",
       "      <td>147.69</td>\n",
       "      <td>443.08</td>\n",
       "      <td>Credit Card</td>\n",
       "      <td>Standard</td>\n",
       "      <td>14</td>\n",
       "      <td>True</td>\n",
       "      <td>48.7</td>\n",
       "      <td>17.00</td>\n",
       "      <td>26</td>\n",
       "      <td>False</td>\n",
       "      <td>False</td>\n",
       "      <td>False</td>\n",
       "      <td>False</td>\n",
       "      <td>False</td>\n",
       "    </tr>\n",
       "    <tr>\n",
       "      <th>4</th>\n",
       "      <td>TXN_270817</td>\n",
       "      <td>CUST_67519</td>\n",
       "      <td>2024-10-06 13:30:52</td>\n",
       "      <td>19</td>\n",
       "      <td>IN</td>\n",
       "      <td>4</td>\n",
       "      <td>40.70</td>\n",
       "      <td>162.80</td>\n",
       "      <td>PayPal</td>\n",
       "      <td>Priority</td>\n",
       "      <td>48</td>\n",
       "      <td>False</td>\n",
       "      <td>0.0</td>\n",
       "      <td>20.53</td>\n",
       "      <td>1</td>\n",
       "      <td>False</td>\n",
       "      <td>False</td>\n",
       "      <td>True</td>\n",
       "      <td>False</td>\n",
       "      <td>False</td>\n",
       "    </tr>\n",
       "  </tbody>\n",
       "</table>\n",
       "</div>"
      ],
      "text/plain": [
       "  transaction_id customer_id     transaction_date  customer_age  \\\n",
       "0     TXN_957334  CUST_11907  2024-10-12 03:52:13            22   \n",
       "1     TXN_246397  CUST_27641  2024-08-18 00:36:57            62   \n",
       "2     TXN_403072  CUST_78628  2024-08-19 22:21:30            75   \n",
       "3     TXN_848560  CUST_98579  2025-04-16 18:49:39            56   \n",
       "4     TXN_270817  CUST_67519  2024-10-06 13:30:52            19   \n",
       "\n",
       "  customer_location  quantity  unit_price  total_amount payment_method  \\\n",
       "0                JP         1      199.66        199.66     Debit Card   \n",
       "1                DE         4      116.01        464.03         PayPal   \n",
       "2                DE         1       42.04         42.04    Credit Card   \n",
       "3                BR         3      147.69        443.08    Credit Card   \n",
       "4                IN         4       40.70        162.80         PayPal   \n",
       "\n",
       "  shipping_speed  customer_history_orders  discount_applied  \\\n",
       "0        Express                       17             False   \n",
       "1        Express                       36             False   \n",
       "2       Priority                       21             False   \n",
       "3       Standard                       14              True   \n",
       "4       Priority                       48             False   \n",
       "\n",
       "   discount_percentage  shipping_cost  delivery_time_days  refund_requested  \\\n",
       "0                  0.0           5.39                  26             False   \n",
       "1                  0.0           8.18                  25             False   \n",
       "2                  0.0           8.61                  27             False   \n",
       "3                 48.7          17.00                  26             False   \n",
       "4                  0.0          20.53                   1             False   \n",
       "\n",
       "   velocity_flag  geolocation_mismatch  device_fingerprint_new  \\\n",
       "0          False                 False                   False   \n",
       "1          False                 False                   False   \n",
       "2          False                 False                   False   \n",
       "3          False                 False                   False   \n",
       "4          False                  True                   False   \n",
       "\n",
       "   involves_counterfeit  \n",
       "0                 False  \n",
       "1                 False  \n",
       "2                 False  \n",
       "3                 False  \n",
       "4                 False  "
      ]
     },
     "execution_count": 115,
     "metadata": {},
     "output_type": "execute_result"
    }
   ],
   "source": [
    "df.head()"
   ]
  },
  {
   "cell_type": "markdown",
   "id": "2f58236a",
   "metadata": {},
   "source": [
    "### Feature selection and cleanup\n",
    "\n",
    "Before model training, unnecessary identifier columns such as transaction_id and customer_id were removed from the dataset."
   ]
  },
  {
   "cell_type": "code",
   "execution_count": 116,
   "id": "0d666d5b",
   "metadata": {},
   "outputs": [],
   "source": [
    "df = df.drop(columns=[\"transaction_id\", \"customer_id\"])"
   ]
  },
  {
   "cell_type": "markdown",
   "id": "6edd0538",
   "metadata": {},
   "source": [
    "### Quarter features\n",
    "\n",
    "The transaction_date column was converted to datetime, and four binary columns (Quarter_1–Quarter_4) were created to indicate the transaction quarter. The original date column was then dropped."
   ]
  },
  {
   "cell_type": "code",
   "execution_count": 117,
   "id": "43b83ab5",
   "metadata": {},
   "outputs": [],
   "source": [
    "df[\"transaction_date\"] = pd.to_datetime(df[\"transaction_date\"])\n",
    "df[\"Quarter_1\"] = (df[\"transaction_date\"].dt.quarter == 1).astype(int)\n",
    "df[\"Quarter_2\"] = (df[\"transaction_date\"].dt.quarter == 2).astype(int)\n",
    "df[\"Quarter_3\"] = (df[\"transaction_date\"].dt.quarter == 3).astype(int)\n",
    "df[\"Quarter_4\"] = (df[\"transaction_date\"].dt.quarter == 4).astype(int)\n",
    "df = df.drop(columns=[\"transaction_date\"])\n"
   ]
  },
  {
   "cell_type": "markdown",
   "id": "746738fa",
   "metadata": {},
   "source": [
    "### Geographic features\n",
    "\n",
    "The customer_location column was mapped to continents using the country_converter library. Binary columns were then created for each continent (e.g., Europe, Asia, South America). Afterward, the original location columns were removed. The Africa column was later dropped because it contained no relevant or non-zero entries in the dataset, meaning it provided no useful information for model training."
   ]
  },
  {
   "cell_type": "code",
   "execution_count": 118,
   "id": "eb31e0fb",
   "metadata": {},
   "outputs": [],
   "source": [
    "df[\"Continent\"] = coco.convert(names=df[\"customer_location\"], to=\"continent\")\n",
    "\n",
    "south_america = {\"AR\",\"BO\",\"BR\",\"CL\",\"CO\",\"EC\",\"GY\",\"PY\",\"PE\",\"SR\",\"UY\",\"VE\"}\n",
    "\n",
    "df[\"South America\"] = ((df[\"Continent\"] == \"America\") & (df[\"customer_location\"].isin(south_america))).astype(int)\n",
    "df[\"North America\"] = ((df[\"Continent\"] == \"America\") & (~df[\"customer_location\"].isin(south_america))).astype(int)\n",
    "df[\"Europe\"] = (df[\"Continent\"] == \"Europe\").astype(int)\n",
    "df[\"Asia\"] = (df[\"Continent\"] == \"Asia\").astype(int)\n",
    "df[\"Africa\"] = (df[\"Continent\"] == \"Africa\").astype(int)\n",
    "df[\"Oceania\"] = (df[\"Continent\"] == \"Oceania\").astype(int)\n",
    "\n",
    "df = df.drop(columns=[\"customer_location\", \"Continent\", \"Africa\"])\n"
   ]
  },
  {
   "cell_type": "markdown",
   "id": "9a32338e",
   "metadata": {},
   "source": [
    "### Payment features\n",
    "\n",
    "The two most frequent payment methods were identified and converted into binary columns. An additional column marked all other methods. The original payment_method column was then dropped."
   ]
  },
  {
   "cell_type": "code",
   "execution_count": 119,
   "id": "864da267",
   "metadata": {},
   "outputs": [],
   "source": [
    "top2_payment = df[\"payment_method\"].value_counts().nlargest(2).index\n",
    "\n",
    "df[\"payment_\" + top2_payment[0].replace(\" \", \"_\")] = (df[\"payment_method\"] == top2_payment[0]).astype(int)\n",
    "df[\"payment_\" + top2_payment[1].replace(\" \", \"_\")] = (df[\"payment_method\"] == top2_payment[1]).astype(int)\n",
    "df[\"other_payment_method\"] = (~df[\"payment_method\"].isin(top2_payment)).astype(int)\n",
    "\n",
    "df = df.drop(columns=[\"payment_method\"])\n"
   ]
  },
  {
   "cell_type": "markdown",
   "id": "c9254fd2",
   "metadata": {},
   "source": [
    "### Shipping features\n",
    "\n",
    "The two most common shipping speeds were encoded as binary columns, with an additional column for all other options. The original shipping_speed column was removed."
   ]
  },
  {
   "cell_type": "code",
   "execution_count": 120,
   "id": "b28e823e",
   "metadata": {},
   "outputs": [],
   "source": [
    "top2_shipping = df[\"shipping_speed\"].value_counts().nlargest(2).index\n",
    "\n",
    "df[\"shipping_\" + top2_shipping[0].replace(\" \", \"_\")] = (df[\"shipping_speed\"] == top2_shipping[0]).astype(int)\n",
    "df[\"shipping_\" + top2_shipping[1].replace(\" \", \"_\")] = (df[\"shipping_speed\"] == top2_shipping[1]).astype(int)\n",
    "df[\"other_shipping_speed\"] = (~df[\"shipping_speed\"].isin(top2_shipping)).astype(int)\n",
    "\n",
    "df = df.drop(columns=[\"shipping_speed\"])\n"
   ]
  },
  {
   "cell_type": "markdown",
   "id": "b2c53219",
   "metadata": {},
   "source": [
    "### Boolean conversion\n",
    "\n",
    "Selected boolean columns were converted to integer format (0/1) to ensure consistency for model training."
   ]
  },
  {
   "cell_type": "code",
   "execution_count": 121,
   "id": "022a4aad",
   "metadata": {},
   "outputs": [],
   "source": [
    "bool_cols = [\n",
    "    \"Europe\", \"North America\", \"Oceania\", \"South America\",\n",
    "    \"discount_applied\",\"refund_requested\",\"velocity_flag\",\n",
    "    \"geolocation_mismatch\",\"device_fingerprint_new\",\"involves_counterfeit\"\n",
    "]\n",
    "df[bool_cols] = df[bool_cols].astype(int)"
   ]
  },
  {
   "cell_type": "markdown",
   "id": "bd7256b8",
   "metadata": {},
   "source": [
    "### Missing Values Check\n",
    "\n",
    "All numerical columns, except involves_counterfeit, are selected to check for missing values. The code prints the number of missing entries per column and the total number of missing values across the dataset, helping identify data completeness issues before model training."
   ]
  },
  {
   "cell_type": "code",
   "execution_count": 122,
   "id": "bcfa4299",
   "metadata": {},
   "outputs": [
    {
     "name": "stdout",
     "output_type": "stream",
     "text": [
      "Asia                       0\n",
      "Europe                     0\n",
      "North America              0\n",
      "Oceania                    0\n",
      "Quarter_1                  0\n",
      "Quarter_2                  0\n",
      "Quarter_3                  0\n",
      "Quarter_4                  0\n",
      "South America              0\n",
      "customer_age               0\n",
      "customer_history_orders    0\n",
      "delivery_time_days         0\n",
      "device_fingerprint_new     0\n",
      "discount_applied           0\n",
      "discount_percentage        0\n",
      "geolocation_mismatch       0\n",
      "other_payment_method       0\n",
      "other_shipping_speed       0\n",
      "payment_Credit_Card        0\n",
      "payment_PayPal             0\n",
      "quantity                   0\n",
      "refund_requested           0\n",
      "shipping_Express           0\n",
      "shipping_Standard          0\n",
      "shipping_cost              0\n",
      "total_amount               0\n",
      "unit_price                 0\n",
      "velocity_flag              0\n",
      "dtype: int64\n",
      "\n",
      "Total missing values: 0\n"
     ]
    }
   ],
   "source": [
    "num_cols = df.select_dtypes(include=[np.number]).columns.difference([\"involves_counterfeit\"])\n",
    "\n",
    "missing_per_column = df[num_cols].isna().sum()\n",
    "print(missing_per_column)\n",
    "\n",
    "print(\"\\nTotal missing values:\", missing_per_column.sum())\n"
   ]
  },
  {
   "cell_type": "markdown",
   "id": "60178673",
   "metadata": {},
   "source": [
    "### Duplicate Check and Removal\n",
    "\n",
    "The datast is checked for duplicat rows to ensure data integrity. Any duplicated founrd are displayed, then removed, and the index is reset. Thes step prevents redundant records from biasing the model or affecting statistical analysis."
   ]
  },
  {
   "cell_type": "code",
   "execution_count": 123,
   "id": "5543a632",
   "metadata": {},
   "outputs": [
    {
     "name": "stdout",
     "output_type": "stream",
     "text": [
      "Number of duplicates: 0\n",
      "After dropping duplicates: 0\n"
     ]
    }
   ],
   "source": [
    "duplicates_count = df.duplicated().sum()\n",
    "print(\"Number of duplicates:\", duplicates_count)\n",
    "\n",
    "if duplicates_count > 0:\n",
    "    display(df[df.duplicated()])\n",
    "\n",
    "df = df.drop_duplicates().reset_index(drop=True)\n",
    "print(\"After dropping duplicates:\", df.duplicated().sum())\n"
   ]
  },
  {
   "cell_type": "markdown",
   "id": "e02e0c66",
   "metadata": {},
   "source": [
    "### Feature and target split\n",
    "\n",
    "The dataset was divided into features (X) and the target variable (y), where involves_counterfeit serves as the classification label."
   ]
  },
  {
   "cell_type": "code",
   "execution_count": 124,
   "id": "b94f50e2",
   "metadata": {},
   "outputs": [
    {
     "name": "stdout",
     "output_type": "stream",
     "text": [
      "Features: (3000, 28) Target: (3000,)\n"
     ]
    }
   ],
   "source": [
    "X = df.drop(columns=[\"involves_counterfeit\"])\n",
    "y = df[\"involves_counterfeit\"].astype(int)\n",
    "\n",
    "print(\"Features:\", X.shape, \"Target:\", y.shape)\n"
   ]
  },
  {
   "cell_type": "markdown",
   "id": "6f2fcb3b",
   "metadata": {},
   "source": [
    "### Correlation analysis\n",
    "\n",
    "A correlation matrix was computed to identify relationships between features and the target variable involves_counterfeit. The strongest positive correlations were found with quantity and refund_requested, while customer_history_orders and unit_price showed the strongest negative correlations."
   ]
  },
  {
   "cell_type": "code",
   "execution_count": 125,
   "id": "416b7c8c",
   "metadata": {},
   "outputs": [
    {
     "data": {
      "text/plain": [
       "involves_counterfeit       1.000000\n",
       "quantity                   0.764782\n",
       "refund_requested           0.349443\n",
       "other_shipping_speed       0.206741\n",
       "total_amount               0.186583\n",
       "shipping_Standard          0.107036\n",
       "payment_Credit_Card        0.021951\n",
       "shipping_cost              0.019346\n",
       "geolocation_mismatch       0.013693\n",
       "Quarter_2                  0.013424\n",
       "Europe                     0.011625\n",
       "Oceania                    0.009564\n",
       "other_payment_method       0.009426\n",
       "Quarter_3                  0.006690\n",
       "device_fingerprint_new     0.005886\n",
       "customer_age               0.005421\n",
       "Asia                      -0.002109\n",
       "Quarter_4                 -0.004853\n",
       "South America             -0.005854\n",
       "velocity_flag             -0.006705\n",
       "discount_applied          -0.010856\n",
       "North America             -0.012090\n",
       "delivery_time_days        -0.012864\n",
       "Quarter_1                 -0.015211\n",
       "discount_percentage       -0.018855\n",
       "payment_PayPal            -0.032631\n",
       "shipping_Express          -0.342310\n",
       "unit_price                -0.539931\n",
       "customer_history_orders   -0.632745\n",
       "Name: involves_counterfeit, dtype: float64"
      ]
     },
     "execution_count": 125,
     "metadata": {},
     "output_type": "execute_result"
    }
   ],
   "source": [
    "corr_matrix = df.corr()['involves_counterfeit']\n",
    "corr_matrix.sort_values(ascending=False)"
   ]
  },
  {
   "cell_type": "markdown",
   "id": "8f2710f1",
   "metadata": {},
   "source": [
    "### Feature importance (Chi^2 test)\n",
    "\n",
    "A Chi^2 feature selection test was applied to evaluate the relationship between each input feature and the target variable. The highest scores were observed for unit_price, total_amount, and customer_history_orders, indicating strong relevance to counterfeit detection."
   ]
  },
  {
   "cell_type": "code",
   "execution_count": 126,
   "id": "3b036629",
   "metadata": {},
   "outputs": [
    {
     "name": "stdout",
     "output_type": "stream",
     "text": [
      "                    Feature         Score\n",
      "2                unit_price  47665.712697\n",
      "3              total_amount  26536.930924\n",
      "4   customer_history_orders  15197.743129\n",
      "1                  quantity   7738.265963\n",
      "9          refund_requested    300.390818\n",
      "26         shipping_Express    258.021173\n",
      "27     other_shipping_speed     81.081171\n",
      "6       discount_percentage     26.836213\n",
      "25        shipping_Standard     21.779147\n",
      "7             shipping_cost      2.416274\n",
      "22           payment_PayPal      2.373400\n",
      "8        delivery_time_days      2.283790\n",
      "23      payment_Credit_Card      1.079330\n",
      "0              customer_age      0.580262\n",
      "13                Quarter_1      0.520362\n",
      "11     geolocation_mismatch      0.471573\n",
      "14                Quarter_2      0.405992\n",
      "18            North America      0.306821\n",
      "19                   Europe      0.283142\n",
      "21                  Oceania      0.248077\n",
      "5          discount_applied      0.243853\n",
      "24     other_payment_method      0.136039\n",
      "10            velocity_flag      0.120389\n",
      "15                Quarter_3      0.100866\n",
      "17            South America      0.092399\n",
      "12   device_fingerprint_new      0.084208\n",
      "16                Quarter_4      0.052848\n",
      "20                     Asia      0.010663\n"
     ]
    }
   ],
   "source": [
    "X_cat = X.copy()\n",
    "\n",
    "X_cat = X_cat.apply(lambda col: col.clip(lower=0))\n",
    "\n",
    "chi2_selector = SelectKBest(score_func=chi2, k=\"all\")\n",
    "chi2_selector.fit(X_cat, y)\n",
    "\n",
    "scores = pd.DataFrame({\n",
    "    \"Feature\": X_cat.columns,\n",
    "    \"Score\": chi2_selector.scores_\n",
    "}).sort_values(by=\"Score\", ascending=False)\n",
    "\n",
    "print(scores)\n"
   ]
  },
  {
   "cell_type": "code",
   "execution_count": 127,
   "id": "e66842fd",
   "metadata": {},
   "outputs": [
    {
     "name": "stdout",
     "output_type": "stream",
     "text": [
      "Example: [0, 0, 0, 0, 0] → [[1. 0.]\n",
      " [1. 0.]\n",
      " [1. 0.]\n",
      " [1. 0.]\n",
      " [1. 0.]]\n"
     ]
    }
   ],
   "source": [
    "y_encoded = to_categorical(y)\n",
    "\n",
    "print(\"Example:\", y[:5].tolist(), \"→\", y_encoded[:5])\n"
   ]
  },
  {
   "cell_type": "code",
   "execution_count": 128,
   "id": "6314da79",
   "metadata": {},
   "outputs": [
    {
     "name": "stdout",
     "output_type": "stream",
     "text": [
      "Train: (1950, 28) Validation: (525, 28) Test: (525, 28)\n"
     ]
    }
   ],
   "source": [
    "X_train, X_temp, y_train, y_temp = train_test_split(X, y_encoded, test_size=0.35, random_state=42, stratify=y_encoded)\n",
    "X_val, X_test, y_val, y_test = train_test_split(X_temp, y_temp, test_size=0.5, random_state=42, stratify=y_temp)\n",
    "\n",
    "print(\"Train:\", X_train.shape, \"Validation:\", X_val.shape, \"Test:\", X_test.shape)\n"
   ]
  },
  {
   "cell_type": "markdown",
   "id": "2103d342",
   "metadata": {},
   "source": [
    "### Model architecture\n",
    "\n",
    "A neural network was built using Keras. It includes batch normalization, three hidden layers (64, 32, and 18 neurons) with ReLU activation, and dropout regularization to prevent overfitting. The output layer uses a softmax activation for binary classification."
   ]
  },
  {
   "cell_type": "code",
   "execution_count": 129,
   "id": "5797e62e",
   "metadata": {},
   "outputs": [
    {
     "name": "stderr",
     "output_type": "stream",
     "text": [
      "c:\\Users\\Mani\\AppData\\Local\\Programs\\Python\\Python312\\Lib\\site-packages\\keras\\src\\layers\\normalization\\batch_normalization.py:142: UserWarning: Do not pass an `input_shape`/`input_dim` argument to a layer. When using Sequential models, prefer using an `Input(shape)` object as the first layer in the model instead.\n",
      "  super().__init__(**kwargs)\n"
     ]
    },
    {
     "data": {
      "text/html": [
       "<pre style=\"white-space:pre;overflow-x:auto;line-height:normal;font-family:Menlo,'DejaVu Sans Mono',consolas,'Courier New',monospace\"><span style=\"font-weight: bold\">Model: \"sequential_4\"</span>\n",
       "</pre>\n"
      ],
      "text/plain": [
       "\u001b[1mModel: \"sequential_4\"\u001b[0m\n"
      ]
     },
     "metadata": {},
     "output_type": "display_data"
    },
    {
     "data": {
      "text/html": [
       "<pre style=\"white-space:pre;overflow-x:auto;line-height:normal;font-family:Menlo,'DejaVu Sans Mono',consolas,'Courier New',monospace\">┏━━━━━━━━━━━━━━━━━━━━━━━━━━━━━━━━━┳━━━━━━━━━━━━━━━━━━━━━━━━┳━━━━━━━━━━━━━━━┓\n",
       "┃<span style=\"font-weight: bold\"> Layer (type)                    </span>┃<span style=\"font-weight: bold\"> Output Shape           </span>┃<span style=\"font-weight: bold\">       Param # </span>┃\n",
       "┡━━━━━━━━━━━━━━━━━━━━━━━━━━━━━━━━━╇━━━━━━━━━━━━━━━━━━━━━━━━╇━━━━━━━━━━━━━━━┩\n",
       "│ batch_normalization_4           │ (<span style=\"color: #00d7ff; text-decoration-color: #00d7ff\">None</span>, <span style=\"color: #00af00; text-decoration-color: #00af00\">28</span>)             │           <span style=\"color: #00af00; text-decoration-color: #00af00\">112</span> │\n",
       "│ (<span style=\"color: #0087ff; text-decoration-color: #0087ff\">BatchNormalization</span>)            │                        │               │\n",
       "├─────────────────────────────────┼────────────────────────┼───────────────┤\n",
       "│ dense_16 (<span style=\"color: #0087ff; text-decoration-color: #0087ff\">Dense</span>)                │ (<span style=\"color: #00d7ff; text-decoration-color: #00d7ff\">None</span>, <span style=\"color: #00af00; text-decoration-color: #00af00\">64</span>)             │         <span style=\"color: #00af00; text-decoration-color: #00af00\">1,856</span> │\n",
       "├─────────────────────────────────┼────────────────────────┼───────────────┤\n",
       "│ dropout_4 (<span style=\"color: #0087ff; text-decoration-color: #0087ff\">Dropout</span>)             │ (<span style=\"color: #00d7ff; text-decoration-color: #00d7ff\">None</span>, <span style=\"color: #00af00; text-decoration-color: #00af00\">64</span>)             │             <span style=\"color: #00af00; text-decoration-color: #00af00\">0</span> │\n",
       "├─────────────────────────────────┼────────────────────────┼───────────────┤\n",
       "│ dense_17 (<span style=\"color: #0087ff; text-decoration-color: #0087ff\">Dense</span>)                │ (<span style=\"color: #00d7ff; text-decoration-color: #00d7ff\">None</span>, <span style=\"color: #00af00; text-decoration-color: #00af00\">32</span>)             │         <span style=\"color: #00af00; text-decoration-color: #00af00\">2,080</span> │\n",
       "├─────────────────────────────────┼────────────────────────┼───────────────┤\n",
       "│ dense_18 (<span style=\"color: #0087ff; text-decoration-color: #0087ff\">Dense</span>)                │ (<span style=\"color: #00d7ff; text-decoration-color: #00d7ff\">None</span>, <span style=\"color: #00af00; text-decoration-color: #00af00\">18</span>)             │           <span style=\"color: #00af00; text-decoration-color: #00af00\">594</span> │\n",
       "├─────────────────────────────────┼────────────────────────┼───────────────┤\n",
       "│ dense_19 (<span style=\"color: #0087ff; text-decoration-color: #0087ff\">Dense</span>)                │ (<span style=\"color: #00d7ff; text-decoration-color: #00d7ff\">None</span>, <span style=\"color: #00af00; text-decoration-color: #00af00\">2</span>)              │            <span style=\"color: #00af00; text-decoration-color: #00af00\">38</span> │\n",
       "└─────────────────────────────────┴────────────────────────┴───────────────┘\n",
       "</pre>\n"
      ],
      "text/plain": [
       "┏━━━━━━━━━━━━━━━━━━━━━━━━━━━━━━━━━┳━━━━━━━━━━━━━━━━━━━━━━━━┳━━━━━━━━━━━━━━━┓\n",
       "┃\u001b[1m \u001b[0m\u001b[1mLayer (type)                   \u001b[0m\u001b[1m \u001b[0m┃\u001b[1m \u001b[0m\u001b[1mOutput Shape          \u001b[0m\u001b[1m \u001b[0m┃\u001b[1m \u001b[0m\u001b[1m      Param #\u001b[0m\u001b[1m \u001b[0m┃\n",
       "┡━━━━━━━━━━━━━━━━━━━━━━━━━━━━━━━━━╇━━━━━━━━━━━━━━━━━━━━━━━━╇━━━━━━━━━━━━━━━┩\n",
       "│ batch_normalization_4           │ (\u001b[38;5;45mNone\u001b[0m, \u001b[38;5;34m28\u001b[0m)             │           \u001b[38;5;34m112\u001b[0m │\n",
       "│ (\u001b[38;5;33mBatchNormalization\u001b[0m)            │                        │               │\n",
       "├─────────────────────────────────┼────────────────────────┼───────────────┤\n",
       "│ dense_16 (\u001b[38;5;33mDense\u001b[0m)                │ (\u001b[38;5;45mNone\u001b[0m, \u001b[38;5;34m64\u001b[0m)             │         \u001b[38;5;34m1,856\u001b[0m │\n",
       "├─────────────────────────────────┼────────────────────────┼───────────────┤\n",
       "│ dropout_4 (\u001b[38;5;33mDropout\u001b[0m)             │ (\u001b[38;5;45mNone\u001b[0m, \u001b[38;5;34m64\u001b[0m)             │             \u001b[38;5;34m0\u001b[0m │\n",
       "├─────────────────────────────────┼────────────────────────┼───────────────┤\n",
       "│ dense_17 (\u001b[38;5;33mDense\u001b[0m)                │ (\u001b[38;5;45mNone\u001b[0m, \u001b[38;5;34m32\u001b[0m)             │         \u001b[38;5;34m2,080\u001b[0m │\n",
       "├─────────────────────────────────┼────────────────────────┼───────────────┤\n",
       "│ dense_18 (\u001b[38;5;33mDense\u001b[0m)                │ (\u001b[38;5;45mNone\u001b[0m, \u001b[38;5;34m18\u001b[0m)             │           \u001b[38;5;34m594\u001b[0m │\n",
       "├─────────────────────────────────┼────────────────────────┼───────────────┤\n",
       "│ dense_19 (\u001b[38;5;33mDense\u001b[0m)                │ (\u001b[38;5;45mNone\u001b[0m, \u001b[38;5;34m2\u001b[0m)              │            \u001b[38;5;34m38\u001b[0m │\n",
       "└─────────────────────────────────┴────────────────────────┴───────────────┘\n"
      ]
     },
     "metadata": {},
     "output_type": "display_data"
    },
    {
     "data": {
      "text/html": [
       "<pre style=\"white-space:pre;overflow-x:auto;line-height:normal;font-family:Menlo,'DejaVu Sans Mono',consolas,'Courier New',monospace\"><span style=\"font-weight: bold\"> Total params: </span><span style=\"color: #00af00; text-decoration-color: #00af00\">4,680</span> (18.28 KB)\n",
       "</pre>\n"
      ],
      "text/plain": [
       "\u001b[1m Total params: \u001b[0m\u001b[38;5;34m4,680\u001b[0m (18.28 KB)\n"
      ]
     },
     "metadata": {},
     "output_type": "display_data"
    },
    {
     "data": {
      "text/html": [
       "<pre style=\"white-space:pre;overflow-x:auto;line-height:normal;font-family:Menlo,'DejaVu Sans Mono',consolas,'Courier New',monospace\"><span style=\"font-weight: bold\"> Trainable params: </span><span style=\"color: #00af00; text-decoration-color: #00af00\">4,624</span> (18.06 KB)\n",
       "</pre>\n"
      ],
      "text/plain": [
       "\u001b[1m Trainable params: \u001b[0m\u001b[38;5;34m4,624\u001b[0m (18.06 KB)\n"
      ]
     },
     "metadata": {},
     "output_type": "display_data"
    },
    {
     "data": {
      "text/html": [
       "<pre style=\"white-space:pre;overflow-x:auto;line-height:normal;font-family:Menlo,'DejaVu Sans Mono',consolas,'Courier New',monospace\"><span style=\"font-weight: bold\"> Non-trainable params: </span><span style=\"color: #00af00; text-decoration-color: #00af00\">56</span> (224.00 B)\n",
       "</pre>\n"
      ],
      "text/plain": [
       "\u001b[1m Non-trainable params: \u001b[0m\u001b[38;5;34m56\u001b[0m (224.00 B)\n"
      ]
     },
     "metadata": {},
     "output_type": "display_data"
    }
   ],
   "source": [
    "variable_amount = X_train.shape[1]\n",
    "\n",
    "mc = ModelCheckpoint(\"best_model_counterfeit.keras\", monitor=\"val_loss\", mode=\"min\", save_best_only=True)\n",
    "es = EarlyStopping(monitor=\"val_loss\", patience=15, restore_best_weights=True)\n",
    "rlr = ReduceLROnPlateau(monitor=\"val_loss\", factor=0.5, patience=7, min_lr=1e-6, verbose=1)\n",
    "callbacks_opt = [mc, es, rlr]\n",
    "\n",
    "model = keras.Sequential([\n",
    "    layers.BatchNormalization(input_shape=(variable_amount,)),\n",
    "    layers.Dense(64, activation=\"relu\", kernel_regularizer=keras.regularizers.l1_l2(l1=0.1)),\n",
    "    layers.Dropout(0.1),\n",
    "    layers.Dense(32, activation=\"relu\"),\n",
    "    layers.Dense(18, activation=\"relu\"),\n",
    "    layers.Dense(2, activation=\"softmax\")  \n",
    "])\n",
    "\n",
    "model.compile(optimizer=\"adam\",loss=\"categorical_crossentropy\",metrics=[\"accuracy\"])\n",
    "\n",
    "\n",
    "model.summary()\n"
   ]
  },
  {
   "cell_type": "markdown",
   "id": "1e9729d1",
   "metadata": {},
   "source": [
    "### Model training\n",
    "\n",
    "The model was trained for up to 2000 epochs, but training stopped early after 198 epochs due to the Early Stopping callback, which detected no further improvement in validation performance."
   ]
  },
  {
   "cell_type": "code",
   "execution_count": 130,
   "id": "2d502953",
   "metadata": {},
   "outputs": [
    {
     "name": "stdout",
     "output_type": "stream",
     "text": [
      "Epoch 1/2000\n",
      "\u001b[1m61/61\u001b[0m \u001b[32m━━━━━━━━━━━━━━━━━━━━\u001b[0m\u001b[37m\u001b[0m \u001b[1m6s\u001b[0m 22ms/step - accuracy: 0.7190 - loss: 18.3103 - val_accuracy: 0.7676 - val_loss: 13.5574 - learning_rate: 0.0010\n",
      "Epoch 2/2000\n",
      "\u001b[1m61/61\u001b[0m \u001b[32m━━━━━━━━━━━━━━━━━━━━\u001b[0m\u001b[37m\u001b[0m \u001b[1m1s\u001b[0m 9ms/step - accuracy: 0.8744 - loss: 9.8861 - val_accuracy: 0.9600 - val_loss: 6.4374 - learning_rate: 0.0010\n",
      "Epoch 3/2000\n",
      "\u001b[1m61/61\u001b[0m \u001b[32m━━━━━━━━━━━━━━━━━━━━\u001b[0m\u001b[37m\u001b[0m \u001b[1m1s\u001b[0m 9ms/step - accuracy: 0.9431 - loss: 4.0753 - val_accuracy: 0.9410 - val_loss: 2.0339 - learning_rate: 0.0010\n",
      "Epoch 4/2000\n",
      "\u001b[1m61/61\u001b[0m \u001b[32m━━━━━━━━━━━━━━━━━━━━\u001b[0m\u001b[37m\u001b[0m \u001b[1m1s\u001b[0m 9ms/step - accuracy: 0.9508 - loss: 1.0011 - val_accuracy: 0.9714 - val_loss: 0.3357 - learning_rate: 0.0010\n",
      "Epoch 5/2000\n",
      "\u001b[1m61/61\u001b[0m \u001b[32m━━━━━━━━━━━━━━━━━━━━\u001b[0m\u001b[37m\u001b[0m \u001b[1m1s\u001b[0m 12ms/step - accuracy: 0.9503 - loss: 0.2969 - val_accuracy: 0.9714 - val_loss: 0.2444 - learning_rate: 0.0010\n",
      "Epoch 6/2000\n",
      "\u001b[1m61/61\u001b[0m \u001b[32m━━━━━━━━━━━━━━━━━━━━\u001b[0m\u001b[37m\u001b[0m \u001b[1m1s\u001b[0m 12ms/step - accuracy: 0.9523 - loss: 0.2623 - val_accuracy: 0.9657 - val_loss: 0.2137 - learning_rate: 0.0010\n",
      "Epoch 7/2000\n",
      "\u001b[1m61/61\u001b[0m \u001b[32m━━━━━━━━━━━━━━━━━━━━\u001b[0m\u001b[37m\u001b[0m \u001b[1m1s\u001b[0m 9ms/step - accuracy: 0.9497 - loss: 0.2542 - val_accuracy: 0.9676 - val_loss: 0.2073 - learning_rate: 0.0010\n",
      "Epoch 8/2000\n",
      "\u001b[1m61/61\u001b[0m \u001b[32m━━━━━━━━━━━━━━━━━━━━\u001b[0m\u001b[37m\u001b[0m \u001b[1m1s\u001b[0m 9ms/step - accuracy: 0.9467 - loss: 0.2605 - val_accuracy: 0.9638 - val_loss: 0.2178 - learning_rate: 0.0010\n",
      "Epoch 9/2000\n",
      "\u001b[1m61/61\u001b[0m \u001b[32m━━━━━━━━━━━━━━━━━━━━\u001b[0m\u001b[37m\u001b[0m \u001b[1m1s\u001b[0m 14ms/step - accuracy: 0.9626 - loss: 0.2210 - val_accuracy: 0.9714 - val_loss: 0.1932 - learning_rate: 0.0010\n",
      "Epoch 10/2000\n",
      "\u001b[1m61/61\u001b[0m \u001b[32m━━━━━━━━━━━━━━━━━━━━\u001b[0m\u001b[37m\u001b[0m \u001b[1m1s\u001b[0m 11ms/step - accuracy: 0.9600 - loss: 0.2182 - val_accuracy: 0.9752 - val_loss: 0.1788 - learning_rate: 0.0010\n",
      "Epoch 11/2000\n",
      "\u001b[1m61/61\u001b[0m \u001b[32m━━━━━━━━━━━━━━━━━━━━\u001b[0m\u001b[37m\u001b[0m \u001b[1m2s\u001b[0m 17ms/step - accuracy: 0.9528 - loss: 0.2285 - val_accuracy: 0.9390 - val_loss: 0.2398 - learning_rate: 0.0010\n",
      "Epoch 12/2000\n",
      "\u001b[1m61/61\u001b[0m \u001b[32m━━━━━━━━━━━━━━━━━━━━\u001b[0m\u001b[37m\u001b[0m \u001b[1m1s\u001b[0m 9ms/step - accuracy: 0.9513 - loss: 0.2243 - val_accuracy: 0.9829 - val_loss: 0.1812 - learning_rate: 0.0010\n",
      "Epoch 13/2000\n",
      "\u001b[1m61/61\u001b[0m \u001b[32m━━━━━━━━━━━━━━━━━━━━\u001b[0m\u001b[37m\u001b[0m \u001b[1m1s\u001b[0m 11ms/step - accuracy: 0.9636 - loss: 0.2107 - val_accuracy: 0.9619 - val_loss: 0.1752 - learning_rate: 0.0010\n",
      "Epoch 14/2000\n",
      "\u001b[1m61/61\u001b[0m \u001b[32m━━━━━━━━━━━━━━━━━━━━\u001b[0m\u001b[37m\u001b[0m \u001b[1m1s\u001b[0m 18ms/step - accuracy: 0.9544 - loss: 0.2129 - val_accuracy: 0.9752 - val_loss: 0.1654 - learning_rate: 0.0010\n",
      "Epoch 15/2000\n",
      "\u001b[1m61/61\u001b[0m \u001b[32m━━━━━━━━━━━━━━━━━━━━\u001b[0m\u001b[37m\u001b[0m \u001b[1m1s\u001b[0m 14ms/step - accuracy: 0.9621 - loss: 0.2017 - val_accuracy: 0.9695 - val_loss: 0.1799 - learning_rate: 0.0010\n",
      "Epoch 16/2000\n",
      "\u001b[1m61/61\u001b[0m \u001b[32m━━━━━━━━━━━━━━━━━━━━\u001b[0m\u001b[37m\u001b[0m \u001b[1m1s\u001b[0m 21ms/step - accuracy: 0.9610 - loss: 0.2035 - val_accuracy: 0.9848 - val_loss: 0.1651 - learning_rate: 0.0010\n",
      "Epoch 17/2000\n",
      "\u001b[1m61/61\u001b[0m \u001b[32m━━━━━━━━━━━━━━━━━━━━\u001b[0m\u001b[37m\u001b[0m \u001b[1m1s\u001b[0m 15ms/step - accuracy: 0.9497 - loss: 0.2270 - val_accuracy: 0.9752 - val_loss: 0.1652 - learning_rate: 0.0010\n",
      "Epoch 18/2000\n",
      "\u001b[1m61/61\u001b[0m \u001b[32m━━━━━━━━━━━━━━━━━━━━\u001b[0m\u001b[37m\u001b[0m \u001b[1m1s\u001b[0m 9ms/step - accuracy: 0.9615 - loss: 0.1971 - val_accuracy: 0.9810 - val_loss: 0.1500 - learning_rate: 0.0010\n",
      "Epoch 19/2000\n",
      "\u001b[1m61/61\u001b[0m \u001b[32m━━━━━━━━━━━━━━━━━━━━\u001b[0m\u001b[37m\u001b[0m \u001b[1m1s\u001b[0m 8ms/step - accuracy: 0.9559 - loss: 0.2069 - val_accuracy: 0.9752 - val_loss: 0.1678 - learning_rate: 0.0010\n",
      "Epoch 20/2000\n",
      "\u001b[1m61/61\u001b[0m \u001b[32m━━━━━━━━━━━━━━━━━━━━\u001b[0m\u001b[37m\u001b[0m \u001b[1m1s\u001b[0m 9ms/step - accuracy: 0.9610 - loss: 0.1920 - val_accuracy: 0.9771 - val_loss: 0.1491 - learning_rate: 0.0010\n",
      "Epoch 21/2000\n",
      "\u001b[1m61/61\u001b[0m \u001b[32m━━━━━━━━━━━━━━━━━━━━\u001b[0m\u001b[37m\u001b[0m \u001b[1m1s\u001b[0m 9ms/step - accuracy: 0.9564 - loss: 0.1975 - val_accuracy: 0.9714 - val_loss: 0.1712 - learning_rate: 0.0010\n",
      "Epoch 22/2000\n",
      "\u001b[1m61/61\u001b[0m \u001b[32m━━━━━━━━━━━━━━━━━━━━\u001b[0m\u001b[37m\u001b[0m \u001b[1m1s\u001b[0m 10ms/step - accuracy: 0.9610 - loss: 0.1896 - val_accuracy: 0.9486 - val_loss: 0.1742 - learning_rate: 0.0010\n",
      "Epoch 23/2000\n",
      "\u001b[1m61/61\u001b[0m \u001b[32m━━━━━━━━━━━━━━━━━━━━\u001b[0m\u001b[37m\u001b[0m \u001b[1m1s\u001b[0m 12ms/step - accuracy: 0.9559 - loss: 0.1874 - val_accuracy: 0.9790 - val_loss: 0.1546 - learning_rate: 0.0010\n",
      "Epoch 24/2000\n",
      "\u001b[1m61/61\u001b[0m \u001b[32m━━━━━━━━━━━━━━━━━━━━\u001b[0m\u001b[37m\u001b[0m \u001b[1m1s\u001b[0m 11ms/step - accuracy: 0.9605 - loss: 0.1922 - val_accuracy: 0.9810 - val_loss: 0.1535 - learning_rate: 0.0010\n",
      "Epoch 25/2000\n",
      "\u001b[1m61/61\u001b[0m \u001b[32m━━━━━━━━━━━━━━━━━━━━\u001b[0m\u001b[37m\u001b[0m \u001b[1m1s\u001b[0m 11ms/step - accuracy: 0.9600 - loss: 0.1845 - val_accuracy: 0.9676 - val_loss: 0.1578 - learning_rate: 0.0010\n",
      "Epoch 26/2000\n",
      "\u001b[1m61/61\u001b[0m \u001b[32m━━━━━━━━━━━━━━━━━━━━\u001b[0m\u001b[37m\u001b[0m \u001b[1m1s\u001b[0m 10ms/step - accuracy: 0.9569 - loss: 0.1956 - val_accuracy: 0.9771 - val_loss: 0.1511 - learning_rate: 0.0010\n",
      "Epoch 27/2000\n",
      "\u001b[1m61/61\u001b[0m \u001b[32m━━━━━━━━━━━━━━━━━━━━\u001b[0m\u001b[37m\u001b[0m \u001b[1m1s\u001b[0m 11ms/step - accuracy: 0.9610 - loss: 0.1720 - val_accuracy: 0.9676 - val_loss: 0.1438 - learning_rate: 0.0010\n",
      "Epoch 28/2000\n",
      "\u001b[1m61/61\u001b[0m \u001b[32m━━━━━━━━━━━━━━━━━━━━\u001b[0m\u001b[37m\u001b[0m \u001b[1m1s\u001b[0m 8ms/step - accuracy: 0.9662 - loss: 0.1761 - val_accuracy: 0.9676 - val_loss: 0.1532 - learning_rate: 0.0010\n",
      "Epoch 29/2000\n",
      "\u001b[1m61/61\u001b[0m \u001b[32m━━━━━━━━━━━━━━━━━━━━\u001b[0m\u001b[37m\u001b[0m \u001b[1m1s\u001b[0m 10ms/step - accuracy: 0.9595 - loss: 0.1882 - val_accuracy: 0.9676 - val_loss: 0.1613 - learning_rate: 0.0010\n",
      "Epoch 30/2000\n",
      "\u001b[1m61/61\u001b[0m \u001b[32m━━━━━━━━━━━━━━━━━━━━\u001b[0m\u001b[37m\u001b[0m \u001b[1m1s\u001b[0m 7ms/step - accuracy: 0.9579 - loss: 0.1905 - val_accuracy: 0.9657 - val_loss: 0.1659 - learning_rate: 0.0010\n",
      "Epoch 31/2000\n",
      "\u001b[1m61/61\u001b[0m \u001b[32m━━━━━━━━━━━━━━━━━━━━\u001b[0m\u001b[37m\u001b[0m \u001b[1m1s\u001b[0m 9ms/step - accuracy: 0.9559 - loss: 0.1812 - val_accuracy: 0.9867 - val_loss: 0.1435 - learning_rate: 0.0010\n",
      "Epoch 32/2000\n",
      "\u001b[1m61/61\u001b[0m \u001b[32m━━━━━━━━━━━━━━━━━━━━\u001b[0m\u001b[37m\u001b[0m \u001b[1m1s\u001b[0m 7ms/step - accuracy: 0.9503 - loss: 0.2088 - val_accuracy: 0.9810 - val_loss: 0.1763 - learning_rate: 0.0010\n",
      "Epoch 33/2000\n",
      "\u001b[1m61/61\u001b[0m \u001b[32m━━━━━━━━━━━━━━━━━━━━\u001b[0m\u001b[37m\u001b[0m \u001b[1m1s\u001b[0m 9ms/step - accuracy: 0.9585 - loss: 0.1927 - val_accuracy: 0.9829 - val_loss: 0.1288 - learning_rate: 0.0010\n",
      "Epoch 34/2000\n",
      "\u001b[1m61/61\u001b[0m \u001b[32m━━━━━━━━━━━━━━━━━━━━\u001b[0m\u001b[37m\u001b[0m \u001b[1m1s\u001b[0m 9ms/step - accuracy: 0.9656 - loss: 0.1642 - val_accuracy: 0.9752 - val_loss: 0.1531 - learning_rate: 0.0010\n",
      "Epoch 35/2000\n",
      "\u001b[1m61/61\u001b[0m \u001b[32m━━━━━━━━━━━━━━━━━━━━\u001b[0m\u001b[37m\u001b[0m \u001b[1m1s\u001b[0m 9ms/step - accuracy: 0.9544 - loss: 0.1983 - val_accuracy: 0.9695 - val_loss: 0.1404 - learning_rate: 0.0010\n",
      "Epoch 36/2000\n",
      "\u001b[1m61/61\u001b[0m \u001b[32m━━━━━━━━━━━━━━━━━━━━\u001b[0m\u001b[37m\u001b[0m \u001b[1m1s\u001b[0m 9ms/step - accuracy: 0.9651 - loss: 0.1600 - val_accuracy: 0.9848 - val_loss: 0.1282 - learning_rate: 0.0010\n",
      "Epoch 37/2000\n",
      "\u001b[1m61/61\u001b[0m \u001b[32m━━━━━━━━━━━━━━━━━━━━\u001b[0m\u001b[37m\u001b[0m \u001b[1m1s\u001b[0m 8ms/step - accuracy: 0.9641 - loss: 0.1689 - val_accuracy: 0.9810 - val_loss: 0.1400 - learning_rate: 0.0010\n",
      "Epoch 38/2000\n",
      "\u001b[1m61/61\u001b[0m \u001b[32m━━━━━━━━━━━━━━━━━━━━\u001b[0m\u001b[37m\u001b[0m \u001b[1m1s\u001b[0m 8ms/step - accuracy: 0.9610 - loss: 0.1682 - val_accuracy: 0.9848 - val_loss: 0.1362 - learning_rate: 0.0010\n",
      "Epoch 39/2000\n",
      "\u001b[1m61/61\u001b[0m \u001b[32m━━━━━━━━━━━━━━━━━━━━\u001b[0m\u001b[37m\u001b[0m \u001b[1m1s\u001b[0m 10ms/step - accuracy: 0.9569 - loss: 0.1746 - val_accuracy: 0.9752 - val_loss: 0.1512 - learning_rate: 0.0010\n",
      "Epoch 40/2000\n",
      "\u001b[1m61/61\u001b[0m \u001b[32m━━━━━━━━━━━━━━━━━━━━\u001b[0m\u001b[37m\u001b[0m \u001b[1m1s\u001b[0m 9ms/step - accuracy: 0.9631 - loss: 0.1640 - val_accuracy: 0.9848 - val_loss: 0.1267 - learning_rate: 0.0010\n",
      "Epoch 41/2000\n",
      "\u001b[1m61/61\u001b[0m \u001b[32m━━━━━━━━━━━━━━━━━━━━\u001b[0m\u001b[37m\u001b[0m \u001b[1m1s\u001b[0m 10ms/step - accuracy: 0.9595 - loss: 0.1633 - val_accuracy: 0.9848 - val_loss: 0.1180 - learning_rate: 0.0010\n",
      "Epoch 42/2000\n",
      "\u001b[1m61/61\u001b[0m \u001b[32m━━━━━━━━━━━━━━━━━━━━\u001b[0m\u001b[37m\u001b[0m \u001b[1m1s\u001b[0m 9ms/step - accuracy: 0.9595 - loss: 0.1625 - val_accuracy: 0.9771 - val_loss: 0.1292 - learning_rate: 0.0010\n",
      "Epoch 43/2000\n",
      "\u001b[1m61/61\u001b[0m \u001b[32m━━━━━━━━━━━━━━━━━━━━\u001b[0m\u001b[37m\u001b[0m \u001b[1m1s\u001b[0m 9ms/step - accuracy: 0.9662 - loss: 0.1547 - val_accuracy: 0.9829 - val_loss: 0.1296 - learning_rate: 0.0010\n",
      "Epoch 44/2000\n",
      "\u001b[1m61/61\u001b[0m \u001b[32m━━━━━━━━━━━━━━━━━━━━\u001b[0m\u001b[37m\u001b[0m \u001b[1m0s\u001b[0m 7ms/step - accuracy: 0.9646 - loss: 0.1649 - val_accuracy: 0.9848 - val_loss: 0.1214 - learning_rate: 0.0010\n",
      "Epoch 45/2000\n",
      "\u001b[1m61/61\u001b[0m \u001b[32m━━━━━━━━━━━━━━━━━━━━\u001b[0m\u001b[37m\u001b[0m \u001b[1m1s\u001b[0m 9ms/step - accuracy: 0.9615 - loss: 0.1717 - val_accuracy: 0.9467 - val_loss: 0.1545 - learning_rate: 0.0010\n",
      "Epoch 46/2000\n",
      "\u001b[1m61/61\u001b[0m \u001b[32m━━━━━━━━━━━━━━━━━━━━\u001b[0m\u001b[37m\u001b[0m \u001b[1m1s\u001b[0m 8ms/step - accuracy: 0.9656 - loss: 0.1611 - val_accuracy: 0.9638 - val_loss: 0.1396 - learning_rate: 0.0010\n",
      "Epoch 47/2000\n",
      "\u001b[1m61/61\u001b[0m \u001b[32m━━━━━━━━━━━━━━━━━━━━\u001b[0m\u001b[37m\u001b[0m \u001b[1m1s\u001b[0m 9ms/step - accuracy: 0.9662 - loss: 0.1514 - val_accuracy: 0.9867 - val_loss: 0.1197 - learning_rate: 0.0010\n",
      "Epoch 48/2000\n",
      "\u001b[1m49/61\u001b[0m \u001b[32m━━━━━━━━━━━━━━━━\u001b[0m\u001b[37m━━━━\u001b[0m \u001b[1m0s\u001b[0m 4ms/step - accuracy: 0.9633 - loss: 0.1540\n",
      "Epoch 48: ReduceLROnPlateau reducing learning rate to 0.0005000000237487257.\n",
      "\u001b[1m61/61\u001b[0m \u001b[32m━━━━━━━━━━━━━━━━━━━━\u001b[0m\u001b[37m\u001b[0m \u001b[1m1s\u001b[0m 7ms/step - accuracy: 0.9600 - loss: 0.1648 - val_accuracy: 0.9829 - val_loss: 0.1248 - learning_rate: 0.0010\n",
      "Epoch 49/2000\n",
      "\u001b[1m61/61\u001b[0m \u001b[32m━━━━━━━━━━━━━━━━━━━━\u001b[0m\u001b[37m\u001b[0m \u001b[1m1s\u001b[0m 8ms/step - accuracy: 0.9651 - loss: 0.1391 - val_accuracy: 0.9867 - val_loss: 0.0984 - learning_rate: 5.0000e-04\n",
      "Epoch 50/2000\n",
      "\u001b[1m61/61\u001b[0m \u001b[32m━━━━━━━━━━━━━━━━━━━━\u001b[0m\u001b[37m\u001b[0m \u001b[1m1s\u001b[0m 8ms/step - accuracy: 0.9667 - loss: 0.1339 - val_accuracy: 0.9733 - val_loss: 0.1067 - learning_rate: 5.0000e-04\n",
      "Epoch 51/2000\n",
      "\u001b[1m61/61\u001b[0m \u001b[32m━━━━━━━━━━━━━━━━━━━━\u001b[0m\u001b[37m\u001b[0m \u001b[1m1s\u001b[0m 8ms/step - accuracy: 0.9600 - loss: 0.1316 - val_accuracy: 0.9829 - val_loss: 0.1014 - learning_rate: 5.0000e-04\n",
      "Epoch 52/2000\n",
      "\u001b[1m61/61\u001b[0m \u001b[32m━━━━━━━━━━━━━━━━━━━━\u001b[0m\u001b[37m\u001b[0m \u001b[1m1s\u001b[0m 9ms/step - accuracy: 0.9651 - loss: 0.1343 - val_accuracy: 0.9886 - val_loss: 0.0959 - learning_rate: 5.0000e-04\n",
      "Epoch 53/2000\n",
      "\u001b[1m61/61\u001b[0m \u001b[32m━━━━━━━━━━━━━━━━━━━━\u001b[0m\u001b[37m\u001b[0m \u001b[1m1s\u001b[0m 8ms/step - accuracy: 0.9595 - loss: 0.1412 - val_accuracy: 0.9905 - val_loss: 0.0951 - learning_rate: 5.0000e-04\n",
      "Epoch 54/2000\n",
      "\u001b[1m61/61\u001b[0m \u001b[32m━━━━━━━━━━━━━━━━━━━━\u001b[0m\u001b[37m\u001b[0m \u001b[1m1s\u001b[0m 8ms/step - accuracy: 0.9697 - loss: 0.1260 - val_accuracy: 0.9848 - val_loss: 0.0948 - learning_rate: 5.0000e-04\n",
      "Epoch 55/2000\n",
      "\u001b[1m61/61\u001b[0m \u001b[32m━━━━━━━━━━━━━━━━━━━━\u001b[0m\u001b[37m\u001b[0m \u001b[1m0s\u001b[0m 7ms/step - accuracy: 0.9610 - loss: 0.1408 - val_accuracy: 0.9790 - val_loss: 0.1042 - learning_rate: 5.0000e-04\n",
      "Epoch 56/2000\n",
      "\u001b[1m61/61\u001b[0m \u001b[32m━━━━━━━━━━━━━━━━━━━━\u001b[0m\u001b[37m\u001b[0m \u001b[1m0s\u001b[0m 7ms/step - accuracy: 0.9718 - loss: 0.1292 - val_accuracy: 0.9829 - val_loss: 0.0982 - learning_rate: 5.0000e-04\n",
      "Epoch 57/2000\n",
      "\u001b[1m61/61\u001b[0m \u001b[32m━━━━━━━━━━━━━━━━━━━━\u001b[0m\u001b[37m\u001b[0m \u001b[1m1s\u001b[0m 7ms/step - accuracy: 0.9672 - loss: 0.1296 - val_accuracy: 0.9733 - val_loss: 0.1090 - learning_rate: 5.0000e-04\n",
      "Epoch 58/2000\n",
      "\u001b[1m61/61\u001b[0m \u001b[32m━━━━━━━━━━━━━━━━━━━━\u001b[0m\u001b[37m\u001b[0m \u001b[1m1s\u001b[0m 9ms/step - accuracy: 0.9656 - loss: 0.1296 - val_accuracy: 0.9924 - val_loss: 0.0930 - learning_rate: 5.0000e-04\n",
      "Epoch 59/2000\n",
      "\u001b[1m61/61\u001b[0m \u001b[32m━━━━━━━━━━━━━━━━━━━━\u001b[0m\u001b[37m\u001b[0m \u001b[1m1s\u001b[0m 8ms/step - accuracy: 0.9641 - loss: 0.1346 - val_accuracy: 0.9752 - val_loss: 0.1028 - learning_rate: 5.0000e-04\n",
      "Epoch 60/2000\n",
      "\u001b[1m61/61\u001b[0m \u001b[32m━━━━━━━━━━━━━━━━━━━━\u001b[0m\u001b[37m\u001b[0m \u001b[1m1s\u001b[0m 9ms/step - accuracy: 0.9636 - loss: 0.1292 - val_accuracy: 0.9848 - val_loss: 0.0936 - learning_rate: 5.0000e-04\n",
      "Epoch 61/2000\n",
      "\u001b[1m61/61\u001b[0m \u001b[32m━━━━━━━━━━━━━━━━━━━━\u001b[0m\u001b[37m\u001b[0m \u001b[1m1s\u001b[0m 8ms/step - accuracy: 0.9672 - loss: 0.1227 - val_accuracy: 0.9790 - val_loss: 0.0976 - learning_rate: 5.0000e-04\n",
      "Epoch 62/2000\n",
      "\u001b[1m61/61\u001b[0m \u001b[32m━━━━━━━━━━━━━━━━━━━━\u001b[0m\u001b[37m\u001b[0m \u001b[1m1s\u001b[0m 8ms/step - accuracy: 0.9687 - loss: 0.1253 - val_accuracy: 0.9752 - val_loss: 0.1010 - learning_rate: 5.0000e-04\n",
      "Epoch 63/2000\n",
      "\u001b[1m61/61\u001b[0m \u001b[32m━━━━━━━━━━━━━━━━━━━━\u001b[0m\u001b[37m\u001b[0m \u001b[1m1s\u001b[0m 8ms/step - accuracy: 0.9579 - loss: 0.1381 - val_accuracy: 0.9867 - val_loss: 0.0967 - learning_rate: 5.0000e-04\n",
      "Epoch 64/2000\n",
      "\u001b[1m61/61\u001b[0m \u001b[32m━━━━━━━━━━━━━━━━━━━━\u001b[0m\u001b[37m\u001b[0m \u001b[1m1s\u001b[0m 12ms/step - accuracy: 0.9708 - loss: 0.1259 - val_accuracy: 0.9924 - val_loss: 0.0908 - learning_rate: 5.0000e-04\n",
      "Epoch 65/2000\n",
      "\u001b[1m61/61\u001b[0m \u001b[32m━━━━━━━━━━━━━━━━━━━━\u001b[0m\u001b[37m\u001b[0m \u001b[1m1s\u001b[0m 9ms/step - accuracy: 0.9662 - loss: 0.1238 - val_accuracy: 0.9867 - val_loss: 0.0948 - learning_rate: 5.0000e-04\n",
      "Epoch 66/2000\n",
      "\u001b[1m61/61\u001b[0m \u001b[32m━━━━━━━━━━━━━━━━━━━━\u001b[0m\u001b[37m\u001b[0m \u001b[1m1s\u001b[0m 9ms/step - accuracy: 0.9703 - loss: 0.1179 - val_accuracy: 0.9848 - val_loss: 0.0928 - learning_rate: 5.0000e-04\n",
      "Epoch 67/2000\n",
      "\u001b[1m61/61\u001b[0m \u001b[32m━━━━━━━━━━━━━━━━━━━━\u001b[0m\u001b[37m\u001b[0m \u001b[1m1s\u001b[0m 9ms/step - accuracy: 0.9667 - loss: 0.1253 - val_accuracy: 0.9886 - val_loss: 0.0889 - learning_rate: 5.0000e-04\n",
      "Epoch 68/2000\n",
      "\u001b[1m61/61\u001b[0m \u001b[32m━━━━━━━━━━━━━━━━━━━━\u001b[0m\u001b[37m\u001b[0m \u001b[1m0s\u001b[0m 7ms/step - accuracy: 0.9610 - loss: 0.1383 - val_accuracy: 0.9695 - val_loss: 0.1108 - learning_rate: 5.0000e-04\n",
      "Epoch 69/2000\n",
      "\u001b[1m61/61\u001b[0m \u001b[32m━━━━━━━━━━━━━━━━━━━━\u001b[0m\u001b[37m\u001b[0m \u001b[1m1s\u001b[0m 8ms/step - accuracy: 0.9703 - loss: 0.1263 - val_accuracy: 0.9790 - val_loss: 0.1014 - learning_rate: 5.0000e-04\n",
      "Epoch 70/2000\n",
      "\u001b[1m61/61\u001b[0m \u001b[32m━━━━━━━━━━━━━━━━━━━━\u001b[0m\u001b[37m\u001b[0m \u001b[1m1s\u001b[0m 8ms/step - accuracy: 0.9667 - loss: 0.1286 - val_accuracy: 0.9905 - val_loss: 0.0970 - learning_rate: 5.0000e-04\n",
      "Epoch 71/2000\n",
      "\u001b[1m61/61\u001b[0m \u001b[32m━━━━━━━━━━━━━━━━━━━━\u001b[0m\u001b[37m\u001b[0m \u001b[1m1s\u001b[0m 8ms/step - accuracy: 0.9641 - loss: 0.1266 - val_accuracy: 0.9886 - val_loss: 0.0946 - learning_rate: 5.0000e-04\n",
      "Epoch 72/2000\n",
      "\u001b[1m61/61\u001b[0m \u001b[32m━━━━━━━━━━━━━━━━━━━━\u001b[0m\u001b[37m\u001b[0m \u001b[1m0s\u001b[0m 7ms/step - accuracy: 0.9672 - loss: 0.1247 - val_accuracy: 0.9886 - val_loss: 0.0975 - learning_rate: 5.0000e-04\n",
      "Epoch 73/2000\n",
      "\u001b[1m61/61\u001b[0m \u001b[32m━━━━━━━━━━━━━━━━━━━━\u001b[0m\u001b[37m\u001b[0m \u001b[1m1s\u001b[0m 7ms/step - accuracy: 0.9662 - loss: 0.1236 - val_accuracy: 0.9829 - val_loss: 0.0905 - learning_rate: 5.0000e-04\n",
      "Epoch 74/2000\n",
      "\u001b[1m58/61\u001b[0m \u001b[32m━━━━━━━━━━━━━━━━━━━\u001b[0m\u001b[37m━\u001b[0m \u001b[1m0s\u001b[0m 4ms/step - accuracy: 0.9603 - loss: 0.1287\n",
      "Epoch 74: ReduceLROnPlateau reducing learning rate to 0.0002500000118743628.\n",
      "\u001b[1m61/61\u001b[0m \u001b[32m━━━━━━━━━━━━━━━━━━━━\u001b[0m\u001b[37m\u001b[0m \u001b[1m1s\u001b[0m 8ms/step - accuracy: 0.9610 - loss: 0.1313 - val_accuracy: 0.9771 - val_loss: 0.1013 - learning_rate: 5.0000e-04\n",
      "Epoch 75/2000\n",
      "\u001b[1m61/61\u001b[0m \u001b[32m━━━━━━━━━━━━━━━━━━━━\u001b[0m\u001b[37m\u001b[0m \u001b[1m1s\u001b[0m 8ms/step - accuracy: 0.9662 - loss: 0.1153 - val_accuracy: 0.9905 - val_loss: 0.0821 - learning_rate: 2.5000e-04\n",
      "Epoch 76/2000\n",
      "\u001b[1m61/61\u001b[0m \u001b[32m━━━━━━━━━━━━━━━━━━━━\u001b[0m\u001b[37m\u001b[0m \u001b[1m1s\u001b[0m 12ms/step - accuracy: 0.9692 - loss: 0.1103 - val_accuracy: 0.9905 - val_loss: 0.0772 - learning_rate: 2.5000e-04\n",
      "Epoch 77/2000\n",
      "\u001b[1m61/61\u001b[0m \u001b[32m━━━━━━━━━━━━━━━━━━━━\u001b[0m\u001b[37m\u001b[0m \u001b[1m1s\u001b[0m 8ms/step - accuracy: 0.9692 - loss: 0.1103 - val_accuracy: 0.9848 - val_loss: 0.0857 - learning_rate: 2.5000e-04\n",
      "Epoch 78/2000\n",
      "\u001b[1m61/61\u001b[0m \u001b[32m━━━━━━━━━━━━━━━━━━━━\u001b[0m\u001b[37m\u001b[0m \u001b[1m1s\u001b[0m 8ms/step - accuracy: 0.9636 - loss: 0.1225 - val_accuracy: 0.9905 - val_loss: 0.0858 - learning_rate: 2.5000e-04\n",
      "Epoch 79/2000\n",
      "\u001b[1m61/61\u001b[0m \u001b[32m━━━━━━━━━━━━━━━━━━━━\u001b[0m\u001b[37m\u001b[0m \u001b[1m1s\u001b[0m 15ms/step - accuracy: 0.9759 - loss: 0.1009 - val_accuracy: 0.9829 - val_loss: 0.0834 - learning_rate: 2.5000e-04\n",
      "Epoch 80/2000\n",
      "\u001b[1m61/61\u001b[0m \u001b[32m━━━━━━━━━━━━━━━━━━━━\u001b[0m\u001b[37m\u001b[0m \u001b[1m1s\u001b[0m 7ms/step - accuracy: 0.9626 - loss: 0.1170 - val_accuracy: 0.9886 - val_loss: 0.0836 - learning_rate: 2.5000e-04\n",
      "Epoch 81/2000\n",
      "\u001b[1m61/61\u001b[0m \u001b[32m━━━━━━━━━━━━━━━━━━━━\u001b[0m\u001b[37m\u001b[0m \u001b[1m1s\u001b[0m 10ms/step - accuracy: 0.9723 - loss: 0.1032 - val_accuracy: 0.9829 - val_loss: 0.0762 - learning_rate: 2.5000e-04\n",
      "Epoch 82/2000\n",
      "\u001b[1m61/61\u001b[0m \u001b[32m━━━━━━━━━━━━━━━━━━━━\u001b[0m\u001b[37m\u001b[0m \u001b[1m1s\u001b[0m 12ms/step - accuracy: 0.9595 - loss: 0.1202 - val_accuracy: 0.9924 - val_loss: 0.0823 - learning_rate: 2.5000e-04\n",
      "Epoch 83/2000\n",
      "\u001b[1m61/61\u001b[0m \u001b[32m━━━━━━━━━━━━━━━━━━━━\u001b[0m\u001b[37m\u001b[0m \u001b[1m2s\u001b[0m 16ms/step - accuracy: 0.9646 - loss: 0.1203 - val_accuracy: 0.9924 - val_loss: 0.0801 - learning_rate: 2.5000e-04\n",
      "Epoch 84/2000\n",
      "\u001b[1m61/61\u001b[0m \u001b[32m━━━━━━━━━━━━━━━━━━━━\u001b[0m\u001b[37m\u001b[0m \u001b[1m1s\u001b[0m 13ms/step - accuracy: 0.9708 - loss: 0.1083 - val_accuracy: 0.9848 - val_loss: 0.0772 - learning_rate: 2.5000e-04\n",
      "Epoch 85/2000\n",
      "\u001b[1m61/61\u001b[0m \u001b[32m━━━━━━━━━━━━━━━━━━━━\u001b[0m\u001b[37m\u001b[0m \u001b[1m1s\u001b[0m 11ms/step - accuracy: 0.9682 - loss: 0.1105 - val_accuracy: 0.9924 - val_loss: 0.0796 - learning_rate: 2.5000e-04\n",
      "Epoch 86/2000\n",
      "\u001b[1m61/61\u001b[0m \u001b[32m━━━━━━━━━━━━━━━━━━━━\u001b[0m\u001b[37m\u001b[0m \u001b[1m1s\u001b[0m 12ms/step - accuracy: 0.9703 - loss: 0.1065 - val_accuracy: 0.9810 - val_loss: 0.0795 - learning_rate: 2.5000e-04\n",
      "Epoch 87/2000\n",
      "\u001b[1m61/61\u001b[0m \u001b[32m━━━━━━━━━━━━━━━━━━━━\u001b[0m\u001b[37m\u001b[0m \u001b[1m1s\u001b[0m 7ms/step - accuracy: 0.9626 - loss: 0.1181 - val_accuracy: 0.9886 - val_loss: 0.0811 - learning_rate: 2.5000e-04\n",
      "Epoch 88/2000\n",
      "\u001b[1m59/61\u001b[0m \u001b[32m━━━━━━━━━━━━━━━━━━━\u001b[0m\u001b[37m━\u001b[0m \u001b[1m0s\u001b[0m 6ms/step - accuracy: 0.9768 - loss: 0.0969\n",
      "Epoch 88: ReduceLROnPlateau reducing learning rate to 0.0001250000059371814.\n",
      "\u001b[1m61/61\u001b[0m \u001b[32m━━━━━━━━━━━━━━━━━━━━\u001b[0m\u001b[37m\u001b[0m \u001b[1m1s\u001b[0m 9ms/step - accuracy: 0.9733 - loss: 0.0999 - val_accuracy: 0.9752 - val_loss: 0.0840 - learning_rate: 2.5000e-04\n",
      "Epoch 89/2000\n",
      "\u001b[1m61/61\u001b[0m \u001b[32m━━━━━━━━━━━━━━━━━━━━\u001b[0m\u001b[37m\u001b[0m \u001b[1m1s\u001b[0m 8ms/step - accuracy: 0.9708 - loss: 0.0987 - val_accuracy: 0.9905 - val_loss: 0.0725 - learning_rate: 1.2500e-04\n",
      "Epoch 90/2000\n",
      "\u001b[1m61/61\u001b[0m \u001b[32m━━━━━━━━━━━━━━━━━━━━\u001b[0m\u001b[37m\u001b[0m \u001b[1m1s\u001b[0m 8ms/step - accuracy: 0.9687 - loss: 0.1036 - val_accuracy: 0.9886 - val_loss: 0.0719 - learning_rate: 1.2500e-04\n",
      "Epoch 91/2000\n",
      "\u001b[1m61/61\u001b[0m \u001b[32m━━━━━━━━━━━━━━━━━━━━\u001b[0m\u001b[37m\u001b[0m \u001b[1m1s\u001b[0m 11ms/step - accuracy: 0.9682 - loss: 0.1038 - val_accuracy: 0.9905 - val_loss: 0.0717 - learning_rate: 1.2500e-04\n",
      "Epoch 92/2000\n",
      "\u001b[1m61/61\u001b[0m \u001b[32m━━━━━━━━━━━━━━━━━━━━\u001b[0m\u001b[37m\u001b[0m \u001b[1m0s\u001b[0m 7ms/step - accuracy: 0.9641 - loss: 0.1028 - val_accuracy: 0.9867 - val_loss: 0.0753 - learning_rate: 1.2500e-04\n",
      "Epoch 93/2000\n",
      "\u001b[1m61/61\u001b[0m \u001b[32m━━━━━━━━━━━━━━━━━━━━\u001b[0m\u001b[37m\u001b[0m \u001b[1m1s\u001b[0m 8ms/step - accuracy: 0.9713 - loss: 0.1009 - val_accuracy: 0.9924 - val_loss: 0.0709 - learning_rate: 1.2500e-04\n",
      "Epoch 94/2000\n",
      "\u001b[1m61/61\u001b[0m \u001b[32m━━━━━━━━━━━━━━━━━━━━\u001b[0m\u001b[37m\u001b[0m \u001b[1m1s\u001b[0m 7ms/step - accuracy: 0.9651 - loss: 0.1046 - val_accuracy: 0.9848 - val_loss: 0.0761 - learning_rate: 1.2500e-04\n",
      "Epoch 95/2000\n",
      "\u001b[1m61/61\u001b[0m \u001b[32m━━━━━━━━━━━━━━━━━━━━\u001b[0m\u001b[37m\u001b[0m \u001b[1m1s\u001b[0m 9ms/step - accuracy: 0.9744 - loss: 0.0932 - val_accuracy: 0.9829 - val_loss: 0.0739 - learning_rate: 1.2500e-04\n",
      "Epoch 96/2000\n",
      "\u001b[1m61/61\u001b[0m \u001b[32m━━━━━━━━━━━━━━━━━━━━\u001b[0m\u001b[37m\u001b[0m \u001b[1m1s\u001b[0m 9ms/step - accuracy: 0.9733 - loss: 0.0934 - val_accuracy: 0.9886 - val_loss: 0.0699 - learning_rate: 1.2500e-04\n",
      "Epoch 97/2000\n",
      "\u001b[1m61/61\u001b[0m \u001b[32m━━━━━━━━━━━━━━━━━━━━\u001b[0m\u001b[37m\u001b[0m \u001b[1m1s\u001b[0m 8ms/step - accuracy: 0.9687 - loss: 0.1004 - val_accuracy: 0.9905 - val_loss: 0.0698 - learning_rate: 1.2500e-04\n",
      "Epoch 98/2000\n",
      "\u001b[1m61/61\u001b[0m \u001b[32m━━━━━━━━━━━━━━━━━━━━\u001b[0m\u001b[37m\u001b[0m \u001b[1m1s\u001b[0m 11ms/step - accuracy: 0.9656 - loss: 0.1012 - val_accuracy: 0.9886 - val_loss: 0.0727 - learning_rate: 1.2500e-04\n",
      "Epoch 99/2000\n",
      "\u001b[1m61/61\u001b[0m \u001b[32m━━━━━━━━━━━━━━━━━━━━\u001b[0m\u001b[37m\u001b[0m \u001b[1m0s\u001b[0m 7ms/step - accuracy: 0.9677 - loss: 0.0966 - val_accuracy: 0.9829 - val_loss: 0.0744 - learning_rate: 1.2500e-04\n",
      "Epoch 100/2000\n",
      "\u001b[1m61/61\u001b[0m \u001b[32m━━━━━━━━━━━━━━━━━━━━\u001b[0m\u001b[37m\u001b[0m \u001b[1m1s\u001b[0m 9ms/step - accuracy: 0.9677 - loss: 0.1053 - val_accuracy: 0.9867 - val_loss: 0.0732 - learning_rate: 1.2500e-04\n",
      "Epoch 101/2000\n",
      "\u001b[1m61/61\u001b[0m \u001b[32m━━━━━━━━━━━━━━━━━━━━\u001b[0m\u001b[37m\u001b[0m \u001b[1m1s\u001b[0m 9ms/step - accuracy: 0.9692 - loss: 0.1018 - val_accuracy: 0.9867 - val_loss: 0.0726 - learning_rate: 1.2500e-04\n",
      "Epoch 102/2000\n",
      "\u001b[1m61/61\u001b[0m \u001b[32m━━━━━━━━━━━━━━━━━━━━\u001b[0m\u001b[37m\u001b[0m \u001b[1m1s\u001b[0m 9ms/step - accuracy: 0.9651 - loss: 0.1081 - val_accuracy: 0.9886 - val_loss: 0.0717 - learning_rate: 1.2500e-04\n",
      "Epoch 103/2000\n",
      "\u001b[1m61/61\u001b[0m \u001b[32m━━━━━━━━━━━━━━━━━━━━\u001b[0m\u001b[37m\u001b[0m \u001b[1m1s\u001b[0m 9ms/step - accuracy: 0.9631 - loss: 0.1118 - val_accuracy: 0.9905 - val_loss: 0.0733 - learning_rate: 1.2500e-04\n",
      "Epoch 104/2000\n",
      "\u001b[1m59/61\u001b[0m \u001b[32m━━━━━━━━━━━━━━━━━━━\u001b[0m\u001b[37m━\u001b[0m \u001b[1m0s\u001b[0m 5ms/step - accuracy: 0.9717 - loss: 0.1034\n",
      "Epoch 104: ReduceLROnPlateau reducing learning rate to 6.25000029685907e-05.\n",
      "\u001b[1m61/61\u001b[0m \u001b[32m━━━━━━━━━━━━━━━━━━━━\u001b[0m\u001b[37m\u001b[0m \u001b[1m1s\u001b[0m 9ms/step - accuracy: 0.9733 - loss: 0.0967 - val_accuracy: 0.9886 - val_loss: 0.0733 - learning_rate: 1.2500e-04\n",
      "Epoch 105/2000\n",
      "\u001b[1m61/61\u001b[0m \u001b[32m━━━━━━━━━━━━━━━━━━━━\u001b[0m\u001b[37m\u001b[0m \u001b[1m1s\u001b[0m 9ms/step - accuracy: 0.9667 - loss: 0.1022 - val_accuracy: 0.9867 - val_loss: 0.0701 - learning_rate: 6.2500e-05\n",
      "Epoch 106/2000\n",
      "\u001b[1m61/61\u001b[0m \u001b[32m━━━━━━━━━━━━━━━━━━━━\u001b[0m\u001b[37m\u001b[0m \u001b[1m1s\u001b[0m 9ms/step - accuracy: 0.9703 - loss: 0.0962 - val_accuracy: 0.9886 - val_loss: 0.0698 - learning_rate: 6.2500e-05\n",
      "Epoch 107/2000\n",
      "\u001b[1m61/61\u001b[0m \u001b[32m━━━━━━━━━━━━━━━━━━━━\u001b[0m\u001b[37m\u001b[0m \u001b[1m1s\u001b[0m 8ms/step - accuracy: 0.9656 - loss: 0.0979 - val_accuracy: 0.9905 - val_loss: 0.0684 - learning_rate: 6.2500e-05\n",
      "Epoch 108/2000\n",
      "\u001b[1m61/61\u001b[0m \u001b[32m━━━━━━━━━━━━━━━━━━━━\u001b[0m\u001b[37m\u001b[0m \u001b[1m1s\u001b[0m 19ms/step - accuracy: 0.9697 - loss: 0.1013 - val_accuracy: 0.9886 - val_loss: 0.0692 - learning_rate: 6.2500e-05\n",
      "Epoch 109/2000\n",
      "\u001b[1m61/61\u001b[0m \u001b[32m━━━━━━━━━━━━━━━━━━━━\u001b[0m\u001b[37m\u001b[0m \u001b[1m1s\u001b[0m 10ms/step - accuracy: 0.9738 - loss: 0.0913 - val_accuracy: 0.9905 - val_loss: 0.0678 - learning_rate: 6.2500e-05\n",
      "Epoch 110/2000\n",
      "\u001b[1m61/61\u001b[0m \u001b[32m━━━━━━━━━━━━━━━━━━━━\u001b[0m\u001b[37m\u001b[0m \u001b[1m1s\u001b[0m 13ms/step - accuracy: 0.9651 - loss: 0.1071 - val_accuracy: 0.9905 - val_loss: 0.0693 - learning_rate: 6.2500e-05\n",
      "Epoch 111/2000\n",
      "\u001b[1m61/61\u001b[0m \u001b[32m━━━━━━━━━━━━━━━━━━━━\u001b[0m\u001b[37m\u001b[0m \u001b[1m1s\u001b[0m 8ms/step - accuracy: 0.9667 - loss: 0.1026 - val_accuracy: 0.9886 - val_loss: 0.0712 - learning_rate: 6.2500e-05\n",
      "Epoch 112/2000\n",
      "\u001b[1m61/61\u001b[0m \u001b[32m━━━━━━━━━━━━━━━━━━━━\u001b[0m\u001b[37m\u001b[0m \u001b[1m1s\u001b[0m 8ms/step - accuracy: 0.9672 - loss: 0.0960 - val_accuracy: 0.9886 - val_loss: 0.0702 - learning_rate: 6.2500e-05\n",
      "Epoch 113/2000\n",
      "\u001b[1m61/61\u001b[0m \u001b[32m━━━━━━━━━━━━━━━━━━━━\u001b[0m\u001b[37m\u001b[0m \u001b[1m1s\u001b[0m 8ms/step - accuracy: 0.9718 - loss: 0.0927 - val_accuracy: 0.9886 - val_loss: 0.0691 - learning_rate: 6.2500e-05\n",
      "Epoch 114/2000\n",
      "\u001b[1m61/61\u001b[0m \u001b[32m━━━━━━━━━━━━━━━━━━━━\u001b[0m\u001b[37m\u001b[0m \u001b[1m1s\u001b[0m 10ms/step - accuracy: 0.9662 - loss: 0.0984 - val_accuracy: 0.9886 - val_loss: 0.0679 - learning_rate: 6.2500e-05\n",
      "Epoch 115/2000\n",
      "\u001b[1m61/61\u001b[0m \u001b[32m━━━━━━━━━━━━━━━━━━━━\u001b[0m\u001b[37m\u001b[0m \u001b[1m1s\u001b[0m 11ms/step - accuracy: 0.9723 - loss: 0.0916 - val_accuracy: 0.9886 - val_loss: 0.0675 - learning_rate: 6.2500e-05\n",
      "Epoch 116/2000\n",
      "\u001b[1m61/61\u001b[0m \u001b[32m━━━━━━━━━━━━━━━━━━━━\u001b[0m\u001b[37m\u001b[0m \u001b[1m1s\u001b[0m 9ms/step - accuracy: 0.9697 - loss: 0.0890 - val_accuracy: 0.9905 - val_loss: 0.0656 - learning_rate: 6.2500e-05\n",
      "Epoch 117/2000\n",
      "\u001b[1m61/61\u001b[0m \u001b[32m━━━━━━━━━━━━━━━━━━━━\u001b[0m\u001b[37m\u001b[0m \u001b[1m1s\u001b[0m 8ms/step - accuracy: 0.9569 - loss: 0.1115 - val_accuracy: 0.9905 - val_loss: 0.0691 - learning_rate: 6.2500e-05\n",
      "Epoch 118/2000\n",
      "\u001b[1m61/61\u001b[0m \u001b[32m━━━━━━━━━━━━━━━━━━━━\u001b[0m\u001b[37m\u001b[0m \u001b[1m1s\u001b[0m 8ms/step - accuracy: 0.9687 - loss: 0.0952 - val_accuracy: 0.9905 - val_loss: 0.0674 - learning_rate: 6.2500e-05\n",
      "Epoch 119/2000\n",
      "\u001b[1m61/61\u001b[0m \u001b[32m━━━━━━━━━━━━━━━━━━━━\u001b[0m\u001b[37m\u001b[0m \u001b[1m1s\u001b[0m 8ms/step - accuracy: 0.9713 - loss: 0.0911 - val_accuracy: 0.9905 - val_loss: 0.0677 - learning_rate: 6.2500e-05\n",
      "Epoch 120/2000\n",
      "\u001b[1m61/61\u001b[0m \u001b[32m━━━━━━━━━━━━━━━━━━━━\u001b[0m\u001b[37m\u001b[0m \u001b[1m1s\u001b[0m 12ms/step - accuracy: 0.9692 - loss: 0.0954 - val_accuracy: 0.9886 - val_loss: 0.0677 - learning_rate: 6.2500e-05\n",
      "Epoch 121/2000\n",
      "\u001b[1m61/61\u001b[0m \u001b[32m━━━━━━━━━━━━━━━━━━━━\u001b[0m\u001b[37m\u001b[0m \u001b[1m1s\u001b[0m 9ms/step - accuracy: 0.9703 - loss: 0.0937 - val_accuracy: 0.9886 - val_loss: 0.0667 - learning_rate: 6.2500e-05\n",
      "Epoch 122/2000\n",
      "\u001b[1m61/61\u001b[0m \u001b[32m━━━━━━━━━━━━━━━━━━━━\u001b[0m\u001b[37m\u001b[0m \u001b[1m1s\u001b[0m 8ms/step - accuracy: 0.9687 - loss: 0.0952 - val_accuracy: 0.9905 - val_loss: 0.0657 - learning_rate: 6.2500e-05\n",
      "Epoch 123/2000\n",
      "\u001b[1m51/61\u001b[0m \u001b[32m━━━━━━━━━━━━━━━━\u001b[0m\u001b[37m━━━━\u001b[0m \u001b[1m0s\u001b[0m 4ms/step - accuracy: 0.9649 - loss: 0.1013\n",
      "Epoch 123: ReduceLROnPlateau reducing learning rate to 3.125000148429535e-05.\n",
      "\u001b[1m61/61\u001b[0m \u001b[32m━━━━━━━━━━━━━━━━━━━━\u001b[0m\u001b[37m\u001b[0m \u001b[1m1s\u001b[0m 8ms/step - accuracy: 0.9697 - loss: 0.0950 - val_accuracy: 0.9867 - val_loss: 0.0670 - learning_rate: 6.2500e-05\n",
      "Epoch 124/2000\n",
      "\u001b[1m61/61\u001b[0m \u001b[32m━━━━━━━━━━━━━━━━━━━━\u001b[0m\u001b[37m\u001b[0m \u001b[1m1s\u001b[0m 10ms/step - accuracy: 0.9662 - loss: 0.0958 - val_accuracy: 0.9886 - val_loss: 0.0656 - learning_rate: 3.1250e-05\n",
      "Epoch 125/2000\n",
      "\u001b[1m61/61\u001b[0m \u001b[32m━━━━━━━━━━━━━━━━━━━━\u001b[0m\u001b[37m\u001b[0m \u001b[1m1s\u001b[0m 7ms/step - accuracy: 0.9631 - loss: 0.1007 - val_accuracy: 0.9886 - val_loss: 0.0670 - learning_rate: 3.1250e-05\n",
      "Epoch 126/2000\n",
      "\u001b[1m61/61\u001b[0m \u001b[32m━━━━━━━━━━━━━━━━━━━━\u001b[0m\u001b[37m\u001b[0m \u001b[1m1s\u001b[0m 8ms/step - accuracy: 0.9677 - loss: 0.0949 - val_accuracy: 0.9905 - val_loss: 0.0661 - learning_rate: 3.1250e-05\n",
      "Epoch 127/2000\n",
      "\u001b[1m61/61\u001b[0m \u001b[32m━━━━━━━━━━━━━━━━━━━━\u001b[0m\u001b[37m\u001b[0m \u001b[1m1s\u001b[0m 8ms/step - accuracy: 0.9738 - loss: 0.0874 - val_accuracy: 0.9886 - val_loss: 0.0658 - learning_rate: 3.1250e-05\n",
      "Epoch 128/2000\n",
      "\u001b[1m61/61\u001b[0m \u001b[32m━━━━━━━━━━━━━━━━━━━━\u001b[0m\u001b[37m\u001b[0m \u001b[1m1s\u001b[0m 8ms/step - accuracy: 0.9713 - loss: 0.1009 - val_accuracy: 0.9886 - val_loss: 0.0658 - learning_rate: 3.1250e-05\n",
      "Epoch 129/2000\n",
      "\u001b[1m61/61\u001b[0m \u001b[32m━━━━━━━━━━━━━━━━━━━━\u001b[0m\u001b[37m\u001b[0m \u001b[1m1s\u001b[0m 8ms/step - accuracy: 0.9708 - loss: 0.0912 - val_accuracy: 0.9886 - val_loss: 0.0658 - learning_rate: 3.1250e-05\n",
      "Epoch 130/2000\n",
      "\u001b[1m61/61\u001b[0m \u001b[32m━━━━━━━━━━━━━━━━━━━━\u001b[0m\u001b[37m\u001b[0m \u001b[1m1s\u001b[0m 9ms/step - accuracy: 0.9667 - loss: 0.0990 - val_accuracy: 0.9905 - val_loss: 0.0647 - learning_rate: 3.1250e-05\n",
      "Epoch 131/2000\n",
      "\u001b[1m61/61\u001b[0m \u001b[32m━━━━━━━━━━━━━━━━━━━━\u001b[0m\u001b[37m\u001b[0m \u001b[1m1s\u001b[0m 8ms/step - accuracy: 0.9728 - loss: 0.0867 - val_accuracy: 0.9886 - val_loss: 0.0655 - learning_rate: 3.1250e-05\n",
      "Epoch 132/2000\n",
      "\u001b[1m61/61\u001b[0m \u001b[32m━━━━━━━━━━━━━━━━━━━━\u001b[0m\u001b[37m\u001b[0m \u001b[1m1s\u001b[0m 11ms/step - accuracy: 0.9744 - loss: 0.0848 - val_accuracy: 0.9886 - val_loss: 0.0654 - learning_rate: 3.1250e-05\n",
      "Epoch 133/2000\n",
      "\u001b[1m61/61\u001b[0m \u001b[32m━━━━━━━━━━━━━━━━━━━━\u001b[0m\u001b[37m\u001b[0m \u001b[1m1s\u001b[0m 8ms/step - accuracy: 0.9718 - loss: 0.0986 - val_accuracy: 0.9848 - val_loss: 0.0664 - learning_rate: 3.1250e-05\n",
      "Epoch 134/2000\n",
      "\u001b[1m61/61\u001b[0m \u001b[32m━━━━━━━━━━━━━━━━━━━━\u001b[0m\u001b[37m\u001b[0m \u001b[1m1s\u001b[0m 8ms/step - accuracy: 0.9626 - loss: 0.0975 - val_accuracy: 0.9886 - val_loss: 0.0657 - learning_rate: 3.1250e-05\n",
      "Epoch 135/2000\n",
      "\u001b[1m61/61\u001b[0m \u001b[32m━━━━━━━━━━━━━━━━━━━━\u001b[0m\u001b[37m\u001b[0m \u001b[1m1s\u001b[0m 9ms/step - accuracy: 0.9677 - loss: 0.0913 - val_accuracy: 0.9886 - val_loss: 0.0649 - learning_rate: 3.1250e-05\n",
      "Epoch 136/2000\n",
      "\u001b[1m61/61\u001b[0m \u001b[32m━━━━━━━━━━━━━━━━━━━━\u001b[0m\u001b[37m\u001b[0m \u001b[1m1s\u001b[0m 10ms/step - accuracy: 0.9672 - loss: 0.1019 - val_accuracy: 0.9905 - val_loss: 0.0645 - learning_rate: 3.1250e-05\n",
      "Epoch 137/2000\n",
      "\u001b[1m61/61\u001b[0m \u001b[32m━━━━━━━━━━━━━━━━━━━━\u001b[0m\u001b[37m\u001b[0m \u001b[1m1s\u001b[0m 9ms/step - accuracy: 0.9646 - loss: 0.1007 - val_accuracy: 0.9905 - val_loss: 0.0644 - learning_rate: 3.1250e-05\n",
      "Epoch 138/2000\n",
      "\u001b[1m61/61\u001b[0m \u001b[32m━━━━━━━━━━━━━━━━━━━━\u001b[0m\u001b[37m\u001b[0m \u001b[1m1s\u001b[0m 9ms/step - accuracy: 0.9692 - loss: 0.0947 - val_accuracy: 0.9905 - val_loss: 0.0643 - learning_rate: 3.1250e-05\n",
      "Epoch 139/2000\n",
      "\u001b[1m61/61\u001b[0m \u001b[32m━━━━━━━━━━━━━━━━━━━━\u001b[0m\u001b[37m\u001b[0m \u001b[1m1s\u001b[0m 8ms/step - accuracy: 0.9667 - loss: 0.0957 - val_accuracy: 0.9905 - val_loss: 0.0644 - learning_rate: 3.1250e-05\n",
      "Epoch 140/2000\n",
      "\u001b[1m61/61\u001b[0m \u001b[32m━━━━━━━━━━━━━━━━━━━━\u001b[0m\u001b[37m\u001b[0m \u001b[1m1s\u001b[0m 9ms/step - accuracy: 0.9636 - loss: 0.1025 - val_accuracy: 0.9905 - val_loss: 0.0651 - learning_rate: 3.1250e-05\n",
      "Epoch 141/2000\n",
      "\u001b[1m61/61\u001b[0m \u001b[32m━━━━━━━━━━━━━━━━━━━━\u001b[0m\u001b[37m\u001b[0m \u001b[1m1s\u001b[0m 9ms/step - accuracy: 0.9641 - loss: 0.0985 - val_accuracy: 0.9905 - val_loss: 0.0653 - learning_rate: 3.1250e-05\n",
      "Epoch 142/2000\n",
      "\u001b[1m61/61\u001b[0m \u001b[32m━━━━━━━━━━━━━━━━━━━━\u001b[0m\u001b[37m\u001b[0m \u001b[1m1s\u001b[0m 8ms/step - accuracy: 0.9723 - loss: 0.0899 - val_accuracy: 0.9905 - val_loss: 0.0649 - learning_rate: 3.1250e-05\n",
      "Epoch 143/2000\n",
      "\u001b[1m61/61\u001b[0m \u001b[32m━━━━━━━━━━━━━━━━━━━━\u001b[0m\u001b[37m\u001b[0m \u001b[1m1s\u001b[0m 10ms/step - accuracy: 0.9646 - loss: 0.0966 - val_accuracy: 0.9886 - val_loss: 0.0648 - learning_rate: 3.1250e-05\n",
      "Epoch 144/2000\n",
      "\u001b[1m61/61\u001b[0m \u001b[32m━━━━━━━━━━━━━━━━━━━━\u001b[0m\u001b[37m\u001b[0m \u001b[1m1s\u001b[0m 8ms/step - accuracy: 0.9713 - loss: 0.0869 - val_accuracy: 0.9905 - val_loss: 0.0644 - learning_rate: 3.1250e-05\n",
      "Epoch 145/2000\n",
      "\u001b[1m60/61\u001b[0m \u001b[32m━━━━━━━━━━━━━━━━━━━\u001b[0m\u001b[37m━\u001b[0m \u001b[1m0s\u001b[0m 4ms/step - accuracy: 0.9705 - loss: 0.0888\n",
      "Epoch 145: ReduceLROnPlateau reducing learning rate to 1.5625000742147677e-05.\n",
      "\u001b[1m61/61\u001b[0m \u001b[32m━━━━━━━━━━━━━━━━━━━━\u001b[0m\u001b[37m\u001b[0m \u001b[1m1s\u001b[0m 9ms/step - accuracy: 0.9682 - loss: 0.0948 - val_accuracy: 0.9886 - val_loss: 0.0654 - learning_rate: 3.1250e-05\n",
      "Epoch 146/2000\n",
      "\u001b[1m61/61\u001b[0m \u001b[32m━━━━━━━━━━━━━━━━━━━━\u001b[0m\u001b[37m\u001b[0m \u001b[1m1s\u001b[0m 10ms/step - accuracy: 0.9718 - loss: 0.0885 - val_accuracy: 0.9905 - val_loss: 0.0637 - learning_rate: 1.5625e-05\n",
      "Epoch 147/2000\n",
      "\u001b[1m61/61\u001b[0m \u001b[32m━━━━━━━━━━━━━━━━━━━━\u001b[0m\u001b[37m\u001b[0m \u001b[1m1s\u001b[0m 8ms/step - accuracy: 0.9651 - loss: 0.0971 - val_accuracy: 0.9867 - val_loss: 0.0648 - learning_rate: 1.5625e-05\n",
      "Epoch 148/2000\n",
      "\u001b[1m61/61\u001b[0m \u001b[32m━━━━━━━━━━━━━━━━━━━━\u001b[0m\u001b[37m\u001b[0m \u001b[1m1s\u001b[0m 8ms/step - accuracy: 0.9759 - loss: 0.0880 - val_accuracy: 0.9867 - val_loss: 0.0650 - learning_rate: 1.5625e-05\n",
      "Epoch 149/2000\n",
      "\u001b[1m61/61\u001b[0m \u001b[32m━━━━━━━━━━━━━━━━━━━━\u001b[0m\u001b[37m\u001b[0m \u001b[1m1s\u001b[0m 8ms/step - accuracy: 0.9687 - loss: 0.0915 - val_accuracy: 0.9886 - val_loss: 0.0644 - learning_rate: 1.5625e-05\n",
      "Epoch 150/2000\n",
      "\u001b[1m61/61\u001b[0m \u001b[32m━━━━━━━━━━━━━━━━━━━━\u001b[0m\u001b[37m\u001b[0m \u001b[1m1s\u001b[0m 8ms/step - accuracy: 0.9662 - loss: 0.0946 - val_accuracy: 0.9886 - val_loss: 0.0648 - learning_rate: 1.5625e-05\n",
      "Epoch 151/2000\n",
      "\u001b[1m61/61\u001b[0m \u001b[32m━━━━━━━━━━━━━━━━━━━━\u001b[0m\u001b[37m\u001b[0m \u001b[1m1s\u001b[0m 9ms/step - accuracy: 0.9667 - loss: 0.0947 - val_accuracy: 0.9848 - val_loss: 0.0653 - learning_rate: 1.5625e-05\n",
      "Epoch 152/2000\n",
      "\u001b[1m61/61\u001b[0m \u001b[32m━━━━━━━━━━━━━━━━━━━━\u001b[0m\u001b[37m\u001b[0m \u001b[1m1s\u001b[0m 8ms/step - accuracy: 0.9728 - loss: 0.0856 - val_accuracy: 0.9886 - val_loss: 0.0643 - learning_rate: 1.5625e-05\n",
      "Epoch 153/2000\n",
      "\u001b[1m55/61\u001b[0m \u001b[32m━━━━━━━━━━━━━━━━━━\u001b[0m\u001b[37m━━\u001b[0m \u001b[1m0s\u001b[0m 4ms/step - accuracy: 0.9640 - loss: 0.1081\n",
      "Epoch 153: ReduceLROnPlateau reducing learning rate to 7.812500371073838e-06.\n",
      "\u001b[1m61/61\u001b[0m \u001b[32m━━━━━━━━━━━━━━━━━━━━\u001b[0m\u001b[37m\u001b[0m \u001b[1m1s\u001b[0m 9ms/step - accuracy: 0.9672 - loss: 0.0956 - val_accuracy: 0.9867 - val_loss: 0.0645 - learning_rate: 1.5625e-05\n",
      "Epoch 154/2000\n",
      "\u001b[1m61/61\u001b[0m \u001b[32m━━━━━━━━━━━━━━━━━━━━\u001b[0m\u001b[37m\u001b[0m \u001b[1m1s\u001b[0m 9ms/step - accuracy: 0.9626 - loss: 0.1037 - val_accuracy: 0.9886 - val_loss: 0.0643 - learning_rate: 7.8125e-06\n",
      "Epoch 155/2000\n",
      "\u001b[1m61/61\u001b[0m \u001b[32m━━━━━━━━━━━━━━━━━━━━\u001b[0m\u001b[37m\u001b[0m \u001b[1m1s\u001b[0m 10ms/step - accuracy: 0.9677 - loss: 0.0948 - val_accuracy: 0.9905 - val_loss: 0.0638 - learning_rate: 7.8125e-06\n",
      "Epoch 156/2000\n",
      "\u001b[1m61/61\u001b[0m \u001b[32m━━━━━━━━━━━━━━━━━━━━\u001b[0m\u001b[37m\u001b[0m \u001b[1m1s\u001b[0m 8ms/step - accuracy: 0.9687 - loss: 0.0876 - val_accuracy: 0.9905 - val_loss: 0.0638 - learning_rate: 7.8125e-06\n",
      "Epoch 157/2000\n",
      "\u001b[1m61/61\u001b[0m \u001b[32m━━━━━━━━━━━━━━━━━━━━\u001b[0m\u001b[37m\u001b[0m \u001b[1m1s\u001b[0m 8ms/step - accuracy: 0.9723 - loss: 0.0899 - val_accuracy: 0.9886 - val_loss: 0.0643 - learning_rate: 7.8125e-06\n",
      "Epoch 158/2000\n",
      "\u001b[1m61/61\u001b[0m \u001b[32m━━━━━━━━━━━━━━━━━━━━\u001b[0m\u001b[37m\u001b[0m \u001b[1m1s\u001b[0m 9ms/step - accuracy: 0.9754 - loss: 0.0885 - val_accuracy: 0.9886 - val_loss: 0.0642 - learning_rate: 7.8125e-06\n",
      "Epoch 159/2000\n",
      "\u001b[1m61/61\u001b[0m \u001b[32m━━━━━━━━━━━━━━━━━━━━\u001b[0m\u001b[37m\u001b[0m \u001b[1m1s\u001b[0m 8ms/step - accuracy: 0.9626 - loss: 0.0994 - val_accuracy: 0.9886 - val_loss: 0.0642 - learning_rate: 7.8125e-06\n",
      "Epoch 160/2000\n",
      "\u001b[1m57/61\u001b[0m \u001b[32m━━━━━━━━━━━━━━━━━━\u001b[0m\u001b[37m━━\u001b[0m \u001b[1m0s\u001b[0m 5ms/step - accuracy: 0.9713 - loss: 0.0911\n",
      "Epoch 160: ReduceLROnPlateau reducing learning rate to 3.906250185536919e-06.\n",
      "\u001b[1m61/61\u001b[0m \u001b[32m━━━━━━━━━━━━━━━━━━━━\u001b[0m\u001b[37m\u001b[0m \u001b[1m1s\u001b[0m 8ms/step - accuracy: 0.9687 - loss: 0.0935 - val_accuracy: 0.9886 - val_loss: 0.0643 - learning_rate: 7.8125e-06\n",
      "Epoch 161/2000\n",
      "\u001b[1m61/61\u001b[0m \u001b[32m━━━━━━━━━━━━━━━━━━━━\u001b[0m\u001b[37m\u001b[0m \u001b[1m1s\u001b[0m 8ms/step - accuracy: 0.9687 - loss: 0.0859 - val_accuracy: 0.9886 - val_loss: 0.0641 - learning_rate: 3.9063e-06\n"
     ]
    }
   ],
   "source": [
    "history = model.fit(X_train, y_train,validation_data=(X_val, y_val),epochs=2000,callbacks=callbacks_opt, verbose=1)"
   ]
  },
  {
   "cell_type": "markdown",
   "id": "64973243",
   "metadata": {},
   "source": [
    "### Training performance\n",
    "\n",
    "The loss and validation loss both decreased rapidly during the initial epochs and stabilized near zero, indicating that the model converged quickly. The close alignment between training and validation curves suggests consistent generalization without overfitting."
   ]
  },
  {
   "cell_type": "code",
   "execution_count": 131,
   "id": "6a0a860f",
   "metadata": {},
   "outputs": [
    {
     "data": {
      "text/plain": [
       "<Axes: >"
      ]
     },
     "execution_count": 131,
     "metadata": {},
     "output_type": "execute_result"
    },
    {
     "data": {
      "image/png": "[encoded data removed]",
      "text/plain": [
       "<Figure size 640x480 with 1 Axes>"
      ]
     },
     "metadata": {},
     "output_type": "display_data"
    }
   ],
   "source": [
    "loss_df = pd.DataFrame(model.history.history)\n",
    "loss_df[['loss', 'val_loss']].plot()"
   ]
  },
  {
   "cell_type": "markdown",
   "id": "ddf6880d",
   "metadata": {},
   "source": [
    "### Accuracy performance\n",
    "\n",
    "Both training and validation accuracy increased rapidly during the early epochs and remained high afterward. The validation accuracy reached nearly 100%, indicating strong predictive performance and stable generalization across the dataset."
   ]
  },
  {
   "cell_type": "code",
   "execution_count": 132,
   "id": "0cb08110",
   "metadata": {},
   "outputs": [
    {
     "data": {
      "text/plain": [
       "<Axes: >"
      ]
     },
     "execution_count": 132,
     "metadata": {},
     "output_type": "execute_result"
    },
    {
     "data": {
      "image/png": "[encoded data removed]",
      "text/plain": [
       "<Figure size 640x480 with 1 Axes>"
      ]
     },
     "metadata": {},
     "output_type": "display_data"
    }
   ],
   "source": [
    "loss_df[['accuracy', 'val_accuracy']].plot()\n"
   ]
  },
  {
   "cell_type": "markdown",
   "id": "405d4a34",
   "metadata": {},
   "source": [
    "### Model evaluation\n",
    "\n",
    "The model achieved an accuracy of 98.29% on the test data and 97.74% on the training data, showing consistent performance and good generalization with minimal overfitting."
   ]
  },
  {
   "cell_type": "code",
   "execution_count": 133,
   "id": "2b8d5151",
   "metadata": {},
   "outputs": [
    {
     "name": "stdout",
     "output_type": "stream",
     "text": [
      "Test data evaluation:\n"
     ]
    },
    {
     "name": "stdout",
     "output_type": "stream",
     "text": [
      "[0.06997565180063248, 0.9847618937492371]\n",
      "\n",
      "Train data evaluation:\n",
      "[0.07305649667978287, 0.9779487252235413]\n"
     ]
    }
   ],
   "source": [
    "print(\"Test data evaluation:\")\n",
    "print(model.evaluate(X_test, y_test, verbose=0))\n",
    "print(\"\\nTrain data evaluation:\")\n",
    "print(model.evaluate(X_train, y_train, verbose=0))"
   ]
  },
  {
   "cell_type": "code",
   "execution_count": 134,
   "id": "dc54b971",
   "metadata": {},
   "outputs": [
    {
     "name": "stdout",
     "output_type": "stream",
     "text": [
      "\u001b[1m17/17\u001b[0m \u001b[32m━━━━━━━━━━━━━━━━━━━━\u001b[0m\u001b[37m\u001b[0m \u001b[1m1s\u001b[0m 19ms/step\n"
     ]
    }
   ],
   "source": [
    "test_predictions = model.predict(X_test)\n",
    "test_predictions = np.argmax(test_predictions, axis=1)\n",
    "\n",
    "y_test = np.argmax(y_test, axis=1)"
   ]
  },
  {
   "cell_type": "code",
   "execution_count": 135,
   "id": "40478234",
   "metadata": {},
   "outputs": [],
   "source": [
    "categories = [\"no counterfeit\", \"counterfeit\"]\n"
   ]
  },
  {
   "cell_type": "markdown",
   "id": "3a3c3fc6",
   "metadata": {},
   "source": [
    "### Confusion matrix\n",
    "\n",
    "The confusion matrix shows that the model correctly classified 390 non-counterfeit and 126 counterfeit cases. Only 9 misclassifications occurred in total, indicating high precision and recall in detecting counterfeit transactions."
   ]
  },
  {
   "cell_type": "code",
   "execution_count": 136,
   "id": "03b69630",
   "metadata": {},
   "outputs": [
    {
     "data": {
      "text/plain": [
       "<Axes: >"
      ]
     },
     "execution_count": 136,
     "metadata": {},
     "output_type": "execute_result"
    },
    {
     "data": {
      "image/png": "[encoded data removed]",
      "text/plain": [
       "<Figure size 640x480 with 2 Axes>"
      ]
     },
     "metadata": {},
     "output_type": "display_data"
    }
   ],
   "source": [
    "sns.heatmap(confusion_matrix(y_test, test_predictions), annot=True, fmt='g', \n",
    "            xticklabels=categories, yticklabels=categories, cmap=\"Blues\")\n"
   ]
  },
  {
   "cell_type": "markdown",
   "id": "c6b2b6fa",
   "metadata": {},
   "source": [
    "### Classification report\n",
    "\n",
    "The model achieved an overall accuracy of 98.29%. Precision, recall, and F1-scores were all above 0.95 for both classes, showing strong and balanced performance in detecting counterfeit and non-counterfeit transactions."
   ]
  },
  {
   "cell_type": "code",
   "execution_count": 137,
   "id": "7a7b6ff3",
   "metadata": {},
   "outputs": [
    {
     "name": "stdout",
     "output_type": "stream",
     "text": [
      "                precision    recall  f1-score   support\n",
      "\n",
      "no counterfeit       0.99      0.98      0.99       396\n",
      "   counterfeit       0.95      0.98      0.97       129\n",
      "\n",
      "      accuracy                           0.98       525\n",
      "     macro avg       0.97      0.98      0.98       525\n",
      "  weighted avg       0.99      0.98      0.98       525\n",
      "\n",
      "\n",
      "Model overall accuracy: 98.48%\n"
     ]
    }
   ],
   "source": [
    "print(classification_report(y_test, test_predictions, target_names=categories))\n",
    "\n",
    "acc = accuracy_score(y_test, test_predictions)\n",
    "print(\"\\nModel overall accuracy: {:.2f}%\".format(acc * 100))"
   ]
  },
  {
   "cell_type": "markdown",
   "id": "d21465d2",
   "metadata": {},
   "source": [
    "### ROC-AUC score\n",
    "\n",
    "The model achieved a ROC-AUC score of 0.999, indicating an excellent ability to distinguish between counterfeit and non-counterfeit transactions."
   ]
  },
  {
   "cell_type": "code",
   "execution_count": 138,
   "id": "81f067e9",
   "metadata": {},
   "outputs": [
    {
     "name": "stdout",
     "output_type": "stream",
     "text": [
      "\u001b[1m17/17\u001b[0m \u001b[32m━━━━━━━━━━━━━━━━━━━━\u001b[0m\u001b[37m\u001b[0m \u001b[1m0s\u001b[0m 14ms/step\n",
      "ROC-AUC Score: 0.998\n"
     ]
    }
   ],
   "source": [
    "y_pred_proba = model.predict(X_test)\n",
    "\n",
    "y_pred_proba = y_pred_proba[:, 1]\n",
    "\n",
    "auc = roc_auc_score(y_test, y_pred_proba)\n",
    "print(\"ROC-AUC Score: {:.3f}\".format(auc))"
   ]
  },
  {
   "cell_type": "markdown",
   "id": "8610cd22",
   "metadata": {},
   "source": [
    "### Logistic Regression \n",
    "The Logistic Regression implementation used in this project is based on following source: https://github.com/scikit-learn/scikit-learn/blob/main/sklearn/linear_model/_logistic.py. GPT was used to assist in optimizing and simplifying the code structure. The outcomes generated with GPT-guided optimization were validated through reproducible scikit-learn methods, which confirms that the reported accuracy and ROC-AUC values are reliable and based on standard, verifiable computations."
   ]
  },
  {
   "cell_type": "code",
   "execution_count": 149,
   "id": "ce0ea3bb",
   "metadata": {},
   "outputs": [],
   "source": [
    "y_train, y_test = map(lambda y: np.argmax(y, axis=1) if y.ndim > 1 else y, [y_train, y_test])\n",
    "\n",
    "scaler = StandardScaler()\n",
    "X_train, X_test = scaler.fit_transform(X_train), scaler.transform(X_test)\n"
   ]
  },
  {
   "cell_type": "code",
   "execution_count": 150,
   "id": "7a2ff49b",
   "metadata": {},
   "outputs": [],
   "source": [
    "log_reg = LogisticRegression(max_iter=2000)\n",
    "log_reg.fit(X_train, y_train)\n",
    "\n",
    "test_pred = log_reg.predict(X_test)\n",
    "test_probs = log_reg.predict_proba(X_test)[:, 1] "
   ]
  },
  {
   "cell_type": "code",
   "execution_count": 151,
   "id": "53ae21ec",
   "metadata": {},
   "outputs": [],
   "source": [
    "acc = accuracy_score(y_test, test_pred)\n",
    "roc_auc = roc_auc_score(y_test, test_probs)"
   ]
  },
  {
   "cell_type": "code",
   "execution_count": 153,
   "id": "f71308e8",
   "metadata": {},
   "outputs": [
    {
     "name": "stdout",
     "output_type": "stream",
     "text": [
      "Model Overall Accuracy: 0.9733\n",
      "ROC-AUC: 0.9980\n",
      "\n",
      "                precision    recall  f1-score   support\n",
      "\n",
      "No Counterfeit       0.98      0.98      0.98       396\n",
      "   Counterfeit       0.95      0.94      0.95       129\n",
      "\n",
      "      accuracy                           0.97       525\n",
      "     macro avg       0.97      0.96      0.96       525\n",
      "  weighted avg       0.97      0.97      0.97       525\n",
      "\n"
     ]
    },
    {
     "data": {
      "image/png": "[encoded data removed]",
      "text/plain": [
       "<Figure size 640x480 with 2 Axes>"
      ]
     },
     "metadata": {},
     "output_type": "display_data"
    }
   ],
   "source": [
    "print(f\"Model Overall Accuracy: {acc:.4f}\")\n",
    "print(f\"ROC-AUC: {roc_auc:.4f}\\n\")\n",
    "print(classification_report(y_test, test_pred, target_names=['No Counterfeit', 'Counterfeit']))\n",
    "\n",
    "sns.heatmap(\n",
    "    confusion_matrix(y_test, test_pred),\n",
    "    annot=True, fmt='g', cmap='Blues',\n",
    "    xticklabels=['No Counterfeit', 'Counterfeit'],\n",
    "    yticklabels=['No Counterfeit', 'Counterfeit']\n",
    ")\n",
    "plt.title(\"Confusion Matrix – Logistic Regression\")\n",
    "plt.xlabel(\"Predicted\"); plt.ylabel(\"True\")\n",
    "plt.show()"
   ]
  },
  {
   "cell_type": "markdown",
   "id": "06518ac4",
   "metadata": {},
   "source": [
    "### Model Comparison: Neural Network vs. Logistic Regression\n",
    "\n",
    "The Neural Network model achieved an overall accuracy of 98.48% and a ROC-AUC score of 0.998, demonstrating excellent capability in capturing complex, non-linear relationships within the data.\n",
    "\n",
    "The Logistic Regression model reached a slightly lower accuracy of 97.33% and a ROC-AUC score of 0.998. Despite its simpler linear structure, it performed nearly as well as the neural network, indicating that the dataset is highly separable and the underlying patterns are mostly linear.\n",
    "\n",
    "Overall, both models produced almost identical results."
   ]
  },
  {
   "cell_type": "code",
   "execution_count": null,
   "id": "d3ec8f74",
   "metadata": {},
   "outputs": [
    {
     "data": {
      "text/plain": [
       "Index(['customer_age', 'quantity', 'unit_price', 'total_amount',\n",
       "       'customer_history_orders', 'discount_applied', 'discount_percentage',\n",
       "       'shipping_cost', 'delivery_time_days', 'refund_requested',\n",
       "       'velocity_flag', 'geolocation_mismatch', 'device_fingerprint_new',\n",
       "       'Quarter_1', 'Quarter_2', 'Quarter_3', 'Quarter_4', 'South America',\n",
       "       'North America', 'Europe', 'Asia', 'Oceania', 'payment_PayPal',\n",
       "       'payment_Credit_Card', 'other_payment_method', 'shipping_Standard',\n",
       "       'shipping_Express', 'other_shipping_speed'],\n",
       "      dtype='object')"
      ]
     },
     "execution_count": 110,
     "metadata": {},
     "output_type": "execute_result"
    }
   ],
   "source": [
    "X.columns"
   ]
  },
  {
   "cell_type": "code",
   "execution_count": null,
   "id": "44f68a90",
   "metadata": {},
   "outputs": [
    {
     "name": "stdout",
     "output_type": "stream",
     "text": [
      "\u001b[1m1/1\u001b[0m \u001b[32m━━━━━━━━━━━━━━━━━━━━\u001b[0m\u001b[37m\u001b[0m \u001b[1m0s\u001b[0m 123ms/step\n",
      "Predicted class: Counterfeit\n",
      "Probability for Counterfeit: 0.8728\n",
      "Probability for No Counterfeit: 0.1272\n"
     ]
    }
   ],
   "source": [
    "tester_row = {\n",
    "    \"quantity\": 2,\n",
    "    \"total_amount\": 150.0,\n",
    "    \"shipping_cost\": 10.0,\n",
    "    \"delivery_time_days\": 3,\n",
    "    \"discount_percentage\": 5.0,\n",
    "    \"customer_age\": 34,\n",
    "    \"customer_history_orders\": 10,\n",
    "    \"unit_price\": 50.0,\n",
    "    \"refund_requested\": 0,\n",
    "    \"velocity_flag\": 0,\n",
    "    \"geolocation_mismatch\": 0,\n",
    "    \"device_fingerprint_new\": 0,\n",
    "    \"discount_applied\": 1,\n",
    "    \"Quarter_1\": 0,\n",
    "    \"Quarter_2\": 1,\n",
    "    \"Quarter_3\": 0,\n",
    "    \"Quarter_4\": 0,\n",
    "    \"North America\": 1,\n",
    "    \"South America\": 0,\n",
    "    \"Europe\": 0,\n",
    "    \"Asia\": 0,\n",
    "    \"Oceania\": 0,\n",
    "    \"payment_Credit_Card\": 1,\n",
    "    \"payment_PayPal\": 0,\n",
    "    \"other_payment_method\": 0,\n",
    "    \"shipping_Standard\": 1,\n",
    "    \"shipping_Express\": 0,\n",
    "    \"other_shipping_speed\": 0\n",
    "}\n",
    "\n",
    "tester_row = pd.DataFrame([tester_row])\n",
    "tester_row = tester_row.reindex(columns=X.columns, fill_value=0)\n",
    "\n",
    "prob = model.predict(tester_row)[0][0]\n",
    "\n",
    "threshold = 0.5\n",
    "prediction = \"Counterfeit\" if prob >= threshold else \"No Counterfeit\"\n",
    "\n",
    "print(f\"Predicted class: {prediction}\")\n",
    "print(f\"Probability for Counterfeit: {prob:.4f}\")\n",
    "print(f\"Probability for No Counterfeit: {1 - prob:.4f}\")\n"
   ]
  },
  {
   "cell_type": "markdown",
   "id": "6d2f53c5",
   "metadata": {},
   "source": [
    "### Counterfeit Transaction Prediction GUI\n",
    "\n",
    "For demonstration purposes, a simple GUI was implemented using Tkinter. The interface allows the user to input feature values (with default examples provided) and receive a predicted counterfeit expectancy directly from the trained model.\n",
    "\n",
    "This GUI code was generated entirely by GPT, since I had never used Tkinter before and wanted a quick and simple way to build an interface for testing predictions. The correctness was ensured by checking that all model input features are represented in the GUI and that the prediction output matches the expected format."
   ]
  },
  {
   "cell_type": "code",
   "execution_count": null,
   "id": "ed83576b",
   "metadata": {},
   "outputs": [],
   "source": [
    "\n",
    "model = load_model(\"best_model_counterfeit.keras\")\n",
    "\n",
    "default_values = {\n",
    "    \"quantity\": 2,\n",
    "    \"total_amount\": 150.0,\n",
    "    \"shipping_cost\": 10.0,\n",
    "    \"delivery_time_days\": 3,\n",
    "    \"discount_percentage\": 5.0,\n",
    "    \"customer_age\": 34,\n",
    "    \"customer_history_orders\": 10,\n",
    "    \"unit_price\": 50.0,\n",
    "    \"refund_requested\": 0,\n",
    "    \"velocity_flag\": 0,\n",
    "    \"geolocation_mismatch\": 0,\n",
    "    \"device_fingerprint_new\": 0,\n",
    "    \"discount_applied\": 1,\n",
    "    \"Quarter_1\": 0,\n",
    "    \"Quarter_2\": 1,\n",
    "    \"Quarter_3\": 0,\n",
    "    \"Quarter_4\": 0,\n",
    "    \"North America\": 1,\n",
    "    \"South America\": 0,\n",
    "    \"Europe\": 0,\n",
    "    \"Asia\": 0,\n",
    "    \"Oceania\": 0,\n",
    "    \"payment_Credit_Card\": 1,\n",
    "    \"payment_PayPal\": 0,\n",
    "    \"other_payment_method\": 0,\n",
    "    \"shipping_Standard\": 1,\n",
    "    \"shipping_Express\": 0,\n",
    "    \"other_shipping_speed\": 0\n",
    "}\n",
    "\n",
    "entries = {}\n",
    "\n",
    "def predict():\n",
    "    try:\n",
    "        data = {f: float(entries[f].get()) for f in default_values.keys()}\n",
    "        df = pd.DataFrame([data])\n",
    "        pred = model.predict(df, verbose=0)[0][0]\n",
    "        result_label.config(text=f\"Predicted Life Expectancy: {pred:.2f} years\")\n",
    "    except Exception as e:\n",
    "        messagebox.showerror(\"Error\", str(e))\n",
    "\n",
    "root = tk.Tk()\n",
    "root.title(\"Life Expectancy Predictor\")\n",
    "\n",
    "for f, example in default_values.items():\n",
    "    row = tk.Frame(root)\n",
    "    lab = tk.Label(row, width=25, text=f+\": \", anchor=\"w\")\n",
    "    ent = tk.Entry(row)\n",
    "    ent.insert(0, str(example))  \n",
    "    hint = tk.Label(row, width=15, text=f\"(e.g. {example})\", anchor=\"w\", fg=\"grey\")\n",
    "    \n",
    "    row.pack(side=tk.TOP, fill=tk.X, padx=5, pady=2)\n",
    "    lab.pack(side=tk.LEFT)\n",
    "    ent.pack(side=tk.LEFT, expand=tk.YES, fill=tk.X)\n",
    "    hint.pack(side=tk.RIGHT)\n",
    "    \n",
    "    entries[f] = ent\n",
    "\n",
    "predict_button = tk.Button(root, text=\"Predict\", command=predict)\n",
    "predict_button.pack(pady=10)\n",
    "\n",
    "result_label = tk.Label(root, text=\"Prediction will appear here\", font=(\"Helvetica\", 12))\n",
    "result_label.pack(pady=10)\n",
    "\n",
    "root.mainloop()\n"
   ]
  }
 ],
 "metadata": {
  "kernelspec": {
   "display_name": "Python 3",
   "language": "python",
   "name": "python3"
  },
  "language_info": {
   "codemirror_mode": {
    "name": "ipython",
    "version": 3
   },
   "file_extension": ".py",
   "mimetype": "text/x-python",
   "name": "python",
   "nbconvert_exporter": "python",
   "pygments_lexer": "ipython3",
   "version": "3.12.10"
  }
 },
 "nbformat": 4,
 "nbformat_minor": 5
}
