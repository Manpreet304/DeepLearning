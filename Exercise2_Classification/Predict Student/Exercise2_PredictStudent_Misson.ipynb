{
 "cells": [
  {
   "cell_type": "markdown",
   "id": "544e12f1",
   "metadata": {},
   "source": [
    "### Information\n",
    "Chat GPT was used in some parts of the notebook, but this was explicitly mentioned in the relevant sections. In addition, the documentation was further optimised with the help of AI."
   ]
  },
  {
   "cell_type": "markdown",
   "id": "f35502d2",
   "metadata": {},
   "source": [
    "### Importing Libraries\n",
    "This part imports all essential libraries for data analysis, visualization, preprocessing, and model training. Pandas and NumPy are used for data manipulation, Matplotlib and Seaborn for visualization, Scikit-learn for data preprocessing and evaluation, and TensorFlow with Keras for building and training neural networks."
   ]
  },
  {
   "cell_type": "code",
   "execution_count": null,
   "id": "6587ef34",
   "metadata": {},
   "outputs": [],
   "source": [
    "import pandas as pd\n",
    "import numpy as np\n",
    "import matplotlib.pyplot as plt\n",
    "import seaborn as sns\n",
    "\n",
    "from sklearn.model_selection import train_test_split\n",
    "from sklearn.linear_model import LogisticRegression\n",
    "from sklearn.preprocessing import StandardScaler\n",
    "from sklearn.preprocessing import LabelEncoder\n",
    "from sklearn.feature_selection import SelectKBest, chi2\n",
    "from sklearn.metrics import classification_report\n",
    "from sklearn.metrics import confusion_matrix\n",
    "from sklearn.metrics import accuracy_score\n",
    "from sklearn.metrics import roc_auc_score\n",
    "\n",
    "import tensorflow as tf\n",
    "import tkinter as tk\n",
    "from tkinter import messagebox\n",
    "\n",
    "import keras\n",
    "from keras import layers\n",
    "from keras.models import load_model\n",
    "from keras.callbacks import ModelCheckpoint, EarlyStopping, ReduceLROnPlateau"
   ]
  },
  {
   "cell_type": "markdown",
   "id": "ef28182d",
   "metadata": {},
   "source": [
    "### Loading the Dataset\n",
    "The dataset is loaded from a CSV file named data.csv using pandas. The semicolon is specified as the separator since the file uses “;” instead of a comma to separate values."
   ]
  },
  {
   "cell_type": "code",
   "execution_count": 3,
   "id": "78429bad",
   "metadata": {},
   "outputs": [],
   "source": [
    "df = pd.read_csv(\"data.csv\", sep=\";\")"
   ]
  },
  {
   "cell_type": "code",
   "execution_count": 4,
   "id": "43174033",
   "metadata": {},
   "outputs": [
    {
     "data": {
      "text/html": [
       "<div>\n",
       "<style scoped>\n",
       "    .dataframe tbody tr th:only-of-type {\n",
       "        vertical-align: middle;\n",
       "    }\n",
       "\n",
       "    .dataframe tbody tr th {\n",
       "        vertical-align: top;\n",
       "    }\n",
       "\n",
       "    .dataframe thead th {\n",
       "        text-align: right;\n",
       "    }\n",
       "</style>\n",
       "<table border=\"1\" class=\"dataframe\">\n",
       "  <thead>\n",
       "    <tr style=\"text-align: right;\">\n",
       "      <th></th>\n",
       "      <th>Marital status</th>\n",
       "      <th>Application mode</th>\n",
       "      <th>Application order</th>\n",
       "      <th>Course</th>\n",
       "      <th>Daytime/evening attendance\\t</th>\n",
       "      <th>Previous qualification</th>\n",
       "      <th>Previous qualification (grade)</th>\n",
       "      <th>Nacionality</th>\n",
       "      <th>Mother's qualification</th>\n",
       "      <th>Father's qualification</th>\n",
       "      <th>...</th>\n",
       "      <th>Curricular units 2nd sem (credited)</th>\n",
       "      <th>Curricular units 2nd sem (enrolled)</th>\n",
       "      <th>Curricular units 2nd sem (evaluations)</th>\n",
       "      <th>Curricular units 2nd sem (approved)</th>\n",
       "      <th>Curricular units 2nd sem (grade)</th>\n",
       "      <th>Curricular units 2nd sem (without evaluations)</th>\n",
       "      <th>Unemployment rate</th>\n",
       "      <th>Inflation rate</th>\n",
       "      <th>GDP</th>\n",
       "      <th>Target</th>\n",
       "    </tr>\n",
       "  </thead>\n",
       "  <tbody>\n",
       "    <tr>\n",
       "      <th>0</th>\n",
       "      <td>1</td>\n",
       "      <td>17</td>\n",
       "      <td>5</td>\n",
       "      <td>171</td>\n",
       "      <td>1</td>\n",
       "      <td>1</td>\n",
       "      <td>122.0</td>\n",
       "      <td>1</td>\n",
       "      <td>19</td>\n",
       "      <td>12</td>\n",
       "      <td>...</td>\n",
       "      <td>0</td>\n",
       "      <td>0</td>\n",
       "      <td>0</td>\n",
       "      <td>0</td>\n",
       "      <td>0.000000</td>\n",
       "      <td>0</td>\n",
       "      <td>10.8</td>\n",
       "      <td>1.4</td>\n",
       "      <td>1.74</td>\n",
       "      <td>Dropout</td>\n",
       "    </tr>\n",
       "    <tr>\n",
       "      <th>1</th>\n",
       "      <td>1</td>\n",
       "      <td>15</td>\n",
       "      <td>1</td>\n",
       "      <td>9254</td>\n",
       "      <td>1</td>\n",
       "      <td>1</td>\n",
       "      <td>160.0</td>\n",
       "      <td>1</td>\n",
       "      <td>1</td>\n",
       "      <td>3</td>\n",
       "      <td>...</td>\n",
       "      <td>0</td>\n",
       "      <td>6</td>\n",
       "      <td>6</td>\n",
       "      <td>6</td>\n",
       "      <td>13.666667</td>\n",
       "      <td>0</td>\n",
       "      <td>13.9</td>\n",
       "      <td>-0.3</td>\n",
       "      <td>0.79</td>\n",
       "      <td>Graduate</td>\n",
       "    </tr>\n",
       "    <tr>\n",
       "      <th>2</th>\n",
       "      <td>1</td>\n",
       "      <td>1</td>\n",
       "      <td>5</td>\n",
       "      <td>9070</td>\n",
       "      <td>1</td>\n",
       "      <td>1</td>\n",
       "      <td>122.0</td>\n",
       "      <td>1</td>\n",
       "      <td>37</td>\n",
       "      <td>37</td>\n",
       "      <td>...</td>\n",
       "      <td>0</td>\n",
       "      <td>6</td>\n",
       "      <td>0</td>\n",
       "      <td>0</td>\n",
       "      <td>0.000000</td>\n",
       "      <td>0</td>\n",
       "      <td>10.8</td>\n",
       "      <td>1.4</td>\n",
       "      <td>1.74</td>\n",
       "      <td>Dropout</td>\n",
       "    </tr>\n",
       "    <tr>\n",
       "      <th>3</th>\n",
       "      <td>1</td>\n",
       "      <td>17</td>\n",
       "      <td>2</td>\n",
       "      <td>9773</td>\n",
       "      <td>1</td>\n",
       "      <td>1</td>\n",
       "      <td>122.0</td>\n",
       "      <td>1</td>\n",
       "      <td>38</td>\n",
       "      <td>37</td>\n",
       "      <td>...</td>\n",
       "      <td>0</td>\n",
       "      <td>6</td>\n",
       "      <td>10</td>\n",
       "      <td>5</td>\n",
       "      <td>12.400000</td>\n",
       "      <td>0</td>\n",
       "      <td>9.4</td>\n",
       "      <td>-0.8</td>\n",
       "      <td>-3.12</td>\n",
       "      <td>Graduate</td>\n",
       "    </tr>\n",
       "    <tr>\n",
       "      <th>4</th>\n",
       "      <td>2</td>\n",
       "      <td>39</td>\n",
       "      <td>1</td>\n",
       "      <td>8014</td>\n",
       "      <td>0</td>\n",
       "      <td>1</td>\n",
       "      <td>100.0</td>\n",
       "      <td>1</td>\n",
       "      <td>37</td>\n",
       "      <td>38</td>\n",
       "      <td>...</td>\n",
       "      <td>0</td>\n",
       "      <td>6</td>\n",
       "      <td>6</td>\n",
       "      <td>6</td>\n",
       "      <td>13.000000</td>\n",
       "      <td>0</td>\n",
       "      <td>13.9</td>\n",
       "      <td>-0.3</td>\n",
       "      <td>0.79</td>\n",
       "      <td>Graduate</td>\n",
       "    </tr>\n",
       "  </tbody>\n",
       "</table>\n",
       "<p>5 rows × 37 columns</p>\n",
       "</div>"
      ],
      "text/plain": [
       "   Marital status  Application mode  Application order  Course  \\\n",
       "0               1                17                  5     171   \n",
       "1               1                15                  1    9254   \n",
       "2               1                 1                  5    9070   \n",
       "3               1                17                  2    9773   \n",
       "4               2                39                  1    8014   \n",
       "\n",
       "   Daytime/evening attendance\\t  Previous qualification  \\\n",
       "0                             1                       1   \n",
       "1                             1                       1   \n",
       "2                             1                       1   \n",
       "3                             1                       1   \n",
       "4                             0                       1   \n",
       "\n",
       "   Previous qualification (grade)  Nacionality  Mother's qualification  \\\n",
       "0                           122.0            1                      19   \n",
       "1                           160.0            1                       1   \n",
       "2                           122.0            1                      37   \n",
       "3                           122.0            1                      38   \n",
       "4                           100.0            1                      37   \n",
       "\n",
       "   Father's qualification  ...  Curricular units 2nd sem (credited)  \\\n",
       "0                      12  ...                                    0   \n",
       "1                       3  ...                                    0   \n",
       "2                      37  ...                                    0   \n",
       "3                      37  ...                                    0   \n",
       "4                      38  ...                                    0   \n",
       "\n",
       "   Curricular units 2nd sem (enrolled)  \\\n",
       "0                                    0   \n",
       "1                                    6   \n",
       "2                                    6   \n",
       "3                                    6   \n",
       "4                                    6   \n",
       "\n",
       "   Curricular units 2nd sem (evaluations)  \\\n",
       "0                                       0   \n",
       "1                                       6   \n",
       "2                                       0   \n",
       "3                                      10   \n",
       "4                                       6   \n",
       "\n",
       "   Curricular units 2nd sem (approved)  Curricular units 2nd sem (grade)  \\\n",
       "0                                    0                          0.000000   \n",
       "1                                    6                         13.666667   \n",
       "2                                    0                          0.000000   \n",
       "3                                    5                         12.400000   \n",
       "4                                    6                         13.000000   \n",
       "\n",
       "   Curricular units 2nd sem (without evaluations)  Unemployment rate  \\\n",
       "0                                               0               10.8   \n",
       "1                                               0               13.9   \n",
       "2                                               0               10.8   \n",
       "3                                               0                9.4   \n",
       "4                                               0               13.9   \n",
       "\n",
       "   Inflation rate   GDP    Target  \n",
       "0             1.4  1.74   Dropout  \n",
       "1            -0.3  0.79  Graduate  \n",
       "2             1.4  1.74   Dropout  \n",
       "3            -0.8 -3.12  Graduate  \n",
       "4            -0.3  0.79  Graduate  \n",
       "\n",
       "[5 rows x 37 columns]"
      ]
     },
     "execution_count": 4,
     "metadata": {},
     "output_type": "execute_result"
    }
   ],
   "source": [
    "df.head()"
   ]
  },
  {
   "cell_type": "markdown",
   "id": "875471dd",
   "metadata": {},
   "source": [
    "### Data preprocessing\n",
    "In this section, the dataset is prepared and cleaned for model training. All data undergo the same preprocessing steps to ensure consistency. GPT was used only to suggest possible mapping strategies for creating new columns, and only the descriptions of the data values (e.g., what the numbers like 1, 2, or 3 represent) were provided so that meaningful columns could be created. No actual data was shared with the AI. The reference code for the data mapping logic was adapted from the following source: https://stackoverflow.com/questions/19913659/how-do-i-create-a-new-column-where-the-values-are-selected-based-on-an-existing"
   ]
  },
  {
   "cell_type": "markdown",
   "id": "3a8ec646",
   "metadata": {},
   "source": [
    "The Marital status column is converted into three new binary columns, single, partnered, and previously_partnered, to simplify categorical data. The original column is then removed."
   ]
  },
  {
   "cell_type": "code",
   "execution_count": 5,
   "id": "81c8a4cf",
   "metadata": {},
   "outputs": [],
   "source": [
    "df[\"single\"] = (df[\"Marital status\"] == 1).astype(int)\n",
    "df[\"partnered\"] = df[\"Marital status\"].isin([2, 5]).astype(int)\n",
    "df[\"prev_partnered\"] = df[\"Marital status\"].isin([3, 4, 6]).astype(int)\n",
    "df = df.drop(columns=[\"Marital status\"])"
   ]
  },
  {
   "cell_type": "markdown",
   "id": "cccf8134",
   "metadata": {},
   "source": [
    "The Application mode column is mapped into three new binary columns, admission_general, admission_transfer, and admission_special/international. to group different admission types into broader categories. The original column is then removed."
   ]
  },
  {
   "cell_type": "code",
   "execution_count": 6,
   "id": "a89825a9",
   "metadata": {},
   "outputs": [],
   "source": [
    "df[\"admission_general\"] = df[\"Application mode\"].isin([1, 17, 18]).astype(int)\n",
    "df[\"admission_transfer\"] = df[\"Application mode\"].isin([42, 43, 44, 51, 53, 57]).astype(int)\n",
    "df[\"admission_special/international\"] = df[\"Application mode\"].isin([2, 5, 7, 10, 15, 16, 26, 27, 39]).astype(int)\n",
    "df = df.drop(columns=[\"Application mode\"])"
   ]
  },
  {
   "cell_type": "markdown",
   "id": "ea93bcf7",
   "metadata": {},
   "source": [
    "The Application order column is transformed into a binary column called high_priority, indicating whether the application was among the top three choices. The original column is then removed."
   ]
  },
  {
   "cell_type": "code",
   "execution_count": 7,
   "id": "094f54bf",
   "metadata": {},
   "outputs": [],
   "source": [
    "df[\"high_priority\"] = (df[\"Application order\"] <= 3).astype(int)\n",
    "df = df.drop(columns=[\"Application order\"])"
   ]
  },
  {
   "cell_type": "markdown",
   "id": "90bc0f5c",
   "metadata": {},
   "source": [
    "The Course column is mapped into three new binary columns, studyfield_stem, studyfield_business_social, and studyfield_arts&comm, to group study programs into broader academic categories. The original column is then removed."
   ]
  },
  {
   "cell_type": "code",
   "execution_count": 8,
   "id": "110e48da",
   "metadata": {},
   "outputs": [],
   "source": [
    "df[\"studyfield_stem\"] = df[\"Course\"].isin([33, 9119, 9085]).astype(int)\n",
    "df[\"studyfield_business_social\"] = df[\"Course\"].isin([9147, 9991, 9670, 9254, 8014, 9238, 9853]).astype(int)\n",
    "df[\"studyfield_arts&comm\"] = df[\"Course\"].isin([171, 9070, 9773, 9130, 9500, 9556]).astype(int)\n",
    "df = df.drop(columns=[\"Course\"])"
   ]
  },
  {
   "cell_type": "markdown",
   "id": "8ead8650",
   "metadata": {},
   "source": [
    "The Daytime/evening attendance column is renamed to is_daytime to simplify interpretation of study attendance type. The original column is then removed."
   ]
  },
  {
   "cell_type": "code",
   "execution_count": 9,
   "id": "6b4ad6b1",
   "metadata": {},
   "outputs": [],
   "source": [
    "df[\"is_daytime\"] = df[\"Daytime/evening attendance\\t\"]\n",
    "df = df.drop(columns=[\"Daytime/evening attendance\\t\"])"
   ]
  },
  {
   "cell_type": "markdown",
   "id": "db182029",
   "metadata": {},
   "source": [
    "The Previous qualification column is mapped into three new binary columns, prevqual_basic, prevqual_secondary, and prevqual_higher, to categorize students by their highest level of prior education. The original column is then removed."
   ]
  },
  {
   "cell_type": "code",
   "execution_count": 10,
   "id": "fe9a403f",
   "metadata": {},
   "outputs": [],
   "source": [
    "df[\"prevqual_basic\"] = df[\"Previous qualification\"].isin([9, 10, 12, 14, 15, 19, 38]).astype(int)\n",
    "df[\"prevqual_secondary\"] = df[\"Previous qualification\"].isin([1, 39]).astype(int)\n",
    "df[\"prevqual_higher\"] = df[\"Previous qualification\"].isin([2, 3, 4, 5, 6, 40, 42, 43]).astype(int)\n",
    "df = df.drop(columns=[\"Previous qualification\"])"
   ]
  },
  {
   "cell_type": "markdown",
   "id": "6e23a57e",
   "metadata": {},
   "source": [
    "The Nacionality column is mapped into five new binary columns, nationality_europe, nationality_africa, nationality_south_america, nationality_north_america, and nationality_asia, to group students by their continent of origin. The original column is then removed."
   ]
  },
  {
   "cell_type": "code",
   "execution_count": 11,
   "id": "950ef866",
   "metadata": {},
   "outputs": [],
   "source": [
    "df[\"nationality_europe\"] = df[\"Nacionality\"].isin([1, 2, 6, 11, 13, 14, 17, 62, 100, 103, 105]).astype(int)\n",
    "df[\"nationality_africa\"] = df[\"Nacionality\"].isin([21, 22, 24, 25, 26]).astype(int)\n",
    "df[\"nationality_south_america\"] = df[\"Nacionality\"].isin([41, 109]).astype(int)\n",
    "df[\"nationality_north_america\"] = df[\"Nacionality\"].isin([101, 108]).astype(int)\n",
    "df[\"nationality_asia\"] = df[\"Nacionality\"].isin([32]).astype(int)\n",
    "\n",
    "df = df.drop(columns=[\"Nacionality\"])"
   ]
  },
  {
   "cell_type": "markdown",
   "id": "330457cc",
   "metadata": {},
   "source": [
    "The Mother's qualification column is mapped into three new binary columns, mother_qualification_basic, mother_qualification_secondary, and mother_qualification_higher, to classify the mother's highest education level. The original column is then removed."
   ]
  },
  {
   "cell_type": "code",
   "execution_count": 12,
   "id": "a50a5803",
   "metadata": {},
   "outputs": [],
   "source": [
    "df[\"mother_qualification_basic\"] = df[\"Mother's qualification\"].isin([9, 10, 11, 12, 14, 18, 19, 22, 26, 27, 29, 30, 35, 36, 37, 38]).astype(int)\n",
    "df[\"mother_qualification_secondary\"] = df[\"Mother's qualification\"].isin([1, 39]).astype(int)\n",
    "df[\"mother_qualification_higher\"] = df[\"Mother's qualification\"].isin([2, 3, 4, 5, 6, 40, 41, 42, 43, 44]).astype(int)\n",
    "df = df.drop(columns=[\"Mother's qualification\"])"
   ]
  },
  {
   "cell_type": "markdown",
   "id": "068843fd",
   "metadata": {},
   "source": [
    "The Father's qualification column is mapped into three new binary columns, father_qualification_basic, father_qualification_secondary, and father_qualification_higher, to categorize the father's highest level of education. The original column is then removed"
   ]
  },
  {
   "cell_type": "code",
   "execution_count": 13,
   "id": "c6498aae",
   "metadata": {},
   "outputs": [],
   "source": [
    "df[\"father_qualification_basic\"] = df[\"Father's qualification\"].isin([9, 10, 11, 12, 13, 14, 18, 19, 20, 22, 25, 26, 27, 29, 30, 31, 33, 35, 36, 37, 38]).astype(int)\n",
    "df[\"father_qualification_secondary\"] = df[\"Father's qualification\"].isin([1, 39]).astype(int)\n",
    "df[\"father_qualification_higher\"] = df[\"Father's qualification\"].isin([2, 3, 4, 5, 6, 40, 41, 42, 43, 44]).astype(int)\n",
    "df = df.drop(columns=[\"Father's qualification\"])"
   ]
  },
  {
   "cell_type": "markdown",
   "id": "55d142df",
   "metadata": {},
   "source": [
    "The Mother's occupation column is mapped into four new binary columns, mother_occ_academic, mother_occ_technical_admin, mother_occ_service_manual, and mother_occ_unskilled_other, to group occupations by type and skill level. The original column is then removed."
   ]
  },
  {
   "cell_type": "code",
   "execution_count": 14,
   "id": "e590660e",
   "metadata": {},
   "outputs": [],
   "source": [
    "df[\"mother_occ_academic\"] = df[\"Mother's occupation\"].isin([1, 2, 122, 123, 125]).astype(int)\n",
    "df[\"mother_occ_technical_admin\"] = df[\"Mother's occupation\"].isin([3, 4, 131, 132, 134, 141, 143, 144]).astype(int)\n",
    "df[\"mother_occ_service_manual\"] = df[\"Mother's occupation\"].isin([5, 6, 7, 8, 151, 152, 153, 171, 173, 175, 194]).astype(int)\n",
    "df[\"mother_occ_unskilled_other\"] = df[\"Mother's occupation\"].isin([0, 9, 10, 90, 99, 191, 192, 193]).astype(int)\n",
    "df = df.drop(columns=[\"Mother's occupation\"])\n"
   ]
  },
  {
   "cell_type": "markdown",
   "id": "e5e2b970",
   "metadata": {},
   "source": [
    "The Father's occupation column is mapped into four new binary columns, father_occ_academic, father_occ_technical_admin, father_occ_service_manual, and father_occ_unskilled_other, to categorize occupations by type and skill level. The original column is then removed."
   ]
  },
  {
   "cell_type": "code",
   "execution_count": 15,
   "id": "6b8a7636",
   "metadata": {},
   "outputs": [],
   "source": [
    "df[\"father_occ_academic\"] = df[\"Father's occupation\"].isin([1, 2, 101, 102, 103, 112, 114, 121, 122, 123, 124, 135]).astype(int)\n",
    "df[\"father_occ_technical_admin\"] = df[\"Father's occupation\"].isin([3, 4, 131, 132, 134, 141, 143, 144]).astype(int)\n",
    "df[\"father_occ_service_manual\"] = df[\"Father's occupation\"].isin([5, 6, 7, 8, 151, 152, 153, 154, 161, 163, 171, 172, 174, 175, 181, 182, 183, 194, 195]).astype(int)\n",
    "df[\"father_occ_unskilled_other\"] = df[\"Father's occupation\"].isin([0, 9, 10, 90, 99, 192, 193]).astype(int)\n",
    "df = df.drop(columns=[\"Father's occupation\"])"
   ]
  },
  {
   "cell_type": "markdown",
   "id": "44bbd31b",
   "metadata": {},
   "source": [
    "A new column, avg_grade, is created by calculating the average of the grades from the first and second semesters. This provides a single metric representing each student’s overall academic performance."
   ]
  },
  {
   "cell_type": "code",
   "execution_count": 16,
   "id": "146d54e7",
   "metadata": {},
   "outputs": [],
   "source": [
    "df[\"avg_grade\"] = ((df[\"Curricular units 1st sem (grade)\"] + df[\"Curricular units 2nd sem (grade)\"]) / 2)"
   ]
  },
  {
   "cell_type": "markdown",
   "id": "f357a8ab",
   "metadata": {},
   "source": [
    "The success_rate column is created by dividing the total number of approved curricular units by the total number of enrolled units across both semesters, rounded to two decimal places. This represents each student’s academic success ratio."
   ]
  },
  {
   "cell_type": "code",
   "execution_count": 17,
   "id": "14fdc355",
   "metadata": {},
   "outputs": [],
   "source": [
    "df[\"success_rate\"] = (((df[\"Curricular units 1st sem (approved)\"] + df[\"Curricular units 2nd sem (approved)\"]) /(df[\"Curricular units 1st sem (enrolled)\"] + df[\"Curricular units 2nd sem (enrolled)\"])).round(2))"
   ]
  },
  {
   "cell_type": "markdown",
   "id": "6541f865",
   "metadata": {},
   "source": [
    "The total_enrolled column is created by summing the number of curricular units a student was enrolled in during the first and second semesters, providing the total course load for the academic year."
   ]
  },
  {
   "cell_type": "code",
   "execution_count": 18,
   "id": "813fb712",
   "metadata": {},
   "outputs": [],
   "source": [
    "\n",
    "df[\"total_enrolled\"] = (df[\"Curricular units 1st sem (enrolled)\"] + df[\"Curricular units 2nd sem (enrolled)\"])"
   ]
  },
  {
   "cell_type": "markdown",
   "id": "66779c11",
   "metadata": {},
   "source": [
    "The no_evaluation_total column is created by adding the number of curricular units without evaluations from both semesters, indicating how many enrolled courses were not assessed overall."
   ]
  },
  {
   "cell_type": "code",
   "execution_count": 19,
   "id": "f515b5cf",
   "metadata": {},
   "outputs": [],
   "source": [
    "\n",
    "df[\"no_evaluation_total\"] = (df[\"Curricular units 1st sem (without evaluations)\"] + df[\"Curricular units 2nd sem (without evaluations)\"])"
   ]
  },
  {
   "cell_type": "markdown",
   "id": "1d0e5520",
   "metadata": {},
   "source": [
    "After deriving summary features such as avg_grade, success_rate, total_enrolled, and no_evaluation_total, all original semester-specific columns are removed to simplify the dataset and avoid redundancy."
   ]
  },
  {
   "cell_type": "code",
   "execution_count": 20,
   "id": "16e14386",
   "metadata": {},
   "outputs": [],
   "source": [
    "df = df.drop(columns=[\n",
    "    \"Curricular units 1st sem (credited)\",\n",
    "    \"Curricular units 1st sem (enrolled)\",\n",
    "    \"Curricular units 1st sem (evaluations)\",\n",
    "    \"Curricular units 1st sem (approved)\",\n",
    "    \"Curricular units 1st sem (without evaluations)\",\n",
    "    \"Curricular units 2nd sem (credited)\",\n",
    "    \"Curricular units 2nd sem (enrolled)\",\n",
    "    \"Curricular units 2nd sem (evaluations)\",\n",
    "    \"Curricular units 2nd sem (approved)\",\n",
    "    \"Curricular units 2nd sem (without evaluations)\",\n",
    "    \"Curricular units 1st sem (grade)\",\n",
    "    \"Curricular units 2nd sem (grade)\"\n",
    "])"
   ]
  },
  {
   "cell_type": "markdown",
   "id": "d3328313",
   "metadata": {},
   "source": [
    "### Target Variable Encoding\n",
    "The Target column is converted into a numerical column called prediction, where categorical outcomes are mapped as follows: Dropout = 0, Enrolled = 1, and Graduate = 2. The original Target column is then removed."
   ]
  },
  {
   "cell_type": "code",
   "execution_count": 21,
   "id": "48ba3a7c",
   "metadata": {},
   "outputs": [
    {
     "name": "stderr",
     "output_type": "stream",
     "text": [
      "C:\\Users\\Mani\\AppData\\Local\\Temp\\ipykernel_4636\\4092551096.py:1: FutureWarning: Downcasting behavior in `replace` is deprecated and will be removed in a future version. To retain the old behavior, explicitly call `result.infer_objects(copy=False)`. To opt-in to the future behavior, set `pd.set_option('future.no_silent_downcasting', True)`\n",
      "  df['prediction'] = df['Target'].replace({\n"
     ]
    }
   ],
   "source": [
    "df['prediction'] = df['Target'].replace({\n",
    "    'Dropout': 0,\n",
    "    'Enrolled': 1,\n",
    "    'Graduate': 2\n",
    "})\n",
    "df = df.drop(columns=['Target'])"
   ]
  },
  {
   "cell_type": "markdown",
   "id": "50ea3933",
   "metadata": {},
   "source": [
    "### Target Distribution Check\n",
    "\n",
    "This command displays the frequency of each class within the prediction column, allowing verification of how many students belong to each outcome category (Dropout, Enrolled, Graduate)."
   ]
  },
  {
   "cell_type": "code",
   "execution_count": 22,
   "id": "3082d0b7",
   "metadata": {},
   "outputs": [
    {
     "data": {
      "text/plain": [
       "prediction\n",
       "2    2209\n",
       "0    1421\n",
       "1     794\n",
       "Name: count, dtype: int64"
      ]
     },
     "execution_count": 22,
     "metadata": {},
     "output_type": "execute_result"
    }
   ],
   "source": [
    "df['prediction'].value_counts()"
   ]
  },
  {
   "cell_type": "markdown",
   "id": "e7d819e9",
   "metadata": {},
   "source": [
    "### Missing Values Check\n",
    "\n",
    "All numerical columns, except involves_counterfeit, are selected to check for missing values. The code prints the number of missing entries per column and the total number of missing values across the dataset, helping identify data completeness issues before model training."
   ]
  },
  {
   "cell_type": "code",
   "execution_count": 23,
   "id": "21d15b45",
   "metadata": {},
   "outputs": [
    {
     "name": "stdout",
     "output_type": "stream",
     "text": [
      "Admission grade                      0\n",
      "Age at enrollment                    0\n",
      "Debtor                               0\n",
      "Displaced                            0\n",
      "Educational special needs            0\n",
      "GDP                                  0\n",
      "Gender                               0\n",
      "Inflation rate                       0\n",
      "International                        0\n",
      "Previous qualification (grade)       0\n",
      "Scholarship holder                   0\n",
      "Tuition fees up to date              0\n",
      "Unemployment rate                    0\n",
      "admission_general                    0\n",
      "admission_special/international      0\n",
      "admission_transfer                   0\n",
      "avg_grade                            0\n",
      "father_occ_academic                  0\n",
      "father_occ_service_manual            0\n",
      "father_occ_technical_admin           0\n",
      "father_occ_unskilled_other           0\n",
      "father_qualification_basic           0\n",
      "father_qualification_higher          0\n",
      "father_qualification_secondary       0\n",
      "high_priority                        0\n",
      "is_daytime                           0\n",
      "mother_occ_academic                  0\n",
      "mother_occ_service_manual            0\n",
      "mother_occ_technical_admin           0\n",
      "mother_occ_unskilled_other           0\n",
      "mother_qualification_basic           0\n",
      "mother_qualification_higher          0\n",
      "mother_qualification_secondary       0\n",
      "nationality_africa                   0\n",
      "nationality_asia                     0\n",
      "nationality_europe                   0\n",
      "nationality_north_america            0\n",
      "nationality_south_america            0\n",
      "no_evaluation_total                  0\n",
      "partnered                            0\n",
      "prediction                           0\n",
      "prev_partnered                       0\n",
      "prevqual_basic                       0\n",
      "prevqual_higher                      0\n",
      "prevqual_secondary                   0\n",
      "single                               0\n",
      "studyfield_arts&comm                 0\n",
      "studyfield_business_social           0\n",
      "studyfield_stem                      0\n",
      "success_rate                       180\n",
      "total_enrolled                       0\n",
      "dtype: int64\n",
      "\n",
      "Total missing values: 180\n"
     ]
    }
   ],
   "source": [
    "num_cols = df.select_dtypes(include=[np.number]).columns.difference([\"involves_counterfeit\"])\n",
    "\n",
    "print(df[num_cols].isna().sum())\n",
    "\n",
    "print(\"\\nTotal missing values:\", df[num_cols].isna().sum().sum())\n"
   ]
  },
  {
   "cell_type": "markdown",
   "id": "ed80db5e",
   "metadata": {},
   "source": [
    "### Handling Missing Values\n",
    "\n",
    "The check revealed 180 missing values in the success_rate column. These likely correspond to students who did not complete their studies, resulting in missing academic performance data for those cases."
   ]
  },
  {
   "cell_type": "code",
   "execution_count": 24,
   "id": "51788094",
   "metadata": {},
   "outputs": [
    {
     "data": {
      "text/plain": [
       "success_rate    180\n",
       "dtype: int64"
      ]
     },
     "execution_count": 24,
     "metadata": {},
     "output_type": "execute_result"
    }
   ],
   "source": [
    "df.isna().sum()[df.isna().sum() > 0]"
   ]
  },
  {
   "cell_type": "markdown",
   "id": "b7eb05d1",
   "metadata": {},
   "source": [
    "### Filling Missing Success Rates\n",
    "\n",
    "Missing values in the success_rate column are filled with 0. This approach retains students who did not complete their studies, allowing the model to learn from these cases instead of excluding them from the training data."
   ]
  },
  {
   "cell_type": "code",
   "execution_count": 25,
   "id": "08a0b260",
   "metadata": {},
   "outputs": [],
   "source": [
    "df[\"success_rate\"] = df[\"success_rate\"].fillna(0)\n"
   ]
  },
  {
   "cell_type": "markdown",
   "id": "900d36d9",
   "metadata": {},
   "source": [
    "### Duplicate Check and Removal\n",
    "\n",
    "The datast is checked for duplicat rows to ensure data integrity. Any duplicated founrd are displayed, then removed, and the index is reset. Thes step prevents redundant records from biasing the model or affecting statistical analysis."
   ]
  },
  {
   "cell_type": "code",
   "execution_count": 26,
   "id": "7e4ebbef",
   "metadata": {},
   "outputs": [
    {
     "name": "stdout",
     "output_type": "stream",
     "text": [
      "Number of duplicates: 0\n",
      "After dropping duplicates: 0\n"
     ]
    }
   ],
   "source": [
    "duplicates_count = df.duplicated().sum()\n",
    "print(\"Number of duplicates:\", duplicates_count)\n",
    "\n",
    "if duplicates_count > 0:\n",
    "    display(df[df.duplicated()])\n",
    "\n",
    "df = df.drop_duplicates().reset_index(drop=True)\n",
    "print(\"After dropping duplicates:\", df.duplicated().sum())\n"
   ]
  },
  {
   "cell_type": "markdown",
   "id": "36fe219d",
   "metadata": {},
   "source": [
    "### Feature and Target Preparation\n",
    "\n",
    "The dataset is split into features (X) and target (prediction). The target values are label-encoded into numerical form using LabelEncoder and then one-hot encoded for use in a neural network. The variable categories stores the class labels (Dropout, Enrolled, Graduate) for reference. This code for the correlation matrix was used from the teaching notebook "
   ]
  },
  {
   "cell_type": "code",
   "execution_count": 27,
   "id": "4ec6e0f7",
   "metadata": {},
   "outputs": [
    {
     "data": {
      "text/plain": [
       "[0, 1, 2]"
      ]
     },
     "execution_count": 27,
     "metadata": {},
     "output_type": "execute_result"
    }
   ],
   "source": [
    "X = df.drop('prediction', axis=1)\n",
    "\n",
    "y_temp = df['prediction']\n",
    "\n",
    "le = LabelEncoder()\n",
    "y_enc = le.fit_transform(y_temp)\n",
    "\n",
    "y = tf.keras.utils.to_categorical(y_enc)\n",
    "\n",
    "categories = list(le.classes_)\n",
    "categories"
   ]
  },
  {
   "cell_type": "markdown",
   "id": "ae7a2603",
   "metadata": {},
   "source": [
    "### Correlation Analysis\n",
    "\n",
    "A correlation matrix was computed to examine how each variable relates to the prediction (student outcome). The strongest positive correlations were found with success_rate (0.69), avg_grade (0.55), and Tuition fees up to date (0.41), indicating these factors are highly associated with academic success. Negative correlations, such as Debtor (-0.24) and Age at enrollment (-0.24), suggest that financial or demographic factors may increase the likelihood of dropout. This code for the correlation matrix was used from the teaching notebook"
   ]
  },
  {
   "cell_type": "code",
   "execution_count": 28,
   "id": "3da55101",
   "metadata": {},
   "outputs": [
    {
     "data": {
      "text/plain": [
       "prediction                         1.000000\n",
       "success_rate                       0.686626\n",
       "avg_grade                          0.550356\n",
       "Tuition fees up to date            0.409827\n",
       "Scholarship holder                 0.297595\n",
       "admission_general                  0.237744\n",
       "total_enrolled                     0.167721\n",
       "prevqual_secondary                 0.152671\n",
       "studyfield_arts&comm               0.142211\n",
       "Admission grade                    0.120889\n",
       "Displaced                          0.113986\n",
       "single                             0.106408\n",
       "Previous qualification (grade)     0.103764\n",
       "is_daytime                         0.075107\n",
       "father_occ_service_manual          0.067865\n",
       "father_qualification_basic         0.059223\n",
       "GDP                                0.044135\n",
       "mother_qualification_secondary     0.042204\n",
       "mother_occ_service_manual          0.031607\n",
       "mother_occ_technical_admin         0.030684\n",
       "nationality_africa                 0.021495\n",
       "mother_qualification_basic         0.014602\n",
       "Unemployment rate                  0.008627\n",
       "International                      0.003934\n",
       "father_qualification_secondary     0.001514\n",
       "father_occ_technical_admin        -0.002979\n",
       "nationality_asia                  -0.003016\n",
       "nationality_north_america         -0.005224\n",
       "nationality_europe                -0.005628\n",
       "Educational special needs         -0.007353\n",
       "mother_qualification_higher       -0.008258\n",
       "nationality_south_america         -0.010746\n",
       "mother_occ_academic               -0.025424\n",
       "Inflation rate                    -0.026874\n",
       "father_occ_academic               -0.030624\n",
       "father_qualification_higher       -0.033697\n",
       "mother_occ_unskilled_other        -0.038700\n",
       "admission_transfer                -0.044814\n",
       "father_occ_unskilled_other        -0.050347\n",
       "prev_partnered                    -0.051102\n",
       "prevqual_higher                   -0.066053\n",
       "high_priority                     -0.068081\n",
       "studyfield_business_social        -0.072757\n",
       "studyfield_stem                   -0.075487\n",
       "partnered                         -0.090967\n",
       "no_evaluation_total               -0.092045\n",
       "prevqual_basic                    -0.145369\n",
       "Gender                            -0.229270\n",
       "admission_special/international   -0.236153\n",
       "Debtor                            -0.240999\n",
       "Age at enrollment                 -0.243438\n",
       "Name: prediction, dtype: float64"
      ]
     },
     "execution_count": 28,
     "metadata": {},
     "output_type": "execute_result"
    }
   ],
   "source": [
    "corr_matrix = df.corr()['prediction']\n",
    "corr_matrix.sort_values(ascending=False)"
   ]
  },
  {
   "cell_type": "markdown",
   "id": "0574f81f",
   "metadata": {},
   "source": [
    "### Chi-Square Feature Importance Results\n",
    "\n",
    "The Chi-Square test identified the most influential features for predicting student outcomes. The highest-scoring variables are avg_grade (3016.44), success_rate (820.68), and Age at enrollment (715.98), indicating that academic performance and demographic factors play key roles in determining success. Features with lower scores, such as nationality_europe or father_occ_technical_admin, have minimal statistical impact on the target variable. This code for the correlation matrix was used from the teaching notebook"
   ]
  },
  {
   "cell_type": "code",
   "execution_count": 29,
   "id": "3b036629",
   "metadata": {},
   "outputs": [
    {
     "data": {
      "text/html": [
       "<div>\n",
       "<style scoped>\n",
       "    .dataframe tbody tr th:only-of-type {\n",
       "        vertical-align: middle;\n",
       "    }\n",
       "\n",
       "    .dataframe tbody tr th {\n",
       "        vertical-align: top;\n",
       "    }\n",
       "\n",
       "    .dataframe thead th {\n",
       "        text-align: right;\n",
       "    }\n",
       "</style>\n",
       "<table border=\"1\" class=\"dataframe\">\n",
       "  <thead>\n",
       "    <tr style=\"text-align: right;\">\n",
       "      <th></th>\n",
       "      <th>Features</th>\n",
       "      <th>Score</th>\n",
       "    </tr>\n",
       "  </thead>\n",
       "  <tbody>\n",
       "    <tr>\n",
       "      <th>46</th>\n",
       "      <td>avg_grade</td>\n",
       "      <td>3016.44</td>\n",
       "    </tr>\n",
       "    <tr>\n",
       "      <th>47</th>\n",
       "      <td>success_rate</td>\n",
       "      <td>820.68</td>\n",
       "    </tr>\n",
       "    <tr>\n",
       "      <th>8</th>\n",
       "      <td>Age at enrollment</td>\n",
       "      <td>715.98</td>\n",
       "    </tr>\n",
       "    <tr>\n",
       "      <th>7</th>\n",
       "      <td>Scholarship holder</td>\n",
       "      <td>308.11</td>\n",
       "    </tr>\n",
       "    <tr>\n",
       "      <th>4</th>\n",
       "      <td>Debtor</td>\n",
       "      <td>229.85</td>\n",
       "    </tr>\n",
       "    <tr>\n",
       "      <th>48</th>\n",
       "      <td>total_enrolled</td>\n",
       "      <td>226.82</td>\n",
       "    </tr>\n",
       "    <tr>\n",
       "      <th>49</th>\n",
       "      <td>no_evaluation_total</td>\n",
       "      <td>224.81</td>\n",
       "    </tr>\n",
       "    <tr>\n",
       "      <th>18</th>\n",
       "      <td>admission_special/international</td>\n",
       "      <td>203.51</td>\n",
       "    </tr>\n",
       "    <tr>\n",
       "      <th>6</th>\n",
       "      <td>Gender</td>\n",
       "      <td>151.22</td>\n",
       "    </tr>\n",
       "    <tr>\n",
       "      <th>1</th>\n",
       "      <td>Admission grade</td>\n",
       "      <td>112.25</td>\n",
       "    </tr>\n",
       "    <tr>\n",
       "      <th>24</th>\n",
       "      <td>prevqual_basic</td>\n",
       "      <td>109.79</td>\n",
       "    </tr>\n",
       "    <tr>\n",
       "      <th>5</th>\n",
       "      <td>Tuition fees up to date</td>\n",
       "      <td>98.29</td>\n",
       "    </tr>\n",
       "    <tr>\n",
       "      <th>16</th>\n",
       "      <td>admission_general</td>\n",
       "      <td>97.39</td>\n",
       "    </tr>\n",
       "    <tr>\n",
       "      <th>0</th>\n",
       "      <td>Previous qualification (grade)</td>\n",
       "      <td>72.35</td>\n",
       "    </tr>\n",
       "    <tr>\n",
       "      <th>22</th>\n",
       "      <td>studyfield_arts&amp;comm</td>\n",
       "      <td>65.38</td>\n",
       "    </tr>\n",
       "    <tr>\n",
       "      <th>20</th>\n",
       "      <td>studyfield_stem</td>\n",
       "      <td>48.96</td>\n",
       "    </tr>\n",
       "    <tr>\n",
       "      <th>14</th>\n",
       "      <td>partnered</td>\n",
       "      <td>41.24</td>\n",
       "    </tr>\n",
       "    <tr>\n",
       "      <th>26</th>\n",
       "      <td>prevqual_higher</td>\n",
       "      <td>38.28</td>\n",
       "    </tr>\n",
       "    <tr>\n",
       "      <th>2</th>\n",
       "      <td>Displaced</td>\n",
       "      <td>26.08</td>\n",
       "    </tr>\n",
       "    <tr>\n",
       "      <th>17</th>\n",
       "      <td>admission_transfer</td>\n",
       "      <td>21.16</td>\n",
       "    </tr>\n",
       "    <tr>\n",
       "      <th>12</th>\n",
       "      <td>GDP</td>\n",
       "      <td>16.83</td>\n",
       "    </tr>\n",
       "    <tr>\n",
       "      <th>25</th>\n",
       "      <td>prevqual_secondary</td>\n",
       "      <td>16.49</td>\n",
       "    </tr>\n",
       "    <tr>\n",
       "      <th>45</th>\n",
       "      <td>father_occ_unskilled_other</td>\n",
       "      <td>15.64</td>\n",
       "    </tr>\n",
       "    <tr>\n",
       "      <th>44</th>\n",
       "      <td>father_occ_service_manual</td>\n",
       "      <td>14.51</td>\n",
       "    </tr>\n",
       "    <tr>\n",
       "      <th>41</th>\n",
       "      <td>mother_occ_unskilled_other</td>\n",
       "      <td>13.71</td>\n",
       "    </tr>\n",
       "    <tr>\n",
       "      <th>21</th>\n",
       "      <td>studyfield_business_social</td>\n",
       "      <td>13.70</td>\n",
       "    </tr>\n",
       "    <tr>\n",
       "      <th>34</th>\n",
       "      <td>mother_qualification_higher</td>\n",
       "      <td>13.39</td>\n",
       "    </tr>\n",
       "    <tr>\n",
       "      <th>37</th>\n",
       "      <td>father_qualification_higher</td>\n",
       "      <td>11.77</td>\n",
       "    </tr>\n",
       "    <tr>\n",
       "      <th>15</th>\n",
       "      <td>prev_partnered</td>\n",
       "      <td>11.30</td>\n",
       "    </tr>\n",
       "    <tr>\n",
       "      <th>42</th>\n",
       "      <td>father_occ_academic</td>\n",
       "      <td>9.25</td>\n",
       "    </tr>\n",
       "    <tr>\n",
       "      <th>38</th>\n",
       "      <td>mother_occ_academic</td>\n",
       "      <td>8.11</td>\n",
       "    </tr>\n",
       "    <tr>\n",
       "      <th>10</th>\n",
       "      <td>Unemployment rate</td>\n",
       "      <td>8.04</td>\n",
       "    </tr>\n",
       "    <tr>\n",
       "      <th>33</th>\n",
       "      <td>mother_qualification_secondary</td>\n",
       "      <td>7.51</td>\n",
       "    </tr>\n",
       "    <tr>\n",
       "      <th>39</th>\n",
       "      <td>mother_occ_technical_admin</td>\n",
       "      <td>7.25</td>\n",
       "    </tr>\n",
       "    <tr>\n",
       "      <th>11</th>\n",
       "      <td>Inflation rate</td>\n",
       "      <td>7.24</td>\n",
       "    </tr>\n",
       "    <tr>\n",
       "      <th>13</th>\n",
       "      <td>single</td>\n",
       "      <td>6.57</td>\n",
       "    </tr>\n",
       "    <tr>\n",
       "      <th>35</th>\n",
       "      <td>father_qualification_basic</td>\n",
       "      <td>5.58</td>\n",
       "    </tr>\n",
       "    <tr>\n",
       "      <th>31</th>\n",
       "      <td>nationality_asia</td>\n",
       "      <td>4.57</td>\n",
       "    </tr>\n",
       "    <tr>\n",
       "      <th>40</th>\n",
       "      <td>mother_occ_service_manual</td>\n",
       "      <td>3.71</td>\n",
       "    </tr>\n",
       "    <tr>\n",
       "      <th>19</th>\n",
       "      <td>high_priority</td>\n",
       "      <td>3.25</td>\n",
       "    </tr>\n",
       "    <tr>\n",
       "      <th>23</th>\n",
       "      <td>is_daytime</td>\n",
       "      <td>3.14</td>\n",
       "    </tr>\n",
       "    <tr>\n",
       "      <th>28</th>\n",
       "      <td>nationality_africa</td>\n",
       "      <td>2.68</td>\n",
       "    </tr>\n",
       "    <tr>\n",
       "      <th>32</th>\n",
       "      <td>mother_qualification_basic</td>\n",
       "      <td>2.19</td>\n",
       "    </tr>\n",
       "    <tr>\n",
       "      <th>36</th>\n",
       "      <td>father_qualification_secondary</td>\n",
       "      <td>1.31</td>\n",
       "    </tr>\n",
       "    <tr>\n",
       "      <th>9</th>\n",
       "      <td>International</td>\n",
       "      <td>1.25</td>\n",
       "    </tr>\n",
       "    <tr>\n",
       "      <th>29</th>\n",
       "      <td>nationality_south_america</td>\n",
       "      <td>0.74</td>\n",
       "    </tr>\n",
       "    <tr>\n",
       "      <th>3</th>\n",
       "      <td>Educational special needs</td>\n",
       "      <td>0.63</td>\n",
       "    </tr>\n",
       "    <tr>\n",
       "      <th>30</th>\n",
       "      <td>nationality_north_america</td>\n",
       "      <td>0.56</td>\n",
       "    </tr>\n",
       "    <tr>\n",
       "      <th>43</th>\n",
       "      <td>father_occ_technical_admin</td>\n",
       "      <td>0.05</td>\n",
       "    </tr>\n",
       "    <tr>\n",
       "      <th>27</th>\n",
       "      <td>nationality_europe</td>\n",
       "      <td>0.01</td>\n",
       "    </tr>\n",
       "  </tbody>\n",
       "</table>\n",
       "</div>"
      ],
      "text/plain": [
       "                           Features   Score\n",
       "46                        avg_grade 3016.44\n",
       "47                     success_rate  820.68\n",
       "8                 Age at enrollment  715.98\n",
       "7                Scholarship holder  308.11\n",
       "4                            Debtor  229.85\n",
       "48                   total_enrolled  226.82\n",
       "49              no_evaluation_total  224.81\n",
       "18  admission_special/international  203.51\n",
       "6                            Gender  151.22\n",
       "1                   Admission grade  112.25\n",
       "24                   prevqual_basic  109.79\n",
       "5           Tuition fees up to date   98.29\n",
       "16                admission_general   97.39\n",
       "0    Previous qualification (grade)   72.35\n",
       "22             studyfield_arts&comm   65.38\n",
       "20                  studyfield_stem   48.96\n",
       "14                        partnered   41.24\n",
       "26                  prevqual_higher   38.28\n",
       "2                         Displaced   26.08\n",
       "17               admission_transfer   21.16\n",
       "12                              GDP   16.83\n",
       "25               prevqual_secondary   16.49\n",
       "45       father_occ_unskilled_other   15.64\n",
       "44        father_occ_service_manual   14.51\n",
       "41       mother_occ_unskilled_other   13.71\n",
       "21       studyfield_business_social   13.70\n",
       "34      mother_qualification_higher   13.39\n",
       "37      father_qualification_higher   11.77\n",
       "15                   prev_partnered   11.30\n",
       "42              father_occ_academic    9.25\n",
       "38              mother_occ_academic    8.11\n",
       "10                Unemployment rate    8.04\n",
       "33   mother_qualification_secondary    7.51\n",
       "39       mother_occ_technical_admin    7.25\n",
       "11                   Inflation rate    7.24\n",
       "13                           single    6.57\n",
       "35       father_qualification_basic    5.58\n",
       "31                 nationality_asia    4.57\n",
       "40        mother_occ_service_manual    3.71\n",
       "19                    high_priority    3.25\n",
       "23                       is_daytime    3.14\n",
       "28               nationality_africa    2.68\n",
       "32       mother_qualification_basic    2.19\n",
       "36   father_qualification_secondary    1.31\n",
       "9                     International    1.25\n",
       "29        nationality_south_america    0.74\n",
       "3         Educational special needs    0.63\n",
       "30        nationality_north_america    0.56\n",
       "43       father_occ_technical_admin    0.05\n",
       "27               nationality_europe    0.01"
      ]
     },
     "execution_count": 29,
     "metadata": {},
     "output_type": "execute_result"
    }
   ],
   "source": [
    "X_cat = X.astype(int)\n",
    "X_cat = X_cat.clip(lower=0)\n",
    "\n",
    "chi_2_features = SelectKBest(chi2, k=len(X_cat.columns))\n",
    "\n",
    "best_features = chi_2_features.fit(X_cat,y.astype(int))\n",
    "\n",
    "pd.options.display.float_format = '{:.2f}'.format\n",
    "\n",
    "df_features = pd.DataFrame(best_features.scores_)\n",
    "df_columns = pd.DataFrame(X_cat.columns)\n",
    "f_scores = pd.concat([df_columns,df_features],axis=1)\n",
    "f_scores.columns = ['Features','Score']\n",
    "f_scores.sort_values(by='Score',ascending=False)"
   ]
  },
  {
   "cell_type": "markdown",
   "id": "908c7e15",
   "metadata": {},
   "source": [
    "After performing correlation analysis, the Chi-Square test, and an additional like Phik correlation test, no variables were removed from the dataset. Several combinations were tested to eliminate less relevant features, but in every case, the model’s performance decreased compared to using the full feature set. Therefore, all variables were retained for training. "
   ]
  },
  {
   "cell_type": "markdown",
   "id": "9e4d0ec6",
   "metadata": {},
   "source": [
    "### Data Splitting\n",
    "\n",
    "The dataset was split into 70% training, 15% validation, and 15% testing using train_test_split().\n",
    "This ensures that the model is trained, tuned, and evaluated on separate data subsets for reliable performance.\n",
    "This code for the correlation matrix was used from the teaching notebook."
   ]
  },
  {
   "cell_type": "code",
   "execution_count": 30,
   "id": "e66842fd",
   "metadata": {},
   "outputs": [],
   "source": [
    "X_train, X_temp, y_train, y_temp = train_test_split(X, y, test_size=0.3)\n",
    "\n",
    "X_val, X_test, y_val, y_test = train_test_split(X_temp, y_temp, test_size=0.5)"
   ]
  },
  {
   "cell_type": "markdown",
   "id": "17f08974",
   "metadata": {},
   "source": [
    "### Model Architecture and Training Setup\n",
    "\n",
    "A Keras neural network was built for multiclass classification, using Batch Normalization, Dense ReLU layers with L1 regularization and Dropout, and a Softmax output layer.\n",
    "It was compiled with the Adam optimizer and categorical cross-entropy loss, using accuracy as the metric.\n",
    "This code was adapted from the teaching notebook.\n"
   ]
  },
  {
   "cell_type": "code",
   "execution_count": 31,
   "id": "5797e62e",
   "metadata": {},
   "outputs": [
    {
     "name": "stderr",
     "output_type": "stream",
     "text": [
      "c:\\Users\\Mani\\AppData\\Local\\Programs\\Python\\Python312\\Lib\\site-packages\\keras\\src\\layers\\normalization\\batch_normalization.py:142: UserWarning: Do not pass an `input_shape`/`input_dim` argument to a layer. When using Sequential models, prefer using an `Input(shape)` object as the first layer in the model instead.\n",
      "  super().__init__(**kwargs)\n"
     ]
    },
    {
     "data": {
      "text/html": [
       "<pre style=\"white-space:pre;overflow-x:auto;line-height:normal;font-family:Menlo,'DejaVu Sans Mono',consolas,'Courier New',monospace\"><span style=\"font-weight: bold\">Model: \"sequential\"</span>\n",
       "</pre>\n"
      ],
      "text/plain": [
       "\u001b[1mModel: \"sequential\"\u001b[0m\n"
      ]
     },
     "metadata": {},
     "output_type": "display_data"
    },
    {
     "data": {
      "text/html": [
       "<pre style=\"white-space:pre;overflow-x:auto;line-height:normal;font-family:Menlo,'DejaVu Sans Mono',consolas,'Courier New',monospace\">┏━━━━━━━━━━━━━━━━━━━━━━━━━━━━━━━━━┳━━━━━━━━━━━━━━━━━━━━━━━━┳━━━━━━━━━━━━━━━┓\n",
       "┃<span style=\"font-weight: bold\"> Layer (type)                    </span>┃<span style=\"font-weight: bold\"> Output Shape           </span>┃<span style=\"font-weight: bold\">       Param # </span>┃\n",
       "┡━━━━━━━━━━━━━━━━━━━━━━━━━━━━━━━━━╇━━━━━━━━━━━━━━━━━━━━━━━━╇━━━━━━━━━━━━━━━┩\n",
       "│ batch_normalization             │ (<span style=\"color: #00d7ff; text-decoration-color: #00d7ff\">None</span>, <span style=\"color: #00af00; text-decoration-color: #00af00\">50</span>)             │           <span style=\"color: #00af00; text-decoration-color: #00af00\">200</span> │\n",
       "│ (<span style=\"color: #0087ff; text-decoration-color: #0087ff\">BatchNormalization</span>)            │                        │               │\n",
       "├─────────────────────────────────┼────────────────────────┼───────────────┤\n",
       "│ dense (<span style=\"color: #0087ff; text-decoration-color: #0087ff\">Dense</span>)                   │ (<span style=\"color: #00d7ff; text-decoration-color: #00d7ff\">None</span>, <span style=\"color: #00af00; text-decoration-color: #00af00\">32</span>)             │         <span style=\"color: #00af00; text-decoration-color: #00af00\">1,632</span> │\n",
       "├─────────────────────────────────┼────────────────────────┼───────────────┤\n",
       "│ dropout (<span style=\"color: #0087ff; text-decoration-color: #0087ff\">Dropout</span>)               │ (<span style=\"color: #00d7ff; text-decoration-color: #00d7ff\">None</span>, <span style=\"color: #00af00; text-decoration-color: #00af00\">32</span>)             │             <span style=\"color: #00af00; text-decoration-color: #00af00\">0</span> │\n",
       "├─────────────────────────────────┼────────────────────────┼───────────────┤\n",
       "│ dense_1 (<span style=\"color: #0087ff; text-decoration-color: #0087ff\">Dense</span>)                 │ (<span style=\"color: #00d7ff; text-decoration-color: #00d7ff\">None</span>, <span style=\"color: #00af00; text-decoration-color: #00af00\">18</span>)             │           <span style=\"color: #00af00; text-decoration-color: #00af00\">594</span> │\n",
       "├─────────────────────────────────┼────────────────────────┼───────────────┤\n",
       "│ dense_2 (<span style=\"color: #0087ff; text-decoration-color: #0087ff\">Dense</span>)                 │ (<span style=\"color: #00d7ff; text-decoration-color: #00d7ff\">None</span>, <span style=\"color: #00af00; text-decoration-color: #00af00\">3</span>)              │            <span style=\"color: #00af00; text-decoration-color: #00af00\">57</span> │\n",
       "└─────────────────────────────────┴────────────────────────┴───────────────┘\n",
       "</pre>\n"
      ],
      "text/plain": [
       "┏━━━━━━━━━━━━━━━━━━━━━━━━━━━━━━━━━┳━━━━━━━━━━━━━━━━━━━━━━━━┳━━━━━━━━━━━━━━━┓\n",
       "┃\u001b[1m \u001b[0m\u001b[1mLayer (type)                   \u001b[0m\u001b[1m \u001b[0m┃\u001b[1m \u001b[0m\u001b[1mOutput Shape          \u001b[0m\u001b[1m \u001b[0m┃\u001b[1m \u001b[0m\u001b[1m      Param #\u001b[0m\u001b[1m \u001b[0m┃\n",
       "┡━━━━━━━━━━━━━━━━━━━━━━━━━━━━━━━━━╇━━━━━━━━━━━━━━━━━━━━━━━━╇━━━━━━━━━━━━━━━┩\n",
       "│ batch_normalization             │ (\u001b[38;5;45mNone\u001b[0m, \u001b[38;5;34m50\u001b[0m)             │           \u001b[38;5;34m200\u001b[0m │\n",
       "│ (\u001b[38;5;33mBatchNormalization\u001b[0m)            │                        │               │\n",
       "├─────────────────────────────────┼────────────────────────┼───────────────┤\n",
       "│ dense (\u001b[38;5;33mDense\u001b[0m)                   │ (\u001b[38;5;45mNone\u001b[0m, \u001b[38;5;34m32\u001b[0m)             │         \u001b[38;5;34m1,632\u001b[0m │\n",
       "├─────────────────────────────────┼────────────────────────┼───────────────┤\n",
       "│ dropout (\u001b[38;5;33mDropout\u001b[0m)               │ (\u001b[38;5;45mNone\u001b[0m, \u001b[38;5;34m32\u001b[0m)             │             \u001b[38;5;34m0\u001b[0m │\n",
       "├─────────────────────────────────┼────────────────────────┼───────────────┤\n",
       "│ dense_1 (\u001b[38;5;33mDense\u001b[0m)                 │ (\u001b[38;5;45mNone\u001b[0m, \u001b[38;5;34m18\u001b[0m)             │           \u001b[38;5;34m594\u001b[0m │\n",
       "├─────────────────────────────────┼────────────────────────┼───────────────┤\n",
       "│ dense_2 (\u001b[38;5;33mDense\u001b[0m)                 │ (\u001b[38;5;45mNone\u001b[0m, \u001b[38;5;34m3\u001b[0m)              │            \u001b[38;5;34m57\u001b[0m │\n",
       "└─────────────────────────────────┴────────────────────────┴───────────────┘\n"
      ]
     },
     "metadata": {},
     "output_type": "display_data"
    },
    {
     "data": {
      "text/html": [
       "<pre style=\"white-space:pre;overflow-x:auto;line-height:normal;font-family:Menlo,'DejaVu Sans Mono',consolas,'Courier New',monospace\"><span style=\"font-weight: bold\"> Total params: </span><span style=\"color: #00af00; text-decoration-color: #00af00\">2,483</span> (9.70 KB)\n",
       "</pre>\n"
      ],
      "text/plain": [
       "\u001b[1m Total params: \u001b[0m\u001b[38;5;34m2,483\u001b[0m (9.70 KB)\n"
      ]
     },
     "metadata": {},
     "output_type": "display_data"
    },
    {
     "data": {
      "text/html": [
       "<pre style=\"white-space:pre;overflow-x:auto;line-height:normal;font-family:Menlo,'DejaVu Sans Mono',consolas,'Courier New',monospace\"><span style=\"font-weight: bold\"> Trainable params: </span><span style=\"color: #00af00; text-decoration-color: #00af00\">2,383</span> (9.31 KB)\n",
       "</pre>\n"
      ],
      "text/plain": [
       "\u001b[1m Trainable params: \u001b[0m\u001b[38;5;34m2,383\u001b[0m (9.31 KB)\n"
      ]
     },
     "metadata": {},
     "output_type": "display_data"
    },
    {
     "data": {
      "text/html": [
       "<pre style=\"white-space:pre;overflow-x:auto;line-height:normal;font-family:Menlo,'DejaVu Sans Mono',consolas,'Courier New',monospace\"><span style=\"font-weight: bold\"> Non-trainable params: </span><span style=\"color: #00af00; text-decoration-color: #00af00\">100</span> (400.00 B)\n",
       "</pre>\n"
      ],
      "text/plain": [
       "\u001b[1m Non-trainable params: \u001b[0m\u001b[38;5;34m100\u001b[0m (400.00 B)\n"
      ]
     },
     "metadata": {},
     "output_type": "display_data"
    }
   ],
   "source": [
    "variable_amount = X_train.shape[1]\n",
    "\n",
    "mc = ModelCheckpoint(\"best_model_student.keras\", monitor=\"val_loss\", mode=\"min\", save_best_only=True)\n",
    "es = EarlyStopping(monitor=\"val_loss\", patience=15, restore_best_weights=True)\n",
    "rlr = ReduceLROnPlateau(monitor=\"val_loss\", factor=0.5, patience=7, min_lr=1e-6, verbose=1)\n",
    "callbacks_opt = [mc, es, rlr]\n",
    "\n",
    "model = keras.Sequential(\n",
    "    [\n",
    "        layers.BatchNormalization(input_shape=(len(X.columns),)),\n",
    "        layers.Dense(32, activation=\"relu\", kernel_regularizer=keras.regularizers.l1(l1=0.1)),\n",
    "        layers.Dropout(0.1),\n",
    "        layers.Dense(18, activation=\"relu\"),\n",
    "        layers.Dense(len(categories), activation=\"softmax\")\n",
    "    ]\n",
    ")\n",
    "\n",
    "model.compile(optimizer=\"adam\", loss='categorical_crossentropy', metrics=['accuracy'])\n",
    "model.summary()\n"
   ]
  },
  {
   "cell_type": "markdown",
   "id": "33389310",
   "metadata": {},
   "source": [
    "### Model Training\n",
    "\n",
    "The model was trained for up to 2000 epochs using the training set with validation on the validation set to monitor performance.\n",
    "Callbacks (callbacks_opt) were applied to automatically save the best model, stop early when no improvement occurs, and adjust the learning rate dynamically.\n",
    "This setup helps achieve optimal accuracy while preventing overfitting and unnecessary training time.\n",
    "This code was used from the previous exercise."
   ]
  },
  {
   "cell_type": "code",
   "execution_count": 32,
   "id": "2d502953",
   "metadata": {},
   "outputs": [
    {
     "name": "stdout",
     "output_type": "stream",
     "text": [
      "Epoch 1/2000\n",
      "\u001b[1m97/97\u001b[0m \u001b[32m━━━━━━━━━━━━━━━━━━━━\u001b[0m\u001b[37m\u001b[0m \u001b[1m3s\u001b[0m 8ms/step - accuracy: 0.5439 - loss: 15.4971 - val_accuracy: 0.4789 - val_loss: 9.6821 - learning_rate: 0.0010\n",
      "Epoch 2/2000\n",
      "\u001b[1m97/97\u001b[0m \u001b[32m━━━━━━━━━━━━━━━━━━━━\u001b[0m\u001b[37m\u001b[0m \u001b[1m1s\u001b[0m 7ms/step - accuracy: 0.5982 - loss: 5.7424 - val_accuracy: 0.5572 - val_loss: 2.7225 - learning_rate: 0.0010\n",
      "Epoch 3/2000\n",
      "\u001b[1m97/97\u001b[0m \u001b[32m━━━━━━━━━━━━━━━━━━━━\u001b[0m\u001b[37m\u001b[0m \u001b[1m0s\u001b[0m 5ms/step - accuracy: 0.6486 - loss: 1.4553 - val_accuracy: 0.6506 - val_loss: 0.9492 - learning_rate: 0.0010\n",
      "Epoch 4/2000\n",
      "\u001b[1m97/97\u001b[0m \u001b[32m━━━━━━━━━━━━━━━━━━━━\u001b[0m\u001b[37m\u001b[0m \u001b[1m1s\u001b[0m 5ms/step - accuracy: 0.6906 - loss: 0.8989 - val_accuracy: 0.7123 - val_loss: 0.8642 - learning_rate: 0.0010\n",
      "Epoch 5/2000\n",
      "\u001b[1m97/97\u001b[0m \u001b[32m━━━━━━━━━━━━━━━━━━━━\u001b[0m\u001b[37m\u001b[0m \u001b[1m1s\u001b[0m 4ms/step - accuracy: 0.7158 - loss: 0.8474 - val_accuracy: 0.7244 - val_loss: 0.8226 - learning_rate: 0.0010\n",
      "Epoch 6/2000\n",
      "\u001b[1m97/97\u001b[0m \u001b[32m━━━━━━━━━━━━━━━━━━━━\u001b[0m\u001b[37m\u001b[0m \u001b[1m0s\u001b[0m 5ms/step - accuracy: 0.7190 - loss: 0.8284 - val_accuracy: 0.7259 - val_loss: 0.8132 - learning_rate: 0.0010\n",
      "Epoch 7/2000\n",
      "\u001b[1m97/97\u001b[0m \u001b[32m━━━━━━━━━━━━━━━━━━━━\u001b[0m\u001b[37m\u001b[0m \u001b[1m0s\u001b[0m 4ms/step - accuracy: 0.7213 - loss: 0.8091 - val_accuracy: 0.7244 - val_loss: 0.8006 - learning_rate: 0.0010\n",
      "Epoch 8/2000\n",
      "\u001b[1m97/97\u001b[0m \u001b[32m━━━━━━━━━━━━━━━━━━━━\u001b[0m\u001b[37m\u001b[0m \u001b[1m0s\u001b[0m 4ms/step - accuracy: 0.7274 - loss: 0.7991 - val_accuracy: 0.7259 - val_loss: 0.7889 - learning_rate: 0.0010\n",
      "Epoch 9/2000\n",
      "\u001b[1m97/97\u001b[0m \u001b[32m━━━━━━━━━━━━━━━━━━━━\u001b[0m\u001b[37m\u001b[0m \u001b[1m0s\u001b[0m 4ms/step - accuracy: 0.7267 - loss: 0.7963 - val_accuracy: 0.7274 - val_loss: 0.7939 - learning_rate: 0.0010\n",
      "Epoch 10/2000\n",
      "\u001b[1m97/97\u001b[0m \u001b[32m━━━━━━━━━━━━━━━━━━━━\u001b[0m\u001b[37m\u001b[0m \u001b[1m0s\u001b[0m 4ms/step - accuracy: 0.7258 - loss: 0.8014 - val_accuracy: 0.7304 - val_loss: 0.7863 - learning_rate: 0.0010\n",
      "Epoch 11/2000\n",
      "\u001b[1m97/97\u001b[0m \u001b[32m━━━━━━━━━━━━━━━━━━━━\u001b[0m\u001b[37m\u001b[0m \u001b[1m0s\u001b[0m 4ms/step - accuracy: 0.7264 - loss: 0.7914 - val_accuracy: 0.7289 - val_loss: 0.7831 - learning_rate: 0.0010\n",
      "Epoch 12/2000\n",
      "\u001b[1m97/97\u001b[0m \u001b[32m━━━━━━━━━━━━━━━━━━━━\u001b[0m\u001b[37m\u001b[0m \u001b[1m0s\u001b[0m 4ms/step - accuracy: 0.7309 - loss: 0.7850 - val_accuracy: 0.7289 - val_loss: 0.7805 - learning_rate: 0.0010\n",
      "Epoch 13/2000\n",
      "\u001b[1m97/97\u001b[0m \u001b[32m━━━━━━━━━━━━━━━━━━━━\u001b[0m\u001b[37m\u001b[0m \u001b[1m0s\u001b[0m 5ms/step - accuracy: 0.7274 - loss: 0.7867 - val_accuracy: 0.7380 - val_loss: 0.7708 - learning_rate: 0.0010\n",
      "Epoch 14/2000\n",
      "\u001b[1m97/97\u001b[0m \u001b[32m━━━━━━━━━━━━━━━━━━━━\u001b[0m\u001b[37m\u001b[0m \u001b[1m0s\u001b[0m 4ms/step - accuracy: 0.7290 - loss: 0.7801 - val_accuracy: 0.7289 - val_loss: 0.7822 - learning_rate: 0.0010\n",
      "Epoch 15/2000\n",
      "\u001b[1m97/97\u001b[0m \u001b[32m━━━━━━━━━━━━━━━━━━━━\u001b[0m\u001b[37m\u001b[0m \u001b[1m1s\u001b[0m 5ms/step - accuracy: 0.7287 - loss: 0.7799 - val_accuracy: 0.7334 - val_loss: 0.7822 - learning_rate: 0.0010\n",
      "Epoch 16/2000\n",
      "\u001b[1m97/97\u001b[0m \u001b[32m━━━━━━━━━━━━━━━━━━━━\u001b[0m\u001b[37m\u001b[0m \u001b[1m1s\u001b[0m 9ms/step - accuracy: 0.7342 - loss: 0.7694 - val_accuracy: 0.7364 - val_loss: 0.7674 - learning_rate: 0.0010\n",
      "Epoch 17/2000\n",
      "\u001b[1m97/97\u001b[0m \u001b[32m━━━━━━━━━━━━━━━━━━━━\u001b[0m\u001b[37m\u001b[0m \u001b[1m1s\u001b[0m 5ms/step - accuracy: 0.7335 - loss: 0.7765 - val_accuracy: 0.7274 - val_loss: 0.7606 - learning_rate: 0.0010\n",
      "Epoch 18/2000\n",
      "\u001b[1m97/97\u001b[0m \u001b[32m━━━━━━━━━━━━━━━━━━━━\u001b[0m\u001b[37m\u001b[0m \u001b[1m1s\u001b[0m 5ms/step - accuracy: 0.7329 - loss: 0.7758 - val_accuracy: 0.7304 - val_loss: 0.7641 - learning_rate: 0.0010\n",
      "Epoch 19/2000\n",
      "\u001b[1m97/97\u001b[0m \u001b[32m━━━━━━━━━━━━━━━━━━━━\u001b[0m\u001b[37m\u001b[0m \u001b[1m0s\u001b[0m 4ms/step - accuracy: 0.7309 - loss: 0.7759 - val_accuracy: 0.7304 - val_loss: 0.7669 - learning_rate: 0.0010\n",
      "Epoch 20/2000\n",
      "\u001b[1m97/97\u001b[0m \u001b[32m━━━━━━━━━━━━━━━━━━━━\u001b[0m\u001b[37m\u001b[0m \u001b[1m1s\u001b[0m 5ms/step - accuracy: 0.7274 - loss: 0.7799 - val_accuracy: 0.7410 - val_loss: 0.7547 - learning_rate: 0.0010\n",
      "Epoch 21/2000\n",
      "\u001b[1m97/97\u001b[0m \u001b[32m━━━━━━━━━━━━━━━━━━━━\u001b[0m\u001b[37m\u001b[0m \u001b[1m0s\u001b[0m 4ms/step - accuracy: 0.7303 - loss: 0.7664 - val_accuracy: 0.7319 - val_loss: 0.7646 - learning_rate: 0.0010\n",
      "Epoch 22/2000\n",
      "\u001b[1m97/97\u001b[0m \u001b[32m━━━━━━━━━━━━━━━━━━━━\u001b[0m\u001b[37m\u001b[0m \u001b[1m1s\u001b[0m 5ms/step - accuracy: 0.7329 - loss: 0.7672 - val_accuracy: 0.7425 - val_loss: 0.7505 - learning_rate: 0.0010\n",
      "Epoch 23/2000\n",
      "\u001b[1m97/97\u001b[0m \u001b[32m━━━━━━━━━━━━━━━━━━━━\u001b[0m\u001b[37m\u001b[0m \u001b[1m0s\u001b[0m 4ms/step - accuracy: 0.7384 - loss: 0.7666 - val_accuracy: 0.7425 - val_loss: 0.7578 - learning_rate: 0.0010\n",
      "Epoch 24/2000\n",
      "\u001b[1m97/97\u001b[0m \u001b[32m━━━━━━━━━━━━━━━━━━━━\u001b[0m\u001b[37m\u001b[0m \u001b[1m1s\u001b[0m 5ms/step - accuracy: 0.7329 - loss: 0.7624 - val_accuracy: 0.7380 - val_loss: 0.7581 - learning_rate: 0.0010\n",
      "Epoch 25/2000\n",
      "\u001b[1m97/97\u001b[0m \u001b[32m━━━━━━━━━━━━━━━━━━━━\u001b[0m\u001b[37m\u001b[0m \u001b[1m1s\u001b[0m 5ms/step - accuracy: 0.7319 - loss: 0.7671 - val_accuracy: 0.7425 - val_loss: 0.7568 - learning_rate: 0.0010\n",
      "Epoch 26/2000\n",
      "\u001b[1m97/97\u001b[0m \u001b[32m━━━━━━━━━━━━━━━━━━━━\u001b[0m\u001b[37m\u001b[0m \u001b[1m0s\u001b[0m 5ms/step - accuracy: 0.7390 - loss: 0.7601 - val_accuracy: 0.7364 - val_loss: 0.7599 - learning_rate: 0.0010\n",
      "Epoch 27/2000\n",
      "\u001b[1m97/97\u001b[0m \u001b[32m━━━━━━━━━━━━━━━━━━━━\u001b[0m\u001b[37m\u001b[0m \u001b[1m0s\u001b[0m 4ms/step - accuracy: 0.7364 - loss: 0.7703 - val_accuracy: 0.7485 - val_loss: 0.7634 - learning_rate: 0.0010\n",
      "Epoch 28/2000\n",
      "\u001b[1m97/97\u001b[0m \u001b[32m━━━━━━━━━━━━━━━━━━━━\u001b[0m\u001b[37m\u001b[0m \u001b[1m0s\u001b[0m 4ms/step - accuracy: 0.7306 - loss: 0.7678 - val_accuracy: 0.7364 - val_loss: 0.7498 - learning_rate: 0.0010\n",
      "Epoch 29/2000\n",
      "\u001b[1m97/97\u001b[0m \u001b[32m━━━━━━━━━━━━━━━━━━━━\u001b[0m\u001b[37m\u001b[0m \u001b[1m0s\u001b[0m 4ms/step - accuracy: 0.7390 - loss: 0.7503 - val_accuracy: 0.7455 - val_loss: 0.7455 - learning_rate: 0.0010\n",
      "Epoch 30/2000\n",
      "\u001b[1m97/97\u001b[0m \u001b[32m━━━━━━━━━━━━━━━━━━━━\u001b[0m\u001b[37m\u001b[0m \u001b[1m1s\u001b[0m 4ms/step - accuracy: 0.7429 - loss: 0.7538 - val_accuracy: 0.7425 - val_loss: 0.7603 - learning_rate: 0.0010\n",
      "Epoch 31/2000\n",
      "\u001b[1m97/97\u001b[0m \u001b[32m━━━━━━━━━━━━━━━━━━━━\u001b[0m\u001b[37m\u001b[0m \u001b[1m0s\u001b[0m 5ms/step - accuracy: 0.7351 - loss: 0.7612 - val_accuracy: 0.7440 - val_loss: 0.7437 - learning_rate: 0.0010\n",
      "Epoch 32/2000\n",
      "\u001b[1m97/97\u001b[0m \u001b[32m━━━━━━━━━━━━━━━━━━━━\u001b[0m\u001b[37m\u001b[0m \u001b[1m0s\u001b[0m 4ms/step - accuracy: 0.7339 - loss: 0.7605 - val_accuracy: 0.7485 - val_loss: 0.7465 - learning_rate: 0.0010\n",
      "Epoch 33/2000\n",
      "\u001b[1m97/97\u001b[0m \u001b[32m━━━━━━━━━━━━━━━━━━━━\u001b[0m\u001b[37m\u001b[0m \u001b[1m0s\u001b[0m 4ms/step - accuracy: 0.7390 - loss: 0.7563 - val_accuracy: 0.7470 - val_loss: 0.7418 - learning_rate: 0.0010\n",
      "Epoch 34/2000\n",
      "\u001b[1m97/97\u001b[0m \u001b[32m━━━━━━━━━━━━━━━━━━━━\u001b[0m\u001b[37m\u001b[0m \u001b[1m0s\u001b[0m 4ms/step - accuracy: 0.7313 - loss: 0.7586 - val_accuracy: 0.7500 - val_loss: 0.7460 - learning_rate: 0.0010\n",
      "Epoch 35/2000\n",
      "\u001b[1m97/97\u001b[0m \u001b[32m━━━━━━━━━━━━━━━━━━━━\u001b[0m\u001b[37m\u001b[0m \u001b[1m0s\u001b[0m 4ms/step - accuracy: 0.7380 - loss: 0.7509 - val_accuracy: 0.7470 - val_loss: 0.7451 - learning_rate: 0.0010\n",
      "Epoch 36/2000\n",
      "\u001b[1m97/97\u001b[0m \u001b[32m━━━━━━━━━━━━━━━━━━━━\u001b[0m\u001b[37m\u001b[0m \u001b[1m0s\u001b[0m 4ms/step - accuracy: 0.7422 - loss: 0.7471 - val_accuracy: 0.7575 - val_loss: 0.7560 - learning_rate: 0.0010\n",
      "Epoch 37/2000\n",
      "\u001b[1m97/97\u001b[0m \u001b[32m━━━━━━━━━━━━━━━━━━━━\u001b[0m\u001b[37m\u001b[0m \u001b[1m1s\u001b[0m 5ms/step - accuracy: 0.7422 - loss: 0.7537 - val_accuracy: 0.7500 - val_loss: 0.7437 - learning_rate: 0.0010\n",
      "Epoch 38/2000\n",
      "\u001b[1m97/97\u001b[0m \u001b[32m━━━━━━━━━━━━━━━━━━━━\u001b[0m\u001b[37m\u001b[0m \u001b[1m0s\u001b[0m 5ms/step - accuracy: 0.7380 - loss: 0.7557 - val_accuracy: 0.7515 - val_loss: 0.7382 - learning_rate: 0.0010\n",
      "Epoch 39/2000\n",
      "\u001b[1m97/97\u001b[0m \u001b[32m━━━━━━━━━━━━━━━━━━━━\u001b[0m\u001b[37m\u001b[0m \u001b[1m0s\u001b[0m 4ms/step - accuracy: 0.7374 - loss: 0.7563 - val_accuracy: 0.7500 - val_loss: 0.7372 - learning_rate: 0.0010\n",
      "Epoch 40/2000\n",
      "\u001b[1m97/97\u001b[0m \u001b[32m━━━━━━━━━━━━━━━━━━━━\u001b[0m\u001b[37m\u001b[0m \u001b[1m0s\u001b[0m 4ms/step - accuracy: 0.7406 - loss: 0.7507 - val_accuracy: 0.7545 - val_loss: 0.7321 - learning_rate: 0.0010\n",
      "Epoch 41/2000\n",
      "\u001b[1m97/97\u001b[0m \u001b[32m━━━━━━━━━━━━━━━━━━━━\u001b[0m\u001b[37m\u001b[0m \u001b[1m0s\u001b[0m 4ms/step - accuracy: 0.7432 - loss: 0.7476 - val_accuracy: 0.7575 - val_loss: 0.7345 - learning_rate: 0.0010\n",
      "Epoch 42/2000\n",
      "\u001b[1m97/97\u001b[0m \u001b[32m━━━━━━━━━━━━━━━━━━━━\u001b[0m\u001b[37m\u001b[0m \u001b[1m0s\u001b[0m 4ms/step - accuracy: 0.7339 - loss: 0.7495 - val_accuracy: 0.7515 - val_loss: 0.7462 - learning_rate: 0.0010\n",
      "Epoch 43/2000\n",
      "\u001b[1m97/97\u001b[0m \u001b[32m━━━━━━━━━━━━━━━━━━━━\u001b[0m\u001b[37m\u001b[0m \u001b[1m0s\u001b[0m 4ms/step - accuracy: 0.7448 - loss: 0.7486 - val_accuracy: 0.7500 - val_loss: 0.7402 - learning_rate: 0.0010\n",
      "Epoch 44/2000\n",
      "\u001b[1m97/97\u001b[0m \u001b[32m━━━━━━━━━━━━━━━━━━━━\u001b[0m\u001b[37m\u001b[0m \u001b[1m0s\u001b[0m 4ms/step - accuracy: 0.7380 - loss: 0.7562 - val_accuracy: 0.7425 - val_loss: 0.7408 - learning_rate: 0.0010\n",
      "Epoch 45/2000\n",
      "\u001b[1m97/97\u001b[0m \u001b[32m━━━━━━━━━━━━━━━━━━━━\u001b[0m\u001b[37m\u001b[0m \u001b[1m0s\u001b[0m 4ms/step - accuracy: 0.7419 - loss: 0.7435 - val_accuracy: 0.7500 - val_loss: 0.7295 - learning_rate: 0.0010\n",
      "Epoch 46/2000\n",
      "\u001b[1m97/97\u001b[0m \u001b[32m━━━━━━━━━━━━━━━━━━━━\u001b[0m\u001b[37m\u001b[0m \u001b[1m0s\u001b[0m 4ms/step - accuracy: 0.7355 - loss: 0.7476 - val_accuracy: 0.7395 - val_loss: 0.7411 - learning_rate: 0.0010\n",
      "Epoch 47/2000\n",
      "\u001b[1m97/97\u001b[0m \u001b[32m━━━━━━━━━━━━━━━━━━━━\u001b[0m\u001b[37m\u001b[0m \u001b[1m0s\u001b[0m 4ms/step - accuracy: 0.7429 - loss: 0.7409 - val_accuracy: 0.7515 - val_loss: 0.7320 - learning_rate: 0.0010\n",
      "Epoch 48/2000\n",
      "\u001b[1m97/97\u001b[0m \u001b[32m━━━━━━━━━━━━━━━━━━━━\u001b[0m\u001b[37m\u001b[0m \u001b[1m0s\u001b[0m 4ms/step - accuracy: 0.7432 - loss: 0.7415 - val_accuracy: 0.7545 - val_loss: 0.7304 - learning_rate: 0.0010\n",
      "Epoch 49/2000\n",
      "\u001b[1m97/97\u001b[0m \u001b[32m━━━━━━━━━━━━━━━━━━━━\u001b[0m\u001b[37m\u001b[0m \u001b[1m0s\u001b[0m 4ms/step - accuracy: 0.7400 - loss: 0.7499 - val_accuracy: 0.7515 - val_loss: 0.7356 - learning_rate: 0.0010\n",
      "Epoch 50/2000\n",
      "\u001b[1m97/97\u001b[0m \u001b[32m━━━━━━━━━━━━━━━━━━━━\u001b[0m\u001b[37m\u001b[0m \u001b[1m0s\u001b[0m 4ms/step - accuracy: 0.7461 - loss: 0.7461 - val_accuracy: 0.7470 - val_loss: 0.7296 - learning_rate: 0.0010\n",
      "Epoch 51/2000\n",
      "\u001b[1m97/97\u001b[0m \u001b[32m━━━━━━━━━━━━━━━━━━━━\u001b[0m\u001b[37m\u001b[0m \u001b[1m0s\u001b[0m 4ms/step - accuracy: 0.7371 - loss: 0.7494 - val_accuracy: 0.7349 - val_loss: 0.7541 - learning_rate: 0.0010\n",
      "Epoch 52/2000\n",
      "\u001b[1m83/97\u001b[0m \u001b[32m━━━━━━━━━━━━━━━━━\u001b[0m\u001b[37m━━━\u001b[0m \u001b[1m0s\u001b[0m 2ms/step - accuracy: 0.7481 - loss: 0.7487\n",
      "Epoch 52: ReduceLROnPlateau reducing learning rate to 0.0005000000237487257.\n",
      "\u001b[1m97/97\u001b[0m \u001b[32m━━━━━━━━━━━━━━━━━━━━\u001b[0m\u001b[37m\u001b[0m \u001b[1m0s\u001b[0m 4ms/step - accuracy: 0.7439 - loss: 0.7531 - val_accuracy: 0.7500 - val_loss: 0.7380 - learning_rate: 0.0010\n",
      "Epoch 53/2000\n",
      "\u001b[1m97/97\u001b[0m \u001b[32m━━━━━━━━━━━━━━━━━━━━\u001b[0m\u001b[37m\u001b[0m \u001b[1m0s\u001b[0m 4ms/step - accuracy: 0.7471 - loss: 0.7171 - val_accuracy: 0.7485 - val_loss: 0.7043 - learning_rate: 5.0000e-04\n",
      "Epoch 54/2000\n",
      "\u001b[1m97/97\u001b[0m \u001b[32m━━━━━━━━━━━━━━━━━━━━\u001b[0m\u001b[37m\u001b[0m \u001b[1m0s\u001b[0m 4ms/step - accuracy: 0.7558 - loss: 0.6996 - val_accuracy: 0.7425 - val_loss: 0.7043 - learning_rate: 5.0000e-04\n",
      "Epoch 55/2000\n",
      "\u001b[1m97/97\u001b[0m \u001b[32m━━━━━━━━━━━━━━━━━━━━\u001b[0m\u001b[37m\u001b[0m \u001b[1m0s\u001b[0m 4ms/step - accuracy: 0.7494 - loss: 0.7062 - val_accuracy: 0.7455 - val_loss: 0.6973 - learning_rate: 5.0000e-04\n",
      "Epoch 56/2000\n",
      "\u001b[1m97/97\u001b[0m \u001b[32m━━━━━━━━━━━━━━━━━━━━\u001b[0m\u001b[37m\u001b[0m \u001b[1m0s\u001b[0m 4ms/step - accuracy: 0.7426 - loss: 0.7129 - val_accuracy: 0.7485 - val_loss: 0.7001 - learning_rate: 5.0000e-04\n",
      "Epoch 57/2000\n",
      "\u001b[1m97/97\u001b[0m \u001b[32m━━━━━━━━━━━━━━━━━━━━\u001b[0m\u001b[37m\u001b[0m \u001b[1m0s\u001b[0m 4ms/step - accuracy: 0.7416 - loss: 0.7152 - val_accuracy: 0.7515 - val_loss: 0.7067 - learning_rate: 5.0000e-04\n",
      "Epoch 58/2000\n",
      "\u001b[1m97/97\u001b[0m \u001b[32m━━━━━━━━━━━━━━━━━━━━\u001b[0m\u001b[37m\u001b[0m \u001b[1m0s\u001b[0m 4ms/step - accuracy: 0.7471 - loss: 0.7158 - val_accuracy: 0.7470 - val_loss: 0.6976 - learning_rate: 5.0000e-04\n",
      "Epoch 59/2000\n",
      "\u001b[1m97/97\u001b[0m \u001b[32m━━━━━━━━━━━━━━━━━━━━\u001b[0m\u001b[37m\u001b[0m \u001b[1m0s\u001b[0m 4ms/step - accuracy: 0.7455 - loss: 0.7158 - val_accuracy: 0.7485 - val_loss: 0.6998 - learning_rate: 5.0000e-04\n",
      "Epoch 60/2000\n",
      "\u001b[1m97/97\u001b[0m \u001b[32m━━━━━━━━━━━━━━━━━━━━\u001b[0m\u001b[37m\u001b[0m \u001b[1m0s\u001b[0m 4ms/step - accuracy: 0.7468 - loss: 0.7083 - val_accuracy: 0.7485 - val_loss: 0.6983 - learning_rate: 5.0000e-04\n",
      "Epoch 61/2000\n",
      "\u001b[1m97/97\u001b[0m \u001b[32m━━━━━━━━━━━━━━━━━━━━\u001b[0m\u001b[37m\u001b[0m \u001b[1m1s\u001b[0m 5ms/step - accuracy: 0.7500 - loss: 0.7163 - val_accuracy: 0.7470 - val_loss: 0.7014 - learning_rate: 5.0000e-04\n",
      "Epoch 62/2000\n",
      "\u001b[1m88/97\u001b[0m \u001b[32m━━━━━━━━━━━━━━━━━━\u001b[0m\u001b[37m━━\u001b[0m \u001b[1m0s\u001b[0m 3ms/step - accuracy: 0.7273 - loss: 0.7332\n",
      "Epoch 62: ReduceLROnPlateau reducing learning rate to 0.0002500000118743628.\n",
      "\u001b[1m97/97\u001b[0m \u001b[32m━━━━━━━━━━━━━━━━━━━━\u001b[0m\u001b[37m\u001b[0m \u001b[1m0s\u001b[0m 4ms/step - accuracy: 0.7371 - loss: 0.7199 - val_accuracy: 0.7410 - val_loss: 0.6988 - learning_rate: 5.0000e-04\n",
      "Epoch 63/2000\n",
      "\u001b[1m97/97\u001b[0m \u001b[32m━━━━━━━━━━━━━━━━━━━━\u001b[0m\u001b[37m\u001b[0m \u001b[1m1s\u001b[0m 5ms/step - accuracy: 0.7494 - loss: 0.6952 - val_accuracy: 0.7485 - val_loss: 0.6847 - learning_rate: 2.5000e-04\n",
      "Epoch 64/2000\n",
      "\u001b[1m97/97\u001b[0m \u001b[32m━━━━━━━━━━━━━━━━━━━━\u001b[0m\u001b[37m\u001b[0m \u001b[1m0s\u001b[0m 5ms/step - accuracy: 0.7539 - loss: 0.6797 - val_accuracy: 0.7485 - val_loss: 0.6795 - learning_rate: 2.5000e-04\n",
      "Epoch 65/2000\n",
      "\u001b[1m97/97\u001b[0m \u001b[32m━━━━━━━━━━━━━━━━━━━━\u001b[0m\u001b[37m\u001b[0m \u001b[1m1s\u001b[0m 4ms/step - accuracy: 0.7422 - loss: 0.6955 - val_accuracy: 0.7470 - val_loss: 0.6799 - learning_rate: 2.5000e-04\n",
      "Epoch 66/2000\n",
      "\u001b[1m97/97\u001b[0m \u001b[32m━━━━━━━━━━━━━━━━━━━━\u001b[0m\u001b[37m\u001b[0m \u001b[1m0s\u001b[0m 4ms/step - accuracy: 0.7468 - loss: 0.6931 - val_accuracy: 0.7500 - val_loss: 0.6793 - learning_rate: 2.5000e-04\n",
      "Epoch 67/2000\n",
      "\u001b[1m97/97\u001b[0m \u001b[32m━━━━━━━━━━━━━━━━━━━━\u001b[0m\u001b[37m\u001b[0m \u001b[1m0s\u001b[0m 5ms/step - accuracy: 0.7468 - loss: 0.6953 - val_accuracy: 0.7440 - val_loss: 0.6785 - learning_rate: 2.5000e-04\n",
      "Epoch 68/2000\n",
      "\u001b[1m97/97\u001b[0m \u001b[32m━━━━━━━━━━━━━━━━━━━━\u001b[0m\u001b[37m\u001b[0m \u001b[1m0s\u001b[0m 4ms/step - accuracy: 0.7468 - loss: 0.6917 - val_accuracy: 0.7530 - val_loss: 0.6807 - learning_rate: 2.5000e-04\n",
      "Epoch 69/2000\n",
      "\u001b[1m97/97\u001b[0m \u001b[32m━━━━━━━━━━━━━━━━━━━━\u001b[0m\u001b[37m\u001b[0m \u001b[1m0s\u001b[0m 4ms/step - accuracy: 0.7419 - loss: 0.6970 - val_accuracy: 0.7470 - val_loss: 0.6826 - learning_rate: 2.5000e-04\n",
      "Epoch 70/2000\n",
      "\u001b[1m97/97\u001b[0m \u001b[32m━━━━━━━━━━━━━━━━━━━━\u001b[0m\u001b[37m\u001b[0m \u001b[1m1s\u001b[0m 6ms/step - accuracy: 0.7410 - loss: 0.6942 - val_accuracy: 0.7485 - val_loss: 0.6852 - learning_rate: 2.5000e-04\n",
      "Epoch 71/2000\n",
      "\u001b[1m97/97\u001b[0m \u001b[32m━━━━━━━━━━━━━━━━━━━━\u001b[0m\u001b[37m\u001b[0m \u001b[1m1s\u001b[0m 5ms/step - accuracy: 0.7419 - loss: 0.7034 - val_accuracy: 0.7530 - val_loss: 0.6785 - learning_rate: 2.5000e-04\n",
      "Epoch 72/2000\n",
      "\u001b[1m97/97\u001b[0m \u001b[32m━━━━━━━━━━━━━━━━━━━━\u001b[0m\u001b[37m\u001b[0m \u001b[1m0s\u001b[0m 4ms/step - accuracy: 0.7458 - loss: 0.6954 - val_accuracy: 0.7440 - val_loss: 0.6779 - learning_rate: 2.5000e-04\n",
      "Epoch 73/2000\n",
      "\u001b[1m97/97\u001b[0m \u001b[32m━━━━━━━━━━━━━━━━━━━━\u001b[0m\u001b[37m\u001b[0m \u001b[1m0s\u001b[0m 4ms/step - accuracy: 0.7426 - loss: 0.6954 - val_accuracy: 0.7470 - val_loss: 0.6801 - learning_rate: 2.5000e-04\n",
      "Epoch 74/2000\n",
      "\u001b[1m97/97\u001b[0m \u001b[32m━━━━━━━━━━━━━━━━━━━━\u001b[0m\u001b[37m\u001b[0m \u001b[1m0s\u001b[0m 4ms/step - accuracy: 0.7461 - loss: 0.6968 - val_accuracy: 0.7440 - val_loss: 0.6788 - learning_rate: 2.5000e-04\n",
      "Epoch 75/2000\n",
      "\u001b[1m97/97\u001b[0m \u001b[32m━━━━━━━━━━━━━━━━━━━━\u001b[0m\u001b[37m\u001b[0m \u001b[1m0s\u001b[0m 4ms/step - accuracy: 0.7503 - loss: 0.6891 - val_accuracy: 0.7440 - val_loss: 0.6759 - learning_rate: 2.5000e-04\n",
      "Epoch 76/2000\n",
      "\u001b[1m97/97\u001b[0m \u001b[32m━━━━━━━━━━━━━━━━━━━━\u001b[0m\u001b[37m\u001b[0m \u001b[1m0s\u001b[0m 4ms/step - accuracy: 0.7506 - loss: 0.6911 - val_accuracy: 0.7440 - val_loss: 0.6770 - learning_rate: 2.5000e-04\n",
      "Epoch 77/2000\n",
      "\u001b[1m97/97\u001b[0m \u001b[32m━━━━━━━━━━━━━━━━━━━━\u001b[0m\u001b[37m\u001b[0m \u001b[1m0s\u001b[0m 5ms/step - accuracy: 0.7429 - loss: 0.6935 - val_accuracy: 0.7455 - val_loss: 0.6793 - learning_rate: 2.5000e-04\n",
      "Epoch 78/2000\n",
      "\u001b[1m97/97\u001b[0m \u001b[32m━━━━━━━━━━━━━━━━━━━━\u001b[0m\u001b[37m\u001b[0m \u001b[1m0s\u001b[0m 4ms/step - accuracy: 0.7348 - loss: 0.6977 - val_accuracy: 0.7485 - val_loss: 0.6790 - learning_rate: 2.5000e-04\n",
      "Epoch 79/2000\n",
      "\u001b[1m97/97\u001b[0m \u001b[32m━━━━━━━━━━━━━━━━━━━━\u001b[0m\u001b[37m\u001b[0m \u001b[1m0s\u001b[0m 4ms/step - accuracy: 0.7474 - loss: 0.6983 - val_accuracy: 0.7485 - val_loss: 0.6808 - learning_rate: 2.5000e-04\n",
      "Epoch 80/2000\n",
      "\u001b[1m97/97\u001b[0m \u001b[32m━━━━━━━━━━━━━━━━━━━━\u001b[0m\u001b[37m\u001b[0m \u001b[1m0s\u001b[0m 4ms/step - accuracy: 0.7503 - loss: 0.6945 - val_accuracy: 0.7530 - val_loss: 0.6774 - learning_rate: 2.5000e-04\n",
      "Epoch 81/2000\n",
      "\u001b[1m97/97\u001b[0m \u001b[32m━━━━━━━━━━━━━━━━━━━━\u001b[0m\u001b[37m\u001b[0m \u001b[1m0s\u001b[0m 4ms/step - accuracy: 0.7445 - loss: 0.7002 - val_accuracy: 0.7530 - val_loss: 0.6790 - learning_rate: 2.5000e-04\n",
      "Epoch 82/2000\n",
      "\u001b[1m97/97\u001b[0m \u001b[32m━━━━━━━━━━━━━━━━━━━━\u001b[0m\u001b[37m\u001b[0m \u001b[1m0s\u001b[0m 4ms/step - accuracy: 0.7464 - loss: 0.6946 - val_accuracy: 0.7440 - val_loss: 0.6742 - learning_rate: 2.5000e-04\n",
      "Epoch 83/2000\n",
      "\u001b[1m97/97\u001b[0m \u001b[32m━━━━━━━━━━━━━━━━━━━━\u001b[0m\u001b[37m\u001b[0m \u001b[1m1s\u001b[0m 4ms/step - accuracy: 0.7368 - loss: 0.7034 - val_accuracy: 0.7470 - val_loss: 0.6778 - learning_rate: 2.5000e-04\n",
      "Epoch 84/2000\n",
      "\u001b[1m97/97\u001b[0m \u001b[32m━━━━━━━━━━━━━━━━━━━━\u001b[0m\u001b[37m\u001b[0m \u001b[1m0s\u001b[0m 4ms/step - accuracy: 0.7419 - loss: 0.6913 - val_accuracy: 0.7470 - val_loss: 0.6835 - learning_rate: 2.5000e-04\n",
      "Epoch 85/2000\n",
      "\u001b[1m97/97\u001b[0m \u001b[32m━━━━━━━━━━━━━━━━━━━━\u001b[0m\u001b[37m\u001b[0m \u001b[1m0s\u001b[0m 4ms/step - accuracy: 0.7384 - loss: 0.6986 - val_accuracy: 0.7455 - val_loss: 0.6775 - learning_rate: 2.5000e-04\n",
      "Epoch 86/2000\n",
      "\u001b[1m97/97\u001b[0m \u001b[32m━━━━━━━━━━━━━━━━━━━━\u001b[0m\u001b[37m\u001b[0m \u001b[1m1s\u001b[0m 7ms/step - accuracy: 0.7487 - loss: 0.6958 - val_accuracy: 0.7500 - val_loss: 0.6762 - learning_rate: 2.5000e-04\n",
      "Epoch 87/2000\n",
      "\u001b[1m97/97\u001b[0m \u001b[32m━━━━━━━━━━━━━━━━━━━━\u001b[0m\u001b[37m\u001b[0m \u001b[1m1s\u001b[0m 5ms/step - accuracy: 0.7464 - loss: 0.6877 - val_accuracy: 0.7515 - val_loss: 0.6740 - learning_rate: 2.5000e-04\n",
      "Epoch 88/2000\n",
      "\u001b[1m97/97\u001b[0m \u001b[32m━━━━━━━━━━━━━━━━━━━━\u001b[0m\u001b[37m\u001b[0m \u001b[1m1s\u001b[0m 6ms/step - accuracy: 0.7555 - loss: 0.6852 - val_accuracy: 0.7440 - val_loss: 0.6741 - learning_rate: 2.5000e-04\n",
      "Epoch 89/2000\n",
      "\u001b[1m97/97\u001b[0m \u001b[32m━━━━━━━━━━━━━━━━━━━━\u001b[0m\u001b[37m\u001b[0m \u001b[1m0s\u001b[0m 4ms/step - accuracy: 0.7477 - loss: 0.6876 - val_accuracy: 0.7440 - val_loss: 0.6782 - learning_rate: 2.5000e-04\n",
      "Epoch 90/2000\n",
      "\u001b[1m97/97\u001b[0m \u001b[32m━━━━━━━━━━━━━━━━━━━━\u001b[0m\u001b[37m\u001b[0m \u001b[1m0s\u001b[0m 5ms/step - accuracy: 0.7529 - loss: 0.6899 - val_accuracy: 0.7485 - val_loss: 0.6721 - learning_rate: 2.5000e-04\n",
      "Epoch 91/2000\n",
      "\u001b[1m97/97\u001b[0m \u001b[32m━━━━━━━━━━━━━━━━━━━━\u001b[0m\u001b[37m\u001b[0m \u001b[1m1s\u001b[0m 5ms/step - accuracy: 0.7516 - loss: 0.6854 - val_accuracy: 0.7485 - val_loss: 0.6705 - learning_rate: 2.5000e-04\n",
      "Epoch 92/2000\n",
      "\u001b[1m97/97\u001b[0m \u001b[32m━━━━━━━━━━━━━━━━━━━━\u001b[0m\u001b[37m\u001b[0m \u001b[1m1s\u001b[0m 4ms/step - accuracy: 0.7510 - loss: 0.6988 - val_accuracy: 0.7470 - val_loss: 0.6719 - learning_rate: 2.5000e-04\n",
      "Epoch 93/2000\n",
      "\u001b[1m97/97\u001b[0m \u001b[32m━━━━━━━━━━━━━━━━━━━━\u001b[0m\u001b[37m\u001b[0m \u001b[1m0s\u001b[0m 4ms/step - accuracy: 0.7477 - loss: 0.6864 - val_accuracy: 0.7515 - val_loss: 0.6752 - learning_rate: 2.5000e-04\n",
      "Epoch 94/2000\n",
      "\u001b[1m97/97\u001b[0m \u001b[32m━━━━━━━━━━━━━━━━━━━━\u001b[0m\u001b[37m\u001b[0m \u001b[1m0s\u001b[0m 4ms/step - accuracy: 0.7471 - loss: 0.6901 - val_accuracy: 0.7440 - val_loss: 0.6753 - learning_rate: 2.5000e-04\n",
      "Epoch 95/2000\n",
      "\u001b[1m97/97\u001b[0m \u001b[32m━━━━━━━━━━━━━━━━━━━━\u001b[0m\u001b[37m\u001b[0m \u001b[1m0s\u001b[0m 4ms/step - accuracy: 0.7506 - loss: 0.6952 - val_accuracy: 0.7485 - val_loss: 0.6701 - learning_rate: 2.5000e-04\n",
      "Epoch 96/2000\n",
      "\u001b[1m97/97\u001b[0m \u001b[32m━━━━━━━━━━━━━━━━━━━━\u001b[0m\u001b[37m\u001b[0m \u001b[1m0s\u001b[0m 4ms/step - accuracy: 0.7461 - loss: 0.6935 - val_accuracy: 0.7515 - val_loss: 0.6721 - learning_rate: 2.5000e-04\n",
      "Epoch 97/2000\n",
      "\u001b[1m97/97\u001b[0m \u001b[32m━━━━━━━━━━━━━━━━━━━━\u001b[0m\u001b[37m\u001b[0m \u001b[1m0s\u001b[0m 4ms/step - accuracy: 0.7422 - loss: 0.6892 - val_accuracy: 0.7485 - val_loss: 0.6733 - learning_rate: 2.5000e-04\n",
      "Epoch 98/2000\n",
      "\u001b[1m97/97\u001b[0m \u001b[32m━━━━━━━━━━━━━━━━━━━━\u001b[0m\u001b[37m\u001b[0m \u001b[1m0s\u001b[0m 4ms/step - accuracy: 0.7439 - loss: 0.6984 - val_accuracy: 0.7485 - val_loss: 0.6738 - learning_rate: 2.5000e-04\n",
      "Epoch 99/2000\n",
      "\u001b[1m97/97\u001b[0m \u001b[32m━━━━━━━━━━━━━━━━━━━━\u001b[0m\u001b[37m\u001b[0m \u001b[1m0s\u001b[0m 4ms/step - accuracy: 0.7474 - loss: 0.6927 - val_accuracy: 0.7470 - val_loss: 0.6746 - learning_rate: 2.5000e-04\n",
      "Epoch 100/2000\n",
      "\u001b[1m97/97\u001b[0m \u001b[32m━━━━━━━━━━━━━━━━━━━━\u001b[0m\u001b[37m\u001b[0m \u001b[1m0s\u001b[0m 4ms/step - accuracy: 0.7471 - loss: 0.6981 - val_accuracy: 0.7425 - val_loss: 0.6798 - learning_rate: 2.5000e-04\n",
      "Epoch 101/2000\n",
      "\u001b[1m97/97\u001b[0m \u001b[32m━━━━━━━━━━━━━━━━━━━━\u001b[0m\u001b[37m\u001b[0m \u001b[1m0s\u001b[0m 4ms/step - accuracy: 0.7471 - loss: 0.6856 - val_accuracy: 0.7440 - val_loss: 0.6721 - learning_rate: 2.5000e-04\n",
      "Epoch 102/2000\n",
      "\u001b[1m85/97\u001b[0m \u001b[32m━━━━━━━━━━━━━━━━━\u001b[0m\u001b[37m━━━\u001b[0m \u001b[1m0s\u001b[0m 2ms/step - accuracy: 0.7556 - loss: 0.6898\n",
      "Epoch 102: ReduceLROnPlateau reducing learning rate to 0.0001250000059371814.\n",
      "\u001b[1m97/97\u001b[0m \u001b[32m━━━━━━━━━━━━━━━━━━━━\u001b[0m\u001b[37m\u001b[0m \u001b[1m0s\u001b[0m 4ms/step - accuracy: 0.7477 - loss: 0.6888 - val_accuracy: 0.7485 - val_loss: 0.6717 - learning_rate: 2.5000e-04\n",
      "Epoch 103/2000\n",
      "\u001b[1m97/97\u001b[0m \u001b[32m━━━━━━━━━━━━━━━━━━━━\u001b[0m\u001b[37m\u001b[0m \u001b[1m0s\u001b[0m 4ms/step - accuracy: 0.7503 - loss: 0.6867 - val_accuracy: 0.7470 - val_loss: 0.6662 - learning_rate: 1.2500e-04\n",
      "Epoch 104/2000\n",
      "\u001b[1m97/97\u001b[0m \u001b[32m━━━━━━━━━━━━━━━━━━━━\u001b[0m\u001b[37m\u001b[0m \u001b[1m1s\u001b[0m 4ms/step - accuracy: 0.7481 - loss: 0.6849 - val_accuracy: 0.7455 - val_loss: 0.6661 - learning_rate: 1.2500e-04\n",
      "Epoch 105/2000\n",
      "\u001b[1m97/97\u001b[0m \u001b[32m━━━━━━━━━━━━━━━━━━━━\u001b[0m\u001b[37m\u001b[0m \u001b[1m0s\u001b[0m 4ms/step - accuracy: 0.7529 - loss: 0.6726 - val_accuracy: 0.7470 - val_loss: 0.6653 - learning_rate: 1.2500e-04\n",
      "Epoch 106/2000\n",
      "\u001b[1m97/97\u001b[0m \u001b[32m━━━━━━━━━━━━━━━━━━━━\u001b[0m\u001b[37m\u001b[0m \u001b[1m0s\u001b[0m 4ms/step - accuracy: 0.7448 - loss: 0.6972 - val_accuracy: 0.7455 - val_loss: 0.6680 - learning_rate: 1.2500e-04\n",
      "Epoch 107/2000\n",
      "\u001b[1m97/97\u001b[0m \u001b[32m━━━━━━━━━━━━━━━━━━━━\u001b[0m\u001b[37m\u001b[0m \u001b[1m0s\u001b[0m 4ms/step - accuracy: 0.7458 - loss: 0.6870 - val_accuracy: 0.7440 - val_loss: 0.6678 - learning_rate: 1.2500e-04\n",
      "Epoch 108/2000\n",
      "\u001b[1m97/97\u001b[0m \u001b[32m━━━━━━━━━━━━━━━━━━━━\u001b[0m\u001b[37m\u001b[0m \u001b[1m0s\u001b[0m 4ms/step - accuracy: 0.7477 - loss: 0.6879 - val_accuracy: 0.7455 - val_loss: 0.6676 - learning_rate: 1.2500e-04\n",
      "Epoch 109/2000\n",
      "\u001b[1m97/97\u001b[0m \u001b[32m━━━━━━━━━━━━━━━━━━━━\u001b[0m\u001b[37m\u001b[0m \u001b[1m0s\u001b[0m 4ms/step - accuracy: 0.7510 - loss: 0.6725 - val_accuracy: 0.7440 - val_loss: 0.6640 - learning_rate: 1.2500e-04\n",
      "Epoch 110/2000\n",
      "\u001b[1m97/97\u001b[0m \u001b[32m━━━━━━━━━━━━━━━━━━━━\u001b[0m\u001b[37m\u001b[0m \u001b[1m0s\u001b[0m 4ms/step - accuracy: 0.7471 - loss: 0.6745 - val_accuracy: 0.7485 - val_loss: 0.6683 - learning_rate: 1.2500e-04\n",
      "Epoch 111/2000\n",
      "\u001b[1m97/97\u001b[0m \u001b[32m━━━━━━━━━━━━━━━━━━━━\u001b[0m\u001b[37m\u001b[0m \u001b[1m0s\u001b[0m 4ms/step - accuracy: 0.7484 - loss: 0.6798 - val_accuracy: 0.7485 - val_loss: 0.6645 - learning_rate: 1.2500e-04\n",
      "Epoch 112/2000\n",
      "\u001b[1m97/97\u001b[0m \u001b[32m━━━━━━━━━━━━━━━━━━━━\u001b[0m\u001b[37m\u001b[0m \u001b[1m1s\u001b[0m 7ms/step - accuracy: 0.7432 - loss: 0.6825 - val_accuracy: 0.7500 - val_loss: 0.6639 - learning_rate: 1.2500e-04\n",
      "Epoch 113/2000\n",
      "\u001b[1m97/97\u001b[0m \u001b[32m━━━━━━━━━━━━━━━━━━━━\u001b[0m\u001b[37m\u001b[0m \u001b[1m1s\u001b[0m 6ms/step - accuracy: 0.7461 - loss: 0.6790 - val_accuracy: 0.7470 - val_loss: 0.6617 - learning_rate: 1.2500e-04\n",
      "Epoch 114/2000\n",
      "\u001b[1m97/97\u001b[0m \u001b[32m━━━━━━━━━━━━━━━━━━━━\u001b[0m\u001b[37m\u001b[0m \u001b[1m0s\u001b[0m 4ms/step - accuracy: 0.7526 - loss: 0.6756 - val_accuracy: 0.7440 - val_loss: 0.6646 - learning_rate: 1.2500e-04\n",
      "Epoch 115/2000\n",
      "\u001b[1m97/97\u001b[0m \u001b[32m━━━━━━━━━━━━━━━━━━━━\u001b[0m\u001b[37m\u001b[0m \u001b[1m1s\u001b[0m 3ms/step - accuracy: 0.7487 - loss: 0.6800 - val_accuracy: 0.7485 - val_loss: 0.6641 - learning_rate: 1.2500e-04\n",
      "Epoch 116/2000\n",
      "\u001b[1m97/97\u001b[0m \u001b[32m━━━━━━━━━━━━━━━━━━━━\u001b[0m\u001b[37m\u001b[0m \u001b[1m0s\u001b[0m 3ms/step - accuracy: 0.7487 - loss: 0.6840 - val_accuracy: 0.7485 - val_loss: 0.6647 - learning_rate: 1.2500e-04\n",
      "Epoch 117/2000\n",
      "\u001b[1m97/97\u001b[0m \u001b[32m━━━━━━━━━━━━━━━━━━━━\u001b[0m\u001b[37m\u001b[0m \u001b[1m0s\u001b[0m 3ms/step - accuracy: 0.7510 - loss: 0.6827 - val_accuracy: 0.7440 - val_loss: 0.6657 - learning_rate: 1.2500e-04\n",
      "Epoch 118/2000\n",
      "\u001b[1m97/97\u001b[0m \u001b[32m━━━━━━━━━━━━━━━━━━━━\u001b[0m\u001b[37m\u001b[0m \u001b[1m0s\u001b[0m 3ms/step - accuracy: 0.7471 - loss: 0.6852 - val_accuracy: 0.7455 - val_loss: 0.6642 - learning_rate: 1.2500e-04\n",
      "Epoch 119/2000\n",
      "\u001b[1m97/97\u001b[0m \u001b[32m━━━━━━━━━━━━━━━━━━━━\u001b[0m\u001b[37m\u001b[0m \u001b[1m0s\u001b[0m 4ms/step - accuracy: 0.7487 - loss: 0.6776 - val_accuracy: 0.7425 - val_loss: 0.6657 - learning_rate: 1.2500e-04\n",
      "Epoch 120/2000\n",
      "\u001b[1m92/97\u001b[0m \u001b[32m━━━━━━━━━━━━━━━━━━\u001b[0m\u001b[37m━━\u001b[0m \u001b[1m0s\u001b[0m 2ms/step - accuracy: 0.7479 - loss: 0.6870\n",
      "Epoch 120: ReduceLROnPlateau reducing learning rate to 6.25000029685907e-05.\n",
      "\u001b[1m97/97\u001b[0m \u001b[32m━━━━━━━━━━━━━━━━━━━━\u001b[0m\u001b[37m\u001b[0m \u001b[1m0s\u001b[0m 3ms/step - accuracy: 0.7487 - loss: 0.6808 - val_accuracy: 0.7485 - val_loss: 0.6646 - learning_rate: 1.2500e-04\n",
      "Epoch 121/2000\n",
      "\u001b[1m97/97\u001b[0m \u001b[32m━━━━━━━━━━━━━━━━━━━━\u001b[0m\u001b[37m\u001b[0m \u001b[1m0s\u001b[0m 4ms/step - accuracy: 0.7500 - loss: 0.6755 - val_accuracy: 0.7485 - val_loss: 0.6626 - learning_rate: 6.2500e-05\n",
      "Epoch 122/2000\n",
      "\u001b[1m97/97\u001b[0m \u001b[32m━━━━━━━━━━━━━━━━━━━━\u001b[0m\u001b[37m\u001b[0m \u001b[1m0s\u001b[0m 4ms/step - accuracy: 0.7571 - loss: 0.6732 - val_accuracy: 0.7470 - val_loss: 0.6613 - learning_rate: 6.2500e-05\n",
      "Epoch 123/2000\n",
      "\u001b[1m97/97\u001b[0m \u001b[32m━━━━━━━━━━━━━━━━━━━━\u001b[0m\u001b[37m\u001b[0m \u001b[1m0s\u001b[0m 4ms/step - accuracy: 0.7461 - loss: 0.6803 - val_accuracy: 0.7470 - val_loss: 0.6609 - learning_rate: 6.2500e-05\n",
      "Epoch 124/2000\n",
      "\u001b[1m97/97\u001b[0m \u001b[32m━━━━━━━━━━━━━━━━━━━━\u001b[0m\u001b[37m\u001b[0m \u001b[1m0s\u001b[0m 4ms/step - accuracy: 0.7435 - loss: 0.6791 - val_accuracy: 0.7455 - val_loss: 0.6616 - learning_rate: 6.2500e-05\n",
      "Epoch 125/2000\n",
      "\u001b[1m97/97\u001b[0m \u001b[32m━━━━━━━━━━━━━━━━━━━━\u001b[0m\u001b[37m\u001b[0m \u001b[1m1s\u001b[0m 4ms/step - accuracy: 0.7532 - loss: 0.6675 - val_accuracy: 0.7470 - val_loss: 0.6629 - learning_rate: 6.2500e-05\n",
      "Epoch 126/2000\n",
      "\u001b[1m97/97\u001b[0m \u001b[32m━━━━━━━━━━━━━━━━━━━━\u001b[0m\u001b[37m\u001b[0m \u001b[1m0s\u001b[0m 4ms/step - accuracy: 0.7464 - loss: 0.6758 - val_accuracy: 0.7455 - val_loss: 0.6610 - learning_rate: 6.2500e-05\n",
      "Epoch 127/2000\n",
      "\u001b[1m97/97\u001b[0m \u001b[32m━━━━━━━━━━━━━━━━━━━━\u001b[0m\u001b[37m\u001b[0m \u001b[1m0s\u001b[0m 4ms/step - accuracy: 0.7494 - loss: 0.6769 - val_accuracy: 0.7485 - val_loss: 0.6605 - learning_rate: 6.2500e-05\n",
      "Epoch 128/2000\n",
      "\u001b[1m97/97\u001b[0m \u001b[32m━━━━━━━━━━━━━━━━━━━━\u001b[0m\u001b[37m\u001b[0m \u001b[1m0s\u001b[0m 4ms/step - accuracy: 0.7532 - loss: 0.6731 - val_accuracy: 0.7485 - val_loss: 0.6603 - learning_rate: 6.2500e-05\n",
      "Epoch 129/2000\n",
      "\u001b[1m97/97\u001b[0m \u001b[32m━━━━━━━━━━━━━━━━━━━━\u001b[0m\u001b[37m\u001b[0m \u001b[1m1s\u001b[0m 7ms/step - accuracy: 0.7410 - loss: 0.6780 - val_accuracy: 0.7470 - val_loss: 0.6607 - learning_rate: 6.2500e-05\n",
      "Epoch 130/2000\n",
      "\u001b[1m97/97\u001b[0m \u001b[32m━━━━━━━━━━━━━━━━━━━━\u001b[0m\u001b[37m\u001b[0m \u001b[1m0s\u001b[0m 4ms/step - accuracy: 0.7500 - loss: 0.6712 - val_accuracy: 0.7455 - val_loss: 0.6604 - learning_rate: 6.2500e-05\n",
      "Epoch 131/2000\n",
      "\u001b[1m97/97\u001b[0m \u001b[32m━━━━━━━━━━━━━━━━━━━━\u001b[0m\u001b[37m\u001b[0m \u001b[1m0s\u001b[0m 4ms/step - accuracy: 0.7497 - loss: 0.6716 - val_accuracy: 0.7455 - val_loss: 0.6608 - learning_rate: 6.2500e-05\n",
      "Epoch 132/2000\n",
      "\u001b[1m97/97\u001b[0m \u001b[32m━━━━━━━━━━━━━━━━━━━━\u001b[0m\u001b[37m\u001b[0m \u001b[1m0s\u001b[0m 4ms/step - accuracy: 0.7458 - loss: 0.6754 - val_accuracy: 0.7455 - val_loss: 0.6604 - learning_rate: 6.2500e-05\n",
      "Epoch 133/2000\n",
      "\u001b[1m97/97\u001b[0m \u001b[32m━━━━━━━━━━━━━━━━━━━━\u001b[0m\u001b[37m\u001b[0m \u001b[1m0s\u001b[0m 5ms/step - accuracy: 0.7458 - loss: 0.6766 - val_accuracy: 0.7455 - val_loss: 0.6609 - learning_rate: 6.2500e-05\n",
      "Epoch 134/2000\n",
      "\u001b[1m97/97\u001b[0m \u001b[32m━━━━━━━━━━━━━━━━━━━━\u001b[0m\u001b[37m\u001b[0m \u001b[1m0s\u001b[0m 4ms/step - accuracy: 0.7510 - loss: 0.6762 - val_accuracy: 0.7470 - val_loss: 0.6609 - learning_rate: 6.2500e-05\n",
      "Epoch 135/2000\n",
      "\u001b[1m97/97\u001b[0m \u001b[32m━━━━━━━━━━━━━━━━━━━━\u001b[0m\u001b[37m\u001b[0m \u001b[1m1s\u001b[0m 6ms/step - accuracy: 0.7422 - loss: 0.6754 - val_accuracy: 0.7470 - val_loss: 0.6597 - learning_rate: 6.2500e-05\n",
      "Epoch 136/2000\n",
      "\u001b[1m97/97\u001b[0m \u001b[32m━━━━━━━━━━━━━━━━━━━━\u001b[0m\u001b[37m\u001b[0m \u001b[1m0s\u001b[0m 4ms/step - accuracy: 0.7468 - loss: 0.6777 - val_accuracy: 0.7455 - val_loss: 0.6603 - learning_rate: 6.2500e-05\n",
      "Epoch 137/2000\n",
      "\u001b[1m97/97\u001b[0m \u001b[32m━━━━━━━━━━━━━━━━━━━━\u001b[0m\u001b[37m\u001b[0m \u001b[1m0s\u001b[0m 4ms/step - accuracy: 0.7484 - loss: 0.6732 - val_accuracy: 0.7455 - val_loss: 0.6611 - learning_rate: 6.2500e-05\n",
      "Epoch 138/2000\n",
      "\u001b[1m97/97\u001b[0m \u001b[32m━━━━━━━━━━━━━━━━━━━━\u001b[0m\u001b[37m\u001b[0m \u001b[1m0s\u001b[0m 4ms/step - accuracy: 0.7474 - loss: 0.6767 - val_accuracy: 0.7455 - val_loss: 0.6609 - learning_rate: 6.2500e-05\n",
      "Epoch 139/2000\n",
      "\u001b[1m97/97\u001b[0m \u001b[32m━━━━━━━━━━━━━━━━━━━━\u001b[0m\u001b[37m\u001b[0m \u001b[1m1s\u001b[0m 4ms/step - accuracy: 0.7545 - loss: 0.6703 - val_accuracy: 0.7455 - val_loss: 0.6599 - learning_rate: 6.2500e-05\n",
      "Epoch 140/2000\n",
      "\u001b[1m97/97\u001b[0m \u001b[32m━━━━━━━━━━━━━━━━━━━━\u001b[0m\u001b[37m\u001b[0m \u001b[1m0s\u001b[0m 4ms/step - accuracy: 0.7471 - loss: 0.6704 - val_accuracy: 0.7470 - val_loss: 0.6603 - learning_rate: 6.2500e-05\n",
      "Epoch 141/2000\n",
      "\u001b[1m97/97\u001b[0m \u001b[32m━━━━━━━━━━━━━━━━━━━━\u001b[0m\u001b[37m\u001b[0m \u001b[1m0s\u001b[0m 4ms/step - accuracy: 0.7503 - loss: 0.6764 - val_accuracy: 0.7455 - val_loss: 0.6608 - learning_rate: 6.2500e-05\n",
      "Epoch 142/2000\n",
      "\u001b[1m97/97\u001b[0m \u001b[32m━━━━━━━━━━━━━━━━━━━━\u001b[0m\u001b[37m\u001b[0m \u001b[1m0s\u001b[0m 4ms/step - accuracy: 0.7439 - loss: 0.6797 - val_accuracy: 0.7470 - val_loss: 0.6585 - learning_rate: 6.2500e-05\n",
      "Epoch 143/2000\n",
      "\u001b[1m97/97\u001b[0m \u001b[32m━━━━━━━━━━━━━━━━━━━━\u001b[0m\u001b[37m\u001b[0m \u001b[1m0s\u001b[0m 4ms/step - accuracy: 0.7506 - loss: 0.6684 - val_accuracy: 0.7470 - val_loss: 0.6588 - learning_rate: 6.2500e-05\n",
      "Epoch 144/2000\n",
      "\u001b[1m97/97\u001b[0m \u001b[32m━━━━━━━━━━━━━━━━━━━━\u001b[0m\u001b[37m\u001b[0m \u001b[1m0s\u001b[0m 4ms/step - accuracy: 0.7468 - loss: 0.6737 - val_accuracy: 0.7455 - val_loss: 0.6582 - learning_rate: 6.2500e-05\n",
      "Epoch 145/2000\n",
      "\u001b[1m97/97\u001b[0m \u001b[32m━━━━━━━━━━━━━━━━━━━━\u001b[0m\u001b[37m\u001b[0m \u001b[1m0s\u001b[0m 4ms/step - accuracy: 0.7487 - loss: 0.6662 - val_accuracy: 0.7485 - val_loss: 0.6578 - learning_rate: 6.2500e-05\n",
      "Epoch 146/2000\n",
      "\u001b[1m97/97\u001b[0m \u001b[32m━━━━━━━━━━━━━━━━━━━━\u001b[0m\u001b[37m\u001b[0m \u001b[1m0s\u001b[0m 5ms/step - accuracy: 0.7481 - loss: 0.6721 - val_accuracy: 0.7485 - val_loss: 0.6581 - learning_rate: 6.2500e-05\n",
      "Epoch 147/2000\n",
      "\u001b[1m97/97\u001b[0m \u001b[32m━━━━━━━━━━━━━━━━━━━━\u001b[0m\u001b[37m\u001b[0m \u001b[1m1s\u001b[0m 5ms/step - accuracy: 0.7500 - loss: 0.6804 - val_accuracy: 0.7455 - val_loss: 0.6575 - learning_rate: 6.2500e-05\n",
      "Epoch 148/2000\n",
      "\u001b[1m97/97\u001b[0m \u001b[32m━━━━━━━━━━━━━━━━━━━━\u001b[0m\u001b[37m\u001b[0m \u001b[1m0s\u001b[0m 4ms/step - accuracy: 0.7445 - loss: 0.6763 - val_accuracy: 0.7485 - val_loss: 0.6604 - learning_rate: 6.2500e-05\n",
      "Epoch 149/2000\n",
      "\u001b[1m97/97\u001b[0m \u001b[32m━━━━━━━━━━━━━━━━━━━━\u001b[0m\u001b[37m\u001b[0m \u001b[1m1s\u001b[0m 6ms/step - accuracy: 0.7468 - loss: 0.6806 - val_accuracy: 0.7470 - val_loss: 0.6599 - learning_rate: 6.2500e-05\n",
      "Epoch 150/2000\n",
      "\u001b[1m97/97\u001b[0m \u001b[32m━━━━━━━━━━━━━━━━━━━━\u001b[0m\u001b[37m\u001b[0m \u001b[1m1s\u001b[0m 6ms/step - accuracy: 0.7503 - loss: 0.6674 - val_accuracy: 0.7485 - val_loss: 0.6591 - learning_rate: 6.2500e-05\n",
      "Epoch 151/2000\n",
      "\u001b[1m97/97\u001b[0m \u001b[32m━━━━━━━━━━━━━━━━━━━━\u001b[0m\u001b[37m\u001b[0m \u001b[1m1s\u001b[0m 6ms/step - accuracy: 0.7510 - loss: 0.6787 - val_accuracy: 0.7455 - val_loss: 0.6589 - learning_rate: 6.2500e-05\n",
      "Epoch 152/2000\n",
      "\u001b[1m97/97\u001b[0m \u001b[32m━━━━━━━━━━━━━━━━━━━━\u001b[0m\u001b[37m\u001b[0m \u001b[1m0s\u001b[0m 4ms/step - accuracy: 0.7422 - loss: 0.6804 - val_accuracy: 0.7485 - val_loss: 0.6568 - learning_rate: 6.2500e-05\n",
      "Epoch 153/2000\n",
      "\u001b[1m97/97\u001b[0m \u001b[32m━━━━━━━━━━━━━━━━━━━━\u001b[0m\u001b[37m\u001b[0m \u001b[1m0s\u001b[0m 4ms/step - accuracy: 0.7422 - loss: 0.6758 - val_accuracy: 0.7455 - val_loss: 0.6571 - learning_rate: 6.2500e-05\n",
      "Epoch 154/2000\n",
      "\u001b[1m97/97\u001b[0m \u001b[32m━━━━━━━━━━━━━━━━━━━━\u001b[0m\u001b[37m\u001b[0m \u001b[1m0s\u001b[0m 4ms/step - accuracy: 0.7513 - loss: 0.6704 - val_accuracy: 0.7485 - val_loss: 0.6582 - learning_rate: 6.2500e-05\n",
      "Epoch 155/2000\n",
      "\u001b[1m97/97\u001b[0m \u001b[32m━━━━━━━━━━━━━━━━━━━━\u001b[0m\u001b[37m\u001b[0m \u001b[1m0s\u001b[0m 4ms/step - accuracy: 0.7426 - loss: 0.6836 - val_accuracy: 0.7485 - val_loss: 0.6577 - learning_rate: 6.2500e-05\n",
      "Epoch 156/2000\n",
      "\u001b[1m97/97\u001b[0m \u001b[32m━━━━━━━━━━━━━━━━━━━━\u001b[0m\u001b[37m\u001b[0m \u001b[1m0s\u001b[0m 4ms/step - accuracy: 0.7477 - loss: 0.6688 - val_accuracy: 0.7500 - val_loss: 0.6587 - learning_rate: 6.2500e-05\n",
      "Epoch 157/2000\n",
      "\u001b[1m97/97\u001b[0m \u001b[32m━━━━━━━━━━━━━━━━━━━━\u001b[0m\u001b[37m\u001b[0m \u001b[1m0s\u001b[0m 4ms/step - accuracy: 0.7422 - loss: 0.6795 - val_accuracy: 0.7455 - val_loss: 0.6583 - learning_rate: 6.2500e-05\n",
      "Epoch 158/2000\n",
      "\u001b[1m97/97\u001b[0m \u001b[32m━━━━━━━━━━━━━━━━━━━━\u001b[0m\u001b[37m\u001b[0m \u001b[1m0s\u001b[0m 4ms/step - accuracy: 0.7555 - loss: 0.6764 - val_accuracy: 0.7455 - val_loss: 0.6595 - learning_rate: 6.2500e-05\n",
      "Epoch 159/2000\n",
      "\u001b[1m81/97\u001b[0m \u001b[32m━━━━━━━━━━━━━━━━\u001b[0m\u001b[37m━━━━\u001b[0m \u001b[1m0s\u001b[0m 3ms/step - accuracy: 0.7295 - loss: 0.7141\n",
      "Epoch 159: ReduceLROnPlateau reducing learning rate to 3.125000148429535e-05.\n",
      "\u001b[1m97/97\u001b[0m \u001b[32m━━━━━━━━━━━━━━━━━━━━\u001b[0m\u001b[37m\u001b[0m \u001b[1m0s\u001b[0m 4ms/step - accuracy: 0.7374 - loss: 0.6916 - val_accuracy: 0.7500 - val_loss: 0.6579 - learning_rate: 6.2500e-05\n",
      "Epoch 160/2000\n",
      "\u001b[1m97/97\u001b[0m \u001b[32m━━━━━━━━━━━━━━━━━━━━\u001b[0m\u001b[37m\u001b[0m \u001b[1m0s\u001b[0m 4ms/step - accuracy: 0.7529 - loss: 0.6710 - val_accuracy: 0.7500 - val_loss: 0.6570 - learning_rate: 3.1250e-05\n",
      "Epoch 161/2000\n",
      "\u001b[1m97/97\u001b[0m \u001b[32m━━━━━━━━━━━━━━━━━━━━\u001b[0m\u001b[37m\u001b[0m \u001b[1m1s\u001b[0m 5ms/step - accuracy: 0.7474 - loss: 0.6696 - val_accuracy: 0.7455 - val_loss: 0.6564 - learning_rate: 3.1250e-05\n",
      "Epoch 162/2000\n",
      "\u001b[1m97/97\u001b[0m \u001b[32m━━━━━━━━━━━━━━━━━━━━\u001b[0m\u001b[37m\u001b[0m \u001b[1m0s\u001b[0m 4ms/step - accuracy: 0.7435 - loss: 0.6781 - val_accuracy: 0.7500 - val_loss: 0.6563 - learning_rate: 3.1250e-05\n",
      "Epoch 163/2000\n",
      "\u001b[1m97/97\u001b[0m \u001b[32m━━━━━━━━━━━━━━━━━━━━\u001b[0m\u001b[37m\u001b[0m \u001b[1m0s\u001b[0m 4ms/step - accuracy: 0.7584 - loss: 0.6731 - val_accuracy: 0.7500 - val_loss: 0.6559 - learning_rate: 3.1250e-05\n",
      "Epoch 164/2000\n",
      "\u001b[1m97/97\u001b[0m \u001b[32m━━━━━━━━━━━━━━━━━━━━\u001b[0m\u001b[37m\u001b[0m \u001b[1m0s\u001b[0m 4ms/step - accuracy: 0.7458 - loss: 0.6618 - val_accuracy: 0.7455 - val_loss: 0.6567 - learning_rate: 3.1250e-05\n",
      "Epoch 165/2000\n",
      "\u001b[1m97/97\u001b[0m \u001b[32m━━━━━━━━━━━━━━━━━━━━\u001b[0m\u001b[37m\u001b[0m \u001b[1m0s\u001b[0m 4ms/step - accuracy: 0.7474 - loss: 0.6683 - val_accuracy: 0.7470 - val_loss: 0.6563 - learning_rate: 3.1250e-05\n",
      "Epoch 166/2000\n",
      "\u001b[1m97/97\u001b[0m \u001b[32m━━━━━━━━━━━━━━━━━━━━\u001b[0m\u001b[37m\u001b[0m \u001b[1m0s\u001b[0m 4ms/step - accuracy: 0.7506 - loss: 0.6686 - val_accuracy: 0.7470 - val_loss: 0.6567 - learning_rate: 3.1250e-05\n",
      "Epoch 167/2000\n",
      "\u001b[1m97/97\u001b[0m \u001b[32m━━━━━━━━━━━━━━━━━━━━\u001b[0m\u001b[37m\u001b[0m \u001b[1m1s\u001b[0m 6ms/step - accuracy: 0.7484 - loss: 0.6752 - val_accuracy: 0.7485 - val_loss: 0.6558 - learning_rate: 3.1250e-05\n",
      "Epoch 168/2000\n",
      "\u001b[1m97/97\u001b[0m \u001b[32m━━━━━━━━━━━━━━━━━━━━\u001b[0m\u001b[37m\u001b[0m \u001b[1m1s\u001b[0m 4ms/step - accuracy: 0.7487 - loss: 0.6801 - val_accuracy: 0.7485 - val_loss: 0.6563 - learning_rate: 3.1250e-05\n",
      "Epoch 169/2000\n",
      "\u001b[1m97/97\u001b[0m \u001b[32m━━━━━━━━━━━━━━━━━━━━\u001b[0m\u001b[37m\u001b[0m \u001b[1m1s\u001b[0m 4ms/step - accuracy: 0.7445 - loss: 0.6758 - val_accuracy: 0.7485 - val_loss: 0.6567 - learning_rate: 3.1250e-05\n",
      "Epoch 170/2000\n",
      "\u001b[1m97/97\u001b[0m \u001b[32m━━━━━━━━━━━━━━━━━━━━\u001b[0m\u001b[37m\u001b[0m \u001b[1m0s\u001b[0m 4ms/step - accuracy: 0.7584 - loss: 0.6567 - val_accuracy: 0.7470 - val_loss: 0.6572 - learning_rate: 3.1250e-05\n",
      "Epoch 171/2000\n",
      "\u001b[1m97/97\u001b[0m \u001b[32m━━━━━━━━━━━━━━━━━━━━\u001b[0m\u001b[37m\u001b[0m \u001b[1m1s\u001b[0m 5ms/step - accuracy: 0.7529 - loss: 0.6691 - val_accuracy: 0.7455 - val_loss: 0.6572 - learning_rate: 3.1250e-05\n",
      "Epoch 172/2000\n",
      "\u001b[1m97/97\u001b[0m \u001b[32m━━━━━━━━━━━━━━━━━━━━\u001b[0m\u001b[37m\u001b[0m \u001b[1m1s\u001b[0m 6ms/step - accuracy: 0.7397 - loss: 0.6781 - val_accuracy: 0.7455 - val_loss: 0.6572 - learning_rate: 3.1250e-05\n",
      "Epoch 173/2000\n",
      "\u001b[1m97/97\u001b[0m \u001b[32m━━━━━━━━━━━━━━━━━━━━\u001b[0m\u001b[37m\u001b[0m \u001b[1m1s\u001b[0m 6ms/step - accuracy: 0.7500 - loss: 0.6760 - val_accuracy: 0.7455 - val_loss: 0.6573 - learning_rate: 3.1250e-05\n",
      "Epoch 174/2000\n",
      "\u001b[1m84/97\u001b[0m \u001b[32m━━━━━━━━━━━━━━━━━\u001b[0m\u001b[37m━━━\u001b[0m \u001b[1m0s\u001b[0m 2ms/step - accuracy: 0.7551 - loss: 0.6680\n",
      "Epoch 174: ReduceLROnPlateau reducing learning rate to 1.5625000742147677e-05.\n",
      "\u001b[1m97/97\u001b[0m \u001b[32m━━━━━━━━━━━━━━━━━━━━\u001b[0m\u001b[37m\u001b[0m \u001b[1m0s\u001b[0m 4ms/step - accuracy: 0.7500 - loss: 0.6739 - val_accuracy: 0.7470 - val_loss: 0.6565 - learning_rate: 3.1250e-05\n",
      "Epoch 175/2000\n",
      "\u001b[1m97/97\u001b[0m \u001b[32m━━━━━━━━━━━━━━━━━━━━\u001b[0m\u001b[37m\u001b[0m \u001b[1m1s\u001b[0m 6ms/step - accuracy: 0.7452 - loss: 0.6723 - val_accuracy: 0.7455 - val_loss: 0.6559 - learning_rate: 1.5625e-05\n",
      "Epoch 176/2000\n",
      "\u001b[1m97/97\u001b[0m \u001b[32m━━━━━━━━━━━━━━━━━━━━\u001b[0m\u001b[37m\u001b[0m \u001b[1m1s\u001b[0m 5ms/step - accuracy: 0.7442 - loss: 0.6744 - val_accuracy: 0.7470 - val_loss: 0.6553 - learning_rate: 1.5625e-05\n",
      "Epoch 177/2000\n",
      "\u001b[1m97/97\u001b[0m \u001b[32m━━━━━━━━━━━━━━━━━━━━\u001b[0m\u001b[37m\u001b[0m \u001b[1m0s\u001b[0m 4ms/step - accuracy: 0.7532 - loss: 0.6745 - val_accuracy: 0.7455 - val_loss: 0.6562 - learning_rate: 1.5625e-05\n",
      "Epoch 178/2000\n",
      "\u001b[1m97/97\u001b[0m \u001b[32m━━━━━━━━━━━━━━━━━━━━\u001b[0m\u001b[37m\u001b[0m \u001b[1m0s\u001b[0m 4ms/step - accuracy: 0.7461 - loss: 0.6704 - val_accuracy: 0.7470 - val_loss: 0.6551 - learning_rate: 1.5625e-05\n",
      "Epoch 179/2000\n",
      "\u001b[1m97/97\u001b[0m \u001b[32m━━━━━━━━━━━━━━━━━━━━\u001b[0m\u001b[37m\u001b[0m \u001b[1m0s\u001b[0m 4ms/step - accuracy: 0.7490 - loss: 0.6767 - val_accuracy: 0.7455 - val_loss: 0.6554 - learning_rate: 1.5625e-05\n",
      "Epoch 180/2000\n",
      "\u001b[1m97/97\u001b[0m \u001b[32m━━━━━━━━━━━━━━━━━━━━\u001b[0m\u001b[37m\u001b[0m \u001b[1m0s\u001b[0m 4ms/step - accuracy: 0.7477 - loss: 0.6746 - val_accuracy: 0.7470 - val_loss: 0.6558 - learning_rate: 1.5625e-05\n",
      "Epoch 181/2000\n",
      "\u001b[1m97/97\u001b[0m \u001b[32m━━━━━━━━━━━━━━━━━━━━\u001b[0m\u001b[37m\u001b[0m \u001b[1m0s\u001b[0m 4ms/step - accuracy: 0.7393 - loss: 0.6779 - val_accuracy: 0.7470 - val_loss: 0.6554 - learning_rate: 1.5625e-05\n",
      "Epoch 182/2000\n",
      "\u001b[1m97/97\u001b[0m \u001b[32m━━━━━━━━━━━━━━━━━━━━\u001b[0m\u001b[37m\u001b[0m \u001b[1m0s\u001b[0m 4ms/step - accuracy: 0.7471 - loss: 0.6766 - val_accuracy: 0.7470 - val_loss: 0.6554 - learning_rate: 1.5625e-05\n",
      "Epoch 183/2000\n",
      "\u001b[1m97/97\u001b[0m \u001b[32m━━━━━━━━━━━━━━━━━━━━\u001b[0m\u001b[37m\u001b[0m \u001b[1m0s\u001b[0m 4ms/step - accuracy: 0.7471 - loss: 0.6756 - val_accuracy: 0.7455 - val_loss: 0.6553 - learning_rate: 1.5625e-05\n",
      "Epoch 184/2000\n",
      "\u001b[1m97/97\u001b[0m \u001b[32m━━━━━━━━━━━━━━━━━━━━\u001b[0m\u001b[37m\u001b[0m \u001b[1m0s\u001b[0m 4ms/step - accuracy: 0.7464 - loss: 0.6743 - val_accuracy: 0.7455 - val_loss: 0.6559 - learning_rate: 1.5625e-05\n",
      "Epoch 185/2000\n",
      "\u001b[1m82/97\u001b[0m \u001b[32m━━━━━━━━━━━━━━━━\u001b[0m\u001b[37m━━━━\u001b[0m \u001b[1m0s\u001b[0m 3ms/step - accuracy: 0.7585 - loss: 0.6654\n",
      "Epoch 185: ReduceLROnPlateau reducing learning rate to 7.812500371073838e-06.\n",
      "\u001b[1m97/97\u001b[0m \u001b[32m━━━━━━━━━━━━━━━━━━━━\u001b[0m\u001b[37m\u001b[0m \u001b[1m0s\u001b[0m 4ms/step - accuracy: 0.7500 - loss: 0.6749 - val_accuracy: 0.7455 - val_loss: 0.6558 - learning_rate: 1.5625e-05\n",
      "Epoch 186/2000\n",
      "\u001b[1m97/97\u001b[0m \u001b[32m━━━━━━━━━━━━━━━━━━━━\u001b[0m\u001b[37m\u001b[0m \u001b[1m1s\u001b[0m 8ms/step - accuracy: 0.7548 - loss: 0.6650 - val_accuracy: 0.7455 - val_loss: 0.6553 - learning_rate: 7.8125e-06\n",
      "Epoch 187/2000\n",
      "\u001b[1m97/97\u001b[0m \u001b[32m━━━━━━━━━━━━━━━━━━━━\u001b[0m\u001b[37m\u001b[0m \u001b[1m1s\u001b[0m 8ms/step - accuracy: 0.7477 - loss: 0.6729 - val_accuracy: 0.7470 - val_loss: 0.6550 - learning_rate: 7.8125e-06\n",
      "Epoch 188/2000\n",
      "\u001b[1m97/97\u001b[0m \u001b[32m━━━━━━━━━━━━━━━━━━━━\u001b[0m\u001b[37m\u001b[0m \u001b[1m0s\u001b[0m 4ms/step - accuracy: 0.7442 - loss: 0.6696 - val_accuracy: 0.7470 - val_loss: 0.6551 - learning_rate: 7.8125e-06\n",
      "Epoch 189/2000\n",
      "\u001b[1m97/97\u001b[0m \u001b[32m━━━━━━━━━━━━━━━━━━━━\u001b[0m\u001b[37m\u001b[0m \u001b[1m0s\u001b[0m 4ms/step - accuracy: 0.7510 - loss: 0.6704 - val_accuracy: 0.7470 - val_loss: 0.6551 - learning_rate: 7.8125e-06\n",
      "Epoch 190/2000\n",
      "\u001b[1m97/97\u001b[0m \u001b[32m━━━━━━━━━━━━━━━━━━━━\u001b[0m\u001b[37m\u001b[0m \u001b[1m0s\u001b[0m 4ms/step - accuracy: 0.7416 - loss: 0.6795 - val_accuracy: 0.7470 - val_loss: 0.6549 - learning_rate: 7.8125e-06\n",
      "Epoch 191/2000\n",
      "\u001b[1m97/97\u001b[0m \u001b[32m━━━━━━━━━━━━━━━━━━━━\u001b[0m\u001b[37m\u001b[0m \u001b[1m0s\u001b[0m 4ms/step - accuracy: 0.7481 - loss: 0.6791 - val_accuracy: 0.7455 - val_loss: 0.6551 - learning_rate: 7.8125e-06\n",
      "Epoch 192/2000\n",
      "\u001b[1m97/97\u001b[0m \u001b[32m━━━━━━━━━━━━━━━━━━━━\u001b[0m\u001b[37m\u001b[0m \u001b[1m0s\u001b[0m 4ms/step - accuracy: 0.7422 - loss: 0.6726 - val_accuracy: 0.7455 - val_loss: 0.6555 - learning_rate: 7.8125e-06\n",
      "Epoch 193/2000\n",
      "\u001b[1m97/97\u001b[0m \u001b[32m━━━━━━━━━━━━━━━━━━━━\u001b[0m\u001b[37m\u001b[0m \u001b[1m0s\u001b[0m 4ms/step - accuracy: 0.7500 - loss: 0.6681 - val_accuracy: 0.7455 - val_loss: 0.6551 - learning_rate: 7.8125e-06\n",
      "Epoch 194/2000\n",
      "\u001b[1m97/97\u001b[0m \u001b[32m━━━━━━━━━━━━━━━━━━━━\u001b[0m\u001b[37m\u001b[0m \u001b[1m0s\u001b[0m 5ms/step - accuracy: 0.7500 - loss: 0.6678 - val_accuracy: 0.7455 - val_loss: 0.6554 - learning_rate: 7.8125e-06\n",
      "Epoch 195/2000\n",
      "\u001b[1m97/97\u001b[0m \u001b[32m━━━━━━━━━━━━━━━━━━━━\u001b[0m\u001b[37m\u001b[0m \u001b[1m0s\u001b[0m 4ms/step - accuracy: 0.7500 - loss: 0.6754 - val_accuracy: 0.7485 - val_loss: 0.6549 - learning_rate: 7.8125e-06\n",
      "Epoch 196/2000\n",
      "\u001b[1m97/97\u001b[0m \u001b[32m━━━━━━━━━━━━━━━━━━━━\u001b[0m\u001b[37m\u001b[0m \u001b[1m1s\u001b[0m 5ms/step - accuracy: 0.7494 - loss: 0.6739 - val_accuracy: 0.7485 - val_loss: 0.6546 - learning_rate: 7.8125e-06\n",
      "Epoch 197/2000\n",
      "\u001b[1m97/97\u001b[0m \u001b[32m━━━━━━━━━━━━━━━━━━━━\u001b[0m\u001b[37m\u001b[0m \u001b[1m0s\u001b[0m 4ms/step - accuracy: 0.7416 - loss: 0.6753 - val_accuracy: 0.7470 - val_loss: 0.6549 - learning_rate: 7.8125e-06\n",
      "Epoch 198/2000\n",
      "\u001b[1m97/97\u001b[0m \u001b[32m━━━━━━━━━━━━━━━━━━━━\u001b[0m\u001b[37m\u001b[0m \u001b[1m1s\u001b[0m 5ms/step - accuracy: 0.7471 - loss: 0.6715 - val_accuracy: 0.7470 - val_loss: 0.6551 - learning_rate: 7.8125e-06\n",
      "Epoch 199/2000\n",
      "\u001b[1m97/97\u001b[0m \u001b[32m━━━━━━━━━━━━━━━━━━━━\u001b[0m\u001b[37m\u001b[0m \u001b[1m1s\u001b[0m 5ms/step - accuracy: 0.7419 - loss: 0.6786 - val_accuracy: 0.7470 - val_loss: 0.6548 - learning_rate: 7.8125e-06\n",
      "Epoch 200/2000\n",
      "\u001b[1m97/97\u001b[0m \u001b[32m━━━━━━━━━━━━━━━━━━━━\u001b[0m\u001b[37m\u001b[0m \u001b[1m0s\u001b[0m 4ms/step - accuracy: 0.7526 - loss: 0.6634 - val_accuracy: 0.7470 - val_loss: 0.6549 - learning_rate: 7.8125e-06\n",
      "Epoch 201/2000\n",
      "\u001b[1m97/97\u001b[0m \u001b[32m━━━━━━━━━━━━━━━━━━━━\u001b[0m\u001b[37m\u001b[0m \u001b[1m0s\u001b[0m 4ms/step - accuracy: 0.7497 - loss: 0.6748 - val_accuracy: 0.7470 - val_loss: 0.6548 - learning_rate: 7.8125e-06\n",
      "Epoch 202/2000\n",
      "\u001b[1m97/97\u001b[0m \u001b[32m━━━━━━━━━━━━━━━━━━━━\u001b[0m\u001b[37m\u001b[0m \u001b[1m0s\u001b[0m 4ms/step - accuracy: 0.7474 - loss: 0.6764 - val_accuracy: 0.7455 - val_loss: 0.6552 - learning_rate: 7.8125e-06\n",
      "Epoch 203/2000\n",
      "\u001b[1m84/97\u001b[0m \u001b[32m━━━━━━━━━━━━━━━━━\u001b[0m\u001b[37m━━━\u001b[0m \u001b[1m0s\u001b[0m 2ms/step - accuracy: 0.7397 - loss: 0.6812\n",
      "Epoch 203: ReduceLROnPlateau reducing learning rate to 3.906250185536919e-06.\n",
      "\u001b[1m97/97\u001b[0m \u001b[32m━━━━━━━━━━━━━━━━━━━━\u001b[0m\u001b[37m\u001b[0m \u001b[1m0s\u001b[0m 4ms/step - accuracy: 0.7439 - loss: 0.6742 - val_accuracy: 0.7455 - val_loss: 0.6555 - learning_rate: 7.8125e-06\n",
      "Epoch 204/2000\n",
      "\u001b[1m97/97\u001b[0m \u001b[32m━━━━━━━━━━━━━━━━━━━━\u001b[0m\u001b[37m\u001b[0m \u001b[1m1s\u001b[0m 4ms/step - accuracy: 0.7419 - loss: 0.6782 - val_accuracy: 0.7455 - val_loss: 0.6553 - learning_rate: 3.9063e-06\n",
      "Epoch 205/2000\n",
      "\u001b[1m97/97\u001b[0m \u001b[32m━━━━━━━━━━━━━━━━━━━━\u001b[0m\u001b[37m\u001b[0m \u001b[1m0s\u001b[0m 4ms/step - accuracy: 0.7452 - loss: 0.6766 - val_accuracy: 0.7455 - val_loss: 0.6554 - learning_rate: 3.9063e-06\n",
      "Epoch 206/2000\n",
      "\u001b[1m97/97\u001b[0m \u001b[32m━━━━━━━━━━━━━━━━━━━━\u001b[0m\u001b[37m\u001b[0m \u001b[1m0s\u001b[0m 4ms/step - accuracy: 0.7342 - loss: 0.6760 - val_accuracy: 0.7455 - val_loss: 0.6550 - learning_rate: 3.9063e-06\n",
      "Epoch 207/2000\n",
      "\u001b[1m97/97\u001b[0m \u001b[32m━━━━━━━━━━━━━━━━━━━━\u001b[0m\u001b[37m\u001b[0m \u001b[1m0s\u001b[0m 4ms/step - accuracy: 0.7439 - loss: 0.6788 - val_accuracy: 0.7470 - val_loss: 0.6548 - learning_rate: 3.9063e-06\n",
      "Epoch 208/2000\n",
      "\u001b[1m97/97\u001b[0m \u001b[32m━━━━━━━━━━━━━━━━━━━━\u001b[0m\u001b[37m\u001b[0m \u001b[1m0s\u001b[0m 4ms/step - accuracy: 0.7468 - loss: 0.6765 - val_accuracy: 0.7470 - val_loss: 0.6549 - learning_rate: 3.9063e-06\n",
      "Epoch 209/2000\n",
      "\u001b[1m97/97\u001b[0m \u001b[32m━━━━━━━━━━━━━━━━━━━━\u001b[0m\u001b[37m\u001b[0m \u001b[1m0s\u001b[0m 4ms/step - accuracy: 0.7474 - loss: 0.6719 - val_accuracy: 0.7455 - val_loss: 0.6551 - learning_rate: 3.9063e-06\n",
      "Epoch 210/2000\n",
      "\u001b[1m88/97\u001b[0m \u001b[32m━━━━━━━━━━━━━━━━━━\u001b[0m\u001b[37m━━\u001b[0m \u001b[1m0s\u001b[0m 2ms/step - accuracy: 0.7461 - loss: 0.6682\n",
      "Epoch 210: ReduceLROnPlateau reducing learning rate to 1.9531250927684596e-06.\n",
      "\u001b[1m97/97\u001b[0m \u001b[32m━━━━━━━━━━━━━━━━━━━━\u001b[0m\u001b[37m\u001b[0m \u001b[1m0s\u001b[0m 4ms/step - accuracy: 0.7468 - loss: 0.6644 - val_accuracy: 0.7455 - val_loss: 0.6550 - learning_rate: 3.9063e-06\n",
      "Epoch 211/2000\n",
      "\u001b[1m97/97\u001b[0m \u001b[32m━━━━━━━━━━━━━━━━━━━━\u001b[0m\u001b[37m\u001b[0m \u001b[1m1s\u001b[0m 4ms/step - accuracy: 0.7468 - loss: 0.6698 - val_accuracy: 0.7455 - val_loss: 0.6548 - learning_rate: 1.9531e-06\n"
     ]
    }
   ],
   "source": [
    "history = model.fit(X_train, y_train,validation_data=(X_val, y_val),epochs=2000,callbacks=callbacks_opt, verbose=1)"
   ]
  },
  {
   "cell_type": "markdown",
   "id": "d8a5e17b",
   "metadata": {},
   "source": [
    "### Training Performance\n",
    "\n",
    "The training and validation loss curves show a rapid decrease within the first few epochs, after which both losses stabilize at a low level.\n",
    "This indicates that the model converged quickly and achieved good generalization, as the validation loss closely follows the training loss without signs of overfitting. This code was used from the exercise notebook."
   ]
  },
  {
   "cell_type": "code",
   "execution_count": 33,
   "id": "6a0a860f",
   "metadata": {},
   "outputs": [
    {
     "data": {
      "text/plain": [
       "<Axes: >"
      ]
     },
     "execution_count": 33,
     "metadata": {},
     "output_type": "execute_result"
    },
    {
     "data": {
      "image/png": "[encoded data removed]",
      "text/plain": [
       "<Figure size 640x480 with 1 Axes>"
      ]
     },
     "metadata": {},
     "output_type": "display_data"
    }
   ],
   "source": [
    "loss_df = pd.DataFrame(model.history.history)\n",
    "loss_df[['loss', 'val_loss']].plot()"
   ]
  },
  {
   "cell_type": "markdown",
   "id": "1aa5c09f",
   "metadata": {},
   "source": [
    "### Model Accuracy\n",
    "\n",
    "The training and validation accuracy both increase rapidly during the first few epochs and then stabilize around 0.74–0.75.\n",
    "The close alignment of both curves indicates that the model learns effectively without overfitting and maintains consistent performance on unseen data. This code was used from the exercise notebook."
   ]
  },
  {
   "cell_type": "code",
   "execution_count": 34,
   "id": "0cb08110",
   "metadata": {},
   "outputs": [
    {
     "data": {
      "text/plain": [
       "<Axes: >"
      ]
     },
     "execution_count": 34,
     "metadata": {},
     "output_type": "execute_result"
    },
    {
     "data": {
      "image/png": "[encoded data removed]",
      "text/plain": [
       "<Figure size 640x480 with 1 Axes>"
      ]
     },
     "metadata": {},
     "output_type": "display_data"
    }
   ],
   "source": [
    "loss_df[['accuracy', 'val_accuracy']].plot()\n"
   ]
  },
  {
   "cell_type": "markdown",
   "id": "4c32f803",
   "metadata": {},
   "source": [
    "### Model Evaluation\n",
    "\n",
    "The model achieved an accuracy of 0.76 on both training and test data, with a loss of around 0.64.\n",
    "This indicates good generalization and no signs of overfitting.\n",
    "This evaluation was performed using code adapted from the exercise notebook."
   ]
  },
  {
   "cell_type": "code",
   "execution_count": 35,
   "id": "2b8d5151",
   "metadata": {},
   "outputs": [
    {
     "name": "stdout",
     "output_type": "stream",
     "text": [
      "Test data evaluation:\n",
      "[0.6407343745231628, 0.759036123752594]\n",
      "\n",
      "Train data evaluation:\n",
      "[0.6328875422477722, 0.7661498785018921]\n"
     ]
    }
   ],
   "source": [
    "print(\"Test data evaluation:\")\n",
    "print(model.evaluate(X_test, y_test, verbose=0))\n",
    "print(\"\\nTrain data evaluation:\")\n",
    "print(model.evaluate(X_train, y_train, verbose=0))"
   ]
  },
  {
   "cell_type": "code",
   "execution_count": 36,
   "id": "dc54b971",
   "metadata": {},
   "outputs": [
    {
     "name": "stdout",
     "output_type": "stream",
     "text": [
      "\u001b[1m21/21\u001b[0m \u001b[32m━━━━━━━━━━━━━━━━━━━━\u001b[0m\u001b[37m\u001b[0m \u001b[1m0s\u001b[0m 6ms/step\n"
     ]
    }
   ],
   "source": [
    "test_predictions = model.predict(X_test)\n",
    "test_predictions = np.argmax(test_predictions, axis=1)\n",
    "\n",
    "y_test = np.argmax(y_test, axis=1)"
   ]
  },
  {
   "cell_type": "code",
   "execution_count": 37,
   "id": "2a1950d0",
   "metadata": {},
   "outputs": [],
   "source": [
    "categories = [\"Dropout\", \"Enrolled\", \"Graduate\"]"
   ]
  },
  {
   "cell_type": "markdown",
   "id": "594ec47b",
   "metadata": {},
   "source": [
    "### Confusion Matrix\n",
    "\n",
    "The confusion matrix shows that the model correctly classified most instances across the two main categories (Dropout and Graduate).\n",
    "The highest accuracy is observed in the Graduate class, while some misclassifications occur between Dropout and Enrolled.\n",
    "The Enrolled category shows the highest level of misclassification.This code was used from the exercise notebook."
   ]
  },
  {
   "cell_type": "code",
   "execution_count": 38,
   "id": "03b69630",
   "metadata": {},
   "outputs": [
    {
     "data": {
      "text/plain": [
       "<Axes: >"
      ]
     },
     "execution_count": 38,
     "metadata": {},
     "output_type": "execute_result"
    },
    {
     "data": {
      "image/png": "[encoded data removed]",
      "text/plain": [
       "<Figure size 640x480 with 2 Axes>"
      ]
     },
     "metadata": {},
     "output_type": "display_data"
    }
   ],
   "source": [
    "sns.heatmap(confusion_matrix(y_test, test_predictions), annot=True, fmt='g', \n",
    "            xticklabels=categories, yticklabels=categories, cmap=\"Blues\")\n"
   ]
  },
  {
   "cell_type": "markdown",
   "id": "76c33acd",
   "metadata": {},
   "source": [
    "### Logistic Regression Results\n",
    "\n",
    "The Logistic Regression model achieved an overall accuracy of 75.9%.\n",
    "It performed best for the Graduate class (precision = 0.78, recall = 0.93, F1 = 0.85), while the Enrolled class showed weaker recall (0.23), indicating some misclassifications.\n",
    "Overall, the model performs reasonably well, especially in distinguishing Dropout and Graduate students."
   ]
  },
  {
   "cell_type": "code",
   "execution_count": 39,
   "id": "7a7b6ff3",
   "metadata": {},
   "outputs": [
    {
     "name": "stdout",
     "output_type": "stream",
     "text": [
      "              precision    recall  f1-score   support\n",
      "\n",
      "     Dropout       0.78      0.77      0.78       205\n",
      "    Enrolled       0.49      0.23      0.32       115\n",
      "    Graduate       0.78      0.93      0.85       344\n",
      "\n",
      "    accuracy                           0.76       664\n",
      "   macro avg       0.69      0.64      0.65       664\n",
      "weighted avg       0.73      0.76      0.73       664\n",
      "\n",
      "\n",
      "Model overall accuracy: 75.90%\n"
     ]
    }
   ],
   "source": [
    "print(classification_report(y_test, test_predictions, target_names=categories))\n",
    "\n",
    "acc = accuracy_score(y_test, test_predictions)\n",
    "print(\"\\nModel overall accuracy: {:.2f}%\".format(acc * 100))"
   ]
  },
  {
   "cell_type": "markdown",
   "id": "57582bbd",
   "metadata": {},
   "source": [
    "### ROC-AUC Result\n",
    "The model achieved a ROC-AUC score of 0.87, indicating a strong ability to distinguish between the three target classes (Dropout, Enrolled, Graduate)."
   ]
  },
  {
   "cell_type": "code",
   "execution_count": 40,
   "id": "81f067e9",
   "metadata": {},
   "outputs": [
    {
     "name": "stdout",
     "output_type": "stream",
     "text": [
      "\u001b[1m139/139\u001b[0m \u001b[32m━━━━━━━━━━━━━━━━━━━━\u001b[0m\u001b[37m\u001b[0m \u001b[1m0s\u001b[0m 1ms/step\n"
     ]
    },
    {
     "data": {
      "text/plain": [
       "0.8740267495110974"
      ]
     },
     "execution_count": 40,
     "metadata": {},
     "output_type": "execute_result"
    }
   ],
   "source": [
    "roc_auc_score(y, model.predict(X), multi_class=\"ovr\")"
   ]
  },
  {
   "cell_type": "markdown",
   "id": "426a65c4",
   "metadata": {},
   "source": [
    "### Logistic Regression\n",
    "The Logistic Regression implementation used in this project is based on following source: https://github.com/scikit-learn/scikit-learn/blob/main/sklearn/linear_model/_logistic.py. GPT was used to assist in optimizing and simplifying the code structure. The outcomes generated with GPT-guided optimization were validated through reproducible scikit-learn methods, which confirms that the reported accuracy and ROC-AUC values are reliable and based on standard, verifiable computations."
   ]
  },
  {
   "cell_type": "code",
   "execution_count": 41,
   "id": "f3bd6c38",
   "metadata": {},
   "outputs": [],
   "source": [
    "y_train, y_test = map(lambda y: np.argmax(y, axis=1) if y.ndim > 1 else y, [y_train, y_test])\n",
    "\n",
    "scaler = StandardScaler()\n",
    "X_train, X_test = scaler.fit_transform(X_train), scaler.transform(X_test)\n"
   ]
  },
  {
   "cell_type": "code",
   "execution_count": null,
   "id": "478c78f1",
   "metadata": {},
   "outputs": [],
   "source": [
    "log_reg = LogisticRegression(max_iter=2000)\n",
    "log_reg.fit(X_train, y_train)\n",
    "\n",
    "test_pred = log_reg.predict(X_test)\n",
    "test_probs = log_reg.predict_proba(X_test)"
   ]
  },
  {
   "cell_type": "code",
   "execution_count": 43,
   "id": "79578aea",
   "metadata": {},
   "outputs": [],
   "source": [
    "acc = accuracy_score(y_test, test_pred)\n",
    "roc_auc = roc_auc_score(y_test, test_probs, multi_class='ovr')\n"
   ]
  },
  {
   "cell_type": "code",
   "execution_count": 44,
   "id": "79412faf",
   "metadata": {},
   "outputs": [
    {
     "name": "stdout",
     "output_type": "stream",
     "text": [
      "Model Overall Accuracy: 0.7590\n",
      "ROC-AUC: 0.8603\n",
      "\n",
      "              precision    recall  f1-score   support\n",
      "\n",
      "     Dropout       0.81      0.77      0.79       205\n",
      "    Enrolled       0.52      0.29      0.37       115\n",
      "    Graduate       0.77      0.91      0.84       344\n",
      "\n",
      "    accuracy                           0.76       664\n",
      "   macro avg       0.70      0.66      0.66       664\n",
      "weighted avg       0.74      0.76      0.74       664\n",
      "\n"
     ]
    },
    {
     "data": {
      "image/png": "[encoded data removed]",
      "text/plain": [
       "<Figure size 640x480 with 2 Axes>"
      ]
     },
     "metadata": {},
     "output_type": "display_data"
    }
   ],
   "source": [
    "print(f\"Model Overall Accuracy: {acc:.4f}\")\n",
    "print(f\"ROC-AUC: {roc_auc:.4f}\\n\")\n",
    "print(classification_report(y_test, test_pred, target_names=['Dropout', 'Enrolled', 'Graduate']))\n",
    "\n",
    "sns.heatmap(confusion_matrix(y_test, test_pred), annot=True, fmt='g', cmap='Blues',\n",
    "            xticklabels=['Dropout', 'Enrolled', 'Graduate'],\n",
    "            yticklabels=['Dropout', 'Enrolled', 'Graduate'])\n",
    "plt.title(\"Confusion Matrix – Logistic Regression\")\n",
    "plt.xlabel(\"Predicted\"); plt.ylabel(\"True\")\n",
    "plt.show()"
   ]
  },
  {
   "cell_type": "markdown",
   "id": "bf62c675",
   "metadata": {},
   "source": [
    "### Model Comparison: Neural Network vs. Logistic Regression\n",
    "\n",
    "The Neural Network achieved an overall accuracy of 75.9% and a ROC-AUC of 0.87, indicating strong ability to capture non-linear relationships.\n",
    "The Logistic Regression model reached a similar accuracy of 75.9% with a ROC-AUC of 0.86. Despite its simpler structure, it performed nearly as well, suggesting that much of the data is linearly separable.\n",
    "\n",
    "Overall, both models performed comparably, Logistic Regression trained faster and achieved slightly better class precision, while the Neural Network provided slightly better class separation according to the ROC-AUC score."
   ]
  },
  {
   "cell_type": "code",
   "execution_count": 45,
   "id": "d3ec8f74",
   "metadata": {},
   "outputs": [
    {
     "data": {
      "text/plain": [
       "Index(['Previous qualification (grade)', 'Admission grade', 'Displaced',\n",
       "       'Educational special needs', 'Debtor', 'Tuition fees up to date',\n",
       "       'Gender', 'Scholarship holder', 'Age at enrollment', 'International',\n",
       "       'Unemployment rate', 'Inflation rate', 'GDP', 'single', 'partnered',\n",
       "       'prev_partnered', 'admission_general', 'admission_transfer',\n",
       "       'admission_special/international', 'high_priority', 'studyfield_stem',\n",
       "       'studyfield_business_social', 'studyfield_arts&comm', 'is_daytime',\n",
       "       'prevqual_basic', 'prevqual_secondary', 'prevqual_higher',\n",
       "       'nationality_europe', 'nationality_africa', 'nationality_south_america',\n",
       "       'nationality_north_america', 'nationality_asia',\n",
       "       'mother_qualification_basic', 'mother_qualification_secondary',\n",
       "       'mother_qualification_higher', 'father_qualification_basic',\n",
       "       'father_qualification_secondary', 'father_qualification_higher',\n",
       "       'mother_occ_academic', 'mother_occ_technical_admin',\n",
       "       'mother_occ_service_manual', 'mother_occ_unskilled_other',\n",
       "       'father_occ_academic', 'father_occ_technical_admin',\n",
       "       'father_occ_service_manual', 'father_occ_unskilled_other', 'avg_grade',\n",
       "       'success_rate', 'total_enrolled', 'no_evaluation_total'],\n",
       "      dtype='object')"
      ]
     },
     "execution_count": 45,
     "metadata": {},
     "output_type": "execute_result"
    }
   ],
   "source": [
    "X.columns"
   ]
  },
  {
   "cell_type": "markdown",
   "id": "e6c096f6",
   "metadata": {},
   "source": [
    "### Prediction Example\n",
    "\n",
    "To test the model, a single example student profile was created with features such as grades, demographics, and socioeconomic background.\n",
    "The trained model was used to predict the most likely outcome (Dropout, Enrolled, or Graduate) and the associated class probabilities. "
   ]
  },
  {
   "cell_type": "code",
   "execution_count": 46,
   "id": "0697756e",
   "metadata": {},
   "outputs": [
    {
     "name": "stdout",
     "output_type": "stream",
     "text": [
      "\u001b[1m1/1\u001b[0m \u001b[32m━━━━━━━━━━━━━━━━━━━━\u001b[0m\u001b[37m\u001b[0m \u001b[1m0s\u001b[0m 57ms/step\n",
      "Predicted outcome: Graduate\n",
      "\n",
      "Probabilities by class:\n",
      "['Dropout', 'Enrolled', 'Graduate']\n",
      "[0.17164235 0.35911682 0.46924078]\n"
     ]
    }
   ],
   "source": [
    "tester_row = {\n",
    "    \"Previous qualification (grade)\": 150.0,\n",
    "    \"Admission grade\": 140.0,\n",
    "    \"Displaced\": 0,\n",
    "    \"Educational special needs\": 0,\n",
    "    \"Debtor\": 0,\n",
    "    \"Tuition fees up to date\": 1,\n",
    "    \"Gender\": 1,\n",
    "    \"Scholarship holder\": 0,\n",
    "    \"Age at enrollment\": 20,\n",
    "    \"International\": 0,\n",
    "    \"Unemployment rate\": 5.2,\n",
    "    \"Inflation rate\": 1.2,\n",
    "    \"GDP\": 2.3,\n",
    "    \"single\": 1,\n",
    "    \"partnered\": 0,\n",
    "    \"prev_partnered\": 0,\n",
    "    \"admission_general\": 1,\n",
    "    \"admission_transfer\": 0,\n",
    "    \"admission_special/international\": 0,\n",
    "    \"high_priority\": 0,\n",
    "    \"studyfield_stem\": 1,\n",
    "    \"studyfield_business_social\": 0,\n",
    "    \"studyfield_arts&comm\": 0,\n",
    "    \"is_daytime\": 1,\n",
    "    \"prevqual_basic\": 1,\n",
    "    \"prevqual_secondary\": 0,\n",
    "    \"prevqual_higher\": 0,\n",
    "    \"nationality_europe\": 1,\n",
    "    \"nationality_africa\": 0,\n",
    "    \"nationality_south_america\": 0,\n",
    "    \"nationality_north_america\": 0,\n",
    "    \"nationality_asia\": 0,\n",
    "    \"mother_qualification_basic\": 0,\n",
    "    \"mother_qualification_secondary\": 1,\n",
    "    \"mother_qualification_higher\": 0,\n",
    "    \"father_qualification_basic\": 0,\n",
    "    \"father_qualification_secondary\": 0,\n",
    "    \"father_qualification_higher\": 1,\n",
    "    \"mother_occ_academic\": 0,\n",
    "    \"mother_occ_technical_admin\": 1,\n",
    "    \"mother_occ_service_manual\": 0,\n",
    "    \"mother_occ_unskilled_other\": 0,\n",
    "    \"father_occ_academic\": 0,\n",
    "    \"father_occ_technical_admin\": 0,\n",
    "    \"father_occ_service_manual\": 0,\n",
    "    \"father_occ_unskilled_other\": 1,\n",
    "    \"avg_grade\": 14.5,\n",
    "    \"success_rate\": 0.8,\n",
    "    \"total_enrolled\": 11,\n",
    "    \"no_evaluation_total\": 0\n",
    "}\n",
    "\n",
    "tester_row = pd.DataFrame([tester_row])\n",
    "\n",
    "result = model.predict(tester_row)[0]\n",
    "result_text = categories[np.argmax(result)]\n",
    "\n",
    "np.set_printoptions(precision=9, suppress=True)\n",
    "\n",
    "print(f\"Predicted outcome: {result_text}\\n\")\n",
    "print(\"Probabilities by class:\")\n",
    "print(categories)\n",
    "print(result)\n"
   ]
  },
  {
   "cell_type": "markdown",
   "id": "52cb71ad",
   "metadata": {},
   "source": [
    "### Student Outcome GUI\n",
    "\n",
    "For demonstration purposes, a simple GUI was implemented using Tkinter.\n",
    "The interface allows users to input student-related features (with default example values provided) and receive a predicted student outcome (Dropout, Enrolled, or Graduate) directly from the trained model.\n",
    "\n",
    "This GUI code was generated entirely by GPT, as I had not previously worked with Tkinter and wanted a quick and simple way to build an interface for testing predictions.\n",
    "The correctness was verified by ensuring that all model input features are included in the GUI and that the predicted class output matches the model’s expected format."
   ]
  },
  {
   "cell_type": "code",
   "execution_count": 47,
   "id": "ffe5058c",
   "metadata": {},
   "outputs": [],
   "source": [
    "model = load_model(\"best_model_student.keras\")\n",
    "\n",
    "default_values = {\n",
    "    \"Previous qualification (grade)\": 150.0,\n",
    "    \"Admission grade\": 140.0,\n",
    "    \"Displaced\": 0,\n",
    "    \"Educational special needs\": 0,\n",
    "    \"Debtor\": 0,\n",
    "    \"Tuition fees up to date\": 1,\n",
    "    \"Gender\": 1,\n",
    "    \"Scholarship holder\": 0,\n",
    "    \"Age at enrollment\": 20,\n",
    "    \"International\": 0,\n",
    "    \"Unemployment rate\": 5.2,\n",
    "    \"Inflation rate\": 1.2,\n",
    "    \"GDP\": 2.3,\n",
    "    \"single\": 1,\n",
    "    \"partnered\": 0,\n",
    "    \"prev_partnered\": 0,\n",
    "    \"admission_general\": 1,\n",
    "    \"admission_transfer\": 0,\n",
    "    \"admission_special/international\": 0,\n",
    "    \"high_priority\": 0,\n",
    "    \"studyfield_stem\": 1,\n",
    "    \"studyfield_business_social\": 0,\n",
    "    \"studyfield_arts&comm\": 0,\n",
    "    \"is_daytime\": 1,\n",
    "    \"prevqual_basic\": 1,\n",
    "    \"prevqual_secondary\": 0,\n",
    "    \"prevqual_higher\": 0,\n",
    "    \"nationality_europe\": 1,\n",
    "    \"nationality_africa\": 0,\n",
    "    \"nationality_south_america\": 0,\n",
    "    \"nationality_north_america\": 0,\n",
    "    \"nationality_asia\": 0,\n",
    "    \"mother_qualification_basic\": 0,\n",
    "    \"mother_qualification_secondary\": 1,\n",
    "    \"mother_qualification_higher\": 0,\n",
    "    \"father_qualification_basic\": 0,\n",
    "    \"father_qualification_secondary\": 0,\n",
    "    \"father_qualification_higher\": 1,\n",
    "    \"mother_occ_academic\": 0,\n",
    "    \"mother_occ_technical_admin\": 1,\n",
    "    \"mother_occ_service_manual\": 0,\n",
    "    \"mother_occ_unskilled_other\": 0,\n",
    "    \"father_occ_academic\": 0,\n",
    "    \"father_occ_technical_admin\": 0,\n",
    "    \"father_occ_service_manual\": 0,\n",
    "    \"father_occ_unskilled_other\": 1,\n",
    "    \"avg_grade\": 14.5,\n",
    "    \"success_rate\": 0.8,\n",
    "    \"total_enrolled\": 11,\n",
    "    \"no_evaluation_total\": 0\n",
    "}\n",
    "\n",
    "def predict():\n",
    "    try:\n",
    "        data = {f: float(entries[f].get()) for f in default_values.keys()}\n",
    "        df = pd.DataFrame([data])\n",
    "        pred = model.predict(df, verbose=0)[0]\n",
    "        result_text = f\"Predicted outcome probabilities:\\nDropout: {pred[0]:.2f}, Enrolled: {pred[1]:.2f}, Graduate: {pred[2]:.2f}\"\n",
    "        result_label.config(text=result_text)\n",
    "    except Exception as e:\n",
    "        messagebox.showerror(\"Error\", str(e))\n",
    "\n",
    "root = tk.Tk()\n",
    "root.title(\"Student Success Predictor\")\n",
    "root.geometry(\"600x700\")\n",
    "\n",
    "main_frame = tk.Frame(root)\n",
    "main_frame.pack(fill=tk.BOTH, expand=1)\n",
    "\n",
    "canvas = tk.Canvas(main_frame)\n",
    "canvas.pack(side=tk.LEFT, fill=tk.BOTH, expand=1)\n",
    "\n",
    "scrollbar = tk.Scrollbar(main_frame, orient=tk.VERTICAL, command=canvas.yview)\n",
    "scrollbar.pack(side=tk.RIGHT, fill=tk.Y)\n",
    "\n",
    "canvas.configure(yscrollcommand=scrollbar.set)\n",
    "canvas.bind(\"<Configure>\", lambda e: canvas.configure(scrollregion=canvas.bbox(\"all\")))\n",
    "\n",
    "frame_inside = tk.Frame(canvas)\n",
    "canvas.create_window((0, 0), window=frame_inside, anchor=\"nw\")\n",
    "\n",
    "entries = {}\n",
    "\n",
    "for f, example in default_values.items():\n",
    "    row = tk.Frame(frame_inside)\n",
    "    lab = tk.Label(row, width=28, text=f+\": \", anchor=\"w\")\n",
    "    ent = tk.Entry(row)\n",
    "    ent.insert(0, str(example))\n",
    "    hint = tk.Label(row, width=12, text=f\"(e.g. {example})\", anchor=\"w\", fg=\"grey\")\n",
    "\n",
    "    row.pack(side=tk.TOP, fill=tk.X, padx=5, pady=2)\n",
    "    lab.pack(side=tk.LEFT)\n",
    "    ent.pack(side=tk.LEFT, expand=tk.YES, fill=tk.X)\n",
    "    hint.pack(side=tk.RIGHT)\n",
    "\n",
    "    entries[f] = ent\n",
    "\n",
    "predict_button = tk.Button(frame_inside, text=\"Predict\", command=predict, bg=\"#4CAF50\", fg=\"white\", font=(\"Helvetica\", 10, \"bold\"))\n",
    "predict_button.pack(pady=10)\n",
    "\n",
    "result_label = tk.Label(frame_inside, text=\"Prediction will appear here\", font=(\"Helvetica\", 12), wraplength=500, justify=\"left\")\n",
    "result_label.pack(pady=10)\n",
    "\n",
    "def _on_mouse_wheel(event):\n",
    "    canvas.yview_scroll(int(-1 * (event.delta / 120)), \"units\")\n",
    "\n",
    "canvas.bind_all(\"<MouseWheel>\", _on_mouse_wheel)\n",
    "\n",
    "root.mainloop()\n"
   ]
  }
 ],
 "metadata": {
  "kernelspec": {
   "display_name": "Python 3",
   "language": "python",
   "name": "python3"
  },
  "language_info": {
   "codemirror_mode": {
    "name": "ipython",
    "version": 3
   },
   "file_extension": ".py",
   "mimetype": "text/x-python",
   "name": "python",
   "nbconvert_exporter": "python",
   "pygments_lexer": "ipython3",
   "version": "3.12.10"
  }
 },
 "nbformat": 4,
 "nbformat_minor": 5
}
