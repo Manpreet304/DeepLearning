{
 "cells": [
  {
   "cell_type": "markdown",
   "id": "6815ea17",
   "metadata": {},
   "source": [
    "### Importing Libraries\n",
    "\n",
    "This section imports all the essential libraries for data analysis, visualization, preprocessing, and model training. Additionally, setting a fixed random seed (SEED) ensures reproducibility of results, and configuring TensorFlow’s threading options guarantees deterministic execution."
   ]
  },
  {
   "cell_type": "code",
   "execution_count": 1,
   "id": "6587ef34",
   "metadata": {},
   "outputs": [],
   "source": [
    "import pandas as pd\n",
    "import numpy as np\n",
    "import matplotlib.pyplot as plt\n",
    "import seaborn as sns\n",
    "\n",
    "from sklearn.model_selection import train_test_split\n",
    "from sklearn.linear_model import LogisticRegression\n",
    "from sklearn.preprocessing import StandardScaler\n",
    "from sklearn.preprocessing import LabelEncoder\n",
    "from sklearn.feature_selection import SelectKBest, chi2\n",
    "from sklearn.metrics import classification_report\n",
    "from sklearn.metrics import confusion_matrix\n",
    "from sklearn.metrics import accuracy_score\n",
    "from sklearn.metrics import roc_auc_score\n",
    "\n",
    "import tensorflow as tf\n",
    "import tkinter as tk\n",
    "from tkinter import messagebox\n",
    "\n",
    "import keras\n",
    "from keras import layers\n",
    "from keras.models import load_model\n",
    "from keras.callbacks import ModelCheckpoint, EarlyStopping, ReduceLROnPlateau\n",
    "\n",
    "\n",
    "import random\n",
    "import os\n",
    "\n",
    "SEED = 12345\n",
    "\n",
    "random.seed(SEED)\n",
    "\n",
    "np.random.seed(SEED)\n",
    "\n",
    "tf.random.set_seed(SEED)\n",
    "\n",
    "os.environ['PYTHONHASHSEED'] = str(SEED)\n",
    "os.environ['TF_DETERMINISTIC_OPS'] = '1'\n",
    "\n",
    "tf.config.threading.set_inter_op_parallelism_threads(1)\n",
    "tf.config.threading.set_intra_op_parallelism_threads(1)"
   ]
  },
  {
   "cell_type": "markdown",
   "id": "74bf4c8b",
   "metadata": {},
   "source": [
    "### Loading the Dataset\n",
    "The dataset is loaded from a CSV file named data.csv using pandas. The semicolon is specified as the separator since the file uses “;” instead of a comma to separate values."
   ]
  },
  {
   "cell_type": "code",
   "execution_count": 2,
   "id": "78429bad",
   "metadata": {},
   "outputs": [],
   "source": [
    "df = pd.read_csv(\"data.csv\", sep=\";\")"
   ]
  },
  {
   "cell_type": "code",
   "execution_count": 3,
   "id": "43174033",
   "metadata": {},
   "outputs": [
    {
     "data": {
      "text/html": [
       "<div>\n",
       "<style scoped>\n",
       "    .dataframe tbody tr th:only-of-type {\n",
       "        vertical-align: middle;\n",
       "    }\n",
       "\n",
       "    .dataframe tbody tr th {\n",
       "        vertical-align: top;\n",
       "    }\n",
       "\n",
       "    .dataframe thead th {\n",
       "        text-align: right;\n",
       "    }\n",
       "</style>\n",
       "<table border=\"1\" class=\"dataframe\">\n",
       "  <thead>\n",
       "    <tr style=\"text-align: right;\">\n",
       "      <th></th>\n",
       "      <th>Marital status</th>\n",
       "      <th>Application mode</th>\n",
       "      <th>Application order</th>\n",
       "      <th>Course</th>\n",
       "      <th>Daytime/evening attendance\\t</th>\n",
       "      <th>Previous qualification</th>\n",
       "      <th>Previous qualification (grade)</th>\n",
       "      <th>Nacionality</th>\n",
       "      <th>Mother's qualification</th>\n",
       "      <th>Father's qualification</th>\n",
       "      <th>...</th>\n",
       "      <th>Curricular units 2nd sem (credited)</th>\n",
       "      <th>Curricular units 2nd sem (enrolled)</th>\n",
       "      <th>Curricular units 2nd sem (evaluations)</th>\n",
       "      <th>Curricular units 2nd sem (approved)</th>\n",
       "      <th>Curricular units 2nd sem (grade)</th>\n",
       "      <th>Curricular units 2nd sem (without evaluations)</th>\n",
       "      <th>Unemployment rate</th>\n",
       "      <th>Inflation rate</th>\n",
       "      <th>GDP</th>\n",
       "      <th>Target</th>\n",
       "    </tr>\n",
       "  </thead>\n",
       "  <tbody>\n",
       "    <tr>\n",
       "      <th>0</th>\n",
       "      <td>1</td>\n",
       "      <td>17</td>\n",
       "      <td>5</td>\n",
       "      <td>171</td>\n",
       "      <td>1</td>\n",
       "      <td>1</td>\n",
       "      <td>122.0</td>\n",
       "      <td>1</td>\n",
       "      <td>19</td>\n",
       "      <td>12</td>\n",
       "      <td>...</td>\n",
       "      <td>0</td>\n",
       "      <td>0</td>\n",
       "      <td>0</td>\n",
       "      <td>0</td>\n",
       "      <td>0.000000</td>\n",
       "      <td>0</td>\n",
       "      <td>10.8</td>\n",
       "      <td>1.4</td>\n",
       "      <td>1.74</td>\n",
       "      <td>Dropout</td>\n",
       "    </tr>\n",
       "    <tr>\n",
       "      <th>1</th>\n",
       "      <td>1</td>\n",
       "      <td>15</td>\n",
       "      <td>1</td>\n",
       "      <td>9254</td>\n",
       "      <td>1</td>\n",
       "      <td>1</td>\n",
       "      <td>160.0</td>\n",
       "      <td>1</td>\n",
       "      <td>1</td>\n",
       "      <td>3</td>\n",
       "      <td>...</td>\n",
       "      <td>0</td>\n",
       "      <td>6</td>\n",
       "      <td>6</td>\n",
       "      <td>6</td>\n",
       "      <td>13.666667</td>\n",
       "      <td>0</td>\n",
       "      <td>13.9</td>\n",
       "      <td>-0.3</td>\n",
       "      <td>0.79</td>\n",
       "      <td>Graduate</td>\n",
       "    </tr>\n",
       "    <tr>\n",
       "      <th>2</th>\n",
       "      <td>1</td>\n",
       "      <td>1</td>\n",
       "      <td>5</td>\n",
       "      <td>9070</td>\n",
       "      <td>1</td>\n",
       "      <td>1</td>\n",
       "      <td>122.0</td>\n",
       "      <td>1</td>\n",
       "      <td>37</td>\n",
       "      <td>37</td>\n",
       "      <td>...</td>\n",
       "      <td>0</td>\n",
       "      <td>6</td>\n",
       "      <td>0</td>\n",
       "      <td>0</td>\n",
       "      <td>0.000000</td>\n",
       "      <td>0</td>\n",
       "      <td>10.8</td>\n",
       "      <td>1.4</td>\n",
       "      <td>1.74</td>\n",
       "      <td>Dropout</td>\n",
       "    </tr>\n",
       "    <tr>\n",
       "      <th>3</th>\n",
       "      <td>1</td>\n",
       "      <td>17</td>\n",
       "      <td>2</td>\n",
       "      <td>9773</td>\n",
       "      <td>1</td>\n",
       "      <td>1</td>\n",
       "      <td>122.0</td>\n",
       "      <td>1</td>\n",
       "      <td>38</td>\n",
       "      <td>37</td>\n",
       "      <td>...</td>\n",
       "      <td>0</td>\n",
       "      <td>6</td>\n",
       "      <td>10</td>\n",
       "      <td>5</td>\n",
       "      <td>12.400000</td>\n",
       "      <td>0</td>\n",
       "      <td>9.4</td>\n",
       "      <td>-0.8</td>\n",
       "      <td>-3.12</td>\n",
       "      <td>Graduate</td>\n",
       "    </tr>\n",
       "    <tr>\n",
       "      <th>4</th>\n",
       "      <td>2</td>\n",
       "      <td>39</td>\n",
       "      <td>1</td>\n",
       "      <td>8014</td>\n",
       "      <td>0</td>\n",
       "      <td>1</td>\n",
       "      <td>100.0</td>\n",
       "      <td>1</td>\n",
       "      <td>37</td>\n",
       "      <td>38</td>\n",
       "      <td>...</td>\n",
       "      <td>0</td>\n",
       "      <td>6</td>\n",
       "      <td>6</td>\n",
       "      <td>6</td>\n",
       "      <td>13.000000</td>\n",
       "      <td>0</td>\n",
       "      <td>13.9</td>\n",
       "      <td>-0.3</td>\n",
       "      <td>0.79</td>\n",
       "      <td>Graduate</td>\n",
       "    </tr>\n",
       "  </tbody>\n",
       "</table>\n",
       "<p>5 rows × 37 columns</p>\n",
       "</div>"
      ],
      "text/plain": [
       "   Marital status  Application mode  Application order  Course  \\\n",
       "0               1                17                  5     171   \n",
       "1               1                15                  1    9254   \n",
       "2               1                 1                  5    9070   \n",
       "3               1                17                  2    9773   \n",
       "4               2                39                  1    8014   \n",
       "\n",
       "   Daytime/evening attendance\\t  Previous qualification  \\\n",
       "0                             1                       1   \n",
       "1                             1                       1   \n",
       "2                             1                       1   \n",
       "3                             1                       1   \n",
       "4                             0                       1   \n",
       "\n",
       "   Previous qualification (grade)  Nacionality  Mother's qualification  \\\n",
       "0                           122.0            1                      19   \n",
       "1                           160.0            1                       1   \n",
       "2                           122.0            1                      37   \n",
       "3                           122.0            1                      38   \n",
       "4                           100.0            1                      37   \n",
       "\n",
       "   Father's qualification  ...  Curricular units 2nd sem (credited)  \\\n",
       "0                      12  ...                                    0   \n",
       "1                       3  ...                                    0   \n",
       "2                      37  ...                                    0   \n",
       "3                      37  ...                                    0   \n",
       "4                      38  ...                                    0   \n",
       "\n",
       "   Curricular units 2nd sem (enrolled)  \\\n",
       "0                                    0   \n",
       "1                                    6   \n",
       "2                                    6   \n",
       "3                                    6   \n",
       "4                                    6   \n",
       "\n",
       "   Curricular units 2nd sem (evaluations)  \\\n",
       "0                                       0   \n",
       "1                                       6   \n",
       "2                                       0   \n",
       "3                                      10   \n",
       "4                                       6   \n",
       "\n",
       "   Curricular units 2nd sem (approved)  Curricular units 2nd sem (grade)  \\\n",
       "0                                    0                          0.000000   \n",
       "1                                    6                         13.666667   \n",
       "2                                    0                          0.000000   \n",
       "3                                    5                         12.400000   \n",
       "4                                    6                         13.000000   \n",
       "\n",
       "   Curricular units 2nd sem (without evaluations)  Unemployment rate  \\\n",
       "0                                               0               10.8   \n",
       "1                                               0               13.9   \n",
       "2                                               0               10.8   \n",
       "3                                               0                9.4   \n",
       "4                                               0               13.9   \n",
       "\n",
       "   Inflation rate   GDP    Target  \n",
       "0             1.4  1.74   Dropout  \n",
       "1            -0.3  0.79  Graduate  \n",
       "2             1.4  1.74   Dropout  \n",
       "3            -0.8 -3.12  Graduate  \n",
       "4            -0.3  0.79  Graduate  \n",
       "\n",
       "[5 rows x 37 columns]"
      ]
     },
     "execution_count": 3,
     "metadata": {},
     "output_type": "execute_result"
    }
   ],
   "source": [
    "df.head()"
   ]
  },
  {
   "cell_type": "markdown",
   "id": "56549658",
   "metadata": {},
   "source": [
    "### Data preprocessing\n",
    "In this section, the dataset is prepared and cleaned for model training. All data undergo the same preprocessing steps to ensure consistency. GPT was used only to suggest possible mapping strategies for creating new columns, and only the descriptions of the data values (e.g., what the numbers like 1, 2, or 3 represent) were provided so that meaningful columns could be created. No actual data was shared with the AI. The reference code for the data mapping logic was adapted from the following source: https://stackoverflow.com/questions/19913659/how-do-i-create-a-new-column-where-the-values-are-selected-based-on-an-existing"
   ]
  },
  {
   "cell_type": "markdown",
   "id": "8e23e794",
   "metadata": {},
   "source": [
    "The Marital status column is converted into three new binary columns, single, partnered, and previously_partnered, to simplify categorical data. The original column is then removed."
   ]
  },
  {
   "cell_type": "code",
   "execution_count": 4,
   "id": "81c8a4cf",
   "metadata": {},
   "outputs": [],
   "source": [
    "df[\"single\"] = (df[\"Marital status\"] == 1).astype(int)\n",
    "df[\"partnered\"] = df[\"Marital status\"].isin([2, 5]).astype(int)\n",
    "df[\"prev_partnered\"] = df[\"Marital status\"].isin([3, 4, 6]).astype(int)\n",
    "df = df.drop(columns=[\"Marital status\"])"
   ]
  },
  {
   "cell_type": "markdown",
   "id": "6d51ab0a",
   "metadata": {},
   "source": [
    "The Application mode column is mapped into three new binary columns, admission_general, admission_transfer, and admission_special/international. to group different admission types into broader categories. The original column is then removed."
   ]
  },
  {
   "cell_type": "code",
   "execution_count": 5,
   "id": "a89825a9",
   "metadata": {},
   "outputs": [],
   "source": [
    "df[\"admission_general\"] = df[\"Application mode\"].isin([1, 17, 18]).astype(int)\n",
    "df[\"admission_transfer\"] = df[\"Application mode\"].isin([42, 43, 44, 51, 53, 57]).astype(int)\n",
    "df[\"admission_special/international\"] = df[\"Application mode\"].isin([2, 5, 7, 10, 15, 16, 26, 27, 39]).astype(int)\n",
    "df = df.drop(columns=[\"Application mode\"])"
   ]
  },
  {
   "cell_type": "markdown",
   "id": "f2e28b72",
   "metadata": {},
   "source": [
    "The Application order column is transformed into a binary column called high_priority, indicating whether the application was among the top three choices. The original column is then removed."
   ]
  },
  {
   "cell_type": "code",
   "execution_count": 6,
   "id": "094f54bf",
   "metadata": {},
   "outputs": [],
   "source": [
    "df[\"high_priority\"] = (df[\"Application order\"] <= 3).astype(int)\n",
    "df = df.drop(columns=[\"Application order\"])"
   ]
  },
  {
   "cell_type": "markdown",
   "id": "4763dc15",
   "metadata": {},
   "source": [
    "The Course column is mapped into three new binary columns, studyfield_stem, studyfield_business_social, and studyfield_arts&comm, to group study programs into broader academic categories. The original column is then removed."
   ]
  },
  {
   "cell_type": "code",
   "execution_count": 7,
   "id": "110e48da",
   "metadata": {},
   "outputs": [],
   "source": [
    "df[\"studyfield_stem\"] = df[\"Course\"].isin([33, 9119, 9085]).astype(int)\n",
    "df[\"studyfield_business_social\"] = df[\"Course\"].isin([9147, 9991, 9670, 9254, 8014, 9238, 9853]).astype(int)\n",
    "df[\"studyfield_arts&comm\"] = df[\"Course\"].isin([171, 9070, 9773, 9130, 9500, 9556]).astype(int)\n",
    "df = df.drop(columns=[\"Course\"])"
   ]
  },
  {
   "cell_type": "markdown",
   "id": "4a2654ec",
   "metadata": {},
   "source": [
    "The Daytime/evening attendance column is renamed to is_daytime to simplify interpretation of study attendance type. The original column is then removed."
   ]
  },
  {
   "cell_type": "code",
   "execution_count": 8,
   "id": "6b4ad6b1",
   "metadata": {},
   "outputs": [],
   "source": [
    "df[\"is_daytime\"] = df[\"Daytime/evening attendance\\t\"]\n",
    "df = df.drop(columns=[\"Daytime/evening attendance\\t\"])"
   ]
  },
  {
   "cell_type": "markdown",
   "id": "6c3e7664",
   "metadata": {},
   "source": [
    "The Previous qualification column is mapped into three new binary columns, prevqual_basic, prevqual_secondary, and prevqual_higher, to categorize students by their highest level of prior education. The original column is then removed."
   ]
  },
  {
   "cell_type": "code",
   "execution_count": 9,
   "id": "fe9a403f",
   "metadata": {},
   "outputs": [],
   "source": [
    "df[\"prevqual_basic\"] = df[\"Previous qualification\"].isin([9, 10, 12, 14, 15, 19, 38]).astype(int)\n",
    "df[\"prevqual_secondary\"] = df[\"Previous qualification\"].isin([1, 39]).astype(int)\n",
    "df[\"prevqual_higher\"] = df[\"Previous qualification\"].isin([2, 3, 4, 5, 6, 40, 42, 43]).astype(int)\n",
    "df = df.drop(columns=[\"Previous qualification\"])"
   ]
  },
  {
   "cell_type": "markdown",
   "id": "16752efe",
   "metadata": {},
   "source": [
    "The Nationality column is mapped into five new binary columns, nationality_europe, nationality_africa, nationality_south_america, nationality_north_america, and nationality_asia, to group students by their continent of origin. The original column is then removed."
   ]
  },
  {
   "cell_type": "code",
   "execution_count": 10,
   "id": "950ef866",
   "metadata": {},
   "outputs": [],
   "source": [
    "df[\"nationality_europe\"] = df[\"Nacionality\"].isin([1, 2, 6, 11, 13, 14, 17, 62, 100, 103, 105]).astype(int)\n",
    "df[\"nationality_africa\"] = df[\"Nacionality\"].isin([21, 22, 24, 25, 26]).astype(int)\n",
    "df[\"nationality_south_america\"] = df[\"Nacionality\"].isin([41, 109]).astype(int)\n",
    "df[\"nationality_north_america\"] = df[\"Nacionality\"].isin([101, 108]).astype(int)\n",
    "df[\"nationality_asia\"] = df[\"Nacionality\"].isin([32]).astype(int)\n",
    "\n",
    "df = df.drop(columns=[\"Nacionality\"])"
   ]
  },
  {
   "cell_type": "markdown",
   "id": "01b8c0fd",
   "metadata": {},
   "source": [
    "The Mother's qualification column is mapped into three new binary columns, mother_qualification_basic, mother_qualification_secondary, and mother_qualification_higher, to classify the mother's highest education level. The original column is then removed."
   ]
  },
  {
   "cell_type": "code",
   "execution_count": 11,
   "id": "a50a5803",
   "metadata": {},
   "outputs": [],
   "source": [
    "df[\"mother_qualification_basic\"] = df[\"Mother's qualification\"].isin([9, 10, 11, 12, 14, 18, 19, 22, 26, 27, 29, 30, 35, 36, 37, 38]).astype(int)\n",
    "df[\"mother_qualification_secondary\"] = df[\"Mother's qualification\"].isin([1, 39]).astype(int)\n",
    "df[\"mother_qualification_higher\"] = df[\"Mother's qualification\"].isin([2, 3, 4, 5, 6, 40, 41, 42, 43, 44]).astype(int)\n",
    "df = df.drop(columns=[\"Mother's qualification\"])"
   ]
  },
  {
   "cell_type": "markdown",
   "id": "8da537f3",
   "metadata": {},
   "source": [
    "The Father's qualification column is mapped into three new binary columns, father_qualification_basic, father_qualification_secondary, and father_qualification_higher, to categorize the father's highest level of education. The original column is then removed"
   ]
  },
  {
   "cell_type": "code",
   "execution_count": 12,
   "id": "c6498aae",
   "metadata": {},
   "outputs": [],
   "source": [
    "df[\"father_qualification_basic\"] = df[\"Father's qualification\"].isin([9, 10, 11, 12, 13, 14, 18, 19, 20, 22, 25, 26, 27, 29, 30, 31, 33, 35, 36, 37, 38]).astype(int)\n",
    "df[\"father_qualification_secondary\"] = df[\"Father's qualification\"].isin([1, 39]).astype(int)\n",
    "df[\"father_qualification_higher\"] = df[\"Father's qualification\"].isin([2, 3, 4, 5, 6, 40, 41, 42, 43, 44]).astype(int)\n",
    "df = df.drop(columns=[\"Father's qualification\"])"
   ]
  },
  {
   "cell_type": "markdown",
   "id": "a9781628",
   "metadata": {},
   "source": [
    "The Mother's occupation column is mapped into four new binary columns, mother_occ_academic, mother_occ_technical_admin, mother_occ_service_manual, and mother_occ_unskilled_other, to group occupations by type and skill level. The original column is then removed."
   ]
  },
  {
   "cell_type": "code",
   "execution_count": 13,
   "id": "e590660e",
   "metadata": {},
   "outputs": [],
   "source": [
    "df[\"mother_occ_academic\"] = df[\"Mother's occupation\"].isin([1, 2, 122, 123, 125]).astype(int)\n",
    "df[\"mother_occ_technical_admin\"] = df[\"Mother's occupation\"].isin([3, 4, 131, 132, 134, 141, 143, 144]).astype(int)\n",
    "df[\"mother_occ_service_manual\"] = df[\"Mother's occupation\"].isin([5, 6, 7, 8, 151, 152, 153, 171, 173, 175, 194]).astype(int)\n",
    "df[\"mother_occ_unskilled_other\"] = df[\"Mother's occupation\"].isin([0, 9, 10, 90, 99, 191, 192, 193]).astype(int)\n",
    "df = df.drop(columns=[\"Mother's occupation\"])\n"
   ]
  },
  {
   "cell_type": "markdown",
   "id": "95afe103",
   "metadata": {},
   "source": [
    "The Father's occupation column is mapped into four new binary columns, father_occ_academic, father_occ_technical_admin, father_occ_service_manual, and father_occ_unskilled_other, to categorize occupations by type and skill level. The original column is then removed."
   ]
  },
  {
   "cell_type": "code",
   "execution_count": 14,
   "id": "6b8a7636",
   "metadata": {},
   "outputs": [],
   "source": [
    "df[\"father_occ_academic\"] = df[\"Father's occupation\"].isin([1, 2, 101, 102, 103, 112, 114, 121, 122, 123, 124, 135]).astype(int)\n",
    "df[\"father_occ_technical_admin\"] = df[\"Father's occupation\"].isin([3, 4, 131, 132, 134, 141, 143, 144]).astype(int)\n",
    "df[\"father_occ_service_manual\"] = df[\"Father's occupation\"].isin([5, 6, 7, 8, 151, 152, 153, 154, 161, 163, 171, 172, 174, 175, 181, 182, 183, 194, 195]).astype(int)\n",
    "df[\"father_occ_unskilled_other\"] = df[\"Father's occupation\"].isin([0, 9, 10, 90, 99, 192, 193]).astype(int)\n",
    "df = df.drop(columns=[\"Father's occupation\"])"
   ]
  },
  {
   "cell_type": "markdown",
   "id": "554d6326",
   "metadata": {},
   "source": [
    "A new column, avg_grade, is created by calculating the average of the grades from the first and second semesters. This provides a single metric representing each student’s overall academic performance."
   ]
  },
  {
   "cell_type": "code",
   "execution_count": 15,
   "id": "146d54e7",
   "metadata": {},
   "outputs": [],
   "source": [
    "df[\"avg_grade\"] = ((df[\"Curricular units 1st sem (grade)\"] + df[\"Curricular units 2nd sem (grade)\"]) / 2)"
   ]
  },
  {
   "cell_type": "markdown",
   "id": "4c97c8e1",
   "metadata": {},
   "source": [
    "The success_rate column is created by dividing the total number of approved curricular units by the total number of enrolled units across both semesters, rounded to two decimal places. This represents each student’s academic success ratio."
   ]
  },
  {
   "cell_type": "code",
   "execution_count": 16,
   "id": "14fdc355",
   "metadata": {},
   "outputs": [],
   "source": [
    "df[\"success_rate\"] = (((df[\"Curricular units 1st sem (approved)\"] + df[\"Curricular units 2nd sem (approved)\"]) /(df[\"Curricular units 1st sem (enrolled)\"] + df[\"Curricular units 2nd sem (enrolled)\"])).round(2))"
   ]
  },
  {
   "cell_type": "markdown",
   "id": "ece743ad",
   "metadata": {},
   "source": [
    "The total_enrolled column is created by summing the number of curricular units a student was enrolled in during the first and second semesters, providing the total course load for the academic year."
   ]
  },
  {
   "cell_type": "code",
   "execution_count": 17,
   "id": "813fb712",
   "metadata": {},
   "outputs": [],
   "source": [
    "df[\"total_enrolled\"] = (df[\"Curricular units 1st sem (enrolled)\"] + df[\"Curricular units 2nd sem (enrolled)\"])"
   ]
  },
  {
   "cell_type": "markdown",
   "id": "0d64222f",
   "metadata": {},
   "source": [
    "The no_evaluation_total column is created by adding the number of curricular units without evaluations from both semesters, indicating how many enrolled courses were not assessed overall."
   ]
  },
  {
   "cell_type": "code",
   "execution_count": 18,
   "id": "f515b5cf",
   "metadata": {},
   "outputs": [],
   "source": [
    "df[\"no_evaluation_total\"] = (df[\"Curricular units 1st sem (without evaluations)\"] + df[\"Curricular units 2nd sem (without evaluations)\"])"
   ]
  },
  {
   "cell_type": "markdown",
   "id": "3d8596ee",
   "metadata": {},
   "source": [
    "After deriving summary features such as avg_grade, success_rate, total_enrolled, and no_evaluation_total, all original semester-specific columns are removed to simplify the dataset and avoid redundancy."
   ]
  },
  {
   "cell_type": "code",
   "execution_count": 19,
   "id": "16e14386",
   "metadata": {},
   "outputs": [],
   "source": [
    "df = df.drop(columns=[\n",
    "    \"Curricular units 1st sem (credited)\",\n",
    "    \"Curricular units 1st sem (enrolled)\",\n",
    "    \"Curricular units 1st sem (evaluations)\",\n",
    "    \"Curricular units 1st sem (approved)\",\n",
    "    \"Curricular units 1st sem (without evaluations)\",\n",
    "    \"Curricular units 2nd sem (credited)\",\n",
    "    \"Curricular units 2nd sem (enrolled)\",\n",
    "    \"Curricular units 2nd sem (evaluations)\",\n",
    "    \"Curricular units 2nd sem (approved)\",\n",
    "    \"Curricular units 2nd sem (without evaluations)\",\n",
    "    \"Curricular units 1st sem (grade)\",\n",
    "    \"Curricular units 2nd sem (grade)\"\n",
    "])"
   ]
  },
  {
   "cell_type": "markdown",
   "id": "5e8baf68",
   "metadata": {},
   "source": [
    "### Target Variable Encoding\n",
    "The Target column is converted into a numerical column called prediction, where categorical outcomes are mapped as follows: Dropout = 0, Enrolled = 1, and Graduate = 2. The original Target column is then removed."
   ]
  },
  {
   "cell_type": "code",
   "execution_count": 20,
   "id": "48ba3a7c",
   "metadata": {},
   "outputs": [
    {
     "name": "stderr",
     "output_type": "stream",
     "text": [
      "C:\\Users\\Mani\\AppData\\Local\\Temp\\ipykernel_6468\\4092551096.py:1: FutureWarning: Downcasting behavior in `replace` is deprecated and will be removed in a future version. To retain the old behavior, explicitly call `result.infer_objects(copy=False)`. To opt-in to the future behavior, set `pd.set_option('future.no_silent_downcasting', True)`\n",
      "  df['prediction'] = df['Target'].replace({\n"
     ]
    }
   ],
   "source": [
    "df['prediction'] = df['Target'].replace({\n",
    "    'Dropout': 0,\n",
    "    'Enrolled': 1,\n",
    "    'Graduate': 2\n",
    "})\n",
    "df = df.drop(columns=['Target'])"
   ]
  },
  {
   "cell_type": "markdown",
   "id": "29c6ea73",
   "metadata": {},
   "source": [
    "### Target Distribution Check\n",
    "\n",
    "This command displays the frequency of each class within the prediction column, allowing verification of how many students belong to each outcome category (Dropout, Enrolled, Graduate)."
   ]
  },
  {
   "cell_type": "code",
   "execution_count": 21,
   "id": "3082d0b7",
   "metadata": {},
   "outputs": [
    {
     "data": {
      "text/plain": [
       "prediction\n",
       "2    2209\n",
       "0    1421\n",
       "1     794\n",
       "Name: count, dtype: int64"
      ]
     },
     "execution_count": 21,
     "metadata": {},
     "output_type": "execute_result"
    }
   ],
   "source": [
    "df['prediction'].value_counts()"
   ]
  },
  {
   "cell_type": "markdown",
   "id": "871d77ad",
   "metadata": {},
   "source": [
    "### Missing Values Check\n",
    "\n",
    "All numerical columns, except involves_counterfeit, are selected to check for missing values. The code prints the number of missing entries per column and the total number of missing values across the dataset, helping identify data completeness issues before model training."
   ]
  },
  {
   "cell_type": "code",
   "execution_count": 22,
   "id": "21d15b45",
   "metadata": {},
   "outputs": [
    {
     "name": "stdout",
     "output_type": "stream",
     "text": [
      "Admission grade                      0\n",
      "Age at enrollment                    0\n",
      "Debtor                               0\n",
      "Displaced                            0\n",
      "Educational special needs            0\n",
      "GDP                                  0\n",
      "Gender                               0\n",
      "Inflation rate                       0\n",
      "International                        0\n",
      "Previous qualification (grade)       0\n",
      "Scholarship holder                   0\n",
      "Tuition fees up to date              0\n",
      "Unemployment rate                    0\n",
      "admission_general                    0\n",
      "admission_special/international      0\n",
      "admission_transfer                   0\n",
      "avg_grade                            0\n",
      "father_occ_academic                  0\n",
      "father_occ_service_manual            0\n",
      "father_occ_technical_admin           0\n",
      "father_occ_unskilled_other           0\n",
      "father_qualification_basic           0\n",
      "father_qualification_higher          0\n",
      "father_qualification_secondary       0\n",
      "high_priority                        0\n",
      "is_daytime                           0\n",
      "mother_occ_academic                  0\n",
      "mother_occ_service_manual            0\n",
      "mother_occ_technical_admin           0\n",
      "mother_occ_unskilled_other           0\n",
      "mother_qualification_basic           0\n",
      "mother_qualification_higher          0\n",
      "mother_qualification_secondary       0\n",
      "nationality_africa                   0\n",
      "nationality_asia                     0\n",
      "nationality_europe                   0\n",
      "nationality_north_america            0\n",
      "nationality_south_america            0\n",
      "no_evaluation_total                  0\n",
      "partnered                            0\n",
      "prediction                           0\n",
      "prev_partnered                       0\n",
      "prevqual_basic                       0\n",
      "prevqual_higher                      0\n",
      "prevqual_secondary                   0\n",
      "single                               0\n",
      "studyfield_arts&comm                 0\n",
      "studyfield_business_social           0\n",
      "studyfield_stem                      0\n",
      "success_rate                       180\n",
      "total_enrolled                       0\n",
      "dtype: int64\n",
      "\n",
      "Total missing values: 180\n"
     ]
    }
   ],
   "source": [
    "num_cols = df.select_dtypes(include=[np.number]).columns.difference([\"involves_counterfeit\"])\n",
    "\n",
    "print(df[num_cols].isna().sum())\n",
    "\n",
    "print(\"\\nTotal missing values:\", df[num_cols].isna().sum().sum())\n"
   ]
  },
  {
   "cell_type": "markdown",
   "id": "892433d9",
   "metadata": {},
   "source": [
    "### Handling Missing Values\n",
    "\n",
    "The check revealed 180 missing values in the success_rate column. These likely correspond to students who did not complete their studies, resulting in missing academic performance data for those cases."
   ]
  },
  {
   "cell_type": "code",
   "execution_count": 23,
   "id": "51788094",
   "metadata": {},
   "outputs": [
    {
     "data": {
      "text/plain": [
       "success_rate    180\n",
       "dtype: int64"
      ]
     },
     "execution_count": 23,
     "metadata": {},
     "output_type": "execute_result"
    }
   ],
   "source": [
    "df.isna().sum()[df.isna().sum() > 0]"
   ]
  },
  {
   "cell_type": "markdown",
   "id": "0d7d005e",
   "metadata": {},
   "source": [
    "### Filling Missing Success Rates\n",
    "\n",
    "Missing values in the success_rate column are filled with 0. This approach retains students who did not complete their studies, allowing the model to learn from these cases instead of excluding them from the training data."
   ]
  },
  {
   "cell_type": "code",
   "execution_count": 24,
   "id": "08a0b260",
   "metadata": {},
   "outputs": [],
   "source": [
    "df[\"success_rate\"] = df[\"success_rate\"].fillna(0)"
   ]
  },
  {
   "cell_type": "markdown",
   "id": "939da034",
   "metadata": {},
   "source": [
    "### Duplicate Check and Removal\n",
    "\n",
    "The datast is checked for duplicat rows to ensure data integrity. Any duplicated founrd are displayed, then removed, and the index is reset. Thes step prevents redundant records from biasing the model or affecting statistical analysis."
   ]
  },
  {
   "cell_type": "code",
   "execution_count": 25,
   "id": "7e4ebbef",
   "metadata": {},
   "outputs": [
    {
     "name": "stdout",
     "output_type": "stream",
     "text": [
      "Number of duplicates: 0\n",
      "After dropping duplicates: 0\n"
     ]
    }
   ],
   "source": [
    "duplicates_count = df.duplicated().sum()\n",
    "print(\"Number of duplicates:\", duplicates_count)\n",
    "\n",
    "if duplicates_count > 0:\n",
    "    display(df[df.duplicated()])\n",
    "\n",
    "df = df.drop_duplicates().reset_index(drop=True)\n",
    "print(\"After dropping duplicates:\", df.duplicated().sum())\n"
   ]
  },
  {
   "cell_type": "markdown",
   "id": "7d3871ae",
   "metadata": {},
   "source": [
    "### Feature and Target Preparation\n",
    "\n",
    "The dataset is split into features (X) and target (prediction). The target values are label-encoded into numerical form using LabelEncoder and then one-hot encoded for use in a neural network. The variable categories stores the class labels (Dropout, Enrolled, Graduate) for reference. This code for the correlation matrix was used from the teaching notebook "
   ]
  },
  {
   "cell_type": "code",
   "execution_count": 26,
   "id": "4ec6e0f7",
   "metadata": {},
   "outputs": [
    {
     "data": {
      "text/plain": [
       "[0, 1, 2]"
      ]
     },
     "execution_count": 26,
     "metadata": {},
     "output_type": "execute_result"
    }
   ],
   "source": [
    "X = df.drop('prediction', axis=1)\n",
    "\n",
    "y_temp = df['prediction']\n",
    "\n",
    "le = LabelEncoder()\n",
    "y_enc = le.fit_transform(y_temp)\n",
    "\n",
    "y = tf.keras.utils.to_categorical(y_enc)\n",
    "\n",
    "categories = list(le.classes_)\n",
    "categories"
   ]
  },
  {
   "cell_type": "markdown",
   "id": "26e5b685",
   "metadata": {},
   "source": [
    "### Correlation Analysis\n",
    "\n",
    "A correlation matrix was computed to examine how each variable relates to the prediction (student outcome). The strongest positive correlations were found with success_rate (0.69), avg_grade (0.55), and Tuition fees up to date (0.41), indicating these factors are highly associated with academic success. Negative correlations, such as Debtor (-0.24) and Age at enrollment (-0.24), suggest that financial or demographic factors may increase the likelihood of dropout. This code for the correlation matrix was used from the teaching notebook"
   ]
  },
  {
   "cell_type": "code",
   "execution_count": 27,
   "id": "3da55101",
   "metadata": {},
   "outputs": [
    {
     "data": {
      "text/plain": [
       "prediction                         1.000000\n",
       "success_rate                       0.686626\n",
       "avg_grade                          0.550356\n",
       "Tuition fees up to date            0.409827\n",
       "Scholarship holder                 0.297595\n",
       "admission_general                  0.237744\n",
       "total_enrolled                     0.167721\n",
       "prevqual_secondary                 0.152671\n",
       "studyfield_arts&comm               0.142211\n",
       "Admission grade                    0.120889\n",
       "Displaced                          0.113986\n",
       "single                             0.106408\n",
       "Previous qualification (grade)     0.103764\n",
       "is_daytime                         0.075107\n",
       "father_occ_service_manual          0.067865\n",
       "father_qualification_basic         0.059223\n",
       "GDP                                0.044135\n",
       "mother_qualification_secondary     0.042204\n",
       "mother_occ_service_manual          0.031607\n",
       "mother_occ_technical_admin         0.030684\n",
       "nationality_africa                 0.021495\n",
       "mother_qualification_basic         0.014602\n",
       "Unemployment rate                  0.008627\n",
       "International                      0.003934\n",
       "father_qualification_secondary     0.001514\n",
       "father_occ_technical_admin        -0.002979\n",
       "nationality_asia                  -0.003016\n",
       "nationality_north_america         -0.005224\n",
       "nationality_europe                -0.005628\n",
       "Educational special needs         -0.007353\n",
       "mother_qualification_higher       -0.008258\n",
       "nationality_south_america         -0.010746\n",
       "mother_occ_academic               -0.025424\n",
       "Inflation rate                    -0.026874\n",
       "father_occ_academic               -0.030624\n",
       "father_qualification_higher       -0.033697\n",
       "mother_occ_unskilled_other        -0.038700\n",
       "admission_transfer                -0.044814\n",
       "father_occ_unskilled_other        -0.050347\n",
       "prev_partnered                    -0.051102\n",
       "prevqual_higher                   -0.066053\n",
       "high_priority                     -0.068081\n",
       "studyfield_business_social        -0.072757\n",
       "studyfield_stem                   -0.075487\n",
       "partnered                         -0.090967\n",
       "no_evaluation_total               -0.092045\n",
       "prevqual_basic                    -0.145369\n",
       "Gender                            -0.229270\n",
       "admission_special/international   -0.236153\n",
       "Debtor                            -0.240999\n",
       "Age at enrollment                 -0.243438\n",
       "Name: prediction, dtype: float64"
      ]
     },
     "execution_count": 27,
     "metadata": {},
     "output_type": "execute_result"
    }
   ],
   "source": [
    "corr_matrix = df.corr()['prediction']\n",
    "corr_matrix.sort_values(ascending=False)"
   ]
  },
  {
   "cell_type": "markdown",
   "id": "1e68daca",
   "metadata": {},
   "source": [
    "### Chi-Square Feature Importance Results\n",
    "\n",
    "The Chi-Square test identified the most influential features for predicting student outcomes. The highest-scoring variables are avg_grade (3016.44), success_rate (820.68), and Age at enrollment (715.98), indicating that academic performance and demographic factors play key roles in determining success. Features with lower scores, such as nationality_europe or father_occ_technical_admin, have minimal statistical impact on the target variable. This code for the correlation matrix was used from the teaching notebook"
   ]
  },
  {
   "cell_type": "code",
   "execution_count": 28,
   "id": "3b036629",
   "metadata": {},
   "outputs": [
    {
     "data": {
      "text/html": [
       "<div>\n",
       "<style scoped>\n",
       "    .dataframe tbody tr th:only-of-type {\n",
       "        vertical-align: middle;\n",
       "    }\n",
       "\n",
       "    .dataframe tbody tr th {\n",
       "        vertical-align: top;\n",
       "    }\n",
       "\n",
       "    .dataframe thead th {\n",
       "        text-align: right;\n",
       "    }\n",
       "</style>\n",
       "<table border=\"1\" class=\"dataframe\">\n",
       "  <thead>\n",
       "    <tr style=\"text-align: right;\">\n",
       "      <th></th>\n",
       "      <th>Features</th>\n",
       "      <th>Score</th>\n",
       "    </tr>\n",
       "  </thead>\n",
       "  <tbody>\n",
       "    <tr>\n",
       "      <th>46</th>\n",
       "      <td>avg_grade</td>\n",
       "      <td>3016.44</td>\n",
       "    </tr>\n",
       "    <tr>\n",
       "      <th>47</th>\n",
       "      <td>success_rate</td>\n",
       "      <td>820.68</td>\n",
       "    </tr>\n",
       "    <tr>\n",
       "      <th>8</th>\n",
       "      <td>Age at enrollment</td>\n",
       "      <td>715.98</td>\n",
       "    </tr>\n",
       "    <tr>\n",
       "      <th>7</th>\n",
       "      <td>Scholarship holder</td>\n",
       "      <td>308.11</td>\n",
       "    </tr>\n",
       "    <tr>\n",
       "      <th>4</th>\n",
       "      <td>Debtor</td>\n",
       "      <td>229.85</td>\n",
       "    </tr>\n",
       "    <tr>\n",
       "      <th>48</th>\n",
       "      <td>total_enrolled</td>\n",
       "      <td>226.82</td>\n",
       "    </tr>\n",
       "    <tr>\n",
       "      <th>49</th>\n",
       "      <td>no_evaluation_total</td>\n",
       "      <td>224.81</td>\n",
       "    </tr>\n",
       "    <tr>\n",
       "      <th>18</th>\n",
       "      <td>admission_special/international</td>\n",
       "      <td>203.51</td>\n",
       "    </tr>\n",
       "    <tr>\n",
       "      <th>6</th>\n",
       "      <td>Gender</td>\n",
       "      <td>151.22</td>\n",
       "    </tr>\n",
       "    <tr>\n",
       "      <th>1</th>\n",
       "      <td>Admission grade</td>\n",
       "      <td>112.25</td>\n",
       "    </tr>\n",
       "    <tr>\n",
       "      <th>24</th>\n",
       "      <td>prevqual_basic</td>\n",
       "      <td>109.79</td>\n",
       "    </tr>\n",
       "    <tr>\n",
       "      <th>5</th>\n",
       "      <td>Tuition fees up to date</td>\n",
       "      <td>98.29</td>\n",
       "    </tr>\n",
       "    <tr>\n",
       "      <th>16</th>\n",
       "      <td>admission_general</td>\n",
       "      <td>97.39</td>\n",
       "    </tr>\n",
       "    <tr>\n",
       "      <th>0</th>\n",
       "      <td>Previous qualification (grade)</td>\n",
       "      <td>72.35</td>\n",
       "    </tr>\n",
       "    <tr>\n",
       "      <th>22</th>\n",
       "      <td>studyfield_arts&amp;comm</td>\n",
       "      <td>65.38</td>\n",
       "    </tr>\n",
       "    <tr>\n",
       "      <th>20</th>\n",
       "      <td>studyfield_stem</td>\n",
       "      <td>48.96</td>\n",
       "    </tr>\n",
       "    <tr>\n",
       "      <th>14</th>\n",
       "      <td>partnered</td>\n",
       "      <td>41.24</td>\n",
       "    </tr>\n",
       "    <tr>\n",
       "      <th>26</th>\n",
       "      <td>prevqual_higher</td>\n",
       "      <td>38.28</td>\n",
       "    </tr>\n",
       "    <tr>\n",
       "      <th>2</th>\n",
       "      <td>Displaced</td>\n",
       "      <td>26.08</td>\n",
       "    </tr>\n",
       "    <tr>\n",
       "      <th>17</th>\n",
       "      <td>admission_transfer</td>\n",
       "      <td>21.16</td>\n",
       "    </tr>\n",
       "    <tr>\n",
       "      <th>12</th>\n",
       "      <td>GDP</td>\n",
       "      <td>16.83</td>\n",
       "    </tr>\n",
       "    <tr>\n",
       "      <th>25</th>\n",
       "      <td>prevqual_secondary</td>\n",
       "      <td>16.49</td>\n",
       "    </tr>\n",
       "    <tr>\n",
       "      <th>45</th>\n",
       "      <td>father_occ_unskilled_other</td>\n",
       "      <td>15.64</td>\n",
       "    </tr>\n",
       "    <tr>\n",
       "      <th>44</th>\n",
       "      <td>father_occ_service_manual</td>\n",
       "      <td>14.51</td>\n",
       "    </tr>\n",
       "    <tr>\n",
       "      <th>41</th>\n",
       "      <td>mother_occ_unskilled_other</td>\n",
       "      <td>13.71</td>\n",
       "    </tr>\n",
       "    <tr>\n",
       "      <th>21</th>\n",
       "      <td>studyfield_business_social</td>\n",
       "      <td>13.70</td>\n",
       "    </tr>\n",
       "    <tr>\n",
       "      <th>34</th>\n",
       "      <td>mother_qualification_higher</td>\n",
       "      <td>13.39</td>\n",
       "    </tr>\n",
       "    <tr>\n",
       "      <th>37</th>\n",
       "      <td>father_qualification_higher</td>\n",
       "      <td>11.77</td>\n",
       "    </tr>\n",
       "    <tr>\n",
       "      <th>15</th>\n",
       "      <td>prev_partnered</td>\n",
       "      <td>11.30</td>\n",
       "    </tr>\n",
       "    <tr>\n",
       "      <th>42</th>\n",
       "      <td>father_occ_academic</td>\n",
       "      <td>9.25</td>\n",
       "    </tr>\n",
       "    <tr>\n",
       "      <th>38</th>\n",
       "      <td>mother_occ_academic</td>\n",
       "      <td>8.11</td>\n",
       "    </tr>\n",
       "    <tr>\n",
       "      <th>10</th>\n",
       "      <td>Unemployment rate</td>\n",
       "      <td>8.04</td>\n",
       "    </tr>\n",
       "    <tr>\n",
       "      <th>33</th>\n",
       "      <td>mother_qualification_secondary</td>\n",
       "      <td>7.51</td>\n",
       "    </tr>\n",
       "    <tr>\n",
       "      <th>39</th>\n",
       "      <td>mother_occ_technical_admin</td>\n",
       "      <td>7.25</td>\n",
       "    </tr>\n",
       "    <tr>\n",
       "      <th>11</th>\n",
       "      <td>Inflation rate</td>\n",
       "      <td>7.24</td>\n",
       "    </tr>\n",
       "    <tr>\n",
       "      <th>13</th>\n",
       "      <td>single</td>\n",
       "      <td>6.57</td>\n",
       "    </tr>\n",
       "    <tr>\n",
       "      <th>35</th>\n",
       "      <td>father_qualification_basic</td>\n",
       "      <td>5.58</td>\n",
       "    </tr>\n",
       "    <tr>\n",
       "      <th>31</th>\n",
       "      <td>nationality_asia</td>\n",
       "      <td>4.57</td>\n",
       "    </tr>\n",
       "    <tr>\n",
       "      <th>40</th>\n",
       "      <td>mother_occ_service_manual</td>\n",
       "      <td>3.71</td>\n",
       "    </tr>\n",
       "    <tr>\n",
       "      <th>19</th>\n",
       "      <td>high_priority</td>\n",
       "      <td>3.25</td>\n",
       "    </tr>\n",
       "    <tr>\n",
       "      <th>23</th>\n",
       "      <td>is_daytime</td>\n",
       "      <td>3.14</td>\n",
       "    </tr>\n",
       "    <tr>\n",
       "      <th>28</th>\n",
       "      <td>nationality_africa</td>\n",
       "      <td>2.68</td>\n",
       "    </tr>\n",
       "    <tr>\n",
       "      <th>32</th>\n",
       "      <td>mother_qualification_basic</td>\n",
       "      <td>2.19</td>\n",
       "    </tr>\n",
       "    <tr>\n",
       "      <th>36</th>\n",
       "      <td>father_qualification_secondary</td>\n",
       "      <td>1.31</td>\n",
       "    </tr>\n",
       "    <tr>\n",
       "      <th>9</th>\n",
       "      <td>International</td>\n",
       "      <td>1.25</td>\n",
       "    </tr>\n",
       "    <tr>\n",
       "      <th>29</th>\n",
       "      <td>nationality_south_america</td>\n",
       "      <td>0.74</td>\n",
       "    </tr>\n",
       "    <tr>\n",
       "      <th>3</th>\n",
       "      <td>Educational special needs</td>\n",
       "      <td>0.63</td>\n",
       "    </tr>\n",
       "    <tr>\n",
       "      <th>30</th>\n",
       "      <td>nationality_north_america</td>\n",
       "      <td>0.56</td>\n",
       "    </tr>\n",
       "    <tr>\n",
       "      <th>43</th>\n",
       "      <td>father_occ_technical_admin</td>\n",
       "      <td>0.05</td>\n",
       "    </tr>\n",
       "    <tr>\n",
       "      <th>27</th>\n",
       "      <td>nationality_europe</td>\n",
       "      <td>0.01</td>\n",
       "    </tr>\n",
       "  </tbody>\n",
       "</table>\n",
       "</div>"
      ],
      "text/plain": [
       "                           Features   Score\n",
       "46                        avg_grade 3016.44\n",
       "47                     success_rate  820.68\n",
       "8                 Age at enrollment  715.98\n",
       "7                Scholarship holder  308.11\n",
       "4                            Debtor  229.85\n",
       "48                   total_enrolled  226.82\n",
       "49              no_evaluation_total  224.81\n",
       "18  admission_special/international  203.51\n",
       "6                            Gender  151.22\n",
       "1                   Admission grade  112.25\n",
       "24                   prevqual_basic  109.79\n",
       "5           Tuition fees up to date   98.29\n",
       "16                admission_general   97.39\n",
       "0    Previous qualification (grade)   72.35\n",
       "22             studyfield_arts&comm   65.38\n",
       "20                  studyfield_stem   48.96\n",
       "14                        partnered   41.24\n",
       "26                  prevqual_higher   38.28\n",
       "2                         Displaced   26.08\n",
       "17               admission_transfer   21.16\n",
       "12                              GDP   16.83\n",
       "25               prevqual_secondary   16.49\n",
       "45       father_occ_unskilled_other   15.64\n",
       "44        father_occ_service_manual   14.51\n",
       "41       mother_occ_unskilled_other   13.71\n",
       "21       studyfield_business_social   13.70\n",
       "34      mother_qualification_higher   13.39\n",
       "37      father_qualification_higher   11.77\n",
       "15                   prev_partnered   11.30\n",
       "42              father_occ_academic    9.25\n",
       "38              mother_occ_academic    8.11\n",
       "10                Unemployment rate    8.04\n",
       "33   mother_qualification_secondary    7.51\n",
       "39       mother_occ_technical_admin    7.25\n",
       "11                   Inflation rate    7.24\n",
       "13                           single    6.57\n",
       "35       father_qualification_basic    5.58\n",
       "31                 nationality_asia    4.57\n",
       "40        mother_occ_service_manual    3.71\n",
       "19                    high_priority    3.25\n",
       "23                       is_daytime    3.14\n",
       "28               nationality_africa    2.68\n",
       "32       mother_qualification_basic    2.19\n",
       "36   father_qualification_secondary    1.31\n",
       "9                     International    1.25\n",
       "29        nationality_south_america    0.74\n",
       "3         Educational special needs    0.63\n",
       "30        nationality_north_america    0.56\n",
       "43       father_occ_technical_admin    0.05\n",
       "27               nationality_europe    0.01"
      ]
     },
     "execution_count": 28,
     "metadata": {},
     "output_type": "execute_result"
    }
   ],
   "source": [
    "X_cat = X.astype(int)\n",
    "X_cat = X_cat.clip(lower=0)\n",
    "\n",
    "chi_2_features = SelectKBest(chi2, k=len(X_cat.columns))\n",
    "\n",
    "best_features = chi_2_features.fit(X_cat,y.astype(int))\n",
    "\n",
    "pd.options.display.float_format = '{:.2f}'.format\n",
    "\n",
    "df_features = pd.DataFrame(best_features.scores_)\n",
    "df_columns = pd.DataFrame(X_cat.columns)\n",
    "f_scores = pd.concat([df_columns,df_features],axis=1)\n",
    "f_scores.columns = ['Features','Score']\n",
    "f_scores.sort_values(by='Score',ascending=False)"
   ]
  },
  {
   "cell_type": "markdown",
   "id": "413ad102",
   "metadata": {},
   "source": [
    "After performing correlation analysis, the Chi-Square test, and an additional like Phik correlation test, no variables were removed from the dataset. Several combinations were tested to eliminate less relevant features, but in every case, the model’s performance decreased compared to using the full feature set. Therefore, all variables were retained for training. "
   ]
  },
  {
   "cell_type": "markdown",
   "id": "c1c66eda",
   "metadata": {},
   "source": [
    "### Data Splitting\n",
    "\n",
    "The dataset was split into 70% training, 15% validation, and 15% testing using train_test_split().\n",
    "This ensures that the model is trained, tuned, and evaluated on separate data subsets for reliable performance.\n",
    "This code for the correlation matrix was used from the teaching notebook."
   ]
  },
  {
   "cell_type": "code",
   "execution_count": 29,
   "id": "e66842fd",
   "metadata": {},
   "outputs": [],
   "source": [
    "X_train, X_temp, y_train, y_temp = train_test_split(X, y, test_size=0.3)\n",
    "\n",
    "X_val, X_test, y_val, y_test = train_test_split(X_temp, y_temp, test_size=0.5)"
   ]
  },
  {
   "cell_type": "markdown",
   "id": "810dfbe9",
   "metadata": {},
   "source": [
    "### Keras Tuner\n",
    "\n",
    "Several Keras Tuner runs were performed with different configurations, including up to 25 max_trials and 2 executions per trial.\n",
    "Across all tuning sessions, the best result achieved a validation accuracy of 0.7439 (≈74.4%), indicating the most effective hyperparameter combination.\n",
    "This optimized setup was later used to build and train the final tuned neural network model."
   ]
  },
  {
   "cell_type": "code",
   "execution_count": null,
   "id": "79dfe433",
   "metadata": {},
   "outputs": [
    {
     "name": "stderr",
     "output_type": "stream",
     "text": [
      "c:\\Users\\Mani\\AppData\\Local\\Programs\\Python\\Python312\\Lib\\site-packages\\keras\\src\\layers\\normalization\\batch_normalization.py:142: UserWarning: Do not pass an `input_shape`/`input_dim` argument to a layer. When using Sequential models, prefer using an `Input(shape)` object as the first layer in the model instead.\n",
      "  super().__init__(**kwargs)\n"
     ]
    },
    {
     "name": "stdout",
     "output_type": "stream",
     "text": [
      "\n",
      "Search: Running Trial #1\n",
      "\n",
      "Value             |Best Value So Far |Hyperparameter\n",
      "64                |64                |units_0\n",
      "relu              |relu              |activation\n",
      "0.14404           |0.14404           |l1\n",
      "True              |True              |dropout\n",
      "2                 |2                 |num_layers\n",
      "92                |92                |units_1\n",
      "0.00054958        |0.00054958        |lr\n",
      "\n",
      "WARNING:tensorflow:From c:\\Users\\Mani\\AppData\\Local\\Programs\\Python\\Python312\\Lib\\site-packages\\keras\\src\\backend\\common\\global_state.py:82: The name tf.reset_default_graph is deprecated. Please use tf.compat.v1.reset_default_graph instead.\n",
      "\n",
      "Epoch 1/250\n"
     ]
    }
   ],
   "source": [
    "import keras_tuner\n",
    "\n",
    "def build_model(hp):\n",
    "    model = keras.Sequential()\n",
    "\n",
    "    model.add(layers.BatchNormalization(input_shape=(len(X.columns),)),)\n",
    "    \n",
    "    model.add(\n",
    "        layers.Dense(\n",
    "            units=hp.Int(f\"units_0\", min_value=4, max_value=96, step=4),\n",
    "            activation=hp.Choice(\"activation\", [\"relu\"]),\n",
    "            kernel_regularizer=keras.regularizers.l1(hp.Float(\"l1\", min_value=0.025, max_value=0.35, sampling=\"log\"))\n",
    "        )\n",
    "    )\n",
    "        \n",
    "    if hp.Boolean(\"dropout\"):\n",
    "        model.add(layers.Dropout(\n",
    "            hp.Float(\"rate\", min_value=0.1, max_value=0.5, step=0.025)\n",
    "            ))\n",
    "\n",
    "    for i in range(hp.Int(\"num_layers\", 1, 3)):\n",
    "        model.add(\n",
    "            layers.Dense(\n",
    "                units=hp.Int(f\"units_{i + 1}\", min_value=8, max_value=96, step=4),\n",
    "                activation=hp.Choice(\"activation\", [\"relu\"]),\n",
    "            )\n",
    "        )\n",
    "\n",
    "    model.add(layers.Dense(len(categories), activation=\"softmax\"))\n",
    "\n",
    "    learning_rate = hp.Float(\"lr\", min_value=1e-5, max_value=1e-1, sampling=\"log\")\n",
    "\n",
    "    model.compile(\n",
    "        optimizer=keras.optimizers.Adam(learning_rate=learning_rate),\n",
    "        loss='categorical_crossentropy', metrics=['accuracy']\n",
    "    )\n",
    "\n",
    "    return model\n",
    "\n",
    "\n",
    "build_model(keras_tuner.HyperParameters())\n",
    "\n",
    "tuner = keras_tuner.RandomSearch(\n",
    "    hypermodel=build_model,\n",
    "    objective=\"val_accuracy\",\n",
    "    max_trials=10,\n",
    "    executions_per_trial=2,\n",
    "    overwrite=True,\n",
    "    directory=\"optimizations1\",\n",
    "    project_name=\"classification1test\",\n",
    ")\n",
    "\n",
    "tuner.search(X_train, y_train, epochs=250, validation_data=(X_val, y_val))"
   ]
  },
  {
   "cell_type": "code",
   "execution_count": null,
   "id": "837c1b39",
   "metadata": {},
   "outputs": [
    {
     "name": "stdout",
     "output_type": "stream",
     "text": [
      "Results summary\n",
      "Results in optimizations1\\classification1test\n",
      "Showing 10 best trials\n",
      "Objective(name=\"val_accuracy\", direction=\"max\")\n",
      "\n",
      "Trial 0 summary\n",
      "Hyperparameters:\n",
      "units_0: 64\n",
      "activation: relu\n",
      "l1: 0.14404386359839785\n",
      "dropout: True\n",
      "num_layers: 2\n",
      "units_1: 92\n",
      "lr: 0.0005495772755430749\n",
      "rate: 0.1\n",
      "units_2: 8\n",
      "Score: 0.7439759075641632\n",
      "\n",
      "Trial 1 summary\n",
      "Hyperparameters:\n",
      "units_0: 76\n",
      "activation: relu\n",
      "l1: 0.030030643841972265\n",
      "dropout: True\n",
      "num_layers: 3\n",
      "units_1: 12\n",
      "lr: 3.933578568657208e-05\n",
      "rate: 0.375\n",
      "units_2: 80\n",
      "units_3: 8\n",
      "Score: 0.7281626760959625\n",
      "\n",
      "Trial 4 summary\n",
      "Hyperparameters:\n",
      "units_0: 84\n",
      "activation: relu\n",
      "l1: 0.09277436194925\n",
      "dropout: False\n",
      "num_layers: 2\n",
      "units_1: 48\n",
      "lr: 8.236127782483122e-05\n",
      "rate: 0.275\n",
      "units_2: 16\n",
      "units_3: 32\n",
      "Score: 0.7281626760959625\n",
      "\n",
      "Trial 3 summary\n",
      "Hyperparameters:\n",
      "units_0: 80\n",
      "activation: relu\n",
      "l1: 0.06506737046346531\n",
      "dropout: True\n",
      "num_layers: 1\n",
      "units_1: 72\n",
      "lr: 0.072305430326835\n",
      "rate: 0.25\n",
      "units_2: 8\n",
      "units_3: 84\n",
      "Score: 0.7259036302566528\n",
      "\n",
      "Trial 2 summary\n",
      "Hyperparameters:\n",
      "units_0: 76\n",
      "activation: relu\n",
      "l1: 0.09581597838029794\n",
      "dropout: False\n",
      "num_layers: 3\n",
      "units_1: 84\n",
      "lr: 0.07059356474578148\n",
      "rate: 0.42500000000000004\n",
      "units_2: 44\n",
      "units_3: 72\n",
      "Score: 0.6076807081699371\n"
     ]
    }
   ],
   "source": [
    "tuner.results_summary()"
   ]
  },
  {
   "cell_type": "code",
   "execution_count": null,
   "id": "4d08b187",
   "metadata": {},
   "outputs": [
    {
     "name": "stderr",
     "output_type": "stream",
     "text": [
      "c:\\Users\\Mani\\AppData\\Local\\Programs\\Python\\Python312\\Lib\\site-packages\\keras\\src\\layers\\normalization\\batch_normalization.py:142: UserWarning: Do not pass an `input_shape`/`input_dim` argument to a layer. When using Sequential models, prefer using an `Input(shape)` object as the first layer in the model instead.\n",
      "  super().__init__(**kwargs)\n",
      "c:\\Users\\Mani\\AppData\\Local\\Programs\\Python\\Python312\\Lib\\site-packages\\keras\\src\\saving\\saving_lib.py:797: UserWarning: Skipping variable loading for optimizer 'adam', because it has 2 variables whereas the saved optimizer has 22 variables. \n",
      "  saveable.load_own_variables(weights_store.get(inner_path))\n"
     ]
    },
    {
     "data": {
      "text/html": [
       "<pre style=\"white-space:pre;overflow-x:auto;line-height:normal;font-family:Menlo,'DejaVu Sans Mono',consolas,'Courier New',monospace\"><span style=\"font-weight: bold\">Model: \"sequential\"</span>\n",
       "</pre>\n"
      ],
      "text/plain": [
       "\u001b[1mModel: \"sequential\"\u001b[0m\n"
      ]
     },
     "metadata": {},
     "output_type": "display_data"
    },
    {
     "data": {
      "text/html": [
       "<pre style=\"white-space:pre;overflow-x:auto;line-height:normal;font-family:Menlo,'DejaVu Sans Mono',consolas,'Courier New',monospace\">┏━━━━━━━━━━━━━━━━━━━━━━━━━━━━━━━━━┳━━━━━━━━━━━━━━━━━━━━━━━━┳━━━━━━━━━━━━━━━┓\n",
       "┃<span style=\"font-weight: bold\"> Layer (type)                    </span>┃<span style=\"font-weight: bold\"> Output Shape           </span>┃<span style=\"font-weight: bold\">       Param # </span>┃\n",
       "┡━━━━━━━━━━━━━━━━━━━━━━━━━━━━━━━━━╇━━━━━━━━━━━━━━━━━━━━━━━━╇━━━━━━━━━━━━━━━┩\n",
       "│ batch_normalization             │ (<span style=\"color: #00d7ff; text-decoration-color: #00d7ff\">None</span>, <span style=\"color: #00af00; text-decoration-color: #00af00\">50</span>)             │           <span style=\"color: #00af00; text-decoration-color: #00af00\">200</span> │\n",
       "│ (<span style=\"color: #0087ff; text-decoration-color: #0087ff\">BatchNormalization</span>)            │                        │               │\n",
       "├─────────────────────────────────┼────────────────────────┼───────────────┤\n",
       "│ dense (<span style=\"color: #0087ff; text-decoration-color: #0087ff\">Dense</span>)                   │ (<span style=\"color: #00d7ff; text-decoration-color: #00d7ff\">None</span>, <span style=\"color: #00af00; text-decoration-color: #00af00\">64</span>)             │         <span style=\"color: #00af00; text-decoration-color: #00af00\">3,264</span> │\n",
       "├─────────────────────────────────┼────────────────────────┼───────────────┤\n",
       "│ dropout (<span style=\"color: #0087ff; text-decoration-color: #0087ff\">Dropout</span>)               │ (<span style=\"color: #00d7ff; text-decoration-color: #00d7ff\">None</span>, <span style=\"color: #00af00; text-decoration-color: #00af00\">64</span>)             │             <span style=\"color: #00af00; text-decoration-color: #00af00\">0</span> │\n",
       "├─────────────────────────────────┼────────────────────────┼───────────────┤\n",
       "│ dense_1 (<span style=\"color: #0087ff; text-decoration-color: #0087ff\">Dense</span>)                 │ (<span style=\"color: #00d7ff; text-decoration-color: #00d7ff\">None</span>, <span style=\"color: #00af00; text-decoration-color: #00af00\">92</span>)             │         <span style=\"color: #00af00; text-decoration-color: #00af00\">5,980</span> │\n",
       "├─────────────────────────────────┼────────────────────────┼───────────────┤\n",
       "│ dense_2 (<span style=\"color: #0087ff; text-decoration-color: #0087ff\">Dense</span>)                 │ (<span style=\"color: #00d7ff; text-decoration-color: #00d7ff\">None</span>, <span style=\"color: #00af00; text-decoration-color: #00af00\">8</span>)              │           <span style=\"color: #00af00; text-decoration-color: #00af00\">744</span> │\n",
       "├─────────────────────────────────┼────────────────────────┼───────────────┤\n",
       "│ dense_3 (<span style=\"color: #0087ff; text-decoration-color: #0087ff\">Dense</span>)                 │ (<span style=\"color: #00d7ff; text-decoration-color: #00d7ff\">None</span>, <span style=\"color: #00af00; text-decoration-color: #00af00\">3</span>)              │            <span style=\"color: #00af00; text-decoration-color: #00af00\">27</span> │\n",
       "└─────────────────────────────────┴────────────────────────┴───────────────┘\n",
       "</pre>\n"
      ],
      "text/plain": [
       "┏━━━━━━━━━━━━━━━━━━━━━━━━━━━━━━━━━┳━━━━━━━━━━━━━━━━━━━━━━━━┳━━━━━━━━━━━━━━━┓\n",
       "┃\u001b[1m \u001b[0m\u001b[1mLayer (type)                   \u001b[0m\u001b[1m \u001b[0m┃\u001b[1m \u001b[0m\u001b[1mOutput Shape          \u001b[0m\u001b[1m \u001b[0m┃\u001b[1m \u001b[0m\u001b[1m      Param #\u001b[0m\u001b[1m \u001b[0m┃\n",
       "┡━━━━━━━━━━━━━━━━━━━━━━━━━━━━━━━━━╇━━━━━━━━━━━━━━━━━━━━━━━━╇━━━━━━━━━━━━━━━┩\n",
       "│ batch_normalization             │ (\u001b[38;5;45mNone\u001b[0m, \u001b[38;5;34m50\u001b[0m)             │           \u001b[38;5;34m200\u001b[0m │\n",
       "│ (\u001b[38;5;33mBatchNormalization\u001b[0m)            │                        │               │\n",
       "├─────────────────────────────────┼────────────────────────┼───────────────┤\n",
       "│ dense (\u001b[38;5;33mDense\u001b[0m)                   │ (\u001b[38;5;45mNone\u001b[0m, \u001b[38;5;34m64\u001b[0m)             │         \u001b[38;5;34m3,264\u001b[0m │\n",
       "├─────────────────────────────────┼────────────────────────┼───────────────┤\n",
       "│ dropout (\u001b[38;5;33mDropout\u001b[0m)               │ (\u001b[38;5;45mNone\u001b[0m, \u001b[38;5;34m64\u001b[0m)             │             \u001b[38;5;34m0\u001b[0m │\n",
       "├─────────────────────────────────┼────────────────────────┼───────────────┤\n",
       "│ dense_1 (\u001b[38;5;33mDense\u001b[0m)                 │ (\u001b[38;5;45mNone\u001b[0m, \u001b[38;5;34m92\u001b[0m)             │         \u001b[38;5;34m5,980\u001b[0m │\n",
       "├─────────────────────────────────┼────────────────────────┼───────────────┤\n",
       "│ dense_2 (\u001b[38;5;33mDense\u001b[0m)                 │ (\u001b[38;5;45mNone\u001b[0m, \u001b[38;5;34m8\u001b[0m)              │           \u001b[38;5;34m744\u001b[0m │\n",
       "├─────────────────────────────────┼────────────────────────┼───────────────┤\n",
       "│ dense_3 (\u001b[38;5;33mDense\u001b[0m)                 │ (\u001b[38;5;45mNone\u001b[0m, \u001b[38;5;34m3\u001b[0m)              │            \u001b[38;5;34m27\u001b[0m │\n",
       "└─────────────────────────────────┴────────────────────────┴───────────────┘\n"
      ]
     },
     "metadata": {},
     "output_type": "display_data"
    },
    {
     "data": {
      "text/html": [
       "<pre style=\"white-space:pre;overflow-x:auto;line-height:normal;font-family:Menlo,'DejaVu Sans Mono',consolas,'Courier New',monospace\"><span style=\"font-weight: bold\"> Total params: </span><span style=\"color: #00af00; text-decoration-color: #00af00\">10,215</span> (39.90 KB)\n",
       "</pre>\n"
      ],
      "text/plain": [
       "\u001b[1m Total params: \u001b[0m\u001b[38;5;34m10,215\u001b[0m (39.90 KB)\n"
      ]
     },
     "metadata": {},
     "output_type": "display_data"
    },
    {
     "data": {
      "text/html": [
       "<pre style=\"white-space:pre;overflow-x:auto;line-height:normal;font-family:Menlo,'DejaVu Sans Mono',consolas,'Courier New',monospace\"><span style=\"font-weight: bold\"> Trainable params: </span><span style=\"color: #00af00; text-decoration-color: #00af00\">10,115</span> (39.51 KB)\n",
       "</pre>\n"
      ],
      "text/plain": [
       "\u001b[1m Trainable params: \u001b[0m\u001b[38;5;34m10,115\u001b[0m (39.51 KB)\n"
      ]
     },
     "metadata": {},
     "output_type": "display_data"
    },
    {
     "data": {
      "text/html": [
       "<pre style=\"white-space:pre;overflow-x:auto;line-height:normal;font-family:Menlo,'DejaVu Sans Mono',consolas,'Courier New',monospace\"><span style=\"font-weight: bold\"> Non-trainable params: </span><span style=\"color: #00af00; text-decoration-color: #00af00\">100</span> (400.00 B)\n",
       "</pre>\n"
      ],
      "text/plain": [
       "\u001b[1m Non-trainable params: \u001b[0m\u001b[38;5;34m100\u001b[0m (400.00 B)\n"
      ]
     },
     "metadata": {},
     "output_type": "display_data"
    }
   ],
   "source": [
    "models = tuner.get_best_models(num_models=1)\n",
    "best_model = models[0]\n",
    "best_model.summary()"
   ]
  },
  {
   "cell_type": "markdown",
   "id": "733c414a",
   "metadata": {},
   "source": [
    "### Model Architecture and Training Setup\n",
    "\n",
    "A Keras sequential neural network was built for multiclass classification with Batch Normalization, Dense ReLU layers using L1 regularization, a 0.1 Dropout layer, and a Softmax output.\n",
    "The model used the Adam optimizer (lr = 0.00055) and categorical cross-entropy loss, based on tuner-optimized parameters.\n",
    "Training included ModelCheckpoint, EarlyStopping, and ReduceLROnPlateau callbacks."
   ]
  },
  {
   "cell_type": "code",
   "execution_count": null,
   "id": "5797e62e",
   "metadata": {},
   "outputs": [
    {
     "name": "stderr",
     "output_type": "stream",
     "text": [
      "c:\\Users\\Mani\\AppData\\Local\\Programs\\Python\\Python312\\Lib\\site-packages\\keras\\src\\layers\\normalization\\batch_normalization.py:142: UserWarning: Do not pass an `input_shape`/`input_dim` argument to a layer. When using Sequential models, prefer using an `Input(shape)` object as the first layer in the model instead.\n",
      "  super().__init__(**kwargs)\n"
     ]
    },
    {
     "data": {
      "text/html": [
       "<pre style=\"white-space:pre;overflow-x:auto;line-height:normal;font-family:Menlo,'DejaVu Sans Mono',consolas,'Courier New',monospace\"><span style=\"font-weight: bold\">Model: \"sequential_8\"</span>\n",
       "</pre>\n"
      ],
      "text/plain": [
       "\u001b[1mModel: \"sequential_8\"\u001b[0m\n"
      ]
     },
     "metadata": {},
     "output_type": "display_data"
    },
    {
     "data": {
      "text/html": [
       "<pre style=\"white-space:pre;overflow-x:auto;line-height:normal;font-family:Menlo,'DejaVu Sans Mono',consolas,'Courier New',monospace\">┏━━━━━━━━━━━━━━━━━━━━━━━━━━━━━━━━━┳━━━━━━━━━━━━━━━━━━━━━━━━┳━━━━━━━━━━━━━━━┓\n",
       "┃<span style=\"font-weight: bold\"> Layer (type)                    </span>┃<span style=\"font-weight: bold\"> Output Shape           </span>┃<span style=\"font-weight: bold\">       Param # </span>┃\n",
       "┡━━━━━━━━━━━━━━━━━━━━━━━━━━━━━━━━━╇━━━━━━━━━━━━━━━━━━━━━━━━╇━━━━━━━━━━━━━━━┩\n",
       "│ batch_normalization_8           │ (<span style=\"color: #00d7ff; text-decoration-color: #00d7ff\">None</span>, <span style=\"color: #00af00; text-decoration-color: #00af00\">50</span>)             │           <span style=\"color: #00af00; text-decoration-color: #00af00\">200</span> │\n",
       "│ (<span style=\"color: #0087ff; text-decoration-color: #0087ff\">BatchNormalization</span>)            │                        │               │\n",
       "├─────────────────────────────────┼────────────────────────┼───────────────┤\n",
       "│ dense_36 (<span style=\"color: #0087ff; text-decoration-color: #0087ff\">Dense</span>)                │ (<span style=\"color: #00d7ff; text-decoration-color: #00d7ff\">None</span>, <span style=\"color: #00af00; text-decoration-color: #00af00\">64</span>)             │         <span style=\"color: #00af00; text-decoration-color: #00af00\">3,264</span> │\n",
       "├─────────────────────────────────┼────────────────────────┼───────────────┤\n",
       "│ dropout_8 (<span style=\"color: #0087ff; text-decoration-color: #0087ff\">Dropout</span>)             │ (<span style=\"color: #00d7ff; text-decoration-color: #00d7ff\">None</span>, <span style=\"color: #00af00; text-decoration-color: #00af00\">64</span>)             │             <span style=\"color: #00af00; text-decoration-color: #00af00\">0</span> │\n",
       "├─────────────────────────────────┼────────────────────────┼───────────────┤\n",
       "│ dense_37 (<span style=\"color: #0087ff; text-decoration-color: #0087ff\">Dense</span>)                │ (<span style=\"color: #00d7ff; text-decoration-color: #00d7ff\">None</span>, <span style=\"color: #00af00; text-decoration-color: #00af00\">92</span>)             │         <span style=\"color: #00af00; text-decoration-color: #00af00\">5,980</span> │\n",
       "├─────────────────────────────────┼────────────────────────┼───────────────┤\n",
       "│ dense_38 (<span style=\"color: #0087ff; text-decoration-color: #0087ff\">Dense</span>)                │ (<span style=\"color: #00d7ff; text-decoration-color: #00d7ff\">None</span>, <span style=\"color: #00af00; text-decoration-color: #00af00\">8</span>)              │           <span style=\"color: #00af00; text-decoration-color: #00af00\">744</span> │\n",
       "├─────────────────────────────────┼────────────────────────┼───────────────┤\n",
       "│ dense_39 (<span style=\"color: #0087ff; text-decoration-color: #0087ff\">Dense</span>)                │ (<span style=\"color: #00d7ff; text-decoration-color: #00d7ff\">None</span>, <span style=\"color: #00af00; text-decoration-color: #00af00\">3</span>)              │            <span style=\"color: #00af00; text-decoration-color: #00af00\">27</span> │\n",
       "└─────────────────────────────────┴────────────────────────┴───────────────┘\n",
       "</pre>\n"
      ],
      "text/plain": [
       "┏━━━━━━━━━━━━━━━━━━━━━━━━━━━━━━━━━┳━━━━━━━━━━━━━━━━━━━━━━━━┳━━━━━━━━━━━━━━━┓\n",
       "┃\u001b[1m \u001b[0m\u001b[1mLayer (type)                   \u001b[0m\u001b[1m \u001b[0m┃\u001b[1m \u001b[0m\u001b[1mOutput Shape          \u001b[0m\u001b[1m \u001b[0m┃\u001b[1m \u001b[0m\u001b[1m      Param #\u001b[0m\u001b[1m \u001b[0m┃\n",
       "┡━━━━━━━━━━━━━━━━━━━━━━━━━━━━━━━━━╇━━━━━━━━━━━━━━━━━━━━━━━━╇━━━━━━━━━━━━━━━┩\n",
       "│ batch_normalization_8           │ (\u001b[38;5;45mNone\u001b[0m, \u001b[38;5;34m50\u001b[0m)             │           \u001b[38;5;34m200\u001b[0m │\n",
       "│ (\u001b[38;5;33mBatchNormalization\u001b[0m)            │                        │               │\n",
       "├─────────────────────────────────┼────────────────────────┼───────────────┤\n",
       "│ dense_36 (\u001b[38;5;33mDense\u001b[0m)                │ (\u001b[38;5;45mNone\u001b[0m, \u001b[38;5;34m64\u001b[0m)             │         \u001b[38;5;34m3,264\u001b[0m │\n",
       "├─────────────────────────────────┼────────────────────────┼───────────────┤\n",
       "│ dropout_8 (\u001b[38;5;33mDropout\u001b[0m)             │ (\u001b[38;5;45mNone\u001b[0m, \u001b[38;5;34m64\u001b[0m)             │             \u001b[38;5;34m0\u001b[0m │\n",
       "├─────────────────────────────────┼────────────────────────┼───────────────┤\n",
       "│ dense_37 (\u001b[38;5;33mDense\u001b[0m)                │ (\u001b[38;5;45mNone\u001b[0m, \u001b[38;5;34m92\u001b[0m)             │         \u001b[38;5;34m5,980\u001b[0m │\n",
       "├─────────────────────────────────┼────────────────────────┼───────────────┤\n",
       "│ dense_38 (\u001b[38;5;33mDense\u001b[0m)                │ (\u001b[38;5;45mNone\u001b[0m, \u001b[38;5;34m8\u001b[0m)              │           \u001b[38;5;34m744\u001b[0m │\n",
       "├─────────────────────────────────┼────────────────────────┼───────────────┤\n",
       "│ dense_39 (\u001b[38;5;33mDense\u001b[0m)                │ (\u001b[38;5;45mNone\u001b[0m, \u001b[38;5;34m3\u001b[0m)              │            \u001b[38;5;34m27\u001b[0m │\n",
       "└─────────────────────────────────┴────────────────────────┴───────────────┘\n"
      ]
     },
     "metadata": {},
     "output_type": "display_data"
    },
    {
     "data": {
      "text/html": [
       "<pre style=\"white-space:pre;overflow-x:auto;line-height:normal;font-family:Menlo,'DejaVu Sans Mono',consolas,'Courier New',monospace\"><span style=\"font-weight: bold\"> Total params: </span><span style=\"color: #00af00; text-decoration-color: #00af00\">10,215</span> (39.90 KB)\n",
       "</pre>\n"
      ],
      "text/plain": [
       "\u001b[1m Total params: \u001b[0m\u001b[38;5;34m10,215\u001b[0m (39.90 KB)\n"
      ]
     },
     "metadata": {},
     "output_type": "display_data"
    },
    {
     "data": {
      "text/html": [
       "<pre style=\"white-space:pre;overflow-x:auto;line-height:normal;font-family:Menlo,'DejaVu Sans Mono',consolas,'Courier New',monospace\"><span style=\"font-weight: bold\"> Trainable params: </span><span style=\"color: #00af00; text-decoration-color: #00af00\">10,115</span> (39.51 KB)\n",
       "</pre>\n"
      ],
      "text/plain": [
       "\u001b[1m Trainable params: \u001b[0m\u001b[38;5;34m10,115\u001b[0m (39.51 KB)\n"
      ]
     },
     "metadata": {},
     "output_type": "display_data"
    },
    {
     "data": {
      "text/html": [
       "<pre style=\"white-space:pre;overflow-x:auto;line-height:normal;font-family:Menlo,'DejaVu Sans Mono',consolas,'Courier New',monospace\"><span style=\"font-weight: bold\"> Non-trainable params: </span><span style=\"color: #00af00; text-decoration-color: #00af00\">100</span> (400.00 B)\n",
       "</pre>\n"
      ],
      "text/plain": [
       "\u001b[1m Non-trainable params: \u001b[0m\u001b[38;5;34m100\u001b[0m (400.00 B)\n"
      ]
     },
     "metadata": {},
     "output_type": "display_data"
    }
   ],
   "source": [
    "variable_amount = X_train.shape[1]\n",
    "\n",
    "mc = ModelCheckpoint(\"best_model_student2.keras\", monitor=\"val_loss\", mode=\"min\", save_best_only=True)\n",
    "es = EarlyStopping(monitor=\"val_loss\", patience=15, restore_best_weights=True)\n",
    "rlr = ReduceLROnPlateau(monitor=\"val_loss\", factor=0.5, patience=7, min_lr=1e-6, verbose=1)\n",
    "callbacks_opt = [mc, es, rlr]\n",
    "\n",
    "model = keras.Sequential([\n",
    "    layers.BatchNormalization(input_shape=(variable_amount,)),\n",
    "    layers.Dense(64, activation=\"relu\",kernel_regularizer=keras.regularizers.l1(0.14404386359839785)),\n",
    "    layers.Dropout(0.1),\n",
    "    layers.Dense(92, activation=\"relu\"),\n",
    "    layers.Dense(8, activation=\"relu\"),\n",
    "    layers.Dense(len(categories), activation=\"softmax\")\n",
    "])\n",
    "\n",
    "optimal_lr = 0.0005495772755430749\n",
    "\n",
    "model.compile(optimizer=keras.optimizers.Adam(learning_rate=optimal_lr),loss='categorical_crossentropy',metrics=['accuracy'])\n",
    "\n",
    "model.summary()\n"
   ]
  },
  {
   "cell_type": "markdown",
   "id": "983c5800",
   "metadata": {},
   "source": [
    "### Model Training\n",
    "\n",
    "The model was trained for up to 500 epochs using the training and validation sets.\n",
    "The training process included callbacks with ModelCheckpoint, EarlyStopping, and ReduceLROnPlateau so to save the best-performing model, stop training early to avoid overfitting and adjust the learning rate when validation loss stopped improving.\n",
    "This setup ensured stable convergence and optimized generalization performance."
   ]
  },
  {
   "cell_type": "code",
   "execution_count": null,
   "id": "2d502953",
   "metadata": {},
   "outputs": [
    {
     "name": "stdout",
     "output_type": "stream",
     "text": [
      "Epoch 1/500\n",
      "\u001b[1m97/97\u001b[0m \u001b[32m━━━━━━━━━━━━━━━━━━━━\u001b[0m\u001b[37m\u001b[0m \u001b[1m3s\u001b[0m 7ms/step - accuracy: 0.5203 - loss: 43.1031 - val_accuracy: 0.5105 - val_loss: 32.5324 - learning_rate: 5.4958e-04\n",
      "Epoch 2/500\n",
      "\u001b[1m97/97\u001b[0m \u001b[32m━━━━━━━━━━━━━━━━━━━━\u001b[0m\u001b[37m\u001b[0m \u001b[1m1s\u001b[0m 5ms/step - accuracy: 0.6531 - loss: 23.9490 - val_accuracy: 0.6596 - val_loss: 16.1910 - learning_rate: 5.4958e-04\n",
      "Epoch 3/500\n",
      "\u001b[1m97/97\u001b[0m \u001b[32m━━━━━━━━━━━━━━━━━━━━\u001b[0m\u001b[37m\u001b[0m \u001b[1m0s\u001b[0m 4ms/step - accuracy: 0.6815 - loss: 10.5347 - val_accuracy: 0.6822 - val_loss: 5.7607 - learning_rate: 5.4958e-04\n",
      "Epoch 4/500\n",
      "\u001b[1m97/97\u001b[0m \u001b[32m━━━━━━━━━━━━━━━━━━━━\u001b[0m\u001b[37m\u001b[0m \u001b[1m0s\u001b[0m 4ms/step - accuracy: 0.7006 - loss: 3.0083 - val_accuracy: 0.7063 - val_loss: 1.2074 - learning_rate: 5.4958e-04\n",
      "Epoch 5/500\n",
      "\u001b[1m97/97\u001b[0m \u001b[32m━━━━━━━━━━━━━━━━━━━━\u001b[0m\u001b[37m\u001b[0m \u001b[1m0s\u001b[0m 5ms/step - accuracy: 0.7151 - loss: 0.9403 - val_accuracy: 0.7154 - val_loss: 0.8927 - learning_rate: 5.4958e-04\n",
      "Epoch 6/500\n",
      "\u001b[1m97/97\u001b[0m \u001b[32m━━━━━━━━━━━━━━━━━━━━\u001b[0m\u001b[37m\u001b[0m \u001b[1m0s\u001b[0m 4ms/step - accuracy: 0.7222 - loss: 0.8672 - val_accuracy: 0.7214 - val_loss: 0.8741 - learning_rate: 5.4958e-04\n",
      "Epoch 7/500\n",
      "\u001b[1m97/97\u001b[0m \u001b[32m━━━━━━━━━━━━━━━━━━━━\u001b[0m\u001b[37m\u001b[0m \u001b[1m1s\u001b[0m 4ms/step - accuracy: 0.7213 - loss: 0.8588 - val_accuracy: 0.7154 - val_loss: 0.8582 - learning_rate: 5.4958e-04\n",
      "Epoch 8/500\n",
      "\u001b[1m97/97\u001b[0m \u001b[32m━━━━━━━━━━━━━━━━━━━━\u001b[0m\u001b[37m\u001b[0m \u001b[1m0s\u001b[0m 4ms/step - accuracy: 0.7229 - loss: 0.8516 - val_accuracy: 0.7214 - val_loss: 0.8522 - learning_rate: 5.4958e-04\n",
      "Epoch 9/500\n",
      "\u001b[1m97/97\u001b[0m \u001b[32m━━━━━━━━━━━━━━━━━━━━\u001b[0m\u001b[37m\u001b[0m \u001b[1m1s\u001b[0m 4ms/step - accuracy: 0.7271 - loss: 0.8405 - val_accuracy: 0.7229 - val_loss: 0.8426 - learning_rate: 5.4958e-04\n",
      "Epoch 10/500\n",
      "\u001b[1m97/97\u001b[0m \u001b[32m━━━━━━━━━━━━━━━━━━━━\u001b[0m\u001b[37m\u001b[0m \u001b[1m0s\u001b[0m 4ms/step - accuracy: 0.7258 - loss: 0.8342 - val_accuracy: 0.7214 - val_loss: 0.8365 - learning_rate: 5.4958e-04\n",
      "Epoch 11/500\n",
      "\u001b[1m97/97\u001b[0m \u001b[32m━━━━━━━━━━━━━━━━━━━━\u001b[0m\u001b[37m\u001b[0m \u001b[1m1s\u001b[0m 5ms/step - accuracy: 0.7264 - loss: 0.8266 - val_accuracy: 0.7259 - val_loss: 0.8309 - learning_rate: 5.4958e-04\n",
      "Epoch 12/500\n",
      "\u001b[1m97/97\u001b[0m \u001b[32m━━━━━━━━━━━━━━━━━━━━\u001b[0m\u001b[37m\u001b[0m \u001b[1m0s\u001b[0m 4ms/step - accuracy: 0.7255 - loss: 0.8189 - val_accuracy: 0.7229 - val_loss: 0.8186 - learning_rate: 5.4958e-04\n",
      "Epoch 13/500\n",
      "\u001b[1m97/97\u001b[0m \u001b[32m━━━━━━━━━━━━━━━━━━━━\u001b[0m\u001b[37m\u001b[0m \u001b[1m0s\u001b[0m 4ms/step - accuracy: 0.7267 - loss: 0.8223 - val_accuracy: 0.7214 - val_loss: 0.8209 - learning_rate: 5.4958e-04\n",
      "Epoch 14/500\n",
      "\u001b[1m97/97\u001b[0m \u001b[32m━━━━━━━━━━━━━━━━━━━━\u001b[0m\u001b[37m\u001b[0m \u001b[1m0s\u001b[0m 5ms/step - accuracy: 0.7309 - loss: 0.8118 - val_accuracy: 0.7259 - val_loss: 0.8197 - learning_rate: 5.4958e-04\n",
      "Epoch 15/500\n",
      "\u001b[1m97/97\u001b[0m \u001b[32m━━━━━━━━━━━━━━━━━━━━\u001b[0m\u001b[37m\u001b[0m \u001b[1m0s\u001b[0m 4ms/step - accuracy: 0.7306 - loss: 0.8101 - val_accuracy: 0.7259 - val_loss: 0.8121 - learning_rate: 5.4958e-04\n",
      "Epoch 16/500\n",
      "\u001b[1m97/97\u001b[0m \u001b[32m━━━━━━━━━━━━━━━━━━━━\u001b[0m\u001b[37m\u001b[0m \u001b[1m0s\u001b[0m 4ms/step - accuracy: 0.7271 - loss: 0.8120 - val_accuracy: 0.7229 - val_loss: 0.8116 - learning_rate: 5.4958e-04\n",
      "Epoch 17/500\n",
      "\u001b[1m97/97\u001b[0m \u001b[32m━━━━━━━━━━━━━━━━━━━━\u001b[0m\u001b[37m\u001b[0m \u001b[1m0s\u001b[0m 4ms/step - accuracy: 0.7261 - loss: 0.8078 - val_accuracy: 0.7259 - val_loss: 0.8103 - learning_rate: 5.4958e-04\n",
      "Epoch 18/500\n",
      "\u001b[1m97/97\u001b[0m \u001b[32m━━━━━━━━━━━━━━━━━━━━\u001b[0m\u001b[37m\u001b[0m \u001b[1m1s\u001b[0m 4ms/step - accuracy: 0.7287 - loss: 0.8053 - val_accuracy: 0.7244 - val_loss: 0.8088 - learning_rate: 5.4958e-04\n",
      "Epoch 19/500\n",
      "\u001b[1m97/97\u001b[0m \u001b[32m━━━━━━━━━━━━━━━━━━━━\u001b[0m\u001b[37m\u001b[0m \u001b[1m0s\u001b[0m 4ms/step - accuracy: 0.7290 - loss: 0.8018 - val_accuracy: 0.7229 - val_loss: 0.8004 - learning_rate: 5.4958e-04\n",
      "Epoch 20/500\n",
      "\u001b[1m97/97\u001b[0m \u001b[32m━━━━━━━━━━━━━━━━━━━━\u001b[0m\u001b[37m\u001b[0m \u001b[1m0s\u001b[0m 4ms/step - accuracy: 0.7345 - loss: 0.7942 - val_accuracy: 0.7229 - val_loss: 0.8040 - learning_rate: 5.4958e-04\n",
      "Epoch 21/500\n",
      "\u001b[1m97/97\u001b[0m \u001b[32m━━━━━━━━━━━━━━━━━━━━\u001b[0m\u001b[37m\u001b[0m \u001b[1m0s\u001b[0m 4ms/step - accuracy: 0.7303 - loss: 0.7993 - val_accuracy: 0.7244 - val_loss: 0.8057 - learning_rate: 5.4958e-04\n",
      "Epoch 22/500\n",
      "\u001b[1m97/97\u001b[0m \u001b[32m━━━━━━━━━━━━━━━━━━━━\u001b[0m\u001b[37m\u001b[0m \u001b[1m1s\u001b[0m 7ms/step - accuracy: 0.7313 - loss: 0.7943 - val_accuracy: 0.7214 - val_loss: 0.7980 - learning_rate: 5.4958e-04\n",
      "Epoch 23/500\n",
      "\u001b[1m97/97\u001b[0m \u001b[32m━━━━━━━━━━━━━━━━━━━━\u001b[0m\u001b[37m\u001b[0m \u001b[1m1s\u001b[0m 7ms/step - accuracy: 0.7319 - loss: 0.7919 - val_accuracy: 0.7244 - val_loss: 0.7986 - learning_rate: 5.4958e-04\n",
      "Epoch 24/500\n",
      "\u001b[1m97/97\u001b[0m \u001b[32m━━━━━━━━━━━━━━━━━━━━\u001b[0m\u001b[37m\u001b[0m \u001b[1m1s\u001b[0m 6ms/step - accuracy: 0.7345 - loss: 0.7877 - val_accuracy: 0.7244 - val_loss: 0.7979 - learning_rate: 5.4958e-04\n",
      "Epoch 25/500\n",
      "\u001b[1m97/97\u001b[0m \u001b[32m━━━━━━━━━━━━━━━━━━━━\u001b[0m\u001b[37m\u001b[0m \u001b[1m1s\u001b[0m 4ms/step - accuracy: 0.7332 - loss: 0.7875 - val_accuracy: 0.7244 - val_loss: 0.7894 - learning_rate: 5.4958e-04\n",
      "Epoch 26/500\n",
      "\u001b[1m97/97\u001b[0m \u001b[32m━━━━━━━━━━━━━━━━━━━━\u001b[0m\u001b[37m\u001b[0m \u001b[1m0s\u001b[0m 4ms/step - accuracy: 0.7332 - loss: 0.7868 - val_accuracy: 0.7199 - val_loss: 0.7926 - learning_rate: 5.4958e-04\n",
      "Epoch 27/500\n",
      "\u001b[1m97/97\u001b[0m \u001b[32m━━━━━━━━━━━━━━━━━━━━\u001b[0m\u001b[37m\u001b[0m \u001b[1m0s\u001b[0m 4ms/step - accuracy: 0.7306 - loss: 0.7841 - val_accuracy: 0.7244 - val_loss: 0.7960 - learning_rate: 5.4958e-04\n",
      "Epoch 28/500\n",
      "\u001b[1m97/97\u001b[0m \u001b[32m━━━━━━━━━━━━━━━━━━━━\u001b[0m\u001b[37m\u001b[0m \u001b[1m0s\u001b[0m 3ms/step - accuracy: 0.7371 - loss: 0.7807 - val_accuracy: 0.7184 - val_loss: 0.7958 - learning_rate: 5.4958e-04\n",
      "Epoch 29/500\n",
      "\u001b[1m97/97\u001b[0m \u001b[32m━━━━━━━━━━━━━━━━━━━━\u001b[0m\u001b[37m\u001b[0m \u001b[1m1s\u001b[0m 4ms/step - accuracy: 0.7351 - loss: 0.7792 - val_accuracy: 0.7244 - val_loss: 0.8036 - learning_rate: 5.4958e-04\n",
      "Epoch 30/500\n",
      "\u001b[1m97/97\u001b[0m \u001b[32m━━━━━━━━━━━━━━━━━━━━\u001b[0m\u001b[37m\u001b[0m \u001b[1m0s\u001b[0m 5ms/step - accuracy: 0.7335 - loss: 0.7843 - val_accuracy: 0.7169 - val_loss: 0.7929 - learning_rate: 5.4958e-04\n",
      "Epoch 31/500\n",
      "\u001b[1m97/97\u001b[0m \u001b[32m━━━━━━━━━━━━━━━━━━━━\u001b[0m\u001b[37m\u001b[0m \u001b[1m1s\u001b[0m 4ms/step - accuracy: 0.7345 - loss: 0.7760 - val_accuracy: 0.7244 - val_loss: 0.7869 - learning_rate: 5.4958e-04\n",
      "Epoch 32/500\n",
      "\u001b[1m97/97\u001b[0m \u001b[32m━━━━━━━━━━━━━━━━━━━━\u001b[0m\u001b[37m\u001b[0m \u001b[1m0s\u001b[0m 4ms/step - accuracy: 0.7309 - loss: 0.7786 - val_accuracy: 0.7184 - val_loss: 0.7902 - learning_rate: 5.4958e-04\n",
      "Epoch 33/500\n",
      "\u001b[1m97/97\u001b[0m \u001b[32m━━━━━━━━━━━━━━━━━━━━\u001b[0m\u001b[37m\u001b[0m \u001b[1m0s\u001b[0m 3ms/step - accuracy: 0.7345 - loss: 0.7754 - val_accuracy: 0.7169 - val_loss: 0.7908 - learning_rate: 5.4958e-04\n",
      "Epoch 34/500\n",
      "\u001b[1m97/97\u001b[0m \u001b[32m━━━━━━━━━━━━━━━━━━━━\u001b[0m\u001b[37m\u001b[0m \u001b[1m0s\u001b[0m 4ms/step - accuracy: 0.7348 - loss: 0.7763 - val_accuracy: 0.7154 - val_loss: 0.7889 - learning_rate: 5.4958e-04\n",
      "Epoch 35/500\n",
      "\u001b[1m97/97\u001b[0m \u001b[32m━━━━━━━━━━━━━━━━━━━━\u001b[0m\u001b[37m\u001b[0m \u001b[1m1s\u001b[0m 4ms/step - accuracy: 0.7322 - loss: 0.7671 - val_accuracy: 0.7214 - val_loss: 0.7899 - learning_rate: 5.4958e-04\n",
      "Epoch 36/500\n",
      "\u001b[1m97/97\u001b[0m \u001b[32m━━━━━━━━━━━━━━━━━━━━\u001b[0m\u001b[37m\u001b[0m \u001b[1m0s\u001b[0m 4ms/step - accuracy: 0.7293 - loss: 0.7733 - val_accuracy: 0.7154 - val_loss: 0.7932 - learning_rate: 5.4958e-04\n",
      "Epoch 37/500\n",
      "\u001b[1m97/97\u001b[0m \u001b[32m━━━━━━━━━━━━━━━━━━━━\u001b[0m\u001b[37m\u001b[0m \u001b[1m1s\u001b[0m 4ms/step - accuracy: 0.7351 - loss: 0.7649 - val_accuracy: 0.7093 - val_loss: 0.8013 - learning_rate: 5.4958e-04\n",
      "Epoch 38/500\n",
      "\u001b[1m83/97\u001b[0m \u001b[32m━━━━━━━━━━━━━━━━━\u001b[0m\u001b[37m━━━\u001b[0m \u001b[1m0s\u001b[0m 2ms/step - accuracy: 0.7482 - loss: 0.7455\n",
      "Epoch 38: ReduceLROnPlateau reducing learning rate to 0.0002747886464931071.\n",
      "\u001b[1m97/97\u001b[0m \u001b[32m━━━━━━━━━━━━━━━━━━━━\u001b[0m\u001b[37m\u001b[0m \u001b[1m0s\u001b[0m 3ms/step - accuracy: 0.7345 - loss: 0.7656 - val_accuracy: 0.7123 - val_loss: 0.7938 - learning_rate: 5.4958e-04\n",
      "Epoch 39/500\n",
      "\u001b[1m97/97\u001b[0m \u001b[32m━━━━━━━━━━━━━━━━━━━━\u001b[0m\u001b[37m\u001b[0m \u001b[1m0s\u001b[0m 4ms/step - accuracy: 0.7348 - loss: 0.7353 - val_accuracy: 0.7274 - val_loss: 0.7380 - learning_rate: 2.7479e-04\n",
      "Epoch 40/500\n",
      "\u001b[1m97/97\u001b[0m \u001b[32m━━━━━━━━━━━━━━━━━━━━\u001b[0m\u001b[37m\u001b[0m \u001b[1m0s\u001b[0m 3ms/step - accuracy: 0.7393 - loss: 0.7325 - val_accuracy: 0.7274 - val_loss: 0.7420 - learning_rate: 2.7479e-04\n",
      "Epoch 41/500\n",
      "\u001b[1m97/97\u001b[0m \u001b[32m━━━━━━━━━━━━━━━━━━━━\u001b[0m\u001b[37m\u001b[0m \u001b[1m0s\u001b[0m 5ms/step - accuracy: 0.7351 - loss: 0.7261 - val_accuracy: 0.7289 - val_loss: 0.7405 - learning_rate: 2.7479e-04\n",
      "Epoch 42/500\n",
      "\u001b[1m97/97\u001b[0m \u001b[32m━━━━━━━━━━━━━━━━━━━━\u001b[0m\u001b[37m\u001b[0m \u001b[1m0s\u001b[0m 3ms/step - accuracy: 0.7335 - loss: 0.7255 - val_accuracy: 0.7289 - val_loss: 0.7432 - learning_rate: 2.7479e-04\n",
      "Epoch 43/500\n",
      "\u001b[1m97/97\u001b[0m \u001b[32m━━━━━━━━━━━━━━━━━━━━\u001b[0m\u001b[37m\u001b[0m \u001b[1m1s\u001b[0m 4ms/step - accuracy: 0.7358 - loss: 0.7255 - val_accuracy: 0.7244 - val_loss: 0.7395 - learning_rate: 2.7479e-04\n",
      "Epoch 44/500\n",
      "\u001b[1m97/97\u001b[0m \u001b[32m━━━━━━━━━━━━━━━━━━━━\u001b[0m\u001b[37m\u001b[0m \u001b[1m0s\u001b[0m 4ms/step - accuracy: 0.7393 - loss: 0.7259 - val_accuracy: 0.7304 - val_loss: 0.7381 - learning_rate: 2.7479e-04\n",
      "Epoch 45/500\n",
      "\u001b[1m97/97\u001b[0m \u001b[32m━━━━━━━━━━━━━━━━━━━━\u001b[0m\u001b[37m\u001b[0m \u001b[1m0s\u001b[0m 4ms/step - accuracy: 0.7351 - loss: 0.7256 - val_accuracy: 0.7289 - val_loss: 0.7369 - learning_rate: 2.7479e-04\n",
      "Epoch 46/500\n",
      "\u001b[1m97/97\u001b[0m \u001b[32m━━━━━━━━━━━━━━━━━━━━\u001b[0m\u001b[37m\u001b[0m \u001b[1m0s\u001b[0m 4ms/step - accuracy: 0.7368 - loss: 0.7279 - val_accuracy: 0.7274 - val_loss: 0.7397 - learning_rate: 2.7479e-04\n",
      "Epoch 47/500\n",
      "\u001b[1m97/97\u001b[0m \u001b[32m━━━━━━━━━━━━━━━━━━━━\u001b[0m\u001b[37m\u001b[0m \u001b[1m0s\u001b[0m 4ms/step - accuracy: 0.7358 - loss: 0.7218 - val_accuracy: 0.7214 - val_loss: 0.7368 - learning_rate: 2.7479e-04\n",
      "Epoch 48/500\n",
      "\u001b[1m97/97\u001b[0m \u001b[32m━━━━━━━━━━━━━━━━━━━━\u001b[0m\u001b[37m\u001b[0m \u001b[1m0s\u001b[0m 3ms/step - accuracy: 0.7377 - loss: 0.7239 - val_accuracy: 0.7184 - val_loss: 0.7402 - learning_rate: 2.7479e-04\n",
      "Epoch 49/500\n",
      "\u001b[1m97/97\u001b[0m \u001b[32m━━━━━━━━━━━━━━━━━━━━\u001b[0m\u001b[37m\u001b[0m \u001b[1m0s\u001b[0m 4ms/step - accuracy: 0.7380 - loss: 0.7194 - val_accuracy: 0.7229 - val_loss: 0.7369 - learning_rate: 2.7479e-04\n",
      "Epoch 50/500\n",
      "\u001b[1m97/97\u001b[0m \u001b[32m━━━━━━━━━━━━━━━━━━━━\u001b[0m\u001b[37m\u001b[0m \u001b[1m0s\u001b[0m 4ms/step - accuracy: 0.7358 - loss: 0.7234 - val_accuracy: 0.7244 - val_loss: 0.7361 - learning_rate: 2.7479e-04\n",
      "Epoch 51/500\n",
      "\u001b[1m97/97\u001b[0m \u001b[32m━━━━━━━━━━━━━━━━━━━━\u001b[0m\u001b[37m\u001b[0m \u001b[1m0s\u001b[0m 4ms/step - accuracy: 0.7387 - loss: 0.7215 - val_accuracy: 0.7214 - val_loss: 0.7365 - learning_rate: 2.7479e-04\n",
      "Epoch 52/500\n",
      "\u001b[1m97/97\u001b[0m \u001b[32m━━━━━━━━━━━━━━━━━━━━\u001b[0m\u001b[37m\u001b[0m \u001b[1m0s\u001b[0m 4ms/step - accuracy: 0.7397 - loss: 0.7220 - val_accuracy: 0.7289 - val_loss: 0.7370 - learning_rate: 2.7479e-04\n",
      "Epoch 53/500\n",
      "\u001b[1m97/97\u001b[0m \u001b[32m━━━━━━━━━━━━━━━━━━━━\u001b[0m\u001b[37m\u001b[0m \u001b[1m0s\u001b[0m 4ms/step - accuracy: 0.7393 - loss: 0.7195 - val_accuracy: 0.7259 - val_loss: 0.7360 - learning_rate: 2.7479e-04\n",
      "Epoch 54/500\n",
      "\u001b[1m97/97\u001b[0m \u001b[32m━━━━━━━━━━━━━━━━━━━━\u001b[0m\u001b[37m\u001b[0m \u001b[1m0s\u001b[0m 4ms/step - accuracy: 0.7355 - loss: 0.7196 - val_accuracy: 0.7214 - val_loss: 0.7320 - learning_rate: 2.7479e-04\n",
      "Epoch 55/500\n",
      "\u001b[1m97/97\u001b[0m \u001b[32m━━━━━━━━━━━━━━━━━━━━\u001b[0m\u001b[37m\u001b[0m \u001b[1m0s\u001b[0m 4ms/step - accuracy: 0.7387 - loss: 0.7201 - val_accuracy: 0.7214 - val_loss: 0.7313 - learning_rate: 2.7479e-04\n",
      "Epoch 56/500\n",
      "\u001b[1m97/97\u001b[0m \u001b[32m━━━━━━━━━━━━━━━━━━━━\u001b[0m\u001b[37m\u001b[0m \u001b[1m0s\u001b[0m 3ms/step - accuracy: 0.7397 - loss: 0.7221 - val_accuracy: 0.7154 - val_loss: 0.7403 - learning_rate: 2.7479e-04\n",
      "Epoch 57/500\n",
      "\u001b[1m97/97\u001b[0m \u001b[32m━━━━━━━━━━━━━━━━━━━━\u001b[0m\u001b[37m\u001b[0m \u001b[1m0s\u001b[0m 4ms/step - accuracy: 0.7371 - loss: 0.7129 - val_accuracy: 0.7229 - val_loss: 0.7316 - learning_rate: 2.7479e-04\n",
      "Epoch 58/500\n",
      "\u001b[1m97/97\u001b[0m \u001b[32m━━━━━━━━━━━━━━━━━━━━\u001b[0m\u001b[37m\u001b[0m \u001b[1m1s\u001b[0m 4ms/step - accuracy: 0.7374 - loss: 0.7201 - val_accuracy: 0.7214 - val_loss: 0.7341 - learning_rate: 2.7479e-04\n",
      "Epoch 59/500\n",
      "\u001b[1m97/97\u001b[0m \u001b[32m━━━━━━━━━━━━━━━━━━━━\u001b[0m\u001b[37m\u001b[0m \u001b[1m0s\u001b[0m 3ms/step - accuracy: 0.7397 - loss: 0.7224 - val_accuracy: 0.7214 - val_loss: 0.7399 - learning_rate: 2.7479e-04\n",
      "Epoch 60/500\n",
      "\u001b[1m97/97\u001b[0m \u001b[32m━━━━━━━━━━━━━━━━━━━━\u001b[0m\u001b[37m\u001b[0m \u001b[1m1s\u001b[0m 4ms/step - accuracy: 0.7358 - loss: 0.7180 - val_accuracy: 0.7199 - val_loss: 0.7308 - learning_rate: 2.7479e-04\n",
      "Epoch 61/500\n",
      "\u001b[1m97/97\u001b[0m \u001b[32m━━━━━━━━━━━━━━━━━━━━\u001b[0m\u001b[37m\u001b[0m \u001b[1m0s\u001b[0m 4ms/step - accuracy: 0.7380 - loss: 0.7162 - val_accuracy: 0.7214 - val_loss: 0.7284 - learning_rate: 2.7479e-04\n",
      "Epoch 62/500\n",
      "\u001b[1m97/97\u001b[0m \u001b[32m━━━━━━━━━━━━━━━━━━━━\u001b[0m\u001b[37m\u001b[0m \u001b[1m0s\u001b[0m 4ms/step - accuracy: 0.7416 - loss: 0.7165 - val_accuracy: 0.7184 - val_loss: 0.7352 - learning_rate: 2.7479e-04\n",
      "Epoch 63/500\n",
      "\u001b[1m97/97\u001b[0m \u001b[32m━━━━━━━━━━━━━━━━━━━━\u001b[0m\u001b[37m\u001b[0m \u001b[1m0s\u001b[0m 4ms/step - accuracy: 0.7355 - loss: 0.7157 - val_accuracy: 0.7214 - val_loss: 0.7306 - learning_rate: 2.7479e-04\n",
      "Epoch 64/500\n",
      "\u001b[1m97/97\u001b[0m \u001b[32m━━━━━━━━━━━━━━━━━━━━\u001b[0m\u001b[37m\u001b[0m \u001b[1m0s\u001b[0m 4ms/step - accuracy: 0.7439 - loss: 0.7140 - val_accuracy: 0.7169 - val_loss: 0.7342 - learning_rate: 2.7479e-04\n",
      "Epoch 65/500\n",
      "\u001b[1m97/97\u001b[0m \u001b[32m━━━━━━━━━━━━━━━━━━━━\u001b[0m\u001b[37m\u001b[0m \u001b[1m0s\u001b[0m 4ms/step - accuracy: 0.7416 - loss: 0.7119 - val_accuracy: 0.7214 - val_loss: 0.7313 - learning_rate: 2.7479e-04\n",
      "Epoch 66/500\n",
      "\u001b[1m97/97\u001b[0m \u001b[32m━━━━━━━━━━━━━━━━━━━━\u001b[0m\u001b[37m\u001b[0m \u001b[1m1s\u001b[0m 5ms/step - accuracy: 0.7377 - loss: 0.7166 - val_accuracy: 0.7199 - val_loss: 0.7362 - learning_rate: 2.7479e-04\n",
      "Epoch 67/500\n",
      "\u001b[1m97/97\u001b[0m \u001b[32m━━━━━━━━━━━━━━━━━━━━\u001b[0m\u001b[37m\u001b[0m \u001b[1m1s\u001b[0m 6ms/step - accuracy: 0.7380 - loss: 0.7168 - val_accuracy: 0.7154 - val_loss: 0.7294 - learning_rate: 2.7479e-04\n",
      "Epoch 68/500\n",
      "\u001b[1m82/97\u001b[0m \u001b[32m━━━━━━━━━━━━━━━━\u001b[0m\u001b[37m━━━━\u001b[0m \u001b[1m0s\u001b[0m 2ms/step - accuracy: 0.7516 - loss: 0.6936\n",
      "Epoch 68: ReduceLROnPlateau reducing learning rate to 0.00013739432324655354.\n",
      "\u001b[1m97/97\u001b[0m \u001b[32m━━━━━━━━━━━━━━━━━━━━\u001b[0m\u001b[37m\u001b[0m \u001b[1m0s\u001b[0m 3ms/step - accuracy: 0.7380 - loss: 0.7177 - val_accuracy: 0.7214 - val_loss: 0.7318 - learning_rate: 2.7479e-04\n",
      "Epoch 69/500\n",
      "\u001b[1m97/97\u001b[0m \u001b[32m━━━━━━━━━━━━━━━━━━━━\u001b[0m\u001b[37m\u001b[0m \u001b[1m1s\u001b[0m 4ms/step - accuracy: 0.7403 - loss: 0.6948 - val_accuracy: 0.7289 - val_loss: 0.7031 - learning_rate: 1.3739e-04\n",
      "Epoch 70/500\n",
      "\u001b[1m97/97\u001b[0m \u001b[32m━━━━━━━━━━━━━━━━━━━━\u001b[0m\u001b[37m\u001b[0m \u001b[1m0s\u001b[0m 4ms/step - accuracy: 0.7464 - loss: 0.6915 - val_accuracy: 0.7259 - val_loss: 0.7065 - learning_rate: 1.3739e-04\n",
      "Epoch 71/500\n",
      "\u001b[1m97/97\u001b[0m \u001b[32m━━━━━━━━━━━━━━━━━━━━\u001b[0m\u001b[37m\u001b[0m \u001b[1m0s\u001b[0m 5ms/step - accuracy: 0.7468 - loss: 0.6932 - val_accuracy: 0.7244 - val_loss: 0.7055 - learning_rate: 1.3739e-04\n",
      "Epoch 72/500\n",
      "\u001b[1m97/97\u001b[0m \u001b[32m━━━━━━━━━━━━━━━━━━━━\u001b[0m\u001b[37m\u001b[0m \u001b[1m1s\u001b[0m 5ms/step - accuracy: 0.7452 - loss: 0.6876 - val_accuracy: 0.7229 - val_loss: 0.7055 - learning_rate: 1.3739e-04\n",
      "Epoch 73/500\n",
      "\u001b[1m97/97\u001b[0m \u001b[32m━━━━━━━━━━━━━━━━━━━━\u001b[0m\u001b[37m\u001b[0m \u001b[1m0s\u001b[0m 4ms/step - accuracy: 0.7435 - loss: 0.6958 - val_accuracy: 0.7259 - val_loss: 0.7022 - learning_rate: 1.3739e-04\n",
      "Epoch 74/500\n",
      "\u001b[1m97/97\u001b[0m \u001b[32m━━━━━━━━━━━━━━━━━━━━\u001b[0m\u001b[37m\u001b[0m \u001b[1m0s\u001b[0m 4ms/step - accuracy: 0.7432 - loss: 0.6959 - val_accuracy: 0.7244 - val_loss: 0.7019 - learning_rate: 1.3739e-04\n",
      "Epoch 75/500\n",
      "\u001b[1m97/97\u001b[0m \u001b[32m━━━━━━━━━━━━━━━━━━━━\u001b[0m\u001b[37m\u001b[0m \u001b[1m0s\u001b[0m 4ms/step - accuracy: 0.7400 - loss: 0.6887 - val_accuracy: 0.7199 - val_loss: 0.7031 - learning_rate: 1.3739e-04\n",
      "Epoch 76/500\n",
      "\u001b[1m97/97\u001b[0m \u001b[32m━━━━━━━━━━━━━━━━━━━━\u001b[0m\u001b[37m\u001b[0m \u001b[1m0s\u001b[0m 3ms/step - accuracy: 0.7481 - loss: 0.6917 - val_accuracy: 0.7199 - val_loss: 0.7041 - learning_rate: 1.3739e-04\n",
      "Epoch 77/500\n",
      "\u001b[1m97/97\u001b[0m \u001b[32m━━━━━━━━━━━━━━━━━━━━\u001b[0m\u001b[37m\u001b[0m \u001b[1m0s\u001b[0m 3ms/step - accuracy: 0.7422 - loss: 0.6922 - val_accuracy: 0.7259 - val_loss: 0.7042 - learning_rate: 1.3739e-04\n",
      "Epoch 78/500\n",
      "\u001b[1m97/97\u001b[0m \u001b[32m━━━━━━━━━━━━━━━━━━━━\u001b[0m\u001b[37m\u001b[0m \u001b[1m1s\u001b[0m 4ms/step - accuracy: 0.7452 - loss: 0.6882 - val_accuracy: 0.7244 - val_loss: 0.7007 - learning_rate: 1.3739e-04\n",
      "Epoch 79/500\n",
      "\u001b[1m97/97\u001b[0m \u001b[32m━━━━━━━━━━━━━━━━━━━━\u001b[0m\u001b[37m\u001b[0m \u001b[1m0s\u001b[0m 4ms/step - accuracy: 0.7397 - loss: 0.6888 - val_accuracy: 0.7259 - val_loss: 0.7005 - learning_rate: 1.3739e-04\n",
      "Epoch 80/500\n",
      "\u001b[1m97/97\u001b[0m \u001b[32m━━━━━━━━━━━━━━━━━━━━\u001b[0m\u001b[37m\u001b[0m \u001b[1m0s\u001b[0m 4ms/step - accuracy: 0.7390 - loss: 0.6913 - val_accuracy: 0.7244 - val_loss: 0.7057 - learning_rate: 1.3739e-04\n",
      "Epoch 81/500\n",
      "\u001b[1m97/97\u001b[0m \u001b[32m━━━━━━━━━━━━━━━━━━━━\u001b[0m\u001b[37m\u001b[0m \u001b[1m1s\u001b[0m 4ms/step - accuracy: 0.7439 - loss: 0.6887 - val_accuracy: 0.7229 - val_loss: 0.7035 - learning_rate: 1.3739e-04\n",
      "Epoch 82/500\n",
      "\u001b[1m97/97\u001b[0m \u001b[32m━━━━━━━━━━━━━━━━━━━━\u001b[0m\u001b[37m\u001b[0m \u001b[1m0s\u001b[0m 4ms/step - accuracy: 0.7400 - loss: 0.6900 - val_accuracy: 0.7229 - val_loss: 0.7034 - learning_rate: 1.3739e-04\n",
      "Epoch 83/500\n",
      "\u001b[1m97/97\u001b[0m \u001b[32m━━━━━━━━━━━━━━━━━━━━\u001b[0m\u001b[37m\u001b[0m \u001b[1m0s\u001b[0m 4ms/step - accuracy: 0.7429 - loss: 0.6918 - val_accuracy: 0.7214 - val_loss: 0.7042 - learning_rate: 1.3739e-04\n",
      "Epoch 84/500\n",
      "\u001b[1m97/97\u001b[0m \u001b[32m━━━━━━━━━━━━━━━━━━━━\u001b[0m\u001b[37m\u001b[0m \u001b[1m0s\u001b[0m 4ms/step - accuracy: 0.7390 - loss: 0.6865 - val_accuracy: 0.7244 - val_loss: 0.7004 - learning_rate: 1.3739e-04\n",
      "Epoch 85/500\n",
      "\u001b[1m97/97\u001b[0m \u001b[32m━━━━━━━━━━━━━━━━━━━━\u001b[0m\u001b[37m\u001b[0m \u001b[1m0s\u001b[0m 4ms/step - accuracy: 0.7358 - loss: 0.6894 - val_accuracy: 0.7259 - val_loss: 0.7017 - learning_rate: 1.3739e-04\n",
      "Epoch 86/500\n",
      "\u001b[1m84/97\u001b[0m \u001b[32m━━━━━━━━━━━━━━━━━\u001b[0m\u001b[37m━━━\u001b[0m \u001b[1m0s\u001b[0m 2ms/step - accuracy: 0.7483 - loss: 0.6640\n",
      "Epoch 86: ReduceLROnPlateau reducing learning rate to 6.869716162327677e-05.\n",
      "\u001b[1m97/97\u001b[0m \u001b[32m━━━━━━━━━━━━━━━━━━━━\u001b[0m\u001b[37m\u001b[0m \u001b[1m0s\u001b[0m 4ms/step - accuracy: 0.7355 - loss: 0.6886 - val_accuracy: 0.7184 - val_loss: 0.7047 - learning_rate: 1.3739e-04\n",
      "Epoch 87/500\n",
      "\u001b[1m97/97\u001b[0m \u001b[32m━━━━━━━━━━━━━━━━━━━━\u001b[0m\u001b[37m\u001b[0m \u001b[1m0s\u001b[0m 4ms/step - accuracy: 0.7442 - loss: 0.6779 - val_accuracy: 0.7214 - val_loss: 0.6905 - learning_rate: 6.8697e-05\n",
      "Epoch 88/500\n",
      "\u001b[1m97/97\u001b[0m \u001b[32m━━━━━━━━━━━━━━━━━━━━\u001b[0m\u001b[37m\u001b[0m \u001b[1m1s\u001b[0m 4ms/step - accuracy: 0.7406 - loss: 0.6814 - val_accuracy: 0.7229 - val_loss: 0.6892 - learning_rate: 6.8697e-05\n",
      "Epoch 89/500\n",
      "\u001b[1m97/97\u001b[0m \u001b[32m━━━━━━━━━━━━━━━━━━━━\u001b[0m\u001b[37m\u001b[0m \u001b[1m0s\u001b[0m 4ms/step - accuracy: 0.7442 - loss: 0.6753 - val_accuracy: 0.7244 - val_loss: 0.6897 - learning_rate: 6.8697e-05\n",
      "Epoch 90/500\n",
      "\u001b[1m97/97\u001b[0m \u001b[32m━━━━━━━━━━━━━━━━━━━━\u001b[0m\u001b[37m\u001b[0m \u001b[1m0s\u001b[0m 4ms/step - accuracy: 0.7471 - loss: 0.6775 - val_accuracy: 0.7199 - val_loss: 0.6881 - learning_rate: 6.8697e-05\n",
      "Epoch 91/500\n",
      "\u001b[1m97/97\u001b[0m \u001b[32m━━━━━━━━━━━━━━━━━━━━\u001b[0m\u001b[37m\u001b[0m \u001b[1m0s\u001b[0m 4ms/step - accuracy: 0.7471 - loss: 0.6749 - val_accuracy: 0.7214 - val_loss: 0.6889 - learning_rate: 6.8697e-05\n",
      "Epoch 92/500\n",
      "\u001b[1m97/97\u001b[0m \u001b[32m━━━━━━━━━━━━━━━━━━━━\u001b[0m\u001b[37m\u001b[0m \u001b[1m1s\u001b[0m 4ms/step - accuracy: 0.7452 - loss: 0.6745 - val_accuracy: 0.7229 - val_loss: 0.6873 - learning_rate: 6.8697e-05\n",
      "Epoch 93/500\n",
      "\u001b[1m97/97\u001b[0m \u001b[32m━━━━━━━━━━━━━━━━━━━━\u001b[0m\u001b[37m\u001b[0m \u001b[1m1s\u001b[0m 4ms/step - accuracy: 0.7390 - loss: 0.6754 - val_accuracy: 0.7229 - val_loss: 0.6870 - learning_rate: 6.8697e-05\n",
      "Epoch 94/500\n",
      "\u001b[1m97/97\u001b[0m \u001b[32m━━━━━━━━━━━━━━━━━━━━\u001b[0m\u001b[37m\u001b[0m \u001b[1m0s\u001b[0m 4ms/step - accuracy: 0.7435 - loss: 0.6806 - val_accuracy: 0.7229 - val_loss: 0.6885 - learning_rate: 6.8697e-05\n",
      "Epoch 95/500\n",
      "\u001b[1m97/97\u001b[0m \u001b[32m━━━━━━━━━━━━━━━━━━━━\u001b[0m\u001b[37m\u001b[0m \u001b[1m1s\u001b[0m 4ms/step - accuracy: 0.7422 - loss: 0.6764 - val_accuracy: 0.7214 - val_loss: 0.6865 - learning_rate: 6.8697e-05\n",
      "Epoch 96/500\n",
      "\u001b[1m97/97\u001b[0m \u001b[32m━━━━━━━━━━━━━━━━━━━━\u001b[0m\u001b[37m\u001b[0m \u001b[1m0s\u001b[0m 4ms/step - accuracy: 0.7400 - loss: 0.6753 - val_accuracy: 0.7244 - val_loss: 0.6879 - learning_rate: 6.8697e-05\n",
      "Epoch 97/500\n",
      "\u001b[1m97/97\u001b[0m \u001b[32m━━━━━━━━━━━━━━━━━━━━\u001b[0m\u001b[37m\u001b[0m \u001b[1m0s\u001b[0m 4ms/step - accuracy: 0.7448 - loss: 0.6730 - val_accuracy: 0.7244 - val_loss: 0.6874 - learning_rate: 6.8697e-05\n",
      "Epoch 98/500\n",
      "\u001b[1m97/97\u001b[0m \u001b[32m━━━━━━━━━━━━━━━━━━━━\u001b[0m\u001b[37m\u001b[0m \u001b[1m1s\u001b[0m 4ms/step - accuracy: 0.7439 - loss: 0.6767 - val_accuracy: 0.7244 - val_loss: 0.6871 - learning_rate: 6.8697e-05\n",
      "Epoch 99/500\n",
      "\u001b[1m97/97\u001b[0m \u001b[32m━━━━━━━━━━━━━━━━━━━━\u001b[0m\u001b[37m\u001b[0m \u001b[1m0s\u001b[0m 4ms/step - accuracy: 0.7461 - loss: 0.6781 - val_accuracy: 0.7229 - val_loss: 0.6890 - learning_rate: 6.8697e-05\n",
      "Epoch 100/500\n",
      "\u001b[1m97/97\u001b[0m \u001b[32m━━━━━━━━━━━━━━━━━━━━\u001b[0m\u001b[37m\u001b[0m \u001b[1m0s\u001b[0m 4ms/step - accuracy: 0.7448 - loss: 0.6762 - val_accuracy: 0.7214 - val_loss: 0.6879 - learning_rate: 6.8697e-05\n",
      "Epoch 101/500\n",
      "\u001b[1m97/97\u001b[0m \u001b[32m━━━━━━━━━━━━━━━━━━━━\u001b[0m\u001b[37m\u001b[0m \u001b[1m0s\u001b[0m 4ms/step - accuracy: 0.7445 - loss: 0.6795 - val_accuracy: 0.7214 - val_loss: 0.6867 - learning_rate: 6.8697e-05\n",
      "Epoch 102/500\n",
      "\u001b[1m96/97\u001b[0m \u001b[32m━━━━━━━━━━━━━━━━━━━\u001b[0m\u001b[37m━\u001b[0m \u001b[1m0s\u001b[0m 3ms/step - accuracy: 0.7538 - loss: 0.6488\n",
      "Epoch 102: ReduceLROnPlateau reducing learning rate to 3.4348580811638385e-05.\n",
      "\u001b[1m97/97\u001b[0m \u001b[32m━━━━━━━━━━━━━━━━━━━━\u001b[0m\u001b[37m\u001b[0m \u001b[1m1s\u001b[0m 4ms/step - accuracy: 0.7393 - loss: 0.6711 - val_accuracy: 0.7244 - val_loss: 0.6870 - learning_rate: 6.8697e-05\n",
      "Epoch 103/500\n",
      "\u001b[1m97/97\u001b[0m \u001b[32m━━━━━━━━━━━━━━━━━━━━\u001b[0m\u001b[37m\u001b[0m \u001b[1m0s\u001b[0m 4ms/step - accuracy: 0.7458 - loss: 0.6680 - val_accuracy: 0.7214 - val_loss: 0.6807 - learning_rate: 3.4349e-05\n",
      "Epoch 104/500\n",
      "\u001b[1m97/97\u001b[0m \u001b[32m━━━━━━━━━━━━━━━━━━━━\u001b[0m\u001b[37m\u001b[0m \u001b[1m0s\u001b[0m 4ms/step - accuracy: 0.7400 - loss: 0.6684 - val_accuracy: 0.7244 - val_loss: 0.6820 - learning_rate: 3.4349e-05\n",
      "Epoch 105/500\n",
      "\u001b[1m97/97\u001b[0m \u001b[32m━━━━━━━━━━━━━━━━━━━━\u001b[0m\u001b[37m\u001b[0m \u001b[1m1s\u001b[0m 4ms/step - accuracy: 0.7397 - loss: 0.6730 - val_accuracy: 0.7229 - val_loss: 0.6817 - learning_rate: 3.4349e-05\n",
      "Epoch 106/500\n",
      "\u001b[1m97/97\u001b[0m \u001b[32m━━━━━━━━━━━━━━━━━━━━\u001b[0m\u001b[37m\u001b[0m \u001b[1m0s\u001b[0m 4ms/step - accuracy: 0.7500 - loss: 0.6634 - val_accuracy: 0.7229 - val_loss: 0.6827 - learning_rate: 3.4349e-05\n",
      "Epoch 107/500\n",
      "\u001b[1m97/97\u001b[0m \u001b[32m━━━━━━━━━━━━━━━━━━━━\u001b[0m\u001b[37m\u001b[0m \u001b[1m0s\u001b[0m 5ms/step - accuracy: 0.7445 - loss: 0.6690 - val_accuracy: 0.7199 - val_loss: 0.6821 - learning_rate: 3.4349e-05\n",
      "Epoch 108/500\n",
      "\u001b[1m97/97\u001b[0m \u001b[32m━━━━━━━━━━━━━━━━━━━━\u001b[0m\u001b[37m\u001b[0m \u001b[1m1s\u001b[0m 6ms/step - accuracy: 0.7452 - loss: 0.6633 - val_accuracy: 0.7214 - val_loss: 0.6820 - learning_rate: 3.4349e-05\n",
      "Epoch 109/500\n",
      "\u001b[1m97/97\u001b[0m \u001b[32m━━━━━━━━━━━━━━━━━━━━\u001b[0m\u001b[37m\u001b[0m \u001b[1m1s\u001b[0m 6ms/step - accuracy: 0.7468 - loss: 0.6705 - val_accuracy: 0.7184 - val_loss: 0.6811 - learning_rate: 3.4349e-05\n",
      "Epoch 110/500\n",
      "\u001b[1m97/97\u001b[0m \u001b[32m━━━━━━━━━━━━━━━━━━━━\u001b[0m\u001b[37m\u001b[0m \u001b[1m1s\u001b[0m 5ms/step - accuracy: 0.7397 - loss: 0.6666 - val_accuracy: 0.7184 - val_loss: 0.6806 - learning_rate: 3.4349e-05\n",
      "Epoch 111/500\n",
      "\u001b[1m97/97\u001b[0m \u001b[32m━━━━━━━━━━━━━━━━━━━━\u001b[0m\u001b[37m\u001b[0m \u001b[1m0s\u001b[0m 5ms/step - accuracy: 0.7464 - loss: 0.6700 - val_accuracy: 0.7199 - val_loss: 0.6808 - learning_rate: 3.4349e-05\n",
      "Epoch 112/500\n",
      "\u001b[1m97/97\u001b[0m \u001b[32m━━━━━━━━━━━━━━━━━━━━\u001b[0m\u001b[37m\u001b[0m \u001b[1m0s\u001b[0m 4ms/step - accuracy: 0.7413 - loss: 0.6733 - val_accuracy: 0.7199 - val_loss: 0.6810 - learning_rate: 3.4349e-05\n",
      "Epoch 113/500\n",
      "\u001b[1m97/97\u001b[0m \u001b[32m━━━━━━━━━━━━━━━━━━━━\u001b[0m\u001b[37m\u001b[0m \u001b[1m1s\u001b[0m 4ms/step - accuracy: 0.7474 - loss: 0.6674 - val_accuracy: 0.7214 - val_loss: 0.6806 - learning_rate: 3.4349e-05\n",
      "Epoch 114/500\n",
      "\u001b[1m97/97\u001b[0m \u001b[32m━━━━━━━━━━━━━━━━━━━━\u001b[0m\u001b[37m\u001b[0m \u001b[1m1s\u001b[0m 5ms/step - accuracy: 0.7439 - loss: 0.6666 - val_accuracy: 0.7229 - val_loss: 0.6806 - learning_rate: 3.4349e-05\n",
      "Epoch 115/500\n",
      "\u001b[1m97/97\u001b[0m \u001b[32m━━━━━━━━━━━━━━━━━━━━\u001b[0m\u001b[37m\u001b[0m \u001b[1m1s\u001b[0m 6ms/step - accuracy: 0.7494 - loss: 0.6686 - val_accuracy: 0.7214 - val_loss: 0.6809 - learning_rate: 3.4349e-05\n",
      "Epoch 116/500\n",
      "\u001b[1m97/97\u001b[0m \u001b[32m━━━━━━━━━━━━━━━━━━━━\u001b[0m\u001b[37m\u001b[0m \u001b[1m1s\u001b[0m 12ms/step - accuracy: 0.7464 - loss: 0.6634 - val_accuracy: 0.7229 - val_loss: 0.6801 - learning_rate: 3.4349e-05\n",
      "Epoch 117/500\n",
      "\u001b[1m97/97\u001b[0m \u001b[32m━━━━━━━━━━━━━━━━━━━━\u001b[0m\u001b[37m\u001b[0m \u001b[1m2s\u001b[0m 16ms/step - accuracy: 0.7439 - loss: 0.6625 - val_accuracy: 0.7229 - val_loss: 0.6799 - learning_rate: 3.4349e-05\n",
      "Epoch 118/500\n",
      "\u001b[1m97/97\u001b[0m \u001b[32m━━━━━━━━━━━━━━━━━━━━\u001b[0m\u001b[37m\u001b[0m \u001b[1m1s\u001b[0m 4ms/step - accuracy: 0.7474 - loss: 0.6718 - val_accuracy: 0.7214 - val_loss: 0.6797 - learning_rate: 3.4349e-05\n",
      "Epoch 119/500\n",
      "\u001b[1m97/97\u001b[0m \u001b[32m━━━━━━━━━━━━━━━━━━━━\u001b[0m\u001b[37m\u001b[0m \u001b[1m0s\u001b[0m 4ms/step - accuracy: 0.7477 - loss: 0.6661 - val_accuracy: 0.7214 - val_loss: 0.6798 - learning_rate: 3.4349e-05\n",
      "Epoch 120/500\n",
      "\u001b[1m97/97\u001b[0m \u001b[32m━━━━━━━━━━━━━━━━━━━━\u001b[0m\u001b[37m\u001b[0m \u001b[1m1s\u001b[0m 4ms/step - accuracy: 0.7435 - loss: 0.6658 - val_accuracy: 0.7199 - val_loss: 0.6812 - learning_rate: 3.4349e-05\n",
      "Epoch 121/500\n",
      "\u001b[1m97/97\u001b[0m \u001b[32m━━━━━━━━━━━━━━━━━━━━\u001b[0m\u001b[37m\u001b[0m \u001b[1m1s\u001b[0m 5ms/step - accuracy: 0.7435 - loss: 0.6714 - val_accuracy: 0.7199 - val_loss: 0.6796 - learning_rate: 3.4349e-05\n",
      "Epoch 122/500\n",
      "\u001b[1m97/97\u001b[0m \u001b[32m━━━━━━━━━━━━━━━━━━━━\u001b[0m\u001b[37m\u001b[0m \u001b[1m0s\u001b[0m 3ms/step - accuracy: 0.7497 - loss: 0.6698 - val_accuracy: 0.7244 - val_loss: 0.6797 - learning_rate: 3.4349e-05\n",
      "Epoch 123/500\n",
      "\u001b[1m97/97\u001b[0m \u001b[32m━━━━━━━━━━━━━━━━━━━━\u001b[0m\u001b[37m\u001b[0m \u001b[1m0s\u001b[0m 4ms/step - accuracy: 0.7413 - loss: 0.6704 - val_accuracy: 0.7199 - val_loss: 0.6797 - learning_rate: 3.4349e-05\n",
      "Epoch 124/500\n",
      "\u001b[1m97/97\u001b[0m \u001b[32m━━━━━━━━━━━━━━━━━━━━\u001b[0m\u001b[37m\u001b[0m \u001b[1m0s\u001b[0m 4ms/step - accuracy: 0.7413 - loss: 0.6666 - val_accuracy: 0.7259 - val_loss: 0.6798 - learning_rate: 3.4349e-05\n",
      "Epoch 125/500\n",
      "\u001b[1m78/97\u001b[0m \u001b[32m━━━━━━━━━━━━━━━━\u001b[0m\u001b[37m━━━━\u001b[0m \u001b[1m0s\u001b[0m 4ms/step - accuracy: 0.7683 - loss: 0.6494\n",
      "Epoch 125: ReduceLROnPlateau reducing learning rate to 1.7174290405819193e-05.\n",
      "\u001b[1m97/97\u001b[0m \u001b[32m━━━━━━━━━━━━━━━━━━━━\u001b[0m\u001b[37m\u001b[0m \u001b[1m1s\u001b[0m 5ms/step - accuracy: 0.7452 - loss: 0.6720 - val_accuracy: 0.7229 - val_loss: 0.6798 - learning_rate: 3.4349e-05\n",
      "Epoch 126/500\n",
      "\u001b[1m97/97\u001b[0m \u001b[32m━━━━━━━━━━━━━━━━━━━━\u001b[0m\u001b[37m\u001b[0m \u001b[1m0s\u001b[0m 4ms/step - accuracy: 0.7448 - loss: 0.6681 - val_accuracy: 0.7184 - val_loss: 0.6778 - learning_rate: 1.7174e-05\n",
      "Epoch 127/500\n",
      "\u001b[1m97/97\u001b[0m \u001b[32m━━━━━━━━━━━━━━━━━━━━\u001b[0m\u001b[37m\u001b[0m \u001b[1m0s\u001b[0m 4ms/step - accuracy: 0.7426 - loss: 0.6622 - val_accuracy: 0.7214 - val_loss: 0.6774 - learning_rate: 1.7174e-05\n",
      "Epoch 128/500\n",
      "\u001b[1m97/97\u001b[0m \u001b[32m━━━━━━━━━━━━━━━━━━━━\u001b[0m\u001b[37m\u001b[0m \u001b[1m1s\u001b[0m 4ms/step - accuracy: 0.7477 - loss: 0.6593 - val_accuracy: 0.7214 - val_loss: 0.6769 - learning_rate: 1.7174e-05\n",
      "Epoch 129/500\n",
      "\u001b[1m97/97\u001b[0m \u001b[32m━━━━━━━━━━━━━━━━━━━━\u001b[0m\u001b[37m\u001b[0m \u001b[1m0s\u001b[0m 4ms/step - accuracy: 0.7497 - loss: 0.6619 - val_accuracy: 0.7199 - val_loss: 0.6766 - learning_rate: 1.7174e-05\n",
      "Epoch 130/500\n",
      "\u001b[1m97/97\u001b[0m \u001b[32m━━━━━━━━━━━━━━━━━━━━\u001b[0m\u001b[37m\u001b[0m \u001b[1m1s\u001b[0m 4ms/step - accuracy: 0.7458 - loss: 0.6658 - val_accuracy: 0.7199 - val_loss: 0.6759 - learning_rate: 1.7174e-05\n",
      "Epoch 131/500\n",
      "\u001b[1m97/97\u001b[0m \u001b[32m━━━━━━━━━━━━━━━━━━━━\u001b[0m\u001b[37m\u001b[0m \u001b[1m1s\u001b[0m 4ms/step - accuracy: 0.7448 - loss: 0.6608 - val_accuracy: 0.7214 - val_loss: 0.6761 - learning_rate: 1.7174e-05\n",
      "Epoch 132/500\n",
      "\u001b[1m97/97\u001b[0m \u001b[32m━━━━━━━━━━━━━━━━━━━━\u001b[0m\u001b[37m\u001b[0m \u001b[1m1s\u001b[0m 4ms/step - accuracy: 0.7458 - loss: 0.6632 - val_accuracy: 0.7214 - val_loss: 0.6768 - learning_rate: 1.7174e-05\n",
      "Epoch 133/500\n",
      "\u001b[1m97/97\u001b[0m \u001b[32m━━━━━━━━━━━━━━━━━━━━\u001b[0m\u001b[37m\u001b[0m \u001b[1m0s\u001b[0m 3ms/step - accuracy: 0.7448 - loss: 0.6660 - val_accuracy: 0.7229 - val_loss: 0.6770 - learning_rate: 1.7174e-05\n",
      "Epoch 134/500\n",
      "\u001b[1m97/97\u001b[0m \u001b[32m━━━━━━━━━━━━━━━━━━━━\u001b[0m\u001b[37m\u001b[0m \u001b[1m0s\u001b[0m 3ms/step - accuracy: 0.7471 - loss: 0.6628 - val_accuracy: 0.7229 - val_loss: 0.6769 - learning_rate: 1.7174e-05\n",
      "Epoch 135/500\n",
      "\u001b[1m97/97\u001b[0m \u001b[32m━━━━━━━━━━━━━━━━━━━━\u001b[0m\u001b[37m\u001b[0m \u001b[1m1s\u001b[0m 4ms/step - accuracy: 0.7481 - loss: 0.6659 - val_accuracy: 0.7244 - val_loss: 0.6766 - learning_rate: 1.7174e-05\n",
      "Epoch 136/500\n",
      "\u001b[1m97/97\u001b[0m \u001b[32m━━━━━━━━━━━━━━━━━━━━\u001b[0m\u001b[37m\u001b[0m \u001b[1m0s\u001b[0m 3ms/step - accuracy: 0.7494 - loss: 0.6608 - val_accuracy: 0.7229 - val_loss: 0.6773 - learning_rate: 1.7174e-05\n",
      "Epoch 137/500\n",
      "\u001b[1m85/97\u001b[0m \u001b[32m━━━━━━━━━━━━━━━━━\u001b[0m\u001b[37m━━━\u001b[0m \u001b[1m0s\u001b[0m 2ms/step - accuracy: 0.7592 - loss: 0.6371\n",
      "Epoch 137: ReduceLROnPlateau reducing learning rate to 8.587145202909596e-06.\n",
      "\u001b[1m97/97\u001b[0m \u001b[32m━━━━━━━━━━━━━━━━━━━━\u001b[0m\u001b[37m\u001b[0m \u001b[1m0s\u001b[0m 3ms/step - accuracy: 0.7435 - loss: 0.6592 - val_accuracy: 0.7244 - val_loss: 0.6779 - learning_rate: 1.7174e-05\n",
      "Epoch 138/500\n",
      "\u001b[1m97/97\u001b[0m \u001b[32m━━━━━━━━━━━━━━━━━━━━\u001b[0m\u001b[37m\u001b[0m \u001b[1m0s\u001b[0m 4ms/step - accuracy: 0.7452 - loss: 0.6608 - val_accuracy: 0.7214 - val_loss: 0.6768 - learning_rate: 8.5871e-06\n",
      "Epoch 139/500\n",
      "\u001b[1m97/97\u001b[0m \u001b[32m━━━━━━━━━━━━━━━━━━━━\u001b[0m\u001b[37m\u001b[0m \u001b[1m0s\u001b[0m 3ms/step - accuracy: 0.7461 - loss: 0.6626 - val_accuracy: 0.7199 - val_loss: 0.6763 - learning_rate: 8.5871e-06\n",
      "Epoch 140/500\n",
      "\u001b[1m97/97\u001b[0m \u001b[32m━━━━━━━━━━━━━━━━━━━━\u001b[0m\u001b[37m\u001b[0m \u001b[1m0s\u001b[0m 3ms/step - accuracy: 0.7419 - loss: 0.6621 - val_accuracy: 0.7214 - val_loss: 0.6763 - learning_rate: 8.5871e-06\n",
      "Epoch 141/500\n",
      "\u001b[1m97/97\u001b[0m \u001b[32m━━━━━━━━━━━━━━━━━━━━\u001b[0m\u001b[37m\u001b[0m \u001b[1m1s\u001b[0m 4ms/step - accuracy: 0.7416 - loss: 0.6649 - val_accuracy: 0.7184 - val_loss: 0.6761 - learning_rate: 8.5871e-06\n",
      "Epoch 142/500\n",
      "\u001b[1m97/97\u001b[0m \u001b[32m━━━━━━━━━━━━━━━━━━━━\u001b[0m\u001b[37m\u001b[0m \u001b[1m0s\u001b[0m 4ms/step - accuracy: 0.7536 - loss: 0.6592 - val_accuracy: 0.7184 - val_loss: 0.6764 - learning_rate: 8.5871e-06\n",
      "Epoch 143/500\n",
      "\u001b[1m97/97\u001b[0m \u001b[32m━━━━━━━━━━━━━━━━━━━━\u001b[0m\u001b[37m\u001b[0m \u001b[1m1s\u001b[0m 6ms/step - accuracy: 0.7497 - loss: 0.6603 - val_accuracy: 0.7184 - val_loss: 0.6762 - learning_rate: 8.5871e-06\n",
      "Epoch 144/500\n",
      "\u001b[1m82/97\u001b[0m \u001b[32m━━━━━━━━━━━━━━━━\u001b[0m\u001b[37m━━━━\u001b[0m \u001b[1m0s\u001b[0m 4ms/step - accuracy: 0.7651 - loss: 0.6385\n",
      "Epoch 144: ReduceLROnPlateau reducing learning rate to 4.293572601454798e-06.\n",
      "\u001b[1m97/97\u001b[0m \u001b[32m━━━━━━━━━━━━━━━━━━━━\u001b[0m\u001b[37m\u001b[0m \u001b[1m0s\u001b[0m 5ms/step - accuracy: 0.7458 - loss: 0.6565 - val_accuracy: 0.7169 - val_loss: 0.6763 - learning_rate: 8.5871e-06\n",
      "Epoch 145/500\n",
      "\u001b[1m97/97\u001b[0m \u001b[32m━━━━━━━━━━━━━━━━━━━━\u001b[0m\u001b[37m\u001b[0m \u001b[1m0s\u001b[0m 4ms/step - accuracy: 0.7426 - loss: 0.6656 - val_accuracy: 0.7199 - val_loss: 0.6759 - learning_rate: 4.2936e-06\n",
      "Epoch 146/500\n",
      "\u001b[1m97/97\u001b[0m \u001b[32m━━━━━━━━━━━━━━━━━━━━\u001b[0m\u001b[37m\u001b[0m \u001b[1m0s\u001b[0m 3ms/step - accuracy: 0.7419 - loss: 0.6588 - val_accuracy: 0.7199 - val_loss: 0.6759 - learning_rate: 4.2936e-06\n",
      "Epoch 147/500\n",
      "\u001b[1m97/97\u001b[0m \u001b[32m━━━━━━━━━━━━━━━━━━━━\u001b[0m\u001b[37m\u001b[0m \u001b[1m1s\u001b[0m 3ms/step - accuracy: 0.7513 - loss: 0.6527 - val_accuracy: 0.7199 - val_loss: 0.6759 - learning_rate: 4.2936e-06\n",
      "Epoch 148/500\n",
      "\u001b[1m97/97\u001b[0m \u001b[32m━━━━━━━━━━━━━━━━━━━━\u001b[0m\u001b[37m\u001b[0m \u001b[1m0s\u001b[0m 4ms/step - accuracy: 0.7464 - loss: 0.6539 - val_accuracy: 0.7199 - val_loss: 0.6758 - learning_rate: 4.2936e-06\n",
      "Epoch 149/500\n",
      "\u001b[1m97/97\u001b[0m \u001b[32m━━━━━━━━━━━━━━━━━━━━\u001b[0m\u001b[37m\u001b[0m \u001b[1m0s\u001b[0m 4ms/step - accuracy: 0.7487 - loss: 0.6552 - val_accuracy: 0.7214 - val_loss: 0.6758 - learning_rate: 4.2936e-06\n",
      "Epoch 150/500\n",
      "\u001b[1m97/97\u001b[0m \u001b[32m━━━━━━━━━━━━━━━━━━━━\u001b[0m\u001b[37m\u001b[0m \u001b[1m0s\u001b[0m 3ms/step - accuracy: 0.7448 - loss: 0.6572 - val_accuracy: 0.7199 - val_loss: 0.6759 - learning_rate: 4.2936e-06\n",
      "Epoch 151/500\n",
      "\u001b[1m94/97\u001b[0m \u001b[32m━━━━━━━━━━━━━━━━━━━\u001b[0m\u001b[37m━\u001b[0m \u001b[1m0s\u001b[0m 3ms/step - accuracy: 0.7689 - loss: 0.6453\n",
      "Epoch 151: ReduceLROnPlateau reducing learning rate to 2.146786300727399e-06.\n",
      "\u001b[1m97/97\u001b[0m \u001b[32m━━━━━━━━━━━━━━━━━━━━\u001b[0m\u001b[37m\u001b[0m \u001b[1m0s\u001b[0m 4ms/step - accuracy: 0.7497 - loss: 0.6650 - val_accuracy: 0.7199 - val_loss: 0.6759 - learning_rate: 4.2936e-06\n",
      "Epoch 152/500\n",
      "\u001b[1m97/97\u001b[0m \u001b[32m━━━━━━━━━━━━━━━━━━━━\u001b[0m\u001b[37m\u001b[0m \u001b[1m0s\u001b[0m 4ms/step - accuracy: 0.7513 - loss: 0.6596 - val_accuracy: 0.7199 - val_loss: 0.6756 - learning_rate: 2.1468e-06\n",
      "Epoch 153/500\n",
      "\u001b[1m97/97\u001b[0m \u001b[32m━━━━━━━━━━━━━━━━━━━━\u001b[0m\u001b[37m\u001b[0m \u001b[1m0s\u001b[0m 4ms/step - accuracy: 0.7490 - loss: 0.6616 - val_accuracy: 0.7184 - val_loss: 0.6756 - learning_rate: 2.1468e-06\n",
      "Epoch 154/500\n",
      "\u001b[1m97/97\u001b[0m \u001b[32m━━━━━━━━━━━━━━━━━━━━\u001b[0m\u001b[37m\u001b[0m \u001b[1m0s\u001b[0m 4ms/step - accuracy: 0.7490 - loss: 0.6617 - val_accuracy: 0.7184 - val_loss: 0.6755 - learning_rate: 2.1468e-06\n",
      "Epoch 155/500\n",
      "\u001b[1m97/97\u001b[0m \u001b[32m━━━━━━━━━━━━━━━━━━━━\u001b[0m\u001b[37m\u001b[0m \u001b[1m0s\u001b[0m 4ms/step - accuracy: 0.7474 - loss: 0.6541 - val_accuracy: 0.7199 - val_loss: 0.6754 - learning_rate: 2.1468e-06\n",
      "Epoch 156/500\n",
      "\u001b[1m97/97\u001b[0m \u001b[32m━━━━━━━━━━━━━━━━━━━━\u001b[0m\u001b[37m\u001b[0m \u001b[1m0s\u001b[0m 4ms/step - accuracy: 0.7455 - loss: 0.6575 - val_accuracy: 0.7184 - val_loss: 0.6754 - learning_rate: 2.1468e-06\n",
      "Epoch 157/500\n",
      "\u001b[1m97/97\u001b[0m \u001b[32m━━━━━━━━━━━━━━━━━━━━\u001b[0m\u001b[37m\u001b[0m \u001b[1m0s\u001b[0m 3ms/step - accuracy: 0.7500 - loss: 0.6579 - val_accuracy: 0.7184 - val_loss: 0.6755 - learning_rate: 2.1468e-06\n",
      "Epoch 158/500\n",
      "\u001b[1m97/97\u001b[0m \u001b[32m━━━━━━━━━━━━━━━━━━━━\u001b[0m\u001b[37m\u001b[0m \u001b[1m0s\u001b[0m 3ms/step - accuracy: 0.7471 - loss: 0.6558 - val_accuracy: 0.7199 - val_loss: 0.6755 - learning_rate: 2.1468e-06\n",
      "Epoch 159/500\n",
      "\u001b[1m97/97\u001b[0m \u001b[32m━━━━━━━━━━━━━━━━━━━━\u001b[0m\u001b[37m\u001b[0m \u001b[1m0s\u001b[0m 3ms/step - accuracy: 0.7448 - loss: 0.6593 - val_accuracy: 0.7199 - val_loss: 0.6754 - learning_rate: 2.1468e-06\n",
      "Epoch 160/500\n",
      "\u001b[1m97/97\u001b[0m \u001b[32m━━━━━━━━━━━━━━━━━━━━\u001b[0m\u001b[37m\u001b[0m \u001b[1m0s\u001b[0m 3ms/step - accuracy: 0.7484 - loss: 0.6560 - val_accuracy: 0.7184 - val_loss: 0.6754 - learning_rate: 2.1468e-06\n",
      "Epoch 161/500\n",
      "\u001b[1m97/97\u001b[0m \u001b[32m━━━━━━━━━━━━━━━━━━━━\u001b[0m\u001b[37m\u001b[0m \u001b[1m0s\u001b[0m 3ms/step - accuracy: 0.7474 - loss: 0.6553 - val_accuracy: 0.7199 - val_loss: 0.6754 - learning_rate: 2.1468e-06\n",
      "Epoch 162/500\n",
      "\u001b[1m97/97\u001b[0m \u001b[32m━━━━━━━━━━━━━━━━━━━━\u001b[0m\u001b[37m\u001b[0m \u001b[1m0s\u001b[0m 4ms/step - accuracy: 0.7474 - loss: 0.6565 - val_accuracy: 0.7199 - val_loss: 0.6754 - learning_rate: 2.1468e-06\n",
      "Epoch 163/500\n",
      "\u001b[1m87/97\u001b[0m \u001b[32m━━━━━━━━━━━━━━━━━\u001b[0m\u001b[37m━━━\u001b[0m \u001b[1m0s\u001b[0m 2ms/step - accuracy: 0.7634 - loss: 0.6367\n",
      "Epoch 163: ReduceLROnPlateau reducing learning rate to 1.0733931503636995e-06.\n",
      "\u001b[1m97/97\u001b[0m \u001b[32m━━━━━━━━━━━━━━━━━━━━\u001b[0m\u001b[37m\u001b[0m \u001b[1m0s\u001b[0m 4ms/step - accuracy: 0.7445 - loss: 0.6580 - val_accuracy: 0.7199 - val_loss: 0.6754 - learning_rate: 2.1468e-06\n",
      "Epoch 164/500\n",
      "\u001b[1m97/97\u001b[0m \u001b[32m━━━━━━━━━━━━━━━━━━━━\u001b[0m\u001b[37m\u001b[0m \u001b[1m0s\u001b[0m 4ms/step - accuracy: 0.7500 - loss: 0.6569 - val_accuracy: 0.7199 - val_loss: 0.6753 - learning_rate: 1.0734e-06\n",
      "Epoch 165/500\n",
      "\u001b[1m97/97\u001b[0m \u001b[32m━━━━━━━━━━━━━━━━━━━━\u001b[0m\u001b[37m\u001b[0m \u001b[1m0s\u001b[0m 3ms/step - accuracy: 0.7468 - loss: 0.6623 - val_accuracy: 0.7199 - val_loss: 0.6753 - learning_rate: 1.0734e-06\n",
      "Epoch 166/500\n",
      "\u001b[1m97/97\u001b[0m \u001b[32m━━━━━━━━━━━━━━━━━━━━\u001b[0m\u001b[37m\u001b[0m \u001b[1m0s\u001b[0m 3ms/step - accuracy: 0.7506 - loss: 0.6537 - val_accuracy: 0.7199 - val_loss: 0.6753 - learning_rate: 1.0734e-06\n",
      "Epoch 167/500\n",
      "\u001b[1m97/97\u001b[0m \u001b[32m━━━━━━━━━━━━━━━━━━━━\u001b[0m\u001b[37m\u001b[0m \u001b[1m0s\u001b[0m 4ms/step - accuracy: 0.7419 - loss: 0.6621 - val_accuracy: 0.7199 - val_loss: 0.6753 - learning_rate: 1.0734e-06\n",
      "Epoch 168/500\n",
      "\u001b[1m97/97\u001b[0m \u001b[32m━━━━━━━━━━━━━━━━━━━━\u001b[0m\u001b[37m\u001b[0m \u001b[1m1s\u001b[0m 4ms/step - accuracy: 0.7468 - loss: 0.6593 - val_accuracy: 0.7199 - val_loss: 0.6752 - learning_rate: 1.0734e-06\n",
      "Epoch 169/500\n",
      "\u001b[1m97/97\u001b[0m \u001b[32m━━━━━━━━━━━━━━━━━━━━\u001b[0m\u001b[37m\u001b[0m \u001b[1m0s\u001b[0m 4ms/step - accuracy: 0.7458 - loss: 0.6589 - val_accuracy: 0.7199 - val_loss: 0.6752 - learning_rate: 1.0734e-06\n",
      "Epoch 170/500\n",
      "\u001b[1m97/97\u001b[0m \u001b[32m━━━━━━━━━━━━━━━━━━━━\u001b[0m\u001b[37m\u001b[0m \u001b[1m0s\u001b[0m 3ms/step - accuracy: 0.7426 - loss: 0.6644 - val_accuracy: 0.7199 - val_loss: 0.6753 - learning_rate: 1.0734e-06\n",
      "Epoch 171/500\n",
      "\u001b[1m88/97\u001b[0m \u001b[32m━━━━━━━━━━━━━━━━━━\u001b[0m\u001b[37m━━\u001b[0m \u001b[1m0s\u001b[0m 2ms/step - accuracy: 0.7703 - loss: 0.6330\n",
      "Epoch 171: ReduceLROnPlateau reducing learning rate to 1e-06.\n",
      "\u001b[1m97/97\u001b[0m \u001b[32m━━━━━━━━━━━━━━━━━━━━\u001b[0m\u001b[37m\u001b[0m \u001b[1m0s\u001b[0m 3ms/step - accuracy: 0.7461 - loss: 0.6628 - val_accuracy: 0.7199 - val_loss: 0.6752 - learning_rate: 1.0734e-06\n",
      "Epoch 172/500\n",
      "\u001b[1m97/97\u001b[0m \u001b[32m━━━━━━━━━━━━━━━━━━━━\u001b[0m\u001b[37m\u001b[0m \u001b[1m0s\u001b[0m 3ms/step - accuracy: 0.7487 - loss: 0.6547 - val_accuracy: 0.7199 - val_loss: 0.6752 - learning_rate: 1.0000e-06\n",
      "Epoch 173/500\n",
      "\u001b[1m97/97\u001b[0m \u001b[32m━━━━━━━━━━━━━━━━━━━━\u001b[0m\u001b[37m\u001b[0m \u001b[1m0s\u001b[0m 3ms/step - accuracy: 0.7477 - loss: 0.6583 - val_accuracy: 0.7199 - val_loss: 0.6752 - learning_rate: 1.0000e-06\n",
      "Epoch 174/500\n",
      "\u001b[1m97/97\u001b[0m \u001b[32m━━━━━━━━━━━━━━━━━━━━\u001b[0m\u001b[37m\u001b[0m \u001b[1m0s\u001b[0m 4ms/step - accuracy: 0.7461 - loss: 0.6618 - val_accuracy: 0.7199 - val_loss: 0.6752 - learning_rate: 1.0000e-06\n",
      "Epoch 175/500\n",
      "\u001b[1m97/97\u001b[0m \u001b[32m━━━━━━━━━━━━━━━━━━━━\u001b[0m\u001b[37m\u001b[0m \u001b[1m0s\u001b[0m 4ms/step - accuracy: 0.7490 - loss: 0.6567 - val_accuracy: 0.7199 - val_loss: 0.6752 - learning_rate: 1.0000e-06\n",
      "Epoch 176/500\n",
      "\u001b[1m97/97\u001b[0m \u001b[32m━━━━━━━━━━━━━━━━━━━━\u001b[0m\u001b[37m\u001b[0m \u001b[1m0s\u001b[0m 3ms/step - accuracy: 0.7413 - loss: 0.6649 - val_accuracy: 0.7199 - val_loss: 0.6752 - learning_rate: 1.0000e-06\n",
      "Epoch 177/500\n",
      "\u001b[1m97/97\u001b[0m \u001b[32m━━━━━━━━━━━━━━━━━━━━\u001b[0m\u001b[37m\u001b[0m \u001b[1m1s\u001b[0m 4ms/step - accuracy: 0.7474 - loss: 0.6613 - val_accuracy: 0.7199 - val_loss: 0.6752 - learning_rate: 1.0000e-06\n",
      "Epoch 178/500\n",
      "\u001b[1m97/97\u001b[0m \u001b[32m━━━━━━━━━━━━━━━━━━━━\u001b[0m\u001b[37m\u001b[0m \u001b[1m0s\u001b[0m 4ms/step - accuracy: 0.7500 - loss: 0.6609 - val_accuracy: 0.7199 - val_loss: 0.6752 - learning_rate: 1.0000e-06\n",
      "Epoch 179/500\n",
      "\u001b[1m97/97\u001b[0m \u001b[32m━━━━━━━━━━━━━━━━━━━━\u001b[0m\u001b[37m\u001b[0m \u001b[1m1s\u001b[0m 6ms/step - accuracy: 0.7406 - loss: 0.6595 - val_accuracy: 0.7199 - val_loss: 0.6752 - learning_rate: 1.0000e-06\n",
      "Epoch 180/500\n",
      "\u001b[1m97/97\u001b[0m \u001b[32m━━━━━━━━━━━━━━━━━━━━\u001b[0m\u001b[37m\u001b[0m \u001b[1m1s\u001b[0m 5ms/step - accuracy: 0.7487 - loss: 0.6580 - val_accuracy: 0.7199 - val_loss: 0.6751 - learning_rate: 1.0000e-06\n",
      "Epoch 181/500\n",
      "\u001b[1m97/97\u001b[0m \u001b[32m━━━━━━━━━━━━━━━━━━━━\u001b[0m\u001b[37m\u001b[0m \u001b[1m0s\u001b[0m 4ms/step - accuracy: 0.7448 - loss: 0.6591 - val_accuracy: 0.7199 - val_loss: 0.6752 - learning_rate: 1.0000e-06\n",
      "Epoch 182/500\n",
      "\u001b[1m97/97\u001b[0m \u001b[32m━━━━━━━━━━━━━━━━━━━━\u001b[0m\u001b[37m\u001b[0m \u001b[1m1s\u001b[0m 5ms/step - accuracy: 0.7510 - loss: 0.6589 - val_accuracy: 0.7199 - val_loss: 0.6752 - learning_rate: 1.0000e-06\n",
      "Epoch 183/500\n",
      "\u001b[1m97/97\u001b[0m \u001b[32m━━━━━━━━━━━━━━━━━━━━\u001b[0m\u001b[37m\u001b[0m \u001b[1m1s\u001b[0m 7ms/step - accuracy: 0.7490 - loss: 0.6595 - val_accuracy: 0.7199 - val_loss: 0.6751 - learning_rate: 1.0000e-06\n",
      "Epoch 184/500\n",
      "\u001b[1m97/97\u001b[0m \u001b[32m━━━━━━━━━━━━━━━━━━━━\u001b[0m\u001b[37m\u001b[0m \u001b[1m1s\u001b[0m 6ms/step - accuracy: 0.7464 - loss: 0.6594 - val_accuracy: 0.7199 - val_loss: 0.6751 - learning_rate: 1.0000e-06\n",
      "Epoch 185/500\n",
      "\u001b[1m97/97\u001b[0m \u001b[32m━━━━━━━━━━━━━━━━━━━━\u001b[0m\u001b[37m\u001b[0m \u001b[1m0s\u001b[0m 4ms/step - accuracy: 0.7458 - loss: 0.6578 - val_accuracy: 0.7199 - val_loss: 0.6751 - learning_rate: 1.0000e-06\n",
      "Epoch 186/500\n",
      "\u001b[1m97/97\u001b[0m \u001b[32m━━━━━━━━━━━━━━━━━━━━\u001b[0m\u001b[37m\u001b[0m \u001b[1m0s\u001b[0m 4ms/step - accuracy: 0.7452 - loss: 0.6573 - val_accuracy: 0.7199 - val_loss: 0.6751 - learning_rate: 1.0000e-06\n",
      "Epoch 187/500\n",
      "\u001b[1m97/97\u001b[0m \u001b[32m━━━━━━━━━━━━━━━━━━━━\u001b[0m\u001b[37m\u001b[0m \u001b[1m1s\u001b[0m 4ms/step - accuracy: 0.7390 - loss: 0.6601 - val_accuracy: 0.7199 - val_loss: 0.6751 - learning_rate: 1.0000e-06\n",
      "Epoch 188/500\n",
      "\u001b[1m97/97\u001b[0m \u001b[32m━━━━━━━━━━━━━━━━━━━━\u001b[0m\u001b[37m\u001b[0m \u001b[1m1s\u001b[0m 4ms/step - accuracy: 0.7513 - loss: 0.6548 - val_accuracy: 0.7199 - val_loss: 0.6751 - learning_rate: 1.0000e-06\n",
      "Epoch 189/500\n",
      "\u001b[1m97/97\u001b[0m \u001b[32m━━━━━━━━━━━━━━━━━━━━\u001b[0m\u001b[37m\u001b[0m \u001b[1m1s\u001b[0m 4ms/step - accuracy: 0.7464 - loss: 0.6595 - val_accuracy: 0.7199 - val_loss: 0.6751 - learning_rate: 1.0000e-06\n",
      "Epoch 190/500\n",
      "\u001b[1m97/97\u001b[0m \u001b[32m━━━━━━━━━━━━━━━━━━━━\u001b[0m\u001b[37m\u001b[0m \u001b[1m1s\u001b[0m 4ms/step - accuracy: 0.7490 - loss: 0.6579 - val_accuracy: 0.7199 - val_loss: 0.6751 - learning_rate: 1.0000e-06\n",
      "Epoch 191/500\n",
      "\u001b[1m97/97\u001b[0m \u001b[32m━━━━━━━━━━━━━━━━━━━━\u001b[0m\u001b[37m\u001b[0m \u001b[1m1s\u001b[0m 4ms/step - accuracy: 0.7471 - loss: 0.6577 - val_accuracy: 0.7199 - val_loss: 0.6751 - learning_rate: 1.0000e-06\n",
      "Epoch 192/500\n",
      "\u001b[1m97/97\u001b[0m \u001b[32m━━━━━━━━━━━━━━━━━━━━\u001b[0m\u001b[37m\u001b[0m \u001b[1m0s\u001b[0m 4ms/step - accuracy: 0.7519 - loss: 0.6593 - val_accuracy: 0.7199 - val_loss: 0.6751 - learning_rate: 1.0000e-06\n",
      "Epoch 193/500\n",
      "\u001b[1m97/97\u001b[0m \u001b[32m━━━━━━━━━━━━━━━━━━━━\u001b[0m\u001b[37m\u001b[0m \u001b[1m0s\u001b[0m 5ms/step - accuracy: 0.7455 - loss: 0.6565 - val_accuracy: 0.7199 - val_loss: 0.6751 - learning_rate: 1.0000e-06\n",
      "Epoch 194/500\n",
      "\u001b[1m97/97\u001b[0m \u001b[32m━━━━━━━━━━━━━━━━━━━━\u001b[0m\u001b[37m\u001b[0m \u001b[1m0s\u001b[0m 4ms/step - accuracy: 0.7468 - loss: 0.6567 - val_accuracy: 0.7199 - val_loss: 0.6752 - learning_rate: 1.0000e-06\n",
      "Epoch 195/500\n",
      "\u001b[1m97/97\u001b[0m \u001b[32m━━━━━━━━━━━━━━━━━━━━\u001b[0m\u001b[37m\u001b[0m \u001b[1m1s\u001b[0m 8ms/step - accuracy: 0.7432 - loss: 0.6553 - val_accuracy: 0.7199 - val_loss: 0.6751 - learning_rate: 1.0000e-06\n",
      "Epoch 196/500\n",
      "\u001b[1m97/97\u001b[0m \u001b[32m━━━━━━━━━━━━━━━━━━━━\u001b[0m\u001b[37m\u001b[0m \u001b[1m1s\u001b[0m 5ms/step - accuracy: 0.7477 - loss: 0.6619 - val_accuracy: 0.7199 - val_loss: 0.6751 - learning_rate: 1.0000e-06\n",
      "Epoch 197/500\n",
      "\u001b[1m97/97\u001b[0m \u001b[32m━━━━━━━━━━━━━━━━━━━━\u001b[0m\u001b[37m\u001b[0m \u001b[1m0s\u001b[0m 3ms/step - accuracy: 0.7490 - loss: 0.6627 - val_accuracy: 0.7199 - val_loss: 0.6751 - learning_rate: 1.0000e-06\n",
      "Epoch 198/500\n",
      "\u001b[1m97/97\u001b[0m \u001b[32m━━━━━━━━━━━━━━━━━━━━\u001b[0m\u001b[37m\u001b[0m \u001b[1m0s\u001b[0m 3ms/step - accuracy: 0.7503 - loss: 0.6594 - val_accuracy: 0.7199 - val_loss: 0.6752 - learning_rate: 1.0000e-06\n",
      "Epoch 199/500\n",
      "\u001b[1m97/97\u001b[0m \u001b[32m━━━━━━━━━━━━━━━━━━━━\u001b[0m\u001b[37m\u001b[0m \u001b[1m1s\u001b[0m 3ms/step - accuracy: 0.7439 - loss: 0.6602 - val_accuracy: 0.7199 - val_loss: 0.6751 - learning_rate: 1.0000e-06\n",
      "Epoch 200/500\n",
      "\u001b[1m97/97\u001b[0m \u001b[32m━━━━━━━━━━━━━━━━━━━━\u001b[0m\u001b[37m\u001b[0m \u001b[1m0s\u001b[0m 3ms/step - accuracy: 0.7448 - loss: 0.6615 - val_accuracy: 0.7199 - val_loss: 0.6752 - learning_rate: 1.0000e-06\n",
      "Epoch 201/500\n",
      "\u001b[1m97/97\u001b[0m \u001b[32m━━━━━━━━━━━━━━━━━━━━\u001b[0m\u001b[37m\u001b[0m \u001b[1m0s\u001b[0m 4ms/step - accuracy: 0.7481 - loss: 0.6567 - val_accuracy: 0.7199 - val_loss: 0.6752 - learning_rate: 1.0000e-06\n",
      "Epoch 202/500\n",
      "\u001b[1m97/97\u001b[0m \u001b[32m━━━━━━━━━━━━━━━━━━━━\u001b[0m\u001b[37m\u001b[0m \u001b[1m0s\u001b[0m 3ms/step - accuracy: 0.7452 - loss: 0.6577 - val_accuracy: 0.7199 - val_loss: 0.6752 - learning_rate: 1.0000e-06\n",
      "Epoch 203/500\n",
      "\u001b[1m97/97\u001b[0m \u001b[32m━━━━━━━━━━━━━━━━━━━━\u001b[0m\u001b[37m\u001b[0m \u001b[1m1s\u001b[0m 4ms/step - accuracy: 0.7506 - loss: 0.6539 - val_accuracy: 0.7199 - val_loss: 0.6752 - learning_rate: 1.0000e-06\n",
      "Epoch 204/500\n",
      "\u001b[1m97/97\u001b[0m \u001b[32m━━━━━━━━━━━━━━━━━━━━\u001b[0m\u001b[37m\u001b[0m \u001b[1m0s\u001b[0m 3ms/step - accuracy: 0.7464 - loss: 0.6587 - val_accuracy: 0.7199 - val_loss: 0.6752 - learning_rate: 1.0000e-06\n",
      "Epoch 205/500\n",
      "\u001b[1m97/97\u001b[0m \u001b[32m━━━━━━━━━━━━━━━━━━━━\u001b[0m\u001b[37m\u001b[0m \u001b[1m0s\u001b[0m 3ms/step - accuracy: 0.7458 - loss: 0.6596 - val_accuracy: 0.7199 - val_loss: 0.6752 - learning_rate: 1.0000e-06\n",
      "Epoch 206/500\n",
      "\u001b[1m97/97\u001b[0m \u001b[32m━━━━━━━━━━━━━━━━━━━━\u001b[0m\u001b[37m\u001b[0m \u001b[1m0s\u001b[0m 3ms/step - accuracy: 0.7468 - loss: 0.6561 - val_accuracy: 0.7199 - val_loss: 0.6752 - learning_rate: 1.0000e-06\n",
      "Epoch 207/500\n",
      "\u001b[1m97/97\u001b[0m \u001b[32m━━━━━━━━━━━━━━━━━━━━\u001b[0m\u001b[37m\u001b[0m \u001b[1m0s\u001b[0m 3ms/step - accuracy: 0.7468 - loss: 0.6602 - val_accuracy: 0.7199 - val_loss: 0.6752 - learning_rate: 1.0000e-06\n",
      "Epoch 208/500\n",
      "\u001b[1m97/97\u001b[0m \u001b[32m━━━━━━━━━━━━━━━━━━━━\u001b[0m\u001b[37m\u001b[0m \u001b[1m0s\u001b[0m 4ms/step - accuracy: 0.7432 - loss: 0.6597 - val_accuracy: 0.7199 - val_loss: 0.6752 - learning_rate: 1.0000e-06\n"
     ]
    },
    {
     "data": {
      "text/plain": [
       "<keras.src.callbacks.history.History at 0x22b18c57080>"
      ]
     },
     "execution_count": 197,
     "metadata": {},
     "output_type": "execute_result"
    }
   ],
   "source": [
    "model.fit(x=X_train, y=y_train, epochs=500, validation_data=(X_val, y_val), callbacks=callbacks_opt)"
   ]
  },
  {
   "cell_type": "markdown",
   "id": "814c5f79",
   "metadata": {},
   "source": [
    "### Training Performance\n",
    "\n",
    "The training and validation loss both decreased rapidly during the initial epochs, with the training loss continuing to improve while the validation loss started to level off."
   ]
  },
  {
   "cell_type": "code",
   "execution_count": null,
   "id": "6a0a860f",
   "metadata": {},
   "outputs": [
    {
     "data": {
      "text/plain": [
       "<Axes: >"
      ]
     },
     "execution_count": 198,
     "metadata": {},
     "output_type": "execute_result"
    },
    {
     "data": {
      "image/png": "[encoded data removed]",
      "text/plain": [
       "<Figure size 640x480 with 1 Axes>"
      ]
     },
     "metadata": {},
     "output_type": "display_data"
    }
   ],
   "source": [
    "loss_df = pd.DataFrame(model.history.history)\n",
    "loss_df[['loss', 'val_loss']].plot()"
   ]
  },
  {
   "cell_type": "markdown",
   "id": "441f084c",
   "metadata": {},
   "source": [
    "### Model Accuracy\n",
    "\n",
    "The training and validation accuracy both increased rapidly during the first few epochs.\n",
    "After that, training accuracy continued to improve steadily, while validation accuracy stabilized around 0.75."
   ]
  },
  {
   "cell_type": "code",
   "execution_count": null,
   "id": "0cb08110",
   "metadata": {},
   "outputs": [
    {
     "data": {
      "text/plain": [
       "<Axes: >"
      ]
     },
     "execution_count": 199,
     "metadata": {},
     "output_type": "execute_result"
    },
    {
     "data": {
      "image/png": "[encoded data removed]",
      "text/plain": [
       "<Figure size 640x480 with 1 Axes>"
      ]
     },
     "metadata": {},
     "output_type": "display_data"
    }
   ],
   "source": [
    "loss_df[['accuracy', 'val_accuracy']].plot()\n"
   ]
  },
  {
   "cell_type": "markdown",
   "id": "32fe6fb0",
   "metadata": {},
   "source": [
    "### Model Evaluation\n",
    "\n",
    "The model achieved an accuracy of 0.75 on the test data and 0.76 on the training data, with loss values around 0.62–0.67.\n",
    "The similar performance across both datasets indicates good generalization and no signs of overfitting.\n",
    "This evaluation was performed using code adapted from the exercise notebook."
   ]
  },
  {
   "cell_type": "code",
   "execution_count": null,
   "id": "2b8d5151",
   "metadata": {},
   "outputs": [
    {
     "name": "stdout",
     "output_type": "stream",
     "text": [
      "Test data evaluation:\n",
      "[0.6669838428497314, 0.7515060305595398]\n",
      "\n",
      "Train data evaluation:\n",
      "[0.6219967603683472, 0.7613049149513245]\n"
     ]
    }
   ],
   "source": [
    "print(\"Test data evaluation:\")\n",
    "print(model.evaluate(X_test, y_test, verbose=0))\n",
    "print(\"\\nTrain data evaluation:\")\n",
    "print(model.evaluate(X_train, y_train, verbose=0))"
   ]
  },
  {
   "cell_type": "code",
   "execution_count": null,
   "id": "dc54b971",
   "metadata": {},
   "outputs": [
    {
     "name": "stdout",
     "output_type": "stream",
     "text": [
      "\u001b[1m21/21\u001b[0m \u001b[32m━━━━━━━━━━━━━━━━━━━━\u001b[0m\u001b[37m\u001b[0m \u001b[1m0s\u001b[0m 5ms/step\n"
     ]
    }
   ],
   "source": [
    "test_predictions = model.predict(X_test)\n",
    "test_predictions = np.argmax(test_predictions, axis=1)\n",
    "\n",
    "y_test = np.argmax(y_test, axis=1)"
   ]
  },
  {
   "cell_type": "code",
   "execution_count": null,
   "id": "2a1950d0",
   "metadata": {},
   "outputs": [],
   "source": [
    "categories = [\"Dropout\", \"Enrolled\", \"Graduate\"]"
   ]
  },
  {
   "cell_type": "markdown",
   "id": "76b771df",
   "metadata": {},
   "source": [
    "### Confusion Matrix\n",
    "\n",
    "The confusion matrix shows that the model correctly classified most instances in the two main categories (Dropout and Graduate).\n",
    "The highest accuracy is seen in the Graduate class, while some misclassifications occur between Dropout and Enrolled.\n",
    "The Enrolled category shows the highest level of misclassification.\n",
    "This visualization was created using code adapted from the exercise notebook."
   ]
  },
  {
   "cell_type": "code",
   "execution_count": null,
   "id": "03b69630",
   "metadata": {},
   "outputs": [
    {
     "data": {
      "text/plain": [
       "<Axes: >"
      ]
     },
     "execution_count": 203,
     "metadata": {},
     "output_type": "execute_result"
    },
    {
     "data": {
      "image/png": "[encoded data removed]",
      "text/plain": [
       "<Figure size 640x480 with 2 Axes>"
      ]
     },
     "metadata": {},
     "output_type": "display_data"
    }
   ],
   "source": [
    "sns.heatmap(confusion_matrix(y_test, test_predictions), annot=True, fmt='g', \n",
    "            xticklabels=categories, yticklabels=categories, cmap=\"Blues\")\n"
   ]
  },
  {
   "cell_type": "markdown",
   "id": "b2afa193",
   "metadata": {},
   "source": [
    "### Tuner Results\n",
    "\n",
    "The tuned model achieved an overall accuracy of 75.2%, slightly below the 75.9% of the non-tuned model.\n",
    "Performance was strongest for the Graduate class (precision = 0.76, recall = 0.92, F1 = 0.83), while the Enrolled class showed weaker recall (0.16).\n",
    "Overall, the tuned model delivered balanced results and good generalization, performing nearly as well as the non-tuned version."
   ]
  },
  {
   "cell_type": "code",
   "execution_count": null,
   "id": "7a7b6ff3",
   "metadata": {},
   "outputs": [
    {
     "name": "stdout",
     "output_type": "stream",
     "text": [
      "              precision    recall  f1-score   support\n",
      "\n",
      "     Dropout       0.77      0.80      0.78       206\n",
      "    Enrolled       0.53      0.16      0.24       116\n",
      "    Graduate       0.76      0.92      0.83       342\n",
      "\n",
      "    accuracy                           0.75       664\n",
      "   macro avg       0.69      0.63      0.62       664\n",
      "weighted avg       0.72      0.75      0.72       664\n",
      "\n",
      "\n",
      "Model overall accuracy: 75.15%\n"
     ]
    }
   ],
   "source": [
    "print(classification_report(y_test, test_predictions, target_names=categories))\n",
    "\n",
    "acc = accuracy_score(y_test, test_predictions)\n",
    "print(\"\\nModel overall accuracy: {:.2f}%\".format(acc * 100))"
   ]
  },
  {
   "cell_type": "markdown",
   "id": "a3175a1e",
   "metadata": {},
   "source": [
    "### ROC-AUC Result\n",
    "\n",
    "The non-tuned model achieved a ROC-AUC score of 0.874, while the tuned model reached 0.871.\n",
    "Both models show very similar class separation performance, indicating that tuning did not significantly affect the model’s overall discriminative ability."
   ]
  },
  {
   "cell_type": "code",
   "execution_count": null,
   "id": "81f067e9",
   "metadata": {},
   "outputs": [
    {
     "name": "stdout",
     "output_type": "stream",
     "text": [
      "\u001b[1m139/139\u001b[0m \u001b[32m━━━━━━━━━━━━━━━━━━━━\u001b[0m\u001b[37m\u001b[0m \u001b[1m0s\u001b[0m 1ms/step  \n"
     ]
    },
    {
     "data": {
      "text/plain": [
       "0.8714632814799699"
      ]
     },
     "execution_count": 205,
     "metadata": {},
     "output_type": "execute_result"
    }
   ],
   "source": [
    "roc_auc_score(y, model.predict(X), multi_class=\"ovr\")"
   ]
  },
  {
   "cell_type": "markdown",
   "id": "8e70b2eb",
   "metadata": {},
   "source": [
    "### Logistic Regression (Tuner)\n",
    "\n",
    "The Logistic Regression implementation is based on the official scikit-learn source:\n",
    "https://github.com/scikit-learn/scikit-learn/blob/main/sklearn/linear_model/_logistic.py\n",
    ".\n",
    "GPT was used to refine and simplify the implementation, ensuring adherence to best practices and reproducibility."
   ]
  },
  {
   "cell_type": "code",
   "execution_count": null,
   "id": "37b8ef1d",
   "metadata": {},
   "outputs": [],
   "source": [
    "y_train, y_test = map(lambda y: np.argmax(y, axis=1) if y.ndim > 1 else y, [y_train, y_test])\n",
    "\n",
    "scaler = StandardScaler()\n",
    "X_train, X_test = scaler.fit_transform(X_train), scaler.transform(X_test)\n"
   ]
  },
  {
   "cell_type": "code",
   "execution_count": null,
   "id": "7cad1a4a",
   "metadata": {},
   "outputs": [],
   "source": [
    "log_reg = LogisticRegression(max_iter=2000)\n",
    "log_reg.fit(X_train, y_train)\n",
    "\n",
    "test_pred = log_reg.predict(X_test)\n",
    "test_probs = log_reg.predict_proba(X_test)"
   ]
  },
  {
   "cell_type": "code",
   "execution_count": null,
   "id": "61dd86ba",
   "metadata": {},
   "outputs": [],
   "source": [
    "acc = accuracy_score(y_test, test_pred)\n",
    "roc_auc = roc_auc_score(y_test, test_probs, multi_class='ovr')"
   ]
  },
  {
   "cell_type": "code",
   "execution_count": null,
   "id": "ec020073",
   "metadata": {},
   "outputs": [
    {
     "name": "stdout",
     "output_type": "stream",
     "text": [
      "Model Overall Accuracy: 0.7440\n",
      "ROC-AUC: 0.8414\n",
      "\n",
      "              precision    recall  f1-score   support\n",
      "\n",
      "     Dropout       0.78      0.76      0.77       206\n",
      "    Enrolled       0.48      0.21      0.29       116\n",
      "    Graduate       0.76      0.92      0.83       342\n",
      "\n",
      "    accuracy                           0.74       664\n",
      "   macro avg       0.67      0.63      0.63       664\n",
      "weighted avg       0.72      0.74      0.72       664\n",
      "\n"
     ]
    },
    {
     "data": {
      "image/png": "[encoded data removed]",
      "text/plain": [
       "<Figure size 640x480 with 2 Axes>"
      ]
     },
     "metadata": {},
     "output_type": "display_data"
    }
   ],
   "source": [
    "print(f\"Model Overall Accuracy: {acc:.4f}\")\n",
    "print(f\"ROC-AUC: {roc_auc:.4f}\\n\")\n",
    "print(classification_report(y_test, test_pred, target_names=['Dropout', 'Enrolled', 'Graduate']))\n",
    "\n",
    "sns.heatmap(confusion_matrix(y_test, test_pred), annot=True, fmt='g', cmap='Blues',\n",
    "            xticklabels=['Dropout', 'Enrolled', 'Graduate'],\n",
    "            yticklabels=['Dropout', 'Enrolled', 'Graduate'])\n",
    "plt.title(\"Confusion Matrix – Logistic Regression\")\n",
    "plt.xlabel(\"Predicted\"); plt.ylabel(\"True\")\n",
    "plt.show()"
   ]
  },
  {
   "cell_type": "markdown",
   "id": "7b216516",
   "metadata": {},
   "source": [
    "### Model Comparison: Neural Network (Tuner) vs. Logistic Regression (Tuner)\n",
    "\n",
    "The tuned Neural Network achieved an overall accuracy of 75.2% and a ROC-AUC of 0.87, while the tuned Logistic Regression reached 74.4% accuracy and a ROC-AUC of 0.84.\n",
    "Both models performed similarly, but the Neural Network showed slightly better class separation and recall for minority classes, reflecting its advantage in capturing non-linear relationships.\n",
    "\n",
    "### Logistic Regression: Non-Tuned vs. Tuned\n",
    "\n",
    "The non-tuned Logistic Regression achieved an accuracy of 75.9% and ROC-AUC of 0.86, outperforming the tuned version (74.4%, ROC-AUC 0.84).\n",
    "Tuning led to a small drop in performance, particularly in recall for the Enrolled class, while Dropout and Graduate predictions remained consistent.\n",
    "Overall, the non-tuned model generalized slightly better."
   ]
  },
  {
   "cell_type": "code",
   "execution_count": null,
   "id": "d3ec8f74",
   "metadata": {},
   "outputs": [
    {
     "data": {
      "text/plain": [
       "Index(['Previous qualification (grade)', 'Admission grade', 'Displaced',\n",
       "       'Educational special needs', 'Debtor', 'Tuition fees up to date',\n",
       "       'Gender', 'Scholarship holder', 'Age at enrollment', 'International',\n",
       "       'Unemployment rate', 'Inflation rate', 'GDP', 'single', 'partnered',\n",
       "       'prev_partnered', 'admission_general', 'admission_transfer',\n",
       "       'admission_special/international', 'high_priority', 'studyfield_stem',\n",
       "       'studyfield_business_social', 'studyfield_arts&comm', 'is_daytime',\n",
       "       'prevqual_basic', 'prevqual_secondary', 'prevqual_higher',\n",
       "       'nationality_europe', 'nationality_africa', 'nationality_south_america',\n",
       "       'nationality_north_america', 'nationality_asia',\n",
       "       'mother_qualification_basic', 'mother_qualification_secondary',\n",
       "       'mother_qualification_higher', 'father_qualification_basic',\n",
       "       'father_qualification_secondary', 'father_qualification_higher',\n",
       "       'mother_occ_academic', 'mother_occ_technical_admin',\n",
       "       'mother_occ_service_manual', 'mother_occ_unskilled_other',\n",
       "       'father_occ_academic', 'father_occ_technical_admin',\n",
       "       'father_occ_service_manual', 'father_occ_unskilled_other', 'avg_grade',\n",
       "       'success_rate', 'total_enrolled', 'no_evaluation_total'],\n",
       "      dtype='object')"
      ]
     },
     "execution_count": 210,
     "metadata": {},
     "output_type": "execute_result"
    }
   ],
   "source": [
    "X.columns"
   ]
  },
  {
   "cell_type": "markdown",
   "id": "62f52c88",
   "metadata": {},
   "source": [
    "### Prediction Tuner Example\n",
    "\n",
    "To test the model, a single example student profile was created with features such as grades, demographics, and socioeconomic background.\n",
    "The trained model was used to predict the most likely outcome (Dropout, Enrolled, or Graduate) and the associated class probabilities. "
   ]
  },
  {
   "cell_type": "code",
   "execution_count": null,
   "id": "0697756e",
   "metadata": {},
   "outputs": [
    {
     "name": "stdout",
     "output_type": "stream",
     "text": [
      "\u001b[1m1/1\u001b[0m \u001b[32m━━━━━━━━━━━━━━━━━━━━\u001b[0m\u001b[37m\u001b[0m \u001b[1m0s\u001b[0m 82ms/step\n",
      "Predicted outcome: Graduate\n",
      "\n",
      "Probabilities by class:\n",
      "['Dropout', 'Enrolled', 'Graduate']\n",
      "[0.1893992  0.31236655 0.4982342 ]\n"
     ]
    }
   ],
   "source": [
    "tester_row = {\n",
    "    \"Previous qualification (grade)\": 150.0,\n",
    "    \"Admission grade\": 140.0,\n",
    "    \"Displaced\": 0,\n",
    "    \"Educational special needs\": 0,\n",
    "    \"Debtor\": 0,\n",
    "    \"Tuition fees up to date\": 1,\n",
    "    \"Gender\": 1,\n",
    "    \"Scholarship holder\": 0,\n",
    "    \"Age at enrollment\": 20,\n",
    "    \"International\": 0,\n",
    "    \"Unemployment rate\": 5.2,\n",
    "    \"Inflation rate\": 1.2,\n",
    "    \"GDP\": 2.3,\n",
    "    \"single\": 1,\n",
    "    \"partnered\": 0,\n",
    "    \"prev_partnered\": 0,\n",
    "    \"admission_general\": 1,\n",
    "    \"admission_transfer\": 0,\n",
    "    \"admission_special/international\": 0,\n",
    "    \"high_priority\": 0,\n",
    "    \"studyfield_stem\": 1,\n",
    "    \"studyfield_business_social\": 0,\n",
    "    \"studyfield_arts&comm\": 0,\n",
    "    \"is_daytime\": 1,\n",
    "    \"prevqual_basic\": 1,\n",
    "    \"prevqual_secondary\": 0,\n",
    "    \"prevqual_higher\": 0,\n",
    "    \"nationality_europe\": 1,\n",
    "    \"nationality_africa\": 0,\n",
    "    \"nationality_south_america\": 0,\n",
    "    \"nationality_north_america\": 0,\n",
    "    \"nationality_asia\": 0,\n",
    "    \"mother_qualification_basic\": 0,\n",
    "    \"mother_qualification_secondary\": 1,\n",
    "    \"mother_qualification_higher\": 0,\n",
    "    \"father_qualification_basic\": 0,\n",
    "    \"father_qualification_secondary\": 0,\n",
    "    \"father_qualification_higher\": 1,\n",
    "    \"mother_occ_academic\": 0,\n",
    "    \"mother_occ_technical_admin\": 1,\n",
    "    \"mother_occ_service_manual\": 0,\n",
    "    \"mother_occ_unskilled_other\": 0,\n",
    "    \"father_occ_academic\": 0,\n",
    "    \"father_occ_technical_admin\": 0,\n",
    "    \"father_occ_service_manual\": 0,\n",
    "    \"father_occ_unskilled_other\": 1,\n",
    "    \"avg_grade\": 14.5,\n",
    "    \"success_rate\": 0.8,\n",
    "    \"total_enrolled\": 11,\n",
    "    \"no_evaluation_total\": 0\n",
    "}\n",
    "\n",
    "tester_row = pd.DataFrame([tester_row])\n",
    "\n",
    "result = model.predict(tester_row)[0]\n",
    "result_text = categories[np.argmax(result)]\n",
    "\n",
    "np.set_printoptions(precision=9, suppress=True)\n",
    "\n",
    "print(f\"Predicted outcome: {result_text}\\n\")\n",
    "print(\"Probabilities by class:\")\n",
    "print(categories)\n",
    "print(result)\n"
   ]
  },
  {
   "cell_type": "markdown",
   "id": "47bc588b",
   "metadata": {},
   "source": [
    "### Student Tuner Outcome GUI\n",
    "\n",
    "For demonstration purposes, a simple GUI was implemented using Tkinter.\n",
    "The interface allows users to input student-related features (with default example values provided) and receive a predicted student outcome (Dropout, Enrolled, or Graduate) directly from the trained model.\n",
    "\n",
    "This GUI code was generated entirely by GPT, as I had not previously worked with Tkinter and wanted a quick and simple way to build an interface for testing predictions.\n",
    "The correctness was verified by ensuring that all model input features are included in the GUI and that the predicted class output matches the model’s expected format."
   ]
  },
  {
   "cell_type": "code",
   "execution_count": null,
   "id": "0d9f15c8",
   "metadata": {},
   "outputs": [],
   "source": [
    "model = load_model(\"best_model_student2.keras\")\n",
    "\n",
    "default_values = {\n",
    "    \"Previous qualification (grade)\": 150.0,\n",
    "    \"Admission grade\": 140.0,\n",
    "    \"Displaced\": 0,\n",
    "    \"Educational special needs\": 0,\n",
    "    \"Debtor\": 0,\n",
    "    \"Tuition fees up to date\": 1,\n",
    "    \"Gender\": 1,\n",
    "    \"Scholarship holder\": 0,\n",
    "    \"Age at enrollment\": 20,\n",
    "    \"International\": 0,\n",
    "    \"Unemployment rate\": 5.2,\n",
    "    \"Inflation rate\": 1.2,\n",
    "    \"GDP\": 2.3,\n",
    "    \"single\": 1,\n",
    "    \"partnered\": 0,\n",
    "    \"prev_partnered\": 0,\n",
    "    \"admission_general\": 1,\n",
    "    \"admission_transfer\": 0,\n",
    "    \"admission_special/international\": 0,\n",
    "    \"high_priority\": 0,\n",
    "    \"studyfield_stem\": 1,\n",
    "    \"studyfield_business_social\": 0,\n",
    "    \"studyfield_arts&comm\": 0,\n",
    "    \"is_daytime\": 1,\n",
    "    \"prevqual_basic\": 1,\n",
    "    \"prevqual_secondary\": 0,\n",
    "    \"prevqual_higher\": 0,\n",
    "    \"nationality_europe\": 1,\n",
    "    \"nationality_africa\": 0,\n",
    "    \"nationality_south_america\": 0,\n",
    "    \"nationality_north_america\": 0,\n",
    "    \"nationality_asia\": 0,\n",
    "    \"mother_qualification_basic\": 0,\n",
    "    \"mother_qualification_secondary\": 1,\n",
    "    \"mother_qualification_higher\": 0,\n",
    "    \"father_qualification_basic\": 0,\n",
    "    \"father_qualification_secondary\": 0,\n",
    "    \"father_qualification_higher\": 1,\n",
    "    \"mother_occ_academic\": 0,\n",
    "    \"mother_occ_technical_admin\": 1,\n",
    "    \"mother_occ_service_manual\": 0,\n",
    "    \"mother_occ_unskilled_other\": 0,\n",
    "    \"father_occ_academic\": 0,\n",
    "    \"father_occ_technical_admin\": 0,\n",
    "    \"father_occ_service_manual\": 0,\n",
    "    \"father_occ_unskilled_other\": 1,\n",
    "    \"avg_grade\": 14.5,\n",
    "    \"success_rate\": 0.8,\n",
    "    \"total_enrolled\": 11,\n",
    "    \"no_evaluation_total\": 0\n",
    "}\n",
    "\n",
    "def predict():\n",
    "    try:\n",
    "        data = {f: float(entries[f].get()) for f in default_values.keys()}\n",
    "        df = pd.DataFrame([data])\n",
    "        pred = model.predict(df, verbose=0)[0]\n",
    "        result_text = f\"Predicted outcome probabilities:\\nDropout: {pred[0]:.2f}, Enrolled: {pred[1]:.2f}, Graduate: {pred[2]:.2f}\"\n",
    "        result_label.config(text=result_text)\n",
    "    except Exception as e:\n",
    "        messagebox.showerror(\"Error\", str(e))\n",
    "\n",
    "root = tk.Tk()\n",
    "root.title(\"Student Success Predictor\")\n",
    "root.geometry(\"600x700\")\n",
    "\n",
    "main_frame = tk.Frame(root)\n",
    "main_frame.pack(fill=tk.BOTH, expand=1)\n",
    "\n",
    "canvas = tk.Canvas(main_frame)\n",
    "canvas.pack(side=tk.LEFT, fill=tk.BOTH, expand=1)\n",
    "\n",
    "scrollbar = tk.Scrollbar(main_frame, orient=tk.VERTICAL, command=canvas.yview)\n",
    "scrollbar.pack(side=tk.RIGHT, fill=tk.Y)\n",
    "\n",
    "canvas.configure(yscrollcommand=scrollbar.set)\n",
    "canvas.bind(\"<Configure>\", lambda e: canvas.configure(scrollregion=canvas.bbox(\"all\")))\n",
    "\n",
    "frame_inside = tk.Frame(canvas)\n",
    "canvas.create_window((0, 0), window=frame_inside, anchor=\"nw\")\n",
    "\n",
    "entries = {}\n",
    "\n",
    "for f, example in default_values.items():\n",
    "    row = tk.Frame(frame_inside)\n",
    "    lab = tk.Label(row, width=28, text=f+\": \", anchor=\"w\")\n",
    "    ent = tk.Entry(row)\n",
    "    ent.insert(0, str(example))\n",
    "    hint = tk.Label(row, width=12, text=f\"(e.g. {example})\", anchor=\"w\", fg=\"grey\")\n",
    "\n",
    "    row.pack(side=tk.TOP, fill=tk.X, padx=5, pady=2)\n",
    "    lab.pack(side=tk.LEFT)\n",
    "    ent.pack(side=tk.LEFT, expand=tk.YES, fill=tk.X)\n",
    "    hint.pack(side=tk.RIGHT)\n",
    "\n",
    "    entries[f] = ent\n",
    "\n",
    "predict_button = tk.Button(frame_inside, text=\"Predict\", command=predict, bg=\"#4CAF50\", fg=\"white\", font=(\"Helvetica\", 10, \"bold\"))\n",
    "predict_button.pack(pady=10)\n",
    "\n",
    "result_label = tk.Label(frame_inside, text=\"Prediction will appear here\", font=(\"Helvetica\", 12), wraplength=500, justify=\"left\")\n",
    "result_label.pack(pady=10)\n",
    "\n",
    "def _on_mouse_wheel(event):\n",
    "    canvas.yview_scroll(int(-1 * (event.delta / 120)), \"units\")\n",
    "\n",
    "canvas.bind_all(\"<MouseWheel>\", _on_mouse_wheel)\n",
    "\n",
    "root.mainloop()\n"
   ]
  }
 ],
 "metadata": {
  "kernelspec": {
   "display_name": "Python 3",
   "language": "python",
   "name": "python3"
  },
  "language_info": {
   "codemirror_mode": {
    "name": "ipython",
    "version": 3
   },
   "file_extension": ".py",
   "mimetype": "text/x-python",
   "name": "python",
   "nbconvert_exporter": "python",
   "pygments_lexer": "ipython3",
   "version": "3.12.10"
  }
 },
 "nbformat": 4,
 "nbformat_minor": 5
}
